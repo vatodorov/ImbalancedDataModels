{
 "cells": [
  {
   "cell_type": "code",
   "execution_count": null,
   "metadata": {
    "collapsed": true
   },
   "outputs": [],
   "source": []
  },
  {
   "cell_type": "code",
   "execution_count": null,
   "metadata": {
    "collapsed": true
   },
   "outputs": [],
   "source": []
  },
  {
   "cell_type": "markdown",
   "metadata": {},
   "source": [
    "## TODO\n",
    "\n",
    "1. Modeling\n",
    "    * Finetune the existing models\n",
    "    * Try DNN models\n",
    "    * Create ensembles from models\n",
    "    * Add a Naive Bayes model\n",
    "2. Diagnostics\n",
    "    * Calculate F1 score\n",
    "3. Visualization of data"
   ]
  },
  {
   "cell_type": "code",
   "execution_count": null,
   "metadata": {
    "collapsed": true
   },
   "outputs": [],
   "source": []
  },
  {
   "cell_type": "code",
   "execution_count": null,
   "metadata": {
    "collapsed": true
   },
   "outputs": [],
   "source": []
  },
  {
   "cell_type": "markdown",
   "metadata": {},
   "source": [
    "## Develop models to predict device failure\n",
    "___Valentin Todorov___\n",
    "\n",
    "\n",
    "#### Goal:\n",
    "Build models to predict the probability of a device failure. When building this model, minimize false positives and false negatives."
   ]
  },
  {
   "cell_type": "markdown",
   "metadata": {},
   "source": [
    "## Plan for development\n",
    "1. Setup the environment and read in the data\n",
    "2. Data exploration\n",
    "    * Calculate the distribution of total fail/not fail cases\n",
    "    * Distribution of fail/not-fail cases by year\n",
    "    * Distribution of fail/not-fail cases by month\n",
    "    * Are there any devices that have higher failure rates than others\n",
    "    * When a device fails, does it disappear from the data, or does it show up again\n",
    "    * Seasonality of failures - are there particular days of the week when a higher percent of devices fail?\n",
    "3. Understand the important variables for splitting the dataset\n",
    "    * Do a pre-modeling analysis using random forest\n",
    "    * Use decision trees to understand if I need to create categorical variables from some of the original features\n",
    "4. Derive new features\n",
    "    * Determine which features are categorical, and if needed create dummies\n",
    "    * Since the data for some of the features is very sparse, create dummies which are 1, if data is available and 0 otherwise\n",
    "    * Take logs of features\n",
    "    * Scale the features\n",
    "5. Sampling of the data\n",
    "    * Create random samples from the data - 70% for training and 30% for validation\n",
    "    * If the failures are too few compared to the non-failures, I will need to oversample the failures (and add a weight), or simply undersample the non-failures\n",
    "6. Variables reduction\n",
    "    * Random forest's variable importance    \n",
    "    * Use decision trees\n",
    "    * Use Recursive feature elimination (RFE)\n",
    "    * Compare the suggested features from each method and decide which ones to keep in the modeling set\n",
    "7. Decide on a methodology for the model estimation\n",
    "    * Logistic regression - this will be a benchmark for all the rest of the methods\n",
    "    * Random forest\n",
    "    * XG Boosting\n",
    "    * SVM\n",
    "    * Neural network\n",
    "8. Validate the results\n",
    "9. Compare accuracy measures\n",
    "    * Calculate accuracy, TP, FP, TN, FN, recall, etc.\n",
    "    * Plot the performance for multiple modles using the ROC curve\n",
    "    * Sensitivity/Recall\n",
    "10. Create a confusion matrix - reduce false positives and false negatives"
   ]
  },
  {
   "cell_type": "code",
   "execution_count": null,
   "metadata": {
    "collapsed": true
   },
   "outputs": [],
   "source": []
  },
  {
   "cell_type": "markdown",
   "metadata": {},
   "source": [
    "### Setup\n",
    "Setup the environment and import needed packages"
   ]
  },
  {
   "cell_type": "code",
   "execution_count": 1,
   "metadata": {},
   "outputs": [
    {
     "name": "stderr",
     "output_type": "stream",
     "text": [
      "/Users/valentin/anaconda/lib/python3.5/site-packages/sklearn/cross_validation.py:41: DeprecationWarning: This module was deprecated in version 0.18 in favor of the model_selection module into which all the refactored classes and functions are moved. Also note that the interface of the new CV iterators are different from that of this module. This module will be removed in 0.20.\n",
      "  \"This module will be removed in 0.20.\", DeprecationWarning)\n"
     ]
    }
   ],
   "source": [
    "import pandas as pd\n",
    "import numpy as np\n",
    "from decimal import *\n",
    "import graphviz\n",
    "import matplotlib.pyplot as plt\n",
    "import math\n",
    "import seaborn as sns\n",
    "\n",
    "import xgboost as xgb\n",
    "import hdbscan\n",
    "import sklearn.datasets as data\n",
    "from imblearn.over_sampling import SMOTE\n",
    "from sklearn import datasets, svm\n",
    "from sklearn.model_selection import GridSearchCV\n",
    "from sklearn.preprocessing import MinMaxScaler\n",
    "from sklearn.neighbors import KNeighborsClassifier\n",
    "from sklearn.cross_validation import train_test_split\n",
    "from sklearn.ensemble import RandomForestClassifier, GradientBoostingClassifier\n",
    "from sklearn.feature_selection import RFE\n",
    "from sklearn.linear_model import LogisticRegression\n",
    "from sklearn.tree import DecisionTreeClassifier, export_graphviz\n",
    "from sklearn.metrics import accuracy_score, recall_score, confusion_matrix, roc_curve, roc_auc_score\n",
    "\n",
    "# Inline plotting in jupyter\n",
    "%matplotlib inline\n"
   ]
  },
  {
   "cell_type": "code",
   "execution_count": null,
   "metadata": {
    "collapsed": true
   },
   "outputs": [],
   "source": []
  },
  {
   "cell_type": "markdown",
   "metadata": {},
   "source": [
    "### Define functions that I'll be using throughout the analysis\n",
    "This section defines functions I'll use in the analysis, and the evaluation of results."
   ]
  },
  {
   "cell_type": "code",
   "execution_count": 2,
   "metadata": {
    "collapsed": true
   },
   "outputs": [],
   "source": [
    "# This defines the path to the data depending on the OS I use - Win, macOS, or Ubuntu on AWS\n",
    "def selectOS(_os):\n",
    "    if _os == \"win\":\n",
    "        data_location = \"C:/Users/bre49823/GoogleDrive/Data/aws/device_failure.csv\"\n",
    "    elif _os == \"mac\":\n",
    "        data_location = \"/Users/valentin/GoogleDrive/Data/aws/device_failure.csv\"\n",
    "    elif _os == \"aws\":\n",
    "        data_location = \"/home/ubuntu/git/Gelos/data/device_failure.csv\"\n",
    "    return data_location\n",
    "\n",
    "# Check for NA values in the data\n",
    "def checkNaValues(df, columns_idx):\n",
    "    features_na = []\n",
    "    for i in range(0, len(columns_idx)):\n",
    "        col = columns_idx[i]\n",
    "        features_na.append(df[col].isnull().sum())\n",
    "    return features_na\n",
    "\n",
    "# Create log of features\n",
    "def createLog(df, columns_list):\n",
    "    for col in columns_list:\n",
    "        column_log = col + \"_log\"    \n",
    "        df[column_log] = df[col].apply(lambda x: 0 if x == 0 else math.log(x))\n",
    "    return\n",
    "\n",
    "# Take square root of features\n",
    "def createSqrt(df, columns_list):\n",
    "    for col in columns_list:\n",
    "        column_sqrt = col + \"_sqrt\"\n",
    "        df[column_sqrt] = np.sqrt(df[col])\n",
    "    return\n",
    "\n",
    "# Take square of features\n",
    "def createSquare(df, columns_list):\n",
    "    for col in columns_list:\n",
    "        column_sq = col + \"_sq\"\n",
    "        df[column_sq] = df[col] ** 2\n",
    "    return\n",
    "\n",
    "# Calculate inverse of features\n",
    "def createInverse(df, columns_list):\n",
    "    for col in columns_list:\n",
    "        column_inv = col + \"_inv\"    \n",
    "        df[column_inv] = df[col].apply(lambda x: 0 if x == 0 else 1 / x)\n",
    "    return\n",
    "\n",
    "# Derive dummy features\n",
    "# These features take the value 1 if the value of a feature is larger than 0, otherwise take the value of 0\n",
    "def createDummy(df, columns_list):\n",
    "    column_dummy_idx = []\n",
    "    for col in columns_list:\n",
    "        column_dummy = col + \"_dummy\"\n",
    "        df[column_dummy] = [1 if x > 0 else 0 for x in df[col]]\n",
    "        column_dummy_idx.append(column_dummy)\n",
    "    return column_dummy_idx\n",
    "        \n",
    "# Create a confusion matrix\n",
    "def confusionMatrix(model, _x_validate, _y_validate):\n",
    "    _confusion_matrix = confusion_matrix(_y_validate, model.predict(_x_validate)).ravel()\n",
    "    return _confusion_matrix\n",
    "\n",
    "# Function to print accuracy statistics for each model\n",
    "def modelAccuracyStats(model, modeling_method, _x_train, _y_train, _x_validate, _y_validate):\n",
    "    tn, fp, fn, tp = confusionMatrix(model, _x_validate, _y_validate)\n",
    "    print (\"Print stats for method: %s\" % modeling_method)\n",
    "    print (\"\\nThe number of False Negative in the validation set is %s \" % str(fn))\n",
    "    print (\"The number of False Positive in the validation set is %s \" % str(fp))\n",
    "    print (\"\\nAccuracy on training set is {:.5f}\".format(model.score(_x_train, _y_train)))\n",
    "    print (\"Recall (tp/(tp+fn)) of training set is {:.5f}\".format(recall_score(_y_train, model.predict(_x_train))))\n",
    "    print (\"\\nAccuracy on validation set is {:.5f}\".format(model.score(_x_validate, _y_validate)))\n",
    "    print (\"Recall (tp/(tp+fn)) of validation set is {:.5f}\".format(recall_score(_y_validate, model.predict(_x_validate))))\n"
   ]
  },
  {
   "cell_type": "code",
   "execution_count": null,
   "metadata": {
    "collapsed": true
   },
   "outputs": [],
   "source": []
  },
  {
   "cell_type": "markdown",
   "metadata": {},
   "source": [
    "### Read in the data and print out the header"
   ]
  },
  {
   "cell_type": "code",
   "execution_count": 3,
   "metadata": {},
   "outputs": [
    {
     "name": "stdout",
     "output_type": "stream",
     "text": [
      "124494\n"
     ]
    },
    {
     "data": {
      "text/html": [
       "<div>\n",
       "<table border=\"1\" class=\"dataframe\">\n",
       "  <thead>\n",
       "    <tr style=\"text-align: right;\">\n",
       "      <th></th>\n",
       "      <th>date</th>\n",
       "      <th>device</th>\n",
       "      <th>failure</th>\n",
       "      <th>attribute1</th>\n",
       "      <th>attribute2</th>\n",
       "      <th>attribute3</th>\n",
       "      <th>attribute4</th>\n",
       "      <th>attribute5</th>\n",
       "      <th>attribute6</th>\n",
       "      <th>attribute7</th>\n",
       "      <th>attribute8</th>\n",
       "      <th>attribute9</th>\n",
       "    </tr>\n",
       "  </thead>\n",
       "  <tbody>\n",
       "    <tr>\n",
       "      <th>0</th>\n",
       "      <td>2015-01-01</td>\n",
       "      <td>S1F01085</td>\n",
       "      <td>0</td>\n",
       "      <td>215630672</td>\n",
       "      <td>56</td>\n",
       "      <td>0</td>\n",
       "      <td>52</td>\n",
       "      <td>6</td>\n",
       "      <td>407438</td>\n",
       "      <td>0</td>\n",
       "      <td>0</td>\n",
       "      <td>7</td>\n",
       "    </tr>\n",
       "    <tr>\n",
       "      <th>1</th>\n",
       "      <td>2015-01-01</td>\n",
       "      <td>S1F0166B</td>\n",
       "      <td>0</td>\n",
       "      <td>61370680</td>\n",
       "      <td>0</td>\n",
       "      <td>3</td>\n",
       "      <td>0</td>\n",
       "      <td>6</td>\n",
       "      <td>403174</td>\n",
       "      <td>0</td>\n",
       "      <td>0</td>\n",
       "      <td>0</td>\n",
       "    </tr>\n",
       "    <tr>\n",
       "      <th>2</th>\n",
       "      <td>2015-01-01</td>\n",
       "      <td>S1F01E6Y</td>\n",
       "      <td>0</td>\n",
       "      <td>173295968</td>\n",
       "      <td>0</td>\n",
       "      <td>0</td>\n",
       "      <td>0</td>\n",
       "      <td>12</td>\n",
       "      <td>237394</td>\n",
       "      <td>0</td>\n",
       "      <td>0</td>\n",
       "      <td>0</td>\n",
       "    </tr>\n",
       "    <tr>\n",
       "      <th>3</th>\n",
       "      <td>2015-01-01</td>\n",
       "      <td>S1F01JE0</td>\n",
       "      <td>0</td>\n",
       "      <td>79694024</td>\n",
       "      <td>0</td>\n",
       "      <td>0</td>\n",
       "      <td>0</td>\n",
       "      <td>6</td>\n",
       "      <td>410186</td>\n",
       "      <td>0</td>\n",
       "      <td>0</td>\n",
       "      <td>0</td>\n",
       "    </tr>\n",
       "    <tr>\n",
       "      <th>4</th>\n",
       "      <td>2015-01-01</td>\n",
       "      <td>S1F01R2B</td>\n",
       "      <td>0</td>\n",
       "      <td>135970480</td>\n",
       "      <td>0</td>\n",
       "      <td>0</td>\n",
       "      <td>0</td>\n",
       "      <td>15</td>\n",
       "      <td>313173</td>\n",
       "      <td>0</td>\n",
       "      <td>0</td>\n",
       "      <td>3</td>\n",
       "    </tr>\n",
       "  </tbody>\n",
       "</table>\n",
       "</div>"
      ],
      "text/plain": [
       "         date    device  failure  attribute1  attribute2  attribute3  \\\n",
       "0  2015-01-01  S1F01085        0   215630672          56           0   \n",
       "1  2015-01-01  S1F0166B        0    61370680           0           3   \n",
       "2  2015-01-01  S1F01E6Y        0   173295968           0           0   \n",
       "3  2015-01-01  S1F01JE0        0    79694024           0           0   \n",
       "4  2015-01-01  S1F01R2B        0   135970480           0           0   \n",
       "\n",
       "   attribute4  attribute5  attribute6  attribute7  attribute8  attribute9  \n",
       "0          52           6      407438           0           0           7  \n",
       "1           0           6      403174           0           0           0  \n",
       "2           0          12      237394           0           0           0  \n",
       "3           0           6      410186           0           0           0  \n",
       "4           0          15      313173           0           0           3  "
      ]
     },
     "execution_count": 3,
     "metadata": {},
     "output_type": "execute_result"
    }
   ],
   "source": [
    "# Read in the data and print out the header\n",
    "device_data = pd.read_csv(selectOS(\"mac\"))\n",
    "\n",
    "# Check if the number of rows is as expected\n",
    "print (len(device_data))\n",
    "device_data.head(5)"
   ]
  },
  {
   "cell_type": "markdown",
   "metadata": {},
   "source": [
    "From a first glance it looks like we have time series data, in which two of the attributes (1 & 6) have values much larger than the rest of the attributes. this requires a little more exploration."
   ]
  },
  {
   "cell_type": "markdown",
   "metadata": {},
   "source": [
    "Check the type of values in each column"
   ]
  },
  {
   "cell_type": "code",
   "execution_count": 4,
   "metadata": {},
   "outputs": [
    {
     "name": "stdout",
     "output_type": "stream",
     "text": [
      "<class 'pandas.core.frame.DataFrame'>\n",
      "RangeIndex: 124494 entries, 0 to 124493\n",
      "Data columns (total 12 columns):\n",
      "date          124494 non-null object\n",
      "device        124494 non-null object\n",
      "failure       124494 non-null int64\n",
      "attribute1    124494 non-null int64\n",
      "attribute2    124494 non-null int64\n",
      "attribute3    124494 non-null int64\n",
      "attribute4    124494 non-null int64\n",
      "attribute5    124494 non-null int64\n",
      "attribute6    124494 non-null int64\n",
      "attribute7    124494 non-null int64\n",
      "attribute8    124494 non-null int64\n",
      "attribute9    124494 non-null int64\n",
      "dtypes: int64(10), object(2)\n",
      "memory usage: 11.4+ MB\n"
     ]
    }
   ],
   "source": [
    "device_data.info()"
   ]
  },
  {
   "cell_type": "code",
   "execution_count": null,
   "metadata": {
    "collapsed": true
   },
   "outputs": [],
   "source": []
  },
  {
   "cell_type": "markdown",
   "metadata": {},
   "source": [
    "Whenever I start working with a dataset I've never seen, I like to open it as a SQL table, or import it in Excel, and familiarize myself with it. If the file is small enough, and Excel can handle it, I'll import the whole file, otherwise, I take a random sample from it, small enough that can be easily processed within the available RAM and CPU.\n",
    "\n",
    "Next, I usually create a pivot table in Excel and try to understand what features are available. Are there dates - if there are, what is the time range coverered? When we know the dates from the data, we can relate them to important Macroeconomic environments - major crises, stock market and crude oil price crashes, etc. Most of the real world industry processes are impacted by economic events. For example, if the data in the provided dataset spans back to 2007, it is very likely that we'll see structural shifts in some of the attributes during the period 2008 - 2009."
   ]
  },
  {
   "cell_type": "code",
   "execution_count": 5,
   "metadata": {},
   "outputs": [
    {
     "name": "stdout",
     "output_type": "stream",
     "text": [
      "0.0008514 of the cases are device failures \n"
     ]
    }
   ],
   "source": [
    "# Calculate the distribution of total fail/not fail cases\n",
    "pct_fail_cases = sum(device_data[\"failure\"]) / Decimal(len(device_data[\"failure\"]))\n",
    "print (\"%0.7f of the cases are device failures \" % pct_fail_cases)"
   ]
  },
  {
   "cell_type": "markdown",
   "metadata": {
    "collapsed": true
   },
   "source": [
    "The percent of fail cases is very low compared to the non-fail cases - only 0.0008514 of the cases are failures. This creates an imbalanced dataset, which will have to be handled through oversampling.\n"
   ]
  },
  {
   "cell_type": "code",
   "execution_count": null,
   "metadata": {
    "collapsed": true
   },
   "outputs": [],
   "source": []
  },
  {
   "cell_type": "markdown",
   "metadata": {},
   "source": [
    "Let's get a feel of the mean, std, and percentiles for each feature."
   ]
  },
  {
   "cell_type": "code",
   "execution_count": 6,
   "metadata": {},
   "outputs": [
    {
     "data": {
      "text/html": [
       "<div>\n",
       "<table border=\"1\" class=\"dataframe\">\n",
       "  <thead>\n",
       "    <tr style=\"text-align: right;\">\n",
       "      <th></th>\n",
       "      <th>failure</th>\n",
       "      <th>attribute1</th>\n",
       "      <th>attribute2</th>\n",
       "      <th>attribute3</th>\n",
       "      <th>attribute4</th>\n",
       "      <th>attribute5</th>\n",
       "      <th>attribute6</th>\n",
       "      <th>attribute7</th>\n",
       "      <th>attribute8</th>\n",
       "      <th>attribute9</th>\n",
       "    </tr>\n",
       "  </thead>\n",
       "  <tbody>\n",
       "    <tr>\n",
       "      <th>count</th>\n",
       "      <td>124494.000000</td>\n",
       "      <td>1.244940e+05</td>\n",
       "      <td>124494.000000</td>\n",
       "      <td>124494.000000</td>\n",
       "      <td>124494.000000</td>\n",
       "      <td>124494.000000</td>\n",
       "      <td>124494.000000</td>\n",
       "      <td>124494.000000</td>\n",
       "      <td>124494.000000</td>\n",
       "      <td>124494.000000</td>\n",
       "    </tr>\n",
       "    <tr>\n",
       "      <th>mean</th>\n",
       "      <td>0.000851</td>\n",
       "      <td>1.223868e+08</td>\n",
       "      <td>159.484762</td>\n",
       "      <td>9.940455</td>\n",
       "      <td>1.741120</td>\n",
       "      <td>14.222693</td>\n",
       "      <td>260172.858025</td>\n",
       "      <td>0.292528</td>\n",
       "      <td>0.292528</td>\n",
       "      <td>12.451524</td>\n",
       "    </tr>\n",
       "    <tr>\n",
       "      <th>std</th>\n",
       "      <td>0.029167</td>\n",
       "      <td>7.045960e+07</td>\n",
       "      <td>2179.657730</td>\n",
       "      <td>185.747321</td>\n",
       "      <td>22.908507</td>\n",
       "      <td>15.943021</td>\n",
       "      <td>99151.009852</td>\n",
       "      <td>7.436924</td>\n",
       "      <td>7.436924</td>\n",
       "      <td>191.425623</td>\n",
       "    </tr>\n",
       "    <tr>\n",
       "      <th>min</th>\n",
       "      <td>0.000000</td>\n",
       "      <td>0.000000e+00</td>\n",
       "      <td>0.000000</td>\n",
       "      <td>0.000000</td>\n",
       "      <td>0.000000</td>\n",
       "      <td>1.000000</td>\n",
       "      <td>8.000000</td>\n",
       "      <td>0.000000</td>\n",
       "      <td>0.000000</td>\n",
       "      <td>0.000000</td>\n",
       "    </tr>\n",
       "    <tr>\n",
       "      <th>1%</th>\n",
       "      <td>0.000000</td>\n",
       "      <td>2.401025e+06</td>\n",
       "      <td>0.000000</td>\n",
       "      <td>0.000000</td>\n",
       "      <td>0.000000</td>\n",
       "      <td>4.000000</td>\n",
       "      <td>26.000000</td>\n",
       "      <td>0.000000</td>\n",
       "      <td>0.000000</td>\n",
       "      <td>0.000000</td>\n",
       "    </tr>\n",
       "    <tr>\n",
       "      <th>5%</th>\n",
       "      <td>0.000000</td>\n",
       "      <td>1.209010e+07</td>\n",
       "      <td>0.000000</td>\n",
       "      <td>0.000000</td>\n",
       "      <td>0.000000</td>\n",
       "      <td>6.000000</td>\n",
       "      <td>46.000000</td>\n",
       "      <td>0.000000</td>\n",
       "      <td>0.000000</td>\n",
       "      <td>0.000000</td>\n",
       "    </tr>\n",
       "    <tr>\n",
       "      <th>25%</th>\n",
       "      <td>0.000000</td>\n",
       "      <td>6.127675e+07</td>\n",
       "      <td>0.000000</td>\n",
       "      <td>0.000000</td>\n",
       "      <td>0.000000</td>\n",
       "      <td>8.000000</td>\n",
       "      <td>221452.000000</td>\n",
       "      <td>0.000000</td>\n",
       "      <td>0.000000</td>\n",
       "      <td>0.000000</td>\n",
       "    </tr>\n",
       "    <tr>\n",
       "      <th>50%</th>\n",
       "      <td>0.000000</td>\n",
       "      <td>1.227957e+08</td>\n",
       "      <td>0.000000</td>\n",
       "      <td>0.000000</td>\n",
       "      <td>0.000000</td>\n",
       "      <td>10.000000</td>\n",
       "      <td>249799.500000</td>\n",
       "      <td>0.000000</td>\n",
       "      <td>0.000000</td>\n",
       "      <td>0.000000</td>\n",
       "    </tr>\n",
       "    <tr>\n",
       "      <th>75%</th>\n",
       "      <td>0.000000</td>\n",
       "      <td>1.833084e+08</td>\n",
       "      <td>0.000000</td>\n",
       "      <td>0.000000</td>\n",
       "      <td>0.000000</td>\n",
       "      <td>12.000000</td>\n",
       "      <td>310266.000000</td>\n",
       "      <td>0.000000</td>\n",
       "      <td>0.000000</td>\n",
       "      <td>0.000000</td>\n",
       "    </tr>\n",
       "    <tr>\n",
       "      <th>95%</th>\n",
       "      <td>0.000000</td>\n",
       "      <td>2.318738e+08</td>\n",
       "      <td>8.000000</td>\n",
       "      <td>1.000000</td>\n",
       "      <td>6.000000</td>\n",
       "      <td>58.000000</td>\n",
       "      <td>443047.800000</td>\n",
       "      <td>0.000000</td>\n",
       "      <td>0.000000</td>\n",
       "      <td>11.000000</td>\n",
       "    </tr>\n",
       "    <tr>\n",
       "      <th>99%</th>\n",
       "      <td>0.000000</td>\n",
       "      <td>2.417911e+08</td>\n",
       "      <td>2664.000000</td>\n",
       "      <td>107.000000</td>\n",
       "      <td>25.000000</td>\n",
       "      <td>92.000000</td>\n",
       "      <td>501012.490000</td>\n",
       "      <td>8.000000</td>\n",
       "      <td>8.000000</td>\n",
       "      <td>155.000000</td>\n",
       "    </tr>\n",
       "    <tr>\n",
       "      <th>max</th>\n",
       "      <td>1.000000</td>\n",
       "      <td>2.441405e+08</td>\n",
       "      <td>64968.000000</td>\n",
       "      <td>24929.000000</td>\n",
       "      <td>1666.000000</td>\n",
       "      <td>98.000000</td>\n",
       "      <td>689161.000000</td>\n",
       "      <td>832.000000</td>\n",
       "      <td>832.000000</td>\n",
       "      <td>18701.000000</td>\n",
       "    </tr>\n",
       "  </tbody>\n",
       "</table>\n",
       "</div>"
      ],
      "text/plain": [
       "             failure    attribute1     attribute2     attribute3  \\\n",
       "count  124494.000000  1.244940e+05  124494.000000  124494.000000   \n",
       "mean        0.000851  1.223868e+08     159.484762       9.940455   \n",
       "std         0.029167  7.045960e+07    2179.657730     185.747321   \n",
       "min         0.000000  0.000000e+00       0.000000       0.000000   \n",
       "1%          0.000000  2.401025e+06       0.000000       0.000000   \n",
       "5%          0.000000  1.209010e+07       0.000000       0.000000   \n",
       "25%         0.000000  6.127675e+07       0.000000       0.000000   \n",
       "50%         0.000000  1.227957e+08       0.000000       0.000000   \n",
       "75%         0.000000  1.833084e+08       0.000000       0.000000   \n",
       "95%         0.000000  2.318738e+08       8.000000       1.000000   \n",
       "99%         0.000000  2.417911e+08    2664.000000     107.000000   \n",
       "max         1.000000  2.441405e+08   64968.000000   24929.000000   \n",
       "\n",
       "          attribute4     attribute5     attribute6     attribute7  \\\n",
       "count  124494.000000  124494.000000  124494.000000  124494.000000   \n",
       "mean        1.741120      14.222693  260172.858025       0.292528   \n",
       "std        22.908507      15.943021   99151.009852       7.436924   \n",
       "min         0.000000       1.000000       8.000000       0.000000   \n",
       "1%          0.000000       4.000000      26.000000       0.000000   \n",
       "5%          0.000000       6.000000      46.000000       0.000000   \n",
       "25%         0.000000       8.000000  221452.000000       0.000000   \n",
       "50%         0.000000      10.000000  249799.500000       0.000000   \n",
       "75%         0.000000      12.000000  310266.000000       0.000000   \n",
       "95%         6.000000      58.000000  443047.800000       0.000000   \n",
       "99%        25.000000      92.000000  501012.490000       8.000000   \n",
       "max      1666.000000      98.000000  689161.000000     832.000000   \n",
       "\n",
       "          attribute8     attribute9  \n",
       "count  124494.000000  124494.000000  \n",
       "mean        0.292528      12.451524  \n",
       "std         7.436924     191.425623  \n",
       "min         0.000000       0.000000  \n",
       "1%          0.000000       0.000000  \n",
       "5%          0.000000       0.000000  \n",
       "25%         0.000000       0.000000  \n",
       "50%         0.000000       0.000000  \n",
       "75%         0.000000       0.000000  \n",
       "95%         0.000000      11.000000  \n",
       "99%         8.000000     155.000000  \n",
       "max       832.000000   18701.000000  "
      ]
     },
     "execution_count": 6,
     "metadata": {},
     "output_type": "execute_result"
    }
   ],
   "source": [
    "device_data.describe(percentiles = [.01, .05, .25, .5, .75, .95, .99])"
   ]
  },
  {
   "cell_type": "code",
   "execution_count": 7,
   "metadata": {},
   "outputs": [
    {
     "data": {
      "text/html": [
       "<div>\n",
       "<table border=\"1\" class=\"dataframe\">\n",
       "  <thead>\n",
       "    <tr style=\"text-align: right;\">\n",
       "      <th></th>\n",
       "      <th>attribute1</th>\n",
       "      <th>attribute2</th>\n",
       "      <th>attribute3</th>\n",
       "      <th>attribute4</th>\n",
       "      <th>attribute5</th>\n",
       "      <th>attribute6</th>\n",
       "      <th>attribute7</th>\n",
       "      <th>attribute8</th>\n",
       "      <th>attribute9</th>\n",
       "    </tr>\n",
       "    <tr>\n",
       "      <th>failure</th>\n",
       "      <th></th>\n",
       "      <th></th>\n",
       "      <th></th>\n",
       "      <th></th>\n",
       "      <th></th>\n",
       "      <th></th>\n",
       "      <th></th>\n",
       "      <th></th>\n",
       "      <th></th>\n",
       "    </tr>\n",
       "  </thead>\n",
       "  <tbody>\n",
       "    <tr>\n",
       "      <th>0</th>\n",
       "      <td>1.223827e+08</td>\n",
       "      <td>156.118725</td>\n",
       "      <td>9.945598</td>\n",
       "      <td>1.696048</td>\n",
       "      <td>14.221637</td>\n",
       "      <td>260174.451056</td>\n",
       "      <td>0.266682</td>\n",
       "      <td>0.266682</td>\n",
       "      <td>12.442462</td>\n",
       "    </tr>\n",
       "    <tr>\n",
       "      <th>1</th>\n",
       "      <td>1.271755e+08</td>\n",
       "      <td>4109.433962</td>\n",
       "      <td>3.905660</td>\n",
       "      <td>54.632075</td>\n",
       "      <td>15.462264</td>\n",
       "      <td>258303.481132</td>\n",
       "      <td>30.622642</td>\n",
       "      <td>30.622642</td>\n",
       "      <td>23.084906</td>\n",
       "    </tr>\n",
       "  </tbody>\n",
       "</table>\n",
       "</div>"
      ],
      "text/plain": [
       "           attribute1   attribute2  attribute3  attribute4  attribute5  \\\n",
       "failure                                                                  \n",
       "0        1.223827e+08   156.118725    9.945598    1.696048   14.221637   \n",
       "1        1.271755e+08  4109.433962    3.905660   54.632075   15.462264   \n",
       "\n",
       "            attribute6  attribute7  attribute8  attribute9  \n",
       "failure                                                     \n",
       "0        260174.451056    0.266682    0.266682   12.442462  \n",
       "1        258303.481132   30.622642   30.622642   23.084906  "
      ]
     },
     "execution_count": 7,
     "metadata": {},
     "output_type": "execute_result"
    }
   ],
   "source": [
    "device_data.groupby(\"failure\").mean()"
   ]
  },
  {
   "cell_type": "markdown",
   "metadata": {},
   "source": [
    "It is clear that attributes 1 & 6 have much larger values than the rest of the attributes. This can create problems with the estimation of the models later on, so we'll scale the variables."
   ]
  },
  {
   "cell_type": "markdown",
   "metadata": {},
   "source": [
    "From the analysis of observations when the values of each attribute is larger than 0, it looks like attributes 7 & 8 have the same number of cases when they are larger than 0. This requires a little more investigation. If both attributes have the same values, one of them will be dropped.\n",
    "\n",
    "Next, I'll test if the values for attributes 7 & 8 are the same. If the difference between attributes 7 & 8 is 0, I'll drop column 8."
   ]
  },
  {
   "cell_type": "code",
   "execution_count": 8,
   "metadata": {},
   "outputs": [
    {
     "data": {
      "text/plain": [
       "0"
      ]
     },
     "execution_count": 8,
     "metadata": {},
     "output_type": "execute_result"
    }
   ],
   "source": [
    "sum((device_data[\"attribute7\"] - device_data[\"attribute8\"]))"
   ]
  },
  {
   "cell_type": "markdown",
   "metadata": {},
   "source": [
    "Based on the test, columns 7 & 8 are the same. Hence, I'll drop column 8."
   ]
  },
  {
   "cell_type": "code",
   "execution_count": 9,
   "metadata": {
    "collapsed": true
   },
   "outputs": [],
   "source": [
    "drop_vars = [\"attribute8\"]\n",
    "device_data = device_data.drop(drop_vars, axis = 1)"
   ]
  },
  {
   "cell_type": "code",
   "execution_count": null,
   "metadata": {
    "collapsed": true
   },
   "outputs": [],
   "source": []
  },
  {
   "cell_type": "markdown",
   "metadata": {},
   "source": [
    "Check if there are NA values in the data. If the list with features is very long I wouldn't print the whole list with the results, but will only print those that with missing values."
   ]
  },
  {
   "cell_type": "code",
   "execution_count": 10,
   "metadata": {},
   "outputs": [
    {
     "data": {
      "text/plain": [
       "[('date', 0),\n",
       " ('device', 0),\n",
       " ('failure', 0),\n",
       " ('attribute1', 0),\n",
       " ('attribute2', 0),\n",
       " ('attribute3', 0),\n",
       " ('attribute4', 0),\n",
       " ('attribute5', 0),\n",
       " ('attribute6', 0),\n",
       " ('attribute7', 0),\n",
       " ('attribute9', 0)]"
      ]
     },
     "execution_count": 10,
     "metadata": {},
     "output_type": "execute_result"
    }
   ],
   "source": [
    "columns_list = list(device_data.columns)\n",
    "features_na = checkNaValues(device_data, columns_list)\n",
    "list(zip(columns_list, features_na))"
   ]
  },
  {
   "cell_type": "markdown",
   "metadata": {},
   "source": [
    "There are no features with NULL or NaN values.. The next step is to check for duplicate rows in the data"
   ]
  },
  {
   "cell_type": "code",
   "execution_count": 11,
   "metadata": {},
   "outputs": [
    {
     "data": {
      "text/html": [
       "<div>\n",
       "<table border=\"1\" class=\"dataframe\">\n",
       "  <thead>\n",
       "    <tr style=\"text-align: right;\">\n",
       "      <th></th>\n",
       "      <th>date</th>\n",
       "      <th>device</th>\n",
       "      <th>failure</th>\n",
       "      <th>attribute1</th>\n",
       "      <th>attribute2</th>\n",
       "      <th>attribute3</th>\n",
       "      <th>attribute4</th>\n",
       "      <th>attribute5</th>\n",
       "      <th>attribute6</th>\n",
       "      <th>attribute7</th>\n",
       "      <th>attribute9</th>\n",
       "    </tr>\n",
       "  </thead>\n",
       "  <tbody>\n",
       "  </tbody>\n",
       "</table>\n",
       "</div>"
      ],
      "text/plain": [
       "Empty DataFrame\n",
       "Columns: [date, device, failure, attribute1, attribute2, attribute3, attribute4, attribute5, attribute6, attribute7, attribute9]\n",
       "Index: []"
      ]
     },
     "execution_count": 11,
     "metadata": {},
     "output_type": "execute_result"
    }
   ],
   "source": [
    "device_data[device_data.duplicated()]"
   ]
  },
  {
   "cell_type": "markdown",
   "metadata": {},
   "source": [
    "There are no duplicate rows in the data."
   ]
  },
  {
   "cell_type": "code",
   "execution_count": null,
   "metadata": {
    "collapsed": true
   },
   "outputs": [],
   "source": []
  },
  {
   "cell_type": "markdown",
   "metadata": {},
   "source": [
    "Distribution of features by failure categories\n",
    "<br>\n",
    "#### TODO: THE BOXPLOT AXES NEED TO DYNAMICALLY CHANGE FOR EACH FEATURE"
   ]
  },
  {
   "cell_type": "code",
   "execution_count": 12,
   "metadata": {},
   "outputs": [
    {
     "data": {
      "text/plain": [
       "<matplotlib.figure.Figure at 0x111f5ada0>"
      ]
     },
     "metadata": {},
     "output_type": "display_data"
    },
    {
     "data": {
      "image/png": "[encoded data removed]",
      "text/plain": [
       "<matplotlib.figure.Figure at 0x111fbf940>"
      ]
     },
     "metadata": {},
     "output_type": "display_data"
    }
   ],
   "source": [
    "plt.figure(figsize = (30, 20))\n",
    "device_data.boxplot(column = [\"attribute1\", \"attribute2\", \"attribute3\", \"attribute4\", \"attribute5\", \"attribute6\", \"attribute7\"],\n",
    "                    by = \"failure\",\n",
    "                    grid = True, figsize = (20, 10),\n",
    "                    layout = (1, 7),\n",
    "                    return_type = \"axes\")\n",
    "plt.show()"
   ]
  },
  {
   "cell_type": "code",
   "execution_count": null,
   "metadata": {
    "collapsed": true
   },
   "outputs": [],
   "source": []
  },
  {
   "cell_type": "markdown",
   "metadata": {},
   "source": [
    "### Derive new features\n",
    "1. Take the log of features with large values\n",
    "<br>\n",
    "Attribute1 & attribute6 have very large values compared with the rest of the features. So I'll take the logs.\n",
    "<p>\n",
    "2. Create dummies (0/1) from the existing features\n",
    "<br>\n",
    "If the value of an attribute is larger than 0, encode as 1, otherwise 0"
   ]
  },
  {
   "cell_type": "code",
   "execution_count": 13,
   "metadata": {},
   "outputs": [
    {
     "data": {
      "text/plain": [
       "[('attribute1_dummy', 1    124483\n",
       "  0        11\n",
       "  Name: attribute1_dummy, dtype: int64), ('attribute2_dummy', 0    118110\n",
       "  1      6384\n",
       "  Name: attribute2_dummy, dtype: int64), ('attribute3_dummy', 0    115359\n",
       "  1      9135\n",
       "  Name: attribute3_dummy, dtype: int64), ('attribute4_dummy', 0    115156\n",
       "  1      9338\n",
       "  Name: attribute4_dummy, dtype: int64), ('attribute5_dummy', 1    124494\n",
       "  Name: attribute5_dummy, dtype: int64), ('attribute6_dummy', 1    124494\n",
       "  Name: attribute6_dummy, dtype: int64), ('attribute7_dummy', 0    123036\n",
       "  1      1458\n",
       "  Name: attribute7_dummy, dtype: int64), ('attribute9_dummy', 0    97358\n",
       "  1    27136\n",
       "  Name: attribute9_dummy, dtype: int64)]"
      ]
     },
     "execution_count": 13,
     "metadata": {},
     "output_type": "execute_result"
    }
   ],
   "source": [
    "# 1) Calculate the log of the attribute1 & attribute6\n",
    "columns_list = [\"attribute1\", \"attribute6\"]\n",
    "createLog(device_data, columns_list)\n",
    "\n",
    "# 2) Create dummies from the attributes\n",
    "columns_list = [\"attribute1\", \"attribute2\", \"attribute3\", \"attribute4\", \"attribute5\", \"attribute6\", \"attribute7\", \"attribute9\"]\n",
    "\n",
    "features_dummy = createDummy(device_data, columns_list)\n",
    "list(zip(features_dummy, [device_data[s].value_counts() for s in features_dummy]))"
   ]
  },
  {
   "cell_type": "markdown",
   "metadata": {},
   "source": [
    "We'll also drop the dummies for columns 5 & 6 because they are always 1. Since they have the same value for every observation, they won't provide any useful information to the models."
   ]
  },
  {
   "cell_type": "code",
   "execution_count": 14,
   "metadata": {
    "collapsed": true
   },
   "outputs": [],
   "source": [
    "drop_vars = [\"attribute5_dummy\", \"attribute6_dummy\"]\n",
    "device_data = device_data.drop(drop_vars, axis = 1)"
   ]
  },
  {
   "cell_type": "code",
   "execution_count": null,
   "metadata": {
    "collapsed": true
   },
   "outputs": [],
   "source": []
  },
  {
   "cell_type": "markdown",
   "metadata": {},
   "source": [
    "### Further investigation of the data\n",
    "We need to dig a little deeper into the distributions of failure/non-failure and understand the following:\n",
    "<br>\n",
    "1. Distribution of failure/non-failure rates by year\n",
    "2. Distribution of failure/non-failure rates by month\n",
    "3. Distribution of failure/non-failure rates by device - are there specific devices that tend to fail more than others?"
   ]
  },
  {
   "cell_type": "code",
   "execution_count": 15,
   "metadata": {},
   "outputs": [
    {
     "name": "stdout",
     "output_type": "stream",
     "text": [
      "0    124388\n",
      "1       106\n",
      "Name: failure, dtype: int64\n",
      "col_0   count\n",
      "year         \n",
      "2015   124494\n"
     ]
    },
    {
     "data": {
      "text/html": [
       "<div>\n",
       "<table border=\"1\" class=\"dataframe\">\n",
       "  <thead>\n",
       "    <tr style=\"text-align: right;\">\n",
       "      <th>col_0</th>\n",
       "      <th>count</th>\n",
       "    </tr>\n",
       "    <tr>\n",
       "      <th>month</th>\n",
       "      <th></th>\n",
       "    </tr>\n",
       "  </thead>\n",
       "  <tbody>\n",
       "    <tr>\n",
       "      <th>1</th>\n",
       "      <td>0.201070</td>\n",
       "    </tr>\n",
       "    <tr>\n",
       "      <th>2</th>\n",
       "      <td>0.156634</td>\n",
       "    </tr>\n",
       "    <tr>\n",
       "      <th>3</th>\n",
       "      <td>0.159309</td>\n",
       "    </tr>\n",
       "    <tr>\n",
       "      <th>4</th>\n",
       "      <td>0.096487</td>\n",
       "    </tr>\n",
       "    <tr>\n",
       "      <th>5</th>\n",
       "      <td>0.091008</td>\n",
       "    </tr>\n",
       "    <tr>\n",
       "      <th>6</th>\n",
       "      <td>0.084092</td>\n",
       "    </tr>\n",
       "    <tr>\n",
       "      <th>7</th>\n",
       "      <td>0.084590</td>\n",
       "    </tr>\n",
       "    <tr>\n",
       "      <th>8</th>\n",
       "      <td>0.067039</td>\n",
       "    </tr>\n",
       "    <tr>\n",
       "      <th>9</th>\n",
       "      <td>0.035905</td>\n",
       "    </tr>\n",
       "    <tr>\n",
       "      <th>10</th>\n",
       "      <td>0.023616</td>\n",
       "    </tr>\n",
       "    <tr>\n",
       "      <th>11</th>\n",
       "      <td>0.000249</td>\n",
       "    </tr>\n",
       "  </tbody>\n",
       "</table>\n",
       "</div>"
      ],
      "text/plain": [
       "col_0     count\n",
       "month          \n",
       "1      0.201070\n",
       "2      0.156634\n",
       "3      0.159309\n",
       "4      0.096487\n",
       "5      0.091008\n",
       "6      0.084092\n",
       "7      0.084590\n",
       "8      0.067039\n",
       "9      0.035905\n",
       "10     0.023616\n",
       "11     0.000249"
      ]
     },
     "execution_count": 15,
     "metadata": {},
     "output_type": "execute_result"
    }
   ],
   "source": [
    "# Distribution of failure/non-failure by year\n",
    "device_data[\"year\"] = pd.to_datetime(device_data[\"date\"]).dt.year\n",
    "device_data[\"month\"] = pd.to_datetime(device_data[\"date\"]).dt.month\n",
    "device_data[\"day_of_week\"] = pd.to_datetime(device_data[\"date\"]).dt.dayofweek\n",
    "device_data[\"device_type\"] = device_data.device.str[0]\n",
    "\n",
    "# Create dummies for each of the three different devices in the data. Each starts with a different letter - S, W, or Z\n",
    "device_data = pd.concat([device_data, pd.get_dummies(device_data[\"device_type\"].str.lower(), prefix = \"device_type\")],\n",
    "                        axis = 1, join_axes = [device_data.index])\n",
    "\n",
    "# Print some summary stats\n",
    "print(device_data.failure.value_counts())\n",
    "\n",
    "print(pd.crosstab(device_data[\"year\"],\n",
    "                  columns = \"count\"))\n",
    "pd.crosstab(device_data[\"month\"],\n",
    "            columns = \"count\") / len(device_data.month)"
   ]
  },
  {
   "cell_type": "markdown",
   "metadata": {},
   "source": [
    "It is evident that the data is only for 2015 and we have information for most of the months of 2015, except for December. However, note that 50% of the observations are from the period January - March.\n",
    "<p>\n",
    "Next, we'll look at the distribution of failure/non-failure by month - both counts and rates."
   ]
  },
  {
   "cell_type": "code",
   "execution_count": 16,
   "metadata": {},
   "outputs": [
    {
     "data": {
      "text/html": [
       "<div>\n",
       "<table border=\"1\" class=\"dataframe\">\n",
       "  <thead>\n",
       "    <tr style=\"text-align: right;\">\n",
       "      <th>month</th>\n",
       "      <th>1</th>\n",
       "      <th>2</th>\n",
       "      <th>3</th>\n",
       "      <th>4</th>\n",
       "      <th>5</th>\n",
       "      <th>6</th>\n",
       "      <th>7</th>\n",
       "      <th>8</th>\n",
       "      <th>9</th>\n",
       "      <th>10</th>\n",
       "      <th>11</th>\n",
       "      <th>All</th>\n",
       "    </tr>\n",
       "  </thead>\n",
       "  <tbody>\n",
       "    <tr>\n",
       "      <th>non_failure</th>\n",
       "      <td>25008</td>\n",
       "      <td>19486</td>\n",
       "      <td>19824</td>\n",
       "      <td>12003</td>\n",
       "      <td>11309</td>\n",
       "      <td>10463</td>\n",
       "      <td>10515</td>\n",
       "      <td>8342</td>\n",
       "      <td>4470</td>\n",
       "      <td>2937</td>\n",
       "      <td>31</td>\n",
       "      <td>124388</td>\n",
       "    </tr>\n",
       "    <tr>\n",
       "      <th>failure</th>\n",
       "      <td>24</td>\n",
       "      <td>14</td>\n",
       "      <td>9</td>\n",
       "      <td>9</td>\n",
       "      <td>21</td>\n",
       "      <td>6</td>\n",
       "      <td>16</td>\n",
       "      <td>4</td>\n",
       "      <td>0</td>\n",
       "      <td>3</td>\n",
       "      <td>0</td>\n",
       "      <td>106</td>\n",
       "    </tr>\n",
       "    <tr>\n",
       "      <th>month_total</th>\n",
       "      <td>25032</td>\n",
       "      <td>19500</td>\n",
       "      <td>19833</td>\n",
       "      <td>12012</td>\n",
       "      <td>11330</td>\n",
       "      <td>10469</td>\n",
       "      <td>10531</td>\n",
       "      <td>8346</td>\n",
       "      <td>4470</td>\n",
       "      <td>2940</td>\n",
       "      <td>31</td>\n",
       "      <td>124494</td>\n",
       "    </tr>\n",
       "  </tbody>\n",
       "</table>\n",
       "</div>"
      ],
      "text/plain": [
       "month            1      2      3      4      5      6      7     8     9  \\\n",
       "non_failure  25008  19486  19824  12003  11309  10463  10515  8342  4470   \n",
       "failure         24     14      9      9     21      6     16     4     0   \n",
       "month_total  25032  19500  19833  12012  11330  10469  10531  8346  4470   \n",
       "\n",
       "month          10  11     All  \n",
       "non_failure  2937  31  124388  \n",
       "failure         3   0     106  \n",
       "month_total  2940  31  124494  "
      ]
     },
     "execution_count": 16,
     "metadata": {},
     "output_type": "execute_result"
    }
   ],
   "source": [
    "# Distribution of failure/non-failure by month\n",
    "failure_month = pd.crosstab(index = device_data[\"failure\"],\n",
    "                            columns = device_data[\"month\"],\n",
    "                            margins = True)\n",
    "\n",
    "failure_month.index = [\"non_failure\", \"failure\", \"month_total\"]\n",
    "failure_month"
   ]
  },
  {
   "cell_type": "code",
   "execution_count": 17,
   "metadata": {},
   "outputs": [
    {
     "data": {
      "text/html": [
       "<div>\n",
       "<table border=\"1\" class=\"dataframe\">\n",
       "  <thead>\n",
       "    <tr style=\"text-align: right;\">\n",
       "      <th>month</th>\n",
       "      <th>1</th>\n",
       "      <th>2</th>\n",
       "      <th>3</th>\n",
       "      <th>4</th>\n",
       "      <th>5</th>\n",
       "      <th>6</th>\n",
       "      <th>7</th>\n",
       "      <th>8</th>\n",
       "      <th>9</th>\n",
       "      <th>10</th>\n",
       "      <th>11</th>\n",
       "      <th>All</th>\n",
       "    </tr>\n",
       "  </thead>\n",
       "  <tbody>\n",
       "    <tr>\n",
       "      <th>non_failure</th>\n",
       "      <td>0.999041</td>\n",
       "      <td>0.999282</td>\n",
       "      <td>0.999546</td>\n",
       "      <td>0.999251</td>\n",
       "      <td>0.998147</td>\n",
       "      <td>0.999427</td>\n",
       "      <td>0.998481</td>\n",
       "      <td>0.999521</td>\n",
       "      <td>1.0</td>\n",
       "      <td>0.99898</td>\n",
       "      <td>1.0</td>\n",
       "      <td>0.999149</td>\n",
       "    </tr>\n",
       "    <tr>\n",
       "      <th>failure</th>\n",
       "      <td>0.000959</td>\n",
       "      <td>0.000718</td>\n",
       "      <td>0.000454</td>\n",
       "      <td>0.000749</td>\n",
       "      <td>0.001853</td>\n",
       "      <td>0.000573</td>\n",
       "      <td>0.001519</td>\n",
       "      <td>0.000479</td>\n",
       "      <td>0.0</td>\n",
       "      <td>0.00102</td>\n",
       "      <td>0.0</td>\n",
       "      <td>0.000851</td>\n",
       "    </tr>\n",
       "    <tr>\n",
       "      <th>month_total</th>\n",
       "      <td>1.000000</td>\n",
       "      <td>1.000000</td>\n",
       "      <td>1.000000</td>\n",
       "      <td>1.000000</td>\n",
       "      <td>1.000000</td>\n",
       "      <td>1.000000</td>\n",
       "      <td>1.000000</td>\n",
       "      <td>1.000000</td>\n",
       "      <td>1.0</td>\n",
       "      <td>1.00000</td>\n",
       "      <td>1.0</td>\n",
       "      <td>1.000000</td>\n",
       "    </tr>\n",
       "  </tbody>\n",
       "</table>\n",
       "</div>"
      ],
      "text/plain": [
       "month               1         2         3         4         5         6  \\\n",
       "non_failure  0.999041  0.999282  0.999546  0.999251  0.998147  0.999427   \n",
       "failure      0.000959  0.000718  0.000454  0.000749  0.001853  0.000573   \n",
       "month_total  1.000000  1.000000  1.000000  1.000000  1.000000  1.000000   \n",
       "\n",
       "month               7         8    9       10   11       All  \n",
       "non_failure  0.998481  0.999521  1.0  0.99898  1.0  0.999149  \n",
       "failure      0.001519  0.000479  0.0  0.00102  0.0  0.000851  \n",
       "month_total  1.000000  1.000000  1.0  1.00000  1.0  1.000000  "
      ]
     },
     "execution_count": 17,
     "metadata": {},
     "output_type": "execute_result"
    }
   ],
   "source": [
    "failure_month_pct = failure_month / failure_month.loc[\"month_total\"]\n",
    "failure_month_pct"
   ]
  },
  {
   "cell_type": "code",
   "execution_count": 18,
   "metadata": {},
   "outputs": [
    {
     "data": {
      "text/plain": [
       "<matplotlib.text.Text at 0x112441dd8>"
      ]
     },
     "execution_count": 18,
     "metadata": {},
     "output_type": "execute_result"
    },
    {
     "data": {
      "image/png": "[encoded data removed]",
      "text/plain": [
       "<matplotlib.figure.Figure at 0x1148524e0>"
      ]
     },
     "metadata": {},
     "output_type": "display_data"
    }
   ],
   "source": [
    "# Plot the % failures/non-failures by month\n",
    "plt.figure(figsize = (15, 5))\n",
    "plt.plot(list(failure_month_pct.loc[\"failure\"]), linewidth = 0.8, color = \"#ff0000\")\n",
    "plt.xlabel(\"Months\")\n",
    "plt.ylabel(\"Percent device failure\")\n",
    "plt.title(\"Percent Failed Devices by Month\")"
   ]
  },
  {
   "cell_type": "code",
   "execution_count": 19,
   "metadata": {},
   "outputs": [
    {
     "data": {
      "text/plain": [
       "<matplotlib.axes._subplots.AxesSubplot at 0x117cdb978>"
      ]
     },
     "execution_count": 19,
     "metadata": {},
     "output_type": "execute_result"
    },
    {
     "data": {
      "image/png": "[encoded data removed]",
      "text/plain": [
       "<matplotlib.figure.Figure at 0x1147fd6d8>"
      ]
     },
     "metadata": {},
     "output_type": "display_data"
    }
   ],
   "source": [
    "# Plot the % failures/non-failures by day\n",
    "failure_day = pd.crosstab(index = device_data[\"date\"],\n",
    "                          columns = device_data[\"failure\"],\n",
    "                          margins = True)\n",
    "\n",
    "failure_day.columns = [\"non_failure\", \"failure\", \"total\"]\n",
    "\n",
    "failure_day[:-1].reset_index().plot(x = \"date\", y = \"failure\",\n",
    "                                    figsize = (15, 5),\n",
    "                                    title = \"Number of Failed Devices by Day\")"
   ]
  },
  {
   "cell_type": "code",
   "execution_count": null,
   "metadata": {
    "collapsed": true
   },
   "outputs": [],
   "source": []
  },
  {
   "cell_type": "markdown",
   "metadata": {},
   "source": [
    "I noticed that the devices start with a different letter, which could be a different device type. Some types may have higher failure rates than others, and I'll explore to see if there are different failure rates by device type"
   ]
  },
  {
   "cell_type": "code",
   "execution_count": 20,
   "metadata": {},
   "outputs": [
    {
     "name": "stdout",
     "output_type": "stream",
     "text": [
      "device_type\n",
      "S      0.000766\n",
      "W      0.000971\n",
      "Z      0.000834\n",
      "All    0.000851\n",
      "dtype: float64\n"
     ]
    },
    {
     "data": {
      "text/html": [
       "<div>\n",
       "<table border=\"1\" class=\"dataframe\">\n",
       "  <thead>\n",
       "    <tr style=\"text-align: right;\">\n",
       "      <th></th>\n",
       "      <th>non_failure</th>\n",
       "      <th>failure</th>\n",
       "      <th>total</th>\n",
       "    </tr>\n",
       "    <tr>\n",
       "      <th>device_type</th>\n",
       "      <th></th>\n",
       "      <th></th>\n",
       "      <th></th>\n",
       "    </tr>\n",
       "  </thead>\n",
       "  <tbody>\n",
       "    <tr>\n",
       "      <th>S</th>\n",
       "      <td>54816</td>\n",
       "      <td>42</td>\n",
       "      <td>54858</td>\n",
       "    </tr>\n",
       "    <tr>\n",
       "      <th>W</th>\n",
       "      <td>43226</td>\n",
       "      <td>42</td>\n",
       "      <td>43268</td>\n",
       "    </tr>\n",
       "    <tr>\n",
       "      <th>Z</th>\n",
       "      <td>26346</td>\n",
       "      <td>22</td>\n",
       "      <td>26368</td>\n",
       "    </tr>\n",
       "    <tr>\n",
       "      <th>All</th>\n",
       "      <td>124388</td>\n",
       "      <td>106</td>\n",
       "      <td>124494</td>\n",
       "    </tr>\n",
       "  </tbody>\n",
       "</table>\n",
       "</div>"
      ],
      "text/plain": [
       "             non_failure  failure   total\n",
       "device_type                              \n",
       "S                  54816       42   54858\n",
       "W                  43226       42   43268\n",
       "Z                  26346       22   26368\n",
       "All               124388      106  124494"
      ]
     },
     "execution_count": 20,
     "metadata": {},
     "output_type": "execute_result"
    }
   ],
   "source": [
    "# Distribution of failure/non-failure by device type - are there specific devices that tend to fail more than others?\n",
    "failure_device = pd.crosstab(index = device_data[\"device_type\"],\n",
    "                             columns = device_data[\"failure\"],\n",
    "                             margins = True)\n",
    "failure_device.columns = [\"non_failure\", \"failure\", \"total\"]\n",
    "\n",
    "print (failure_device[\"failure\"] / failure_device[\"total\"])\n",
    "failure_device"
   ]
  },
  {
   "cell_type": "markdown",
   "metadata": {},
   "source": [
    "It looks like the devices that start with the letter W have a slightly higher failure rate (0.000971) compared to the average (0.000851). Although, it is not too different. Nevertheless, I'll use the device type as dummy variables in the models."
   ]
  },
  {
   "cell_type": "code",
   "execution_count": null,
   "metadata": {
    "collapsed": true
   },
   "outputs": [],
   "source": []
  },
  {
   "cell_type": "code",
   "execution_count": 21,
   "metadata": {},
   "outputs": [
    {
     "data": {
      "text/html": [
       "<div>\n",
       "<table border=\"1\" class=\"dataframe\">\n",
       "  <thead>\n",
       "    <tr style=\"text-align: right;\">\n",
       "      <th>failure</th>\n",
       "      <th>0</th>\n",
       "      <th>1</th>\n",
       "      <th>All</th>\n",
       "    </tr>\n",
       "    <tr>\n",
       "      <th>day_of_week</th>\n",
       "      <th></th>\n",
       "      <th></th>\n",
       "      <th></th>\n",
       "    </tr>\n",
       "  </thead>\n",
       "  <tbody>\n",
       "    <tr>\n",
       "      <th>0</th>\n",
       "      <td>17859</td>\n",
       "      <td>27</td>\n",
       "      <td>17886</td>\n",
       "    </tr>\n",
       "    <tr>\n",
       "      <th>1</th>\n",
       "      <td>17516</td>\n",
       "      <td>18</td>\n",
       "      <td>17534</td>\n",
       "    </tr>\n",
       "    <tr>\n",
       "      <th>2</th>\n",
       "      <td>17121</td>\n",
       "      <td>15</td>\n",
       "      <td>17136</td>\n",
       "    </tr>\n",
       "    <tr>\n",
       "      <th>3</th>\n",
       "      <td>18119</td>\n",
       "      <td>22</td>\n",
       "      <td>18141</td>\n",
       "    </tr>\n",
       "    <tr>\n",
       "      <th>4</th>\n",
       "      <td>18029</td>\n",
       "      <td>12</td>\n",
       "      <td>18041</td>\n",
       "    </tr>\n",
       "    <tr>\n",
       "      <th>5</th>\n",
       "      <td>17889</td>\n",
       "      <td>8</td>\n",
       "      <td>17897</td>\n",
       "    </tr>\n",
       "    <tr>\n",
       "      <th>6</th>\n",
       "      <td>17855</td>\n",
       "      <td>4</td>\n",
       "      <td>17859</td>\n",
       "    </tr>\n",
       "    <tr>\n",
       "      <th>All</th>\n",
       "      <td>124388</td>\n",
       "      <td>106</td>\n",
       "      <td>124494</td>\n",
       "    </tr>\n",
       "  </tbody>\n",
       "</table>\n",
       "</div>"
      ],
      "text/plain": [
       "failure           0    1     All\n",
       "day_of_week                     \n",
       "0             17859   27   17886\n",
       "1             17516   18   17534\n",
       "2             17121   15   17136\n",
       "3             18119   22   18141\n",
       "4             18029   12   18041\n",
       "5             17889    8   17897\n",
       "6             17855    4   17859\n",
       "All          124388  106  124494"
      ]
     },
     "execution_count": 21,
     "metadata": {},
     "output_type": "execute_result"
    }
   ],
   "source": [
    "# Are there particular days of the week when a higher percent of devices fail?\n",
    "failure_day_week = pd.crosstab(index = device_data[\"day_of_week\"],\n",
    "                               columns = device_data[\"failure\"],\n",
    "                               margins = True)\n",
    "failure_day_week"
   ]
  },
  {
   "cell_type": "markdown",
   "metadata": {},
   "source": [
    "The devices don't seem to fail much during the weekends, which is interesting. We'll use the day-of-the-week feature as a predictor in the models."
   ]
  },
  {
   "cell_type": "code",
   "execution_count": null,
   "metadata": {
    "collapsed": true
   },
   "outputs": [],
   "source": []
  },
  {
   "cell_type": "code",
   "execution_count": 22,
   "metadata": {
    "collapsed": true
   },
   "outputs": [],
   "source": [
    "# Prepare the data for the models\n",
    "# Drop variables which will not be useful in the models\n",
    "drop_from_analysis = [\"date\", \"device\", \"year\", \"month\", \"device_type\"]\n",
    "analysis_set = device_data.drop(drop_from_analysis, axis = 1)"
   ]
  },
  {
   "cell_type": "code",
   "execution_count": null,
   "metadata": {
    "collapsed": true
   },
   "outputs": [],
   "source": []
  },
  {
   "cell_type": "markdown",
   "metadata": {
    "collapsed": true
   },
   "source": [
    "### Scale the features in the input dataset\n",
    "Some of the features have very large values, compared to the remaining features, which will create a problem unless the features are scaled."
   ]
  },
  {
   "cell_type": "code",
   "execution_count": 23,
   "metadata": {
    "collapsed": true
   },
   "outputs": [],
   "source": [
    "# Scale the features and sample from the scaled features\n",
    "keep_columns = [\"attribute1\", \"attribute2\", \"attribute3\", \"attribute4\", \"attribute5\", \"attribute6\", \"attribute7\", \"attribute9\"]\n",
    "\n",
    "scaler = MinMaxScaler()\n",
    "analysis_set_scaled = pd.DataFrame(scaler.fit_transform(analysis_set[keep_columns]),\n",
    "                                   columns = [(x + \"_s\") for x in keep_columns])\n",
    "\n",
    "analysis_set = pd.concat([analysis_set, analysis_set_scaled], axis = 1, join_axes=[analysis_set.index])"
   ]
  },
  {
   "cell_type": "code",
   "execution_count": null,
   "metadata": {
    "collapsed": true
   },
   "outputs": [],
   "source": []
  },
  {
   "cell_type": "markdown",
   "metadata": {},
   "source": [
    "### Sampling - create training and validation sets for the models\n",
    "Next, we need to create training and validation datasets to use in modeling. The training will be 70% of original and validation the remaining 30%.\n",
    "<p>\n",
    "It is very important that when we create training and validation datasets, the rate of failure in those datasets remains the same as in the full set. If it's not the same as in the original dataset, our accuracy stats on the developed model will be wrong and cannot be trusted.\n",
    "<p>\n",
    "My initial plan for creating train and validation datasets was to use train_test_split() from sklearn. However, I was suspicious that with such a low rate of failure in the input dataset (0.000851), the train_test_split() function will not properly sample the data, and the resulting rates will be different.\n",
    "<p>\n",
    "I created samples with train_test_split(), but the problem is that the sampling process yields train/validation samples with different failure rates - in one of the draws, the training ended up having a failure rate which was about 1.5 times higher than in the original.\n",
    "<p>\n",
    "Therefore, I implemented a controled sampling from the original set.\n",
    "<p>\n",
    "After the sampling, the datasets are split into X and Y sets to use in the models."
   ]
  },
  {
   "cell_type": "code",
   "execution_count": 24,
   "metadata": {},
   "outputs": [
    {
     "name": "stdout",
     "output_type": "stream",
     "text": [
      "Rate of failures in the original set is 0.0008522 \n",
      "Rate of failures in training is 0.0008499\n",
      "Rate of failures in validation is 0.0008575\n"
     ]
    }
   ],
   "source": [
    "# Split the data into training and validation - 70% training and 30% validation\n",
    "\n",
    "sample_size = .7\n",
    "_failure = analysis_set[analysis_set[\"failure\"] == 1]\n",
    "_non_failure = analysis_set[analysis_set[\"failure\"] == 0]\n",
    "\n",
    "# Create the training set - 70% of observations\n",
    "_failure_t = _failure.sample(frac = sample_size,\n",
    "                             replace = False,\n",
    "                             weights = None,\n",
    "                             random_state = 7894)\n",
    "\n",
    "_non_failure_t = _non_failure.sample(frac = sample_size,\n",
    "                                     replace = False,\n",
    "                                     weights = None,\n",
    "                                     random_state = 7894)\n",
    "\n",
    "training_set = pd.concat([_failure_t, _non_failure_t])\n",
    "\n",
    "\n",
    "# Create the validaton sample - drop the rows that were sampled for the training sets - 30% of observations\n",
    "_failure_v = _failure.drop(_failure_t.index.tolist())\n",
    "_non_failure_v = _non_failure.drop(_non_failure_t.index.tolist())\n",
    "\n",
    "validation_set = pd.concat([_failure_v, _non_failure_v])\n",
    "\n",
    "\n",
    "# Check if the % failure and non-failure remains the same in the training and validation as in the original dataset\n",
    "_orig_f = Decimal(len(analysis_set[analysis_set[\"failure\"] == 1])) / len(analysis_set[analysis_set[\"failure\"] == 0])\n",
    "print (\"Rate of failures in the original set is %0.7f \" % _orig_f)\n",
    "\n",
    "_train_f = Decimal(len(training_set[training_set[\"failure\"] == 1])) / len(training_set[training_set[\"failure\"] == 0])\n",
    "print (\"Rate of failures in training is %0.7f\" % _train_f)\n",
    "\n",
    "_validate_f = Decimal(len(validation_set[validation_set[\"failure\"] == 1])) / len(validation_set[validation_set[\"failure\"] == 0])\n",
    "print (\"Rate of failures in validation is %0.7f\" % _validate_f)\n"
   ]
  },
  {
   "cell_type": "markdown",
   "metadata": {},
   "source": [
    "The failure rates are approximately the same in the training and validation sets, and the next step is to create the X and Y sets for the models."
   ]
  },
  {
   "cell_type": "code",
   "execution_count": 25,
   "metadata": {
    "collapsed": true
   },
   "outputs": [],
   "source": [
    "# Create the X and Y sets for the models\n",
    "x_train = training_set.drop(\"failure\", axis = 1)\n",
    "x_validate = validation_set.drop(\"failure\", axis = 1)\n",
    "y_train = training_set[\"failure\"]\n",
    "y_validate = validation_set[\"failure\"]"
   ]
  },
  {
   "cell_type": "code",
   "execution_count": null,
   "metadata": {
    "collapsed": true
   },
   "outputs": [],
   "source": []
  },
  {
   "cell_type": "code",
   "execution_count": 26,
   "metadata": {},
   "outputs": [
    {
     "data": {
      "text/plain": [
       "1    87072\n",
       "0    87072\n",
       "dtype: int64"
      ]
     },
     "execution_count": 26,
     "metadata": {},
     "output_type": "execute_result"
    }
   ],
   "source": [
    "# Use Synthetic Minority Oversampling (SMOTE) to balance the datasets\n",
    "sm_params = {\"ratio\": \"minority\",\n",
    "             \"random_state\": 7894}\n",
    "\n",
    "sm = SMOTE(**sm_params)\n",
    "_x_train, _y_train = sm.fit_sample(x_train, y_train)\n",
    "\n",
    "x_train_w = pd.DataFrame(_x_train,\n",
    "                         columns = list(x_train.columns))\n",
    "y_train_w = pd.Series(_y_train)\n",
    "\n",
    "# Check the counts - should have the same counts of failures and non-failures\n",
    "y_train_w.value_counts()"
   ]
  },
  {
   "cell_type": "code",
   "execution_count": 27,
   "metadata": {
    "collapsed": true
   },
   "outputs": [],
   "source": [
    "# Create training/validation sets for the feature reduction and a separate ones for the training of models\n",
    "x_train = x_train_vs = x_train_w\n",
    "y_train = y_train_w"
   ]
  },
  {
   "cell_type": "code",
   "execution_count": null,
   "metadata": {
    "collapsed": true
   },
   "outputs": [],
   "source": []
  },
  {
   "cell_type": "markdown",
   "metadata": {},
   "source": [
    "### Variable selection\n",
    "The next step in the model development process is to find the features that are most predictive for the outcome. I'll use recursive feature elimination and Random Forest for finding the features that are important."
   ]
  },
  {
   "cell_type": "code",
   "execution_count": 28,
   "metadata": {},
   "outputs": [
    {
     "data": {
      "text/plain": [
       "[('attribute1', False, 13),\n",
       " ('attribute2', False, 7),\n",
       " ('attribute3', False, 4),\n",
       " ('attribute4', True, 1),\n",
       " ('attribute5', False, 2),\n",
       " ('attribute6', False, 9),\n",
       " ('attribute7', True, 1),\n",
       " ('attribute9', False, 3),\n",
       " ('attribute1_log', True, 1),\n",
       " ('attribute6_log', True, 1),\n",
       " ('attribute1_dummy', True, 1),\n",
       " ('attribute2_dummy', True, 1),\n",
       " ('attribute3_dummy', True, 1),\n",
       " ('attribute4_dummy', True, 1),\n",
       " ('attribute7_dummy', True, 1),\n",
       " ('attribute9_dummy', True, 1),\n",
       " ('day_of_week', True, 1),\n",
       " ('device_type_s', True, 1),\n",
       " ('device_type_w', True, 1),\n",
       " ('device_type_z', True, 1),\n",
       " ('attribute1_s', False, 15),\n",
       " ('attribute2_s', False, 12),\n",
       " ('attribute3_s', False, 11),\n",
       " ('attribute4_s', False, 8),\n",
       " ('attribute5_s', False, 5),\n",
       " ('attribute6_s', False, 14),\n",
       " ('attribute7_s', False, 6),\n",
       " ('attribute9_s', False, 10)]"
      ]
     },
     "execution_count": 28,
     "metadata": {},
     "output_type": "execute_result"
    }
   ],
   "source": [
    "# 1) Variable selection with Recursive Feature Elimination\n",
    "vs_rfe = RFE(LogisticRegression())\n",
    "vs_rfe.fit(x_train_vs, y_train)\n",
    "list(zip(x_train_vs, vs_rfe.support_, vs_rfe.ranking_))"
   ]
  },
  {
   "cell_type": "markdown",
   "metadata": {},
   "source": [
    "It appears that the recursive feature elimination suggests that we don't use in the model any of the dummies, except for the dummy for attribute1, and we shouldn't use the indicator for the type of device (s, w, z).\n",
    "<p>\n",
    "Let's start with a decision tree algorithm and see which variable are good predictors. I'll build a decision tree to understand if there are any features from which we need to create categories."
   ]
  },
  {
   "cell_type": "code",
   "execution_count": 29,
   "metadata": {},
   "outputs": [
    {
     "data": {
      "image/svg+xml": [
       "<?xml version=\"1.0\" encoding=\"UTF-8\" standalone=\"no\"?>\n",
       "<!DOCTYPE svg PUBLIC \"-//W3C//DTD SVG 1.1//EN\"\n",
       " \"http://www.w3.org/Graphics/SVG/1.1/DTD/svg11.dtd\">\n",
       "<!-- Generated by graphviz version 2.38.0 (20140413.2041)\n",
       " -->\n",
       "<!-- Title: Tree Pages: 1 -->\n",
       "<svg width=\"1194pt\" height=\"358pt\"\n",
       " viewBox=\"0.00 0.00 1194.49 358.00\" xmlns=\"http://www.w3.org/2000/svg\" xmlns:xlink=\"http://www.w3.org/1999/xlink\">\n",
       "<g id=\"graph0\" class=\"graph\" transform=\"scale(1 1) rotate(0) translate(4 354)\">\n",
       "<title>Tree</title>\n",
       "<polygon fill=\"white\" stroke=\"none\" points=\"-4,4 -4,-354 1190.49,-354 1190.49,4 -4,4\"/>\n",
       "<!-- 0 -->\n",
       "<g id=\"node1\" class=\"node\"><title>0</title>\n",
       "<path fill=\"none\" stroke=\"black\" d=\"M675.008,-350C675.008,-350 536.049,-350 536.049,-350 530.049,-350 524.049,-344 524.049,-338 524.049,-338 524.049,-298 524.049,-298 524.049,-292 530.049,-286 536.049,-286 536.049,-286 675.008,-286 675.008,-286 681.008,-286 687.008,-292 687.008,-298 687.008,-298 687.008,-338 687.008,-338 687.008,-344 681.008,-350 675.008,-350\"/>\n",
       "<text text-anchor=\"start\" x=\"532.039\" y=\"-334.8\" font-family=\"Helvetica,sans-Serif\" font-size=\"14.00\">attribute4_dummy ≤ 0.0</text>\n",
       "<text text-anchor=\"start\" x=\"576.924\" y=\"-320.8\" font-family=\"Helvetica,sans-Serif\" font-size=\"14.00\">gini = 0.5</text>\n",
       "<text text-anchor=\"start\" x=\"548.127\" y=\"-306.8\" font-family=\"Helvetica,sans-Serif\" font-size=\"14.00\">samples = 174144</text>\n",
       "<text text-anchor=\"start\" x=\"534.107\" y=\"-292.8\" font-family=\"Helvetica,sans-Serif\" font-size=\"14.00\">value = [87072, 87072]</text>\n",
       "</g>\n",
       "<!-- 1 -->\n",
       "<g id=\"node2\" class=\"node\"><title>1</title>\n",
       "<path fill=\"#e58139\" fill-opacity=\"0.827451\" stroke=\"black\" d=\"M564.008,-250C564.008,-250 425.049,-250 425.049,-250 419.049,-250 413.049,-244 413.049,-238 413.049,-238 413.049,-198 413.049,-198 413.049,-192 419.049,-186 425.049,-186 425.049,-186 564.008,-186 564.008,-186 570.008,-186 576.008,-192 576.008,-198 576.008,-198 576.008,-238 576.008,-238 576.008,-244 570.008,-250 564.008,-250\"/>\n",
       "<text text-anchor=\"start\" x=\"421.039\" y=\"-234.8\" font-family=\"Helvetica,sans-Serif\" font-size=\"14.00\">attribute7_dummy ≤ 0.0</text>\n",
       "<text text-anchor=\"start\" x=\"458.138\" y=\"-220.8\" font-family=\"Helvetica,sans-Serif\" font-size=\"14.00\">gini = 0.249</text>\n",
       "<text text-anchor=\"start\" x=\"441.021\" y=\"-206.8\" font-family=\"Helvetica,sans-Serif\" font-size=\"14.00\">samples = 94406</text>\n",
       "<text text-anchor=\"start\" x=\"423.107\" y=\"-192.8\" font-family=\"Helvetica,sans-Serif\" font-size=\"14.00\">value = [80623, 13783]</text>\n",
       "</g>\n",
       "<!-- 0&#45;&gt;1 -->\n",
       "<g id=\"edge1\" class=\"edge\"><title>0&#45;&gt;1</title>\n",
       "<path fill=\"none\" stroke=\"black\" d=\"M570.408,-285.992C559.981,-276.787 548.441,-266.598 537.572,-257.002\"/>\n",
       "<polygon fill=\"black\" stroke=\"black\" points=\"539.615,-254.137 529.802,-250.142 534.982,-259.385 539.615,-254.137\"/>\n",
       "<text text-anchor=\"middle\" x=\"531.354\" y=\"-270.894\" font-family=\"Helvetica,sans-Serif\" font-size=\"14.00\">True</text>\n",
       "</g>\n",
       "<!-- 8 -->\n",
       "<g id=\"node9\" class=\"node\"><title>8</title>\n",
       "<path fill=\"#399de5\" fill-opacity=\"0.913725\" stroke=\"black\" d=\"M780.086,-250C780.086,-250 652.971,-250 652.971,-250 646.971,-250 640.971,-244 640.971,-238 640.971,-238 640.971,-198 640.971,-198 640.971,-192 646.971,-186 652.971,-186 652.971,-186 780.086,-186 780.086,-186 786.086,-186 792.086,-192 792.086,-198 792.086,-198 792.086,-238 792.086,-238 792.086,-244 786.086,-250 780.086,-250\"/>\n",
       "<text text-anchor=\"start\" x=\"657.815\" y=\"-234.8\" font-family=\"Helvetica,sans-Serif\" font-size=\"14.00\">day_of_week ≤ 5.0</text>\n",
       "<text text-anchor=\"start\" x=\"680.138\" y=\"-220.8\" font-family=\"Helvetica,sans-Serif\" font-size=\"14.00\">gini = 0.149</text>\n",
       "<text text-anchor=\"start\" x=\"663.021\" y=\"-206.8\" font-family=\"Helvetica,sans-Serif\" font-size=\"14.00\">samples = 79738</text>\n",
       "<text text-anchor=\"start\" x=\"649\" y=\"-192.8\" font-family=\"Helvetica,sans-Serif\" font-size=\"14.00\">value = [6449, 73289]</text>\n",
       "</g>\n",
       "<!-- 0&#45;&gt;8 -->\n",
       "<g id=\"edge8\" class=\"edge\"><title>0&#45;&gt;8</title>\n",
       "<path fill=\"none\" stroke=\"black\" d=\"M640.65,-285.992C651.076,-276.787 662.617,-266.598 673.485,-257.002\"/>\n",
       "<polygon fill=\"black\" stroke=\"black\" points=\"676.075,-259.385 681.255,-250.142 671.442,-254.137 676.075,-259.385\"/>\n",
       "<text text-anchor=\"middle\" x=\"679.703\" y=\"-270.894\" font-family=\"Helvetica,sans-Serif\" font-size=\"14.00\">False</text>\n",
       "</g>\n",
       "<!-- 2 -->\n",
       "<g id=\"node3\" class=\"node\"><title>2</title>\n",
       "<path fill=\"#e58139\" fill-opacity=\"0.917647\" stroke=\"black\" d=\"M304.086,-150C304.086,-150 176.971,-150 176.971,-150 170.971,-150 164.971,-144 164.971,-138 164.971,-138 164.971,-98 164.971,-98 164.971,-92 170.971,-86 176.971,-86 176.971,-86 304.086,-86 304.086,-86 310.086,-86 316.086,-92 316.086,-98 316.086,-98 316.086,-138 316.086,-138 316.086,-144 310.086,-150 304.086,-150\"/>\n",
       "<text text-anchor=\"start\" x=\"186.094\" y=\"-134.8\" font-family=\"Helvetica,sans-Serif\" font-size=\"14.00\">attribute2 ≤ 0.038</text>\n",
       "<text text-anchor=\"start\" x=\"204.138\" y=\"-120.8\" font-family=\"Helvetica,sans-Serif\" font-size=\"14.00\">gini = 0.143</text>\n",
       "<text text-anchor=\"start\" x=\"187.021\" y=\"-106.8\" font-family=\"Helvetica,sans-Serif\" font-size=\"14.00\">samples = 86794</text>\n",
       "<text text-anchor=\"start\" x=\"173\" y=\"-92.8\" font-family=\"Helvetica,sans-Serif\" font-size=\"14.00\">value = [80073, 6721]</text>\n",
       "</g>\n",
       "<!-- 1&#45;&gt;2 -->\n",
       "<g id=\"edge2\" class=\"edge\"><title>1&#45;&gt;2</title>\n",
       "<path fill=\"none\" stroke=\"black\" d=\"M414.162,-185.992C386.087,-175.16 354.482,-162.966 326.006,-151.98\"/>\n",
       "<polygon fill=\"black\" stroke=\"black\" points=\"327.069,-148.638 316.479,-148.304 324.549,-155.169 327.069,-148.638\"/>\n",
       "</g>\n",
       "<!-- 5 -->\n",
       "<g id=\"node6\" class=\"node\"><title>5</title>\n",
       "<path fill=\"#399de5\" fill-opacity=\"0.921569\" stroke=\"black\" d=\"M564.008,-150C564.008,-150 425.049,-150 425.049,-150 419.049,-150 413.049,-144 413.049,-138 413.049,-138 413.049,-98 413.049,-98 413.049,-92 419.049,-86 425.049,-86 425.049,-86 564.008,-86 564.008,-86 570.008,-86 576.008,-92 576.008,-98 576.008,-98 576.008,-138 576.008,-138 576.008,-144 570.008,-150 564.008,-150\"/>\n",
       "<text text-anchor=\"start\" x=\"421.039\" y=\"-134.8\" font-family=\"Helvetica,sans-Serif\" font-size=\"14.00\">attribute7_dummy ≤ 1.0</text>\n",
       "<text text-anchor=\"start\" x=\"458.138\" y=\"-120.8\" font-family=\"Helvetica,sans-Serif\" font-size=\"14.00\">gini = 0.134</text>\n",
       "<text text-anchor=\"start\" x=\"444.914\" y=\"-106.8\" font-family=\"Helvetica,sans-Serif\" font-size=\"14.00\">samples = 7612</text>\n",
       "<text text-anchor=\"start\" x=\"434.786\" y=\"-92.8\" font-family=\"Helvetica,sans-Serif\" font-size=\"14.00\">value = [550, 7062]</text>\n",
       "</g>\n",
       "<!-- 1&#45;&gt;5 -->\n",
       "<g id=\"edge5\" class=\"edge\"><title>1&#45;&gt;5</title>\n",
       "<path fill=\"none\" stroke=\"black\" d=\"M494.529,-185.992C494.529,-177.859 494.529,-168.959 494.529,-160.378\"/>\n",
       "<polygon fill=\"black\" stroke=\"black\" points=\"498.029,-160.142 494.529,-150.142 491.029,-160.142 498.029,-160.142\"/>\n",
       "</g>\n",
       "<!-- 3 -->\n",
       "<g id=\"node4\" class=\"node\"><title>3</title>\n",
       "<path fill=\"#e58139\" fill-opacity=\"0.960784\" stroke=\"black\" d=\"M139.086,-50C139.086,-50 11.9712,-50 11.9712,-50 5.97118,-50 -0.0288196,-44 -0.0288196,-38 -0.0288196,-38 -0.0288196,-12 -0.0288196,-12 -0.0288196,-6 5.97118,-0 11.9712,-0 11.9712,-0 139.086,-0 139.086,-0 145.086,-0 151.086,-6 151.086,-12 151.086,-12 151.086,-38 151.086,-38 151.086,-44 145.086,-50 139.086,-50\"/>\n",
       "<text text-anchor=\"start\" x=\"39.1377\" y=\"-34.8\" font-family=\"Helvetica,sans-Serif\" font-size=\"14.00\">gini = 0.071</text>\n",
       "<text text-anchor=\"start\" x=\"22.0205\" y=\"-20.8\" font-family=\"Helvetica,sans-Serif\" font-size=\"14.00\">samples = 80135</text>\n",
       "<text text-anchor=\"start\" x=\"8\" y=\"-6.8\" font-family=\"Helvetica,sans-Serif\" font-size=\"14.00\">value = [77175, 2960]</text>\n",
       "</g>\n",
       "<!-- 2&#45;&gt;3 -->\n",
       "<g id=\"edge3\" class=\"edge\"><title>2&#45;&gt;3</title>\n",
       "<path fill=\"none\" stroke=\"black\" d=\"M184.207,-85.9375C166.081,-75.9407 146.074,-64.9066 128.219,-55.0595\"/>\n",
       "<polygon fill=\"black\" stroke=\"black\" points=\"129.547,-51.7947 119.1,-50.0301 126.166,-57.9243 129.547,-51.7947\"/>\n",
       "</g>\n",
       "<!-- 4 -->\n",
       "<g id=\"node5\" class=\"node\"><title>4</title>\n",
       "<path fill=\"#399de5\" fill-opacity=\"0.231373\" stroke=\"black\" d=\"M300.301,-50C300.301,-50 180.757,-50 180.757,-50 174.757,-50 168.757,-44 168.757,-38 168.757,-38 168.757,-12 168.757,-12 168.757,-6 174.757,-0 180.757,-0 180.757,-0 300.301,-0 300.301,-0 306.301,-0 312.301,-6 312.301,-12 312.301,-12 312.301,-38 312.301,-38 312.301,-44 306.301,-50 300.301,-50\"/>\n",
       "<text text-anchor=\"start\" x=\"204.138\" y=\"-34.8\" font-family=\"Helvetica,sans-Serif\" font-size=\"14.00\">gini = 0.492</text>\n",
       "<text text-anchor=\"start\" x=\"190.914\" y=\"-20.8\" font-family=\"Helvetica,sans-Serif\" font-size=\"14.00\">samples = 6659</text>\n",
       "<text text-anchor=\"start\" x=\"176.893\" y=\"-6.8\" font-family=\"Helvetica,sans-Serif\" font-size=\"14.00\">value = [2898, 3761]</text>\n",
       "</g>\n",
       "<!-- 2&#45;&gt;4 -->\n",
       "<g id=\"edge4\" class=\"edge\"><title>2&#45;&gt;4</title>\n",
       "<path fill=\"none\" stroke=\"black\" d=\"M240.529,-85.9375C240.529,-77.6833 240.529,-68.7219 240.529,-60.3053\"/>\n",
       "<polygon fill=\"black\" stroke=\"black\" points=\"244.029,-60.03 240.529,-50.0301 237.029,-60.0301 244.029,-60.03\"/>\n",
       "</g>\n",
       "<!-- 6 -->\n",
       "<g id=\"node7\" class=\"node\"><title>6</title>\n",
       "<path fill=\"#399de5\" stroke=\"black\" d=\"M438.442,-50C438.442,-50 342.616,-50 342.616,-50 336.616,-50 330.616,-44 330.616,-38 330.616,-38 330.616,-12 330.616,-12 330.616,-6 336.616,-0 342.616,-0 342.616,-0 438.442,-0 438.442,-0 444.442,-0 450.442,-6 450.442,-12 450.442,-12 450.442,-38 450.442,-38 450.442,-44 444.442,-50 438.442,-50\"/>\n",
       "<text text-anchor=\"start\" x=\"361.924\" y=\"-34.8\" font-family=\"Helvetica,sans-Serif\" font-size=\"14.00\">gini = 0.0</text>\n",
       "<text text-anchor=\"start\" x=\"340.914\" y=\"-20.8\" font-family=\"Helvetica,sans-Serif\" font-size=\"14.00\">samples = 6541</text>\n",
       "<text text-anchor=\"start\" x=\"338.572\" y=\"-6.8\" font-family=\"Helvetica,sans-Serif\" font-size=\"14.00\">value = [0, 6541]</text>\n",
       "</g>\n",
       "<!-- 5&#45;&gt;6 -->\n",
       "<g id=\"edge6\" class=\"edge\"><title>5&#45;&gt;6</title>\n",
       "<path fill=\"none\" stroke=\"black\" d=\"M459.029,-85.9375C448.233,-76.491 436.378,-66.1182 425.61,-56.6961\"/>\n",
       "<polygon fill=\"black\" stroke=\"black\" points=\"427.822,-53.9811 417.992,-50.0301 423.213,-59.2492 427.822,-53.9811\"/>\n",
       "</g>\n",
       "<!-- 7 -->\n",
       "<g id=\"node8\" class=\"node\"><title>7</title>\n",
       "<path fill=\"#e58139\" fill-opacity=\"0.050980\" stroke=\"black\" d=\"M584.228,-50C584.228,-50 480.829,-50 480.829,-50 474.829,-50 468.829,-44 468.829,-38 468.829,-38 468.829,-12 468.829,-12 468.829,-6 474.829,-0 480.829,-0 480.829,-0 584.228,-0 584.228,-0 590.228,-0 596.228,-6 596.228,-12 596.228,-12 596.228,-38 596.228,-38 596.228,-44 590.228,-50 584.228,-50\"/>\n",
       "<text text-anchor=\"start\" x=\"503.924\" y=\"-34.8\" font-family=\"Helvetica,sans-Serif\" font-size=\"14.00\">gini = 0.5</text>\n",
       "<text text-anchor=\"start\" x=\"482.914\" y=\"-20.8\" font-family=\"Helvetica,sans-Serif\" font-size=\"14.00\">samples = 1071</text>\n",
       "<text text-anchor=\"start\" x=\"476.679\" y=\"-6.8\" font-family=\"Helvetica,sans-Serif\" font-size=\"14.00\">value = [550, 521]</text>\n",
       "</g>\n",
       "<!-- 5&#45;&gt;7 -->\n",
       "<g id=\"edge7\" class=\"edge\"><title>5&#45;&gt;7</title>\n",
       "<path fill=\"none\" stroke=\"black\" d=\"M507.5,-85.9375C511.062,-77.4081 514.939,-68.1236 518.554,-59.4655\"/>\n",
       "<polygon fill=\"black\" stroke=\"black\" points=\"521.871,-60.6065 522.494,-50.0301 515.411,-57.9092 521.871,-60.6065\"/>\n",
       "</g>\n",
       "<!-- 9 -->\n",
       "<g id=\"node10\" class=\"node\"><title>9</title>\n",
       "<path fill=\"#399de5\" fill-opacity=\"0.937255\" stroke=\"black\" d=\"M786.008,-150C786.008,-150 647.049,-150 647.049,-150 641.049,-150 635.049,-144 635.049,-138 635.049,-138 635.049,-98 635.049,-98 635.049,-92 641.049,-86 647.049,-86 647.049,-86 786.008,-86 786.008,-86 792.008,-86 798.008,-92 798.008,-98 798.008,-98 798.008,-138 798.008,-138 798.008,-144 792.008,-150 786.008,-150\"/>\n",
       "<text text-anchor=\"start\" x=\"643.039\" y=\"-134.8\" font-family=\"Helvetica,sans-Serif\" font-size=\"14.00\">attribute4_dummy ≤ 1.0</text>\n",
       "<text text-anchor=\"start\" x=\"680.654\" y=\"-120.8\" font-family=\"Helvetica,sans-Serif\" font-size=\"14.00\">gini = 0.112</text>\n",
       "<text text-anchor=\"start\" x=\"663.021\" y=\"-106.8\" font-family=\"Helvetica,sans-Serif\" font-size=\"14.00\">samples = 76495</text>\n",
       "<text text-anchor=\"start\" x=\"649\" y=\"-92.8\" font-family=\"Helvetica,sans-Serif\" font-size=\"14.00\">value = [4576, 71919]</text>\n",
       "</g>\n",
       "<!-- 8&#45;&gt;9 -->\n",
       "<g id=\"edge9\" class=\"edge\"><title>8&#45;&gt;9</title>\n",
       "<path fill=\"none\" stroke=\"black\" d=\"M716.529,-185.992C716.529,-177.859 716.529,-168.959 716.529,-160.378\"/>\n",
       "<polygon fill=\"black\" stroke=\"black\" points=\"720.029,-160.142 716.529,-150.142 713.029,-160.142 720.029,-160.142\"/>\n",
       "</g>\n",
       "<!-- 12 -->\n",
       "<g id=\"node13\" class=\"node\"><title>12</title>\n",
       "<path fill=\"#e58139\" fill-opacity=\"0.266667\" stroke=\"black\" d=\"M1058.01,-150C1058.01,-150 919.049,-150 919.049,-150 913.049,-150 907.049,-144 907.049,-138 907.049,-138 907.049,-98 907.049,-98 907.049,-92 913.049,-86 919.049,-86 919.049,-86 1058.01,-86 1058.01,-86 1064.01,-86 1070.01,-92 1070.01,-98 1070.01,-98 1070.01,-138 1070.01,-138 1070.01,-144 1064.01,-150 1058.01,-150\"/>\n",
       "<text text-anchor=\"start\" x=\"915.039\" y=\"-134.8\" font-family=\"Helvetica,sans-Serif\" font-size=\"14.00\">attribute4_dummy ≤ 1.0</text>\n",
       "<text text-anchor=\"start\" x=\"952.138\" y=\"-120.8\" font-family=\"Helvetica,sans-Serif\" font-size=\"14.00\">gini = 0.488</text>\n",
       "<text text-anchor=\"start\" x=\"938.914\" y=\"-106.8\" font-family=\"Helvetica,sans-Serif\" font-size=\"14.00\">samples = 3243</text>\n",
       "<text text-anchor=\"start\" x=\"924.893\" y=\"-92.8\" font-family=\"Helvetica,sans-Serif\" font-size=\"14.00\">value = [1873, 1370]</text>\n",
       "</g>\n",
       "<!-- 8&#45;&gt;12 -->\n",
       "<g id=\"edge12\" class=\"edge\"><title>8&#45;&gt;12</title>\n",
       "<path fill=\"none\" stroke=\"black\" d=\"M792.296,-189.702C824.912,-177.95 863.321,-164.112 897.47,-151.808\"/>\n",
       "<polygon fill=\"black\" stroke=\"black\" points=\"898.759,-155.064 906.98,-148.381 896.386,-148.478 898.759,-155.064\"/>\n",
       "</g>\n",
       "<!-- 10 -->\n",
       "<g id=\"node11\" class=\"node\"><title>10</title>\n",
       "<path fill=\"#399de5\" stroke=\"black\" d=\"M730.228,-50C730.228,-50 626.829,-50 626.829,-50 620.829,-50 614.829,-44 614.829,-38 614.829,-38 614.829,-12 614.829,-12 614.829,-6 620.829,-0 626.829,-0 626.829,-0 730.228,-0 730.228,-0 736.228,-0 742.228,-6 742.228,-12 742.228,-12 742.228,-38 742.228,-38 742.228,-44 736.228,-50 730.228,-50\"/>\n",
       "<text text-anchor=\"start\" x=\"649.924\" y=\"-34.8\" font-family=\"Helvetica,sans-Serif\" font-size=\"14.00\">gini = 0.0</text>\n",
       "<text text-anchor=\"start\" x=\"625.021\" y=\"-20.8\" font-family=\"Helvetica,sans-Serif\" font-size=\"14.00\">samples = 46084</text>\n",
       "<text text-anchor=\"start\" x=\"622.679\" y=\"-6.8\" font-family=\"Helvetica,sans-Serif\" font-size=\"14.00\">value = [0, 46084]</text>\n",
       "</g>\n",
       "<!-- 9&#45;&gt;10 -->\n",
       "<g id=\"edge10\" class=\"edge\"><title>9&#45;&gt;10</title>\n",
       "<path fill=\"none\" stroke=\"black\" d=\"M703.558,-85.9375C699.996,-77.4081 696.119,-68.1236 692.503,-59.4655\"/>\n",
       "<polygon fill=\"black\" stroke=\"black\" points=\"695.646,-57.9092 688.563,-50.0301 689.187,-60.6065 695.646,-57.9092\"/>\n",
       "</g>\n",
       "<!-- 11 -->\n",
       "<g id=\"node12\" class=\"node\"><title>11</title>\n",
       "<path fill=\"#399de5\" fill-opacity=\"0.823529\" stroke=\"black\" d=\"M899.086,-50C899.086,-50 771.971,-50 771.971,-50 765.971,-50 759.971,-44 759.971,-38 759.971,-38 759.971,-12 759.971,-12 759.971,-6 765.971,-0 771.971,-0 771.971,-0 899.086,-0 899.086,-0 905.086,-0 911.086,-6 911.086,-12 911.086,-12 911.086,-38 911.086,-38 911.086,-44 905.086,-50 899.086,-50\"/>\n",
       "<text text-anchor=\"start\" x=\"799.138\" y=\"-34.8\" font-family=\"Helvetica,sans-Serif\" font-size=\"14.00\">gini = 0.256</text>\n",
       "<text text-anchor=\"start\" x=\"782.537\" y=\"-20.8\" font-family=\"Helvetica,sans-Serif\" font-size=\"14.00\">samples = 30411</text>\n",
       "<text text-anchor=\"start\" x=\"768\" y=\"-6.8\" font-family=\"Helvetica,sans-Serif\" font-size=\"14.00\">value = [4576, 25835]</text>\n",
       "</g>\n",
       "<!-- 9&#45;&gt;11 -->\n",
       "<g id=\"edge11\" class=\"edge\"><title>9&#45;&gt;11</title>\n",
       "<path fill=\"none\" stroke=\"black\" d=\"M757.149,-85.9375C769.742,-76.3076 783.594,-65.7151 796.104,-56.1483\"/>\n",
       "<polygon fill=\"black\" stroke=\"black\" points=\"798.287,-58.8849 804.105,-50.0301 794.035,-53.3244 798.287,-58.8849\"/>\n",
       "</g>\n",
       "<!-- 13 -->\n",
       "<g id=\"node14\" class=\"node\"><title>13</title>\n",
       "<path fill=\"#399de5\" stroke=\"black\" d=\"M1036.44,-50C1036.44,-50 940.616,-50 940.616,-50 934.616,-50 928.616,-44 928.616,-38 928.616,-38 928.616,-12 928.616,-12 928.616,-6 934.616,-0 940.616,-0 940.616,-0 1036.44,-0 1036.44,-0 1042.44,-0 1048.44,-6 1048.44,-12 1048.44,-12 1048.44,-38 1048.44,-38 1048.44,-44 1042.44,-50 1036.44,-50\"/>\n",
       "<text text-anchor=\"start\" x=\"959.924\" y=\"-34.8\" font-family=\"Helvetica,sans-Serif\" font-size=\"14.00\">gini = 0.0</text>\n",
       "<text text-anchor=\"start\" x=\"938.914\" y=\"-20.8\" font-family=\"Helvetica,sans-Serif\" font-size=\"14.00\">samples = 1367</text>\n",
       "<text text-anchor=\"start\" x=\"936.572\" y=\"-6.8\" font-family=\"Helvetica,sans-Serif\" font-size=\"14.00\">value = [0, 1367]</text>\n",
       "</g>\n",
       "<!-- 12&#45;&gt;13 -->\n",
       "<g id=\"edge13\" class=\"edge\"><title>12&#45;&gt;13</title>\n",
       "<path fill=\"none\" stroke=\"black\" d=\"M988.529,-85.9375C988.529,-77.6833 988.529,-68.7219 988.529,-60.3053\"/>\n",
       "<polygon fill=\"black\" stroke=\"black\" points=\"992.029,-60.03 988.529,-50.0301 985.029,-60.0301 992.029,-60.03\"/>\n",
       "</g>\n",
       "<!-- 14 -->\n",
       "<g id=\"node15\" class=\"node\"><title>14</title>\n",
       "<path fill=\"#e58139\" stroke=\"black\" d=\"M1174.44,-50C1174.44,-50 1078.62,-50 1078.62,-50 1072.62,-50 1066.62,-44 1066.62,-38 1066.62,-38 1066.62,-12 1066.62,-12 1066.62,-6 1072.62,-0 1078.62,-0 1078.62,-0 1174.44,-0 1174.44,-0 1180.44,-0 1186.44,-6 1186.44,-12 1186.44,-12 1186.44,-38 1186.44,-38 1186.44,-44 1180.44,-50 1174.44,-50\"/>\n",
       "<text text-anchor=\"start\" x=\"1090.14\" y=\"-34.8\" font-family=\"Helvetica,sans-Serif\" font-size=\"14.00\">gini = 0.003</text>\n",
       "<text text-anchor=\"start\" x=\"1076.91\" y=\"-20.8\" font-family=\"Helvetica,sans-Serif\" font-size=\"14.00\">samples = 1876</text>\n",
       "<text text-anchor=\"start\" x=\"1074.57\" y=\"-6.8\" font-family=\"Helvetica,sans-Serif\" font-size=\"14.00\">value = [1873, 3]</text>\n",
       "</g>\n",
       "<!-- 12&#45;&gt;14 -->\n",
       "<g id=\"edge14\" class=\"edge\"><title>12&#45;&gt;14</title>\n",
       "<path fill=\"none\" stroke=\"black\" d=\"M1035.63,-85.9375C1050.52,-76.1241 1066.91,-65.3112 1081.64,-55.6027\"/>\n",
       "<polygon fill=\"black\" stroke=\"black\" points=\"1083.67,-58.4571 1090.09,-50.0301 1079.81,-52.6133 1083.67,-58.4571\"/>\n",
       "</g>\n",
       "</g>\n",
       "</svg>\n"
      ],
      "text/plain": [
       "<graphviz.files.Source at 0x103cd52b0>"
      ]
     },
     "execution_count": 29,
     "metadata": {},
     "output_type": "execute_result"
    }
   ],
   "source": [
    "# Specify the decision tree model and fit\n",
    "dt_params = {\"criterion\": \"gini\",    \n",
    "             \"random_state\": 0,\n",
    "             \"max_depth\": 3,\n",
    "             \"min_samples_split\": 20}\n",
    "\n",
    "vs_model_dt = DecisionTreeClassifier(**dt_params)\n",
    "vs_model_dt.fit(x_train, y_train)\n",
    "\n",
    "# Visualize the decision tree\n",
    "# Export the data from the decision tree as a DOT object\n",
    "dt_viz = export_graphviz(vs_model_dt,\n",
    "                         out_file = None,\n",
    "                         feature_names = list(x_train),\n",
    "                         filled = True, rounded = True,\n",
    "                         special_characters = True)\n",
    "\n",
    "\n",
    "# Plot the tree and explore which features split the tree\n",
    "graphviz.Source(dt_viz)"
   ]
  },
  {
   "cell_type": "code",
   "execution_count": null,
   "metadata": {
    "collapsed": true
   },
   "outputs": [],
   "source": []
  },
  {
   "cell_type": "markdown",
   "metadata": {},
   "source": [
    "Let's see what Random Forest suggests as important variables."
   ]
  },
  {
   "cell_type": "code",
   "execution_count": 30,
   "metadata": {},
   "outputs": [
    {
     "data": {
      "image/png": "[encoded data removed]",
      "text/plain": [
       "<matplotlib.figure.Figure at 0x112573f60>"
      ]
     },
     "metadata": {},
     "output_type": "display_data"
    }
   ],
   "source": [
    "# 2) Variable selection using the feature importance from Random Forest\n",
    "# At this step Random Forest is used only as a feature selection method. I'll obtain the feature importance from RF\n",
    "# At a later stage, I'll also use Random Forest as a classification model\n",
    "\n",
    "rf_vs_params = {\"n_estimators\": 1000,             # From prior experience I've noticed that a few hundred trees are usually enough for small datasets\n",
    "                \"random_state\": 0,\n",
    "                \"max_depth\": 3                  # We don't have much observations, so that's why I set max tree depth to 3\n",
    "                #,\"class_weight\": \"balanced\"      # Note needed when the dataset has been balanced with SMOTE\n",
    "               }\n",
    "\n",
    "model_rf_vs = RandomForestClassifier(**rf_vs_params)\n",
    "model_rf_vs.fit(x_train_vs, y_train)\n",
    "\n",
    "# Plot the feature importance values\n",
    "def plotFeatureImportance(model, x_data):\n",
    "    plt.figure(figsize = (8, 7))\n",
    "    num_features = len(list(x_data.columns))\n",
    "    plt.barh(range(num_features), model.feature_importances_)\n",
    "    plt.yticks(np.arange(num_features), list(x_data.columns))\n",
    "    plt.xlabel(\"Variables importance\")\n",
    "    plt.ylabel(\"Variables names\")\n",
    "    \n",
    "plotFeatureImportance(model_rf_vs, x_train_vs)"
   ]
  },
  {
   "cell_type": "code",
   "execution_count": null,
   "metadata": {
    "collapsed": true
   },
   "outputs": [],
   "source": []
  },
  {
   "cell_type": "markdown",
   "metadata": {},
   "source": [
    "Based on the variable importance plot, I'll drop certain features, and will re-run the Random Forest selection."
   ]
  },
  {
   "cell_type": "code",
   "execution_count": null,
   "metadata": {
    "collapsed": true
   },
   "outputs": [],
   "source": [
    "# Drop weak variables\n",
    "drop_col = [\"attribute1\", \"attribute3\", \"attribute5\", \"attribute6\", \"attribute9\", \"attribute1_log\", \"attribute6_log\",\n",
    "            \"attribute1_dummy\", \"attribute3_dummy\", \"attribute9_dummy\",\n",
    "            \"device_type_z\", \"device_type_w\", \"device_type_s\",\n",
    "            \"attribute1_s\", \"attribute3_s\", \"attribute5_s\", \"attribute6_s\", \"attribute9_s\"]\n",
    "\n",
    "x_train_vs = x_train_vs.drop(drop_col, axis = 1)\n",
    "\n",
    "\n",
    "# Re-run feature importance\n",
    "rf_vs_params = {\"n_estimators\": 500,\n",
    "                \"random_state\": 0,\n",
    "                \"max_depth\": 3,\n",
    "                \"class_weight\": \"balanced\"}\n",
    "\n",
    "model_rf_vs = RandomForestClassifier(**rf_vs_params)\n",
    "model_rf_vs.fit(x_train_vs, y_train)\n",
    "\n",
    "# Plot the feature importance values\n",
    "def plotFeatureImportance(model, x_data):\n",
    "    plt.figure(figsize = (8, 7))\n",
    "    num_features = len(list(x_data.columns))\n",
    "    plt.barh(range(num_features), model.feature_importances_)\n",
    "    plt.yticks(np.arange(num_features), list(x_data.columns))\n",
    "    plt.xlabel(\"Variables importance\")\n",
    "    plt.ylabel(\"Variables names\")\n",
    "    \n",
    "plotFeatureImportance(model_rf_vs, x_train_vs)"
   ]
  },
  {
   "cell_type": "code",
   "execution_count": null,
   "metadata": {
    "collapsed": true
   },
   "outputs": [],
   "source": []
  },
  {
   "cell_type": "markdown",
   "metadata": {},
   "source": [
    "Print goodness-of-fit stats from Logistic regression.\n",
    "<br>\n",
    "These stats give us an idea of the explanatory power of each variable, and guide our decision which varaibles to use in the models."
   ]
  },
  {
   "cell_type": "code",
   "execution_count": 134,
   "metadata": {},
   "outputs": [
    {
     "name": "stdout",
     "output_type": "stream",
     "text": [
      "Warning: Maximum number of iterations has been exceeded.\n",
      "         Current function value: 0.338738\n",
      "         Iterations: 35\n",
      "                           Logit Regression Results                           \n",
      "==============================================================================\n",
      "Dep. Variable:                      y   No. Observations:               174144\n",
      "Model:                          Logit   Df Residuals:                   174125\n",
      "Method:                           MLE   Df Model:                           18\n",
      "Date:                Tue, 23 Jan 2018   Pseudo R-squ.:                  0.5113\n",
      "Time:                        08:39:17   Log-Likelihood:                -58989.\n",
      "converged:                      False   LL-Null:                   -1.2071e+05\n",
      "                                        LLR p-value:                     0.000\n",
      "====================================================================================\n",
      "                       coef    std err          z      P>|z|      [0.025      0.975]\n",
      "------------------------------------------------------------------------------------\n",
      "attribute1        5.625e-10        nan        nan        nan         nan         nan\n",
      "attribute2       -2.229e-05    111.744     -2e-07      1.000    -219.013     219.013\n",
      "attribute3          -0.0008        nan        nan        nan         nan         nan\n",
      "attribute4           0.0143        nan        nan        nan         nan         nan\n",
      "attribute5          -0.0036        nan        nan        nan         nan         nan\n",
      "attribute6        3.258e-06      0.378   8.61e-06      1.000      -0.742       0.742\n",
      "attribute7           0.0425    2.9e+04   1.47e-06      1.000   -5.68e+04    5.68e+04\n",
      "attribute9           0.0010        nan        nan        nan         nan         nan\n",
      "attribute1_log      -0.0845      0.016     -5.315      0.000      -0.116      -0.053\n",
      "attribute6_log      -0.1189      0.006    -20.923      0.000      -0.130      -0.108\n",
      "attribute1_dummy    18.6308   4347.222      0.004      0.997   -8501.769    8539.030\n",
      "attribute2_dummy     2.5823      0.026     97.781      0.000       2.531       2.634\n",
      "attribute3_dummy     0.5616      0.032     17.545      0.000       0.499       0.624\n",
      "attribute4_dummy     2.5303      0.023    110.571      0.000       2.485       2.575\n",
      "attribute7_dummy     4.6096      0.073     63.236      0.000       4.467       4.752\n",
      "attribute9_dummy    -0.2923      0.022    -13.126      0.000      -0.336      -0.249\n",
      "day_of_week         -0.1327      0.004    -30.776      0.000      -0.141      -0.124\n",
      "device_type_s      -18.0635    147.319     -0.123      0.902    -306.803     270.676\n",
      "device_type_w      -18.3091    147.319     -0.124      0.901    -307.049     270.431\n",
      "device_type_z      -17.8937    147.319     -0.121      0.903    -306.634     270.846\n",
      "attribute1_s        -0.0002        nan        nan        nan         nan         nan\n",
      "attribute2_s     -6.367e-07   7.26e+06  -8.77e-14      1.000   -1.42e+07    1.42e+07\n",
      "attribute3_s     -2.117e-07        nan        nan        nan         nan         nan\n",
      "attribute4_s      9.625e-06        nan        nan        nan         nan         nan\n",
      "attribute5_s         0.5594        nan        nan        nan         nan         nan\n",
      "attribute6_s         0.0007   2.61e+05   2.88e-09      1.000   -5.11e+05    5.11e+05\n",
      "attribute7_s      5.249e-05   2.41e+07   2.18e-12      1.000   -4.72e+07    4.72e+07\n",
      "attribute9_s      3.448e-07        nan        nan        nan         nan         nan\n",
      "====================================================================================\n"
     ]
    },
    {
     "name": "stderr",
     "output_type": "stream",
     "text": [
      "/Users/valentin/anaconda/lib/python3.5/site-packages/statsmodels/base/model.py:496: ConvergenceWarning: Maximum Likelihood optimization failed to converge. Check mle_retvals\n",
      "  \"Check mle_retvals\", ConvergenceWarning)\n",
      "/Users/valentin/anaconda/lib/python3.5/site-packages/statsmodels/base/model.py:1029: RuntimeWarning: invalid value encountered in sqrt\n",
      "  return np.sqrt(np.diag(self.cov_params()))\n",
      "/Users/valentin/anaconda/lib/python3.5/site-packages/scipy/stats/_distn_infrastructure.py:879: RuntimeWarning: invalid value encountered in greater\n",
      "  return (self.a < x) & (x < self.b)\n",
      "/Users/valentin/anaconda/lib/python3.5/site-packages/scipy/stats/_distn_infrastructure.py:879: RuntimeWarning: invalid value encountered in less\n",
      "  return (self.a < x) & (x < self.b)\n",
      "/Users/valentin/anaconda/lib/python3.5/site-packages/scipy/stats/_distn_infrastructure.py:1818: RuntimeWarning: invalid value encountered in less_equal\n",
      "  cond2 = cond0 & (x <= self.a)\n"
     ]
    }
   ],
   "source": [
    "import statsmodels.api as sm\n",
    "\n",
    "model_lr_vs = sm.Logit(y_train, x_train_vs).fit()\n",
    "print(model_lr_vs.summary())"
   ]
  },
  {
   "cell_type": "code",
   "execution_count": null,
   "metadata": {
    "collapsed": true
   },
   "outputs": [],
   "source": []
  },
  {
   "cell_type": "markdown",
   "metadata": {},
   "source": [
    "### Use XG Boost for variable selection"
   ]
  },
  {
   "cell_type": "code",
   "execution_count": 34,
   "metadata": {
    "collapsed": true
   },
   "outputs": [],
   "source": [
    "cv_params = {\"max_depth\": [3, 5, 7],\n",
    "             \"min_child_weight\": [1, 3, 5]}\n",
    "\n",
    "xgb_params = {\"learning_rate\": 0.05,\n",
    "              \"n_estimators\": 100,\n",
    "              \"random_state\": 0,\n",
    "              \"subsample\": 0.5,\n",
    "              \"colsample_bytree\": 0.5,\n",
    "              \"objective\": \"binary:logistic\",\n",
    "              \"silent\": 0}\n",
    "\n",
    "model_xgb_vs = xgb.XGBClassifier(**xgb_params)\n",
    "\n",
    "xgb_cv = GridSearchCV(model_xgb_vs,\n",
    "                      cv_params,\n",
    "                      scoring = 'accuracy', cv = 5, n_jobs = -1, verbose = True\n",
    "                      \n",
    "                      # Methods to adjust imbalanced data\n",
    "                      #, scale_pos_weight = 1.0         # sum(negative) / sum(positive) When only rank ordering is important - use AUC for eval\n",
    "                      #, max_delta_step                 # When the right probability is important\n",
    "                      )"
   ]
  },
  {
   "cell_type": "code",
   "execution_count": 35,
   "metadata": {},
   "outputs": [
    {
     "name": "stdout",
     "output_type": "stream",
     "text": [
      "Fitting 5 folds for each of 9 candidates, totalling 45 fits\n"
     ]
    },
    {
     "name": "stderr",
     "output_type": "stream",
     "text": [
      "[Parallel(n_jobs=-1)]: Done  45 out of  45 | elapsed:  6.2min finished\n"
     ]
    },
    {
     "data": {
      "text/plain": [
       "GridSearchCV(cv=5, error_score='raise',\n",
       "       estimator=XGBClassifier(base_score=0.5, colsample_bylevel=1, colsample_bytree=0.5,\n",
       "       gamma=0, learning_rate=0.05, max_delta_step=0, max_depth=3,\n",
       "       min_child_weight=1, missing=None, n_estimators=100, nthread=-1,\n",
       "       objective='binary:logistic', reg_alpha=0, reg_lambda=1,\n",
       "       scale_pos_weight=1, seed=0, silent=0, subsample=0.5),\n",
       "       fit_params=None, iid=True, n_jobs=-1,\n",
       "       param_grid={'min_child_weight': [1, 3, 5], 'max_depth': [3, 5, 7]},\n",
       "       pre_dispatch='2*n_jobs', refit=True, return_train_score=True,\n",
       "       scoring='accuracy', verbose=True)"
      ]
     },
     "execution_count": 35,
     "metadata": {},
     "output_type": "execute_result"
    }
   ],
   "source": [
    "xgb_cv.fit(x_train_vs, y_train)"
   ]
  },
  {
   "cell_type": "code",
   "execution_count": 36,
   "metadata": {},
   "outputs": [
    {
     "data": {
      "text/plain": [
       "{'mean_fit_time': array([ 19.97109656,  21.06564913,  23.00225873,  37.39497318,\n",
       "         32.45519681,  31.4517395 ,  39.98157444,  39.17792301,  36.14026723]),\n",
       " 'mean_score_time': array([ 0.12138162,  0.1860218 ,  0.17289052,  0.24475126,  0.18112435,\n",
       "         0.1886209 ,  0.19514341,  0.19908738,  0.17698202]),\n",
       " 'mean_test_score': array([ 0.98659156,  0.98628147,  0.98652265,  0.9963134 ,  0.99612964,\n",
       "         0.99588272,  0.99935111,  0.99933963,  0.99931092]),\n",
       " 'mean_train_score': array([ 0.98656715,  0.98632023,  0.98640206,  0.99652012,  0.99629761,\n",
       "         0.99610811,  0.99952769,  0.99950903,  0.99946596]),\n",
       " 'param_max_depth': masked_array(data = [3 3 3 5 5 5 7 7 7],\n",
       "              mask = [False False False False False False False False False],\n",
       "        fill_value = ?),\n",
       " 'param_min_child_weight': masked_array(data = [1 3 5 1 3 5 1 3 5],\n",
       "              mask = [False False False False False False False False False],\n",
       "        fill_value = ?),\n",
       " 'params': [{'max_depth': 3, 'min_child_weight': 1},\n",
       "  {'max_depth': 3, 'min_child_weight': 3},\n",
       "  {'max_depth': 3, 'min_child_weight': 5},\n",
       "  {'max_depth': 5, 'min_child_weight': 1},\n",
       "  {'max_depth': 5, 'min_child_weight': 3},\n",
       "  {'max_depth': 5, 'min_child_weight': 5},\n",
       "  {'max_depth': 7, 'min_child_weight': 1},\n",
       "  {'max_depth': 7, 'min_child_weight': 3},\n",
       "  {'max_depth': 7, 'min_child_weight': 5}],\n",
       " 'rank_test_score': array([7, 9, 8, 4, 5, 6, 1, 2, 3], dtype=int32),\n",
       " 'split0_test_score': array([ 0.98558714,  0.98630491,  0.98633362,  0.99606661,  0.99606661,\n",
       "         0.99506173,  0.99813379,  0.99813379,  0.99807637]),\n",
       " 'split0_train_score': array([ 0.98693599,  0.98756765,  0.98756047,  0.99730106,  0.99725081,\n",
       "         0.9964397 ,  0.9998708 ,  0.99984926,  0.99982055]),\n",
       " 'split1_test_score': array([ 0.98831467,  0.98679299,  0.98825725,  0.99632501,  0.99623887,\n",
       "         0.99632501,  0.99977031,  0.99977031,  0.99971289]),\n",
       " 'split1_train_score': array([ 0.98733078,  0.98599566,  0.98734513,  0.99621718,  0.99602337,\n",
       "         0.99613104,  0.99942576,  0.99944011,  0.99940422]),\n",
       " 'split2_test_score': array([ 0.98524176,  0.9848685 ,  0.98524176,  0.99620995,  0.99606638,\n",
       "         0.99603767,  0.9995406 ,  0.99945446,  0.99948317]),\n",
       " 'split2_train_score': array([ 0.98520629,  0.98477562,  0.98512734,  0.99628901,  0.99605214,\n",
       "         0.99595883,  0.99946883,  0.99946166,  0.99938988]),\n",
       " 'split3_test_score': array([ 0.98705065,  0.9873952 ,  0.98618927,  0.99692776,  0.99618123,\n",
       "         0.99598025,  0.9995406 ,  0.99959802,  0.9995406 ]),\n",
       " 'split3_train_score': array([ 0.98641936,  0.98680697,  0.98557237,  0.99676993,  0.99607367,\n",
       "         0.99596601,  0.99942577,  0.99939705,  0.99933245]),\n",
       " 'split4_test_score': array([ 0.98676352,  0.98604571,  0.98659125,  0.99603767,  0.9960951 ,\n",
       "         0.99600896,  0.9997703 ,  0.99974159,  0.99974159]),\n",
       " 'split4_train_score': array([ 0.98694335,  0.98645525,  0.98640501,  0.99602343,  0.99608803,\n",
       "         0.99604496,  0.9994473 ,  0.99939705,  0.9993827 ]),\n",
       " 'std_fit_time': array([ 0.25987041,  1.64995716,  0.3319933 ,  1.13383335,  0.12889176,\n",
       "         1.13460103,  0.61282466,  1.45832068,  8.89621615]),\n",
       " 'std_score_time': array([ 0.01540634,  0.0329555 ,  0.03644979,  0.03909046,  0.01626798,\n",
       "         0.0383269 ,  0.01660918,  0.02478041,  0.06736122]),\n",
       " 'std_test_score': array([  1.09912348e-03,   8.43161843e-04,   9.79914136e-04,\n",
       "          3.24098275e-04,   6.89376694e-05,   4.28749610e-04,\n",
       "          6.17280574e-04,   6.13368741e-04,   6.25082822e-04]),\n",
       " 'std_train_score': array([ 0.00073952,  0.00092762,  0.00095338,  0.00046134,  0.0004771 ,\n",
       "         0.00017717,  0.00017229,  0.00017195,  0.00017894])}"
      ]
     },
     "execution_count": 36,
     "metadata": {},
     "output_type": "execute_result"
    }
   ],
   "source": [
    "xgb_cv.cv_results_"
   ]
  },
  {
   "cell_type": "code",
   "execution_count": null,
   "metadata": {
    "collapsed": true
   },
   "outputs": [],
   "source": []
  },
  {
   "cell_type": "markdown",
   "metadata": {
    "collapsed": true
   },
   "source": [
    "Use grid search cross validation to optimize settings for XG Boost"
   ]
  },
  {
   "cell_type": "code",
   "execution_count": 72,
   "metadata": {
    "collapsed": true
   },
   "outputs": [],
   "source": [
    "xgdmat = xgb.DMatrix(x_train_vs, y_train) # Create our DMatrix to make XGBoost more efficient\n",
    "\n",
    "xgdmat_params = {\"eta\": 0.05,\n",
    "                 \"seed\": 0,\n",
    "                 \"subsample\": 0.8,\n",
    "                 \"colsample_bytree\": 0.8,\n",
    "                 \"objective\": \"binary:logistic\",             \n",
    "                 \"max_depth\": 7,             \n",
    "                 \"min_child_weight\": 5}\n",
    "\n",
    "model_xgb_vs = xgb.cv(params = xgdmat_params,\n",
    "                      dtrain = xgdmat,\n",
    "                      num_boost_round = 3000,\n",
    "                      nfold = 5,\n",
    "                      metrics = [\"error\"],\n",
    "                      early_stopping_rounds = 100)"
   ]
  },
  {
   "cell_type": "code",
   "execution_count": 73,
   "metadata": {},
   "outputs": [
    {
     "data": {
      "text/html": [
       "<div>\n",
       "<table border=\"1\" class=\"dataframe\">\n",
       "  <thead>\n",
       "    <tr style=\"text-align: right;\">\n",
       "      <th></th>\n",
       "      <th>test-error-mean</th>\n",
       "      <th>test-error-std</th>\n",
       "      <th>train-error-mean</th>\n",
       "      <th>train-error-std</th>\n",
       "    </tr>\n",
       "  </thead>\n",
       "  <tbody>\n",
       "    <tr>\n",
       "      <th>354</th>\n",
       "      <td>0.000442</td>\n",
       "      <td>0.000086</td>\n",
       "      <td>0.000361</td>\n",
       "      <td>0.000025</td>\n",
       "    </tr>\n",
       "    <tr>\n",
       "      <th>355</th>\n",
       "      <td>0.000442</td>\n",
       "      <td>0.000086</td>\n",
       "      <td>0.000362</td>\n",
       "      <td>0.000026</td>\n",
       "    </tr>\n",
       "    <tr>\n",
       "      <th>356</th>\n",
       "      <td>0.000442</td>\n",
       "      <td>0.000086</td>\n",
       "      <td>0.000357</td>\n",
       "      <td>0.000021</td>\n",
       "    </tr>\n",
       "    <tr>\n",
       "      <th>357</th>\n",
       "      <td>0.000442</td>\n",
       "      <td>0.000086</td>\n",
       "      <td>0.000356</td>\n",
       "      <td>0.000020</td>\n",
       "    </tr>\n",
       "    <tr>\n",
       "      <th>358</th>\n",
       "      <td>0.000431</td>\n",
       "      <td>0.000081</td>\n",
       "      <td>0.000357</td>\n",
       "      <td>0.000021</td>\n",
       "    </tr>\n",
       "  </tbody>\n",
       "</table>\n",
       "</div>"
      ],
      "text/plain": [
       "     test-error-mean  test-error-std  train-error-mean  train-error-std\n",
       "354         0.000442        0.000086          0.000361         0.000025\n",
       "355         0.000442        0.000086          0.000362         0.000026\n",
       "356         0.000442        0.000086          0.000357         0.000021\n",
       "357         0.000442        0.000086          0.000356         0.000020\n",
       "358         0.000431        0.000081          0.000357         0.000021"
      ]
     },
     "execution_count": 73,
     "metadata": {},
     "output_type": "execute_result"
    }
   ],
   "source": [
    "# Check how the model did\n",
    "model_xgb_vs.tail(5)"
   ]
  },
  {
   "cell_type": "code",
   "execution_count": 74,
   "metadata": {
    "collapsed": true
   },
   "outputs": [],
   "source": [
    "# If needed, adjust parameters and save them in an object which is passed to the training\n",
    "final_xgb_params = {\"eta\": 0.1,\n",
    "                    \"seed\": 0,\n",
    "                    \"subsample\": 0.8,\n",
    "                    \"colsample_bytree\": 0.8,\n",
    "                    \"objective\": \"binary:logistic\",\n",
    "                    \"max_depth\": 3,\n",
    "                    \"min_child_weight\": 1}\n",
    "\n",
    "final_model_xgb_vs = xgb.train(final_xgb_params,\n",
    "                               xgdmat,\n",
    "                               num_boost_round = 358)"
   ]
  },
  {
   "cell_type": "code",
   "execution_count": 75,
   "metadata": {
    "collapsed": true
   },
   "outputs": [],
   "source": [
    "importances = final_model_xgb_vs.get_fscore()"
   ]
  },
  {
   "cell_type": "code",
   "execution_count": 76,
   "metadata": {},
   "outputs": [
    {
     "data": {
      "text/plain": [
       "<matplotlib.axes._subplots.AxesSubplot at 0x113c57390>"
      ]
     },
     "execution_count": 76,
     "metadata": {},
     "output_type": "execute_result"
    },
    {
     "data": {
      "image/png": "[encoded data removed]",
      "text/plain": [
       "<matplotlib.figure.Figure at 0x1173b4da0>"
      ]
     },
     "metadata": {},
     "output_type": "display_data"
    }
   ],
   "source": [
    "xgb.plot_importance(final_model_xgb_vs)"
   ]
  },
  {
   "cell_type": "code",
   "execution_count": null,
   "metadata": {
    "collapsed": true
   },
   "outputs": [],
   "source": []
  },
  {
   "cell_type": "code",
   "execution_count": null,
   "metadata": {
    "collapsed": true
   },
   "outputs": [],
   "source": []
  },
  {
   "cell_type": "markdown",
   "metadata": {},
   "source": [
    "Before continuing with the models, make sure that the features in the validation sample are the same as those in the training. If they are not the same, the model will error out."
   ]
  },
  {
   "cell_type": "code",
   "execution_count": 77,
   "metadata": {
    "collapsed": true
   },
   "outputs": [],
   "source": [
    "x_validate = x_validate[list(x_train.columns)]"
   ]
  },
  {
   "cell_type": "code",
   "execution_count": null,
   "metadata": {
    "collapsed": true
   },
   "outputs": [],
   "source": []
  },
  {
   "cell_type": "markdown",
   "metadata": {},
   "source": [
    "## Models\n",
    "The following section contains the models I developed on the dataset. Each of the models will be trained and validated on two different datasets - scaled and synthetic dataset created with SMOTE.\n",
    "<p>\n",
    "The best models will be plotted on a ROC curve and print out the confusion matrix for each.\n",
    "<p>\n",
    "1. Logistic regression - This is the standard method for developing binary classification models. We'll use the logistic regression as a benchmark for all other methods\n",
    "2. Random forest classifier\n",
    "3. Gradient boosting with XGboost\n",
    "4. Support vector machine"
   ]
  },
  {
   "cell_type": "code",
   "execution_count": null,
   "metadata": {
    "collapsed": true
   },
   "outputs": [],
   "source": []
  },
  {
   "cell_type": "markdown",
   "metadata": {},
   "source": [
    "### 1. Logistic regression"
   ]
  },
  {
   "cell_type": "code",
   "execution_count": 78,
   "metadata": {},
   "outputs": [
    {
     "name": "stdout",
     "output_type": "stream",
     "text": [
      "Print stats for method: Logistic regression\n",
      "\n",
      "The number of False Negative in the validation set is 16 \n",
      "The number of False Positive in the validation set is 3427 \n",
      "\n",
      "Accuracy on training set is 0.67479\n",
      "Recall (tp/(tp+fn)) of training set is 0.44207\n",
      "\n",
      "Accuracy on validation set is 0.90781\n",
      "Recall (tp/(tp+fn)) of validation set is 0.50000\n"
     ]
    }
   ],
   "source": [
    "lr_params = {\"C\": 1.0,\n",
    "             \"penalty\": \"l2\",\n",
    "             \"class_weight\": \"balanced\"}    # parameter to adjust for the imbalanced dataset. Weights are proportional to class frequencies.\n",
    "\n",
    "model_lr = LogisticRegression(**lr_params)\n",
    "model_lr.fit(x_train, y_train)\n",
    "\n",
    "\n",
    "# Predict on training set and check the accuracy\n",
    "modelAccuracyStats(model_lr, \"Logistic regression\", x_train, y_train, x_validate, y_validate)"
   ]
  },
  {
   "cell_type": "code",
   "execution_count": null,
   "metadata": {
    "collapsed": true
   },
   "outputs": [],
   "source": []
  },
  {
   "cell_type": "markdown",
   "metadata": {},
   "source": [
    "### 2. Random forest classifier"
   ]
  },
  {
   "cell_type": "code",
   "execution_count": 79,
   "metadata": {},
   "outputs": [
    {
     "name": "stdout",
     "output_type": "stream",
     "text": [
      "Print stats for method: Random Forest\n",
      "\n",
      "The number of False Negative in the validation set is 7 \n",
      "The number of False Positive in the validation set is 3021 \n",
      "\n",
      "Accuracy on training set is 0.94303\n",
      "Recall (tp/(tp+fn)) of training set is 0.96595\n",
      "\n",
      "Accuracy on validation set is 0.91892\n",
      "Recall (tp/(tp+fn)) of validation set is 0.78125\n"
     ]
    }
   ],
   "source": [
    "rf_params = {\"n_estimators\": 1000,\n",
    "             \"random_state\": 0,\n",
    "             \"verbose\": 0,\n",
    "             \"max_depth\": 3,\n",
    "             \"n_jobs\": -1,\n",
    "             \"criterion\": \"gini\",\n",
    "             \"class_weight\": \"balanced\"}\n",
    "\n",
    "model_rf = RandomForestClassifier(**rf_params)\n",
    "model_rf.fit(x_train, y_train)\n",
    "\n",
    "# Predict on training set and check the accuracy\n",
    "modelAccuracyStats(model_rf, \"Random Forest\", x_train, y_train, x_validate, y_validate)"
   ]
  },
  {
   "cell_type": "code",
   "execution_count": null,
   "metadata": {
    "collapsed": true
   },
   "outputs": [],
   "source": []
  },
  {
   "cell_type": "markdown",
   "metadata": {},
   "source": [
    "### 3. Gradient boosting with XGboost"
   ]
  },
  {
   "cell_type": "code",
   "execution_count": null,
   "metadata": {
    "collapsed": true
   },
   "outputs": [],
   "source": [
    "xgdmat = xgb.DMatrix(x_train, y_train) # Create our DMatrix to make XGBoost more efficient\n",
    "\n",
    "xgb_cv_params = {\"eta\": 0.1,              \n",
    "                 \"seed\": 0,      \n",
    "                 \"subsample\": 0.8,             \n",
    "                 \"colsample_bytree\": 0.8,             \n",
    "                 \"objective\": \"binary:logistic\",            \n",
    "                 \"max_depth\": 3,\n",
    "                 \"min_child_weight\": 1}\n",
    "\n",
    "model_xgb = xgb.cv(params = xgb_cv_params,\n",
    "                      dtrain = xgdmat,\n",
    "                      num_boost_round = 3000,\n",
    "                      nfold = 5,\n",
    "                      metrics = [\"error\"],\n",
    "                      early_stopping_rounds = 100)\n",
    "\n",
    "# Check how the model did\n",
    "model_xgb.tail(5)"
   ]
  },
  {
   "cell_type": "code",
   "execution_count": 83,
   "metadata": {
    "collapsed": true
   },
   "outputs": [],
   "source": [
    "# If needed, adjust parameters and save them in an object which is passed to the training\n",
    "xgb_cv_params = {\"eta\": 0.1,        # 0.01             \n",
    "                 \"seed\": 0,               \n",
    "                 \"subsample\": 0.8,                 \n",
    "                 \"colsample_bytree\": 0.8,                 \n",
    "                 \"objective\": \"binary:logistic\",                 \n",
    "                 \"max_depth\": 3,                 \n",
    "                 \"min_child_weight\": 3}\n",
    "\n",
    "model_xgb = xgb.train(xgb_cv_params,                    \n",
    "                      xgdmat,                      \n",
    "                      num_boost_round = 358)"
   ]
  },
  {
   "cell_type": "code",
   "execution_count": 96,
   "metadata": {
    "collapsed": true
   },
   "outputs": [],
   "source": [
    "validate_dmat = xgb.DMatrix(x_validate)\n",
    "y_pred_xgb = model_xgb.predict(validate_dmat) # Predict using our testdmat\n"
   ]
  },
  {
   "cell_type": "code",
   "execution_count": null,
   "metadata": {
    "collapsed": true
   },
   "outputs": [],
   "source": []
  },
  {
   "cell_type": "markdown",
   "metadata": {},
   "source": [
    "### 4. Support vector machine\n",
    "SVM expects that all features have similar mean and stddev. Rescale the features before feeding the data to the model."
   ]
  },
  {
   "cell_type": "code",
   "execution_count": 135,
   "metadata": {},
   "outputs": [
    {
     "name": "stdout",
     "output_type": "stream",
     "text": [
      "The rate of failures in the original set is 0.0008514466560637460439860555529\n",
      "The rate of failures in the training set is 0.0008491594468988467496700900798\n",
      "The rate of failures in the validation set is 0.0008567833141449570269618999170\n"
     ]
    }
   ],
   "source": [
    "# Sampling for SVM\n",
    "analysis_set_s = analysis_set[[\"failure\", \"attribute2\", \"attribute4\", \"attribute7\",\n",
    "                               \"attribute1_s\", \"attribute2_s\", \"attribute3_s\", \"attribute4_s\", \"attribute5_s\", \"attribute6_s\",\n",
    "                              \"attribute7_s\", \"attribute9_s\",\n",
    "                              \"attribute1_dummy\", \"attribute2_dummy\", \"attribute3_dummy\",\n",
    "                              \"attribute4_dummy\",\n",
    "                              \"attribute7_dummy\",\n",
    "                              \"attribute9_dummy\",\n",
    "                              \"day_of_week\",\n",
    "                              \"device_type_s\",\n",
    "                              \"device_type_w\",\n",
    "                              \"device_type_z\"]]\n",
    "\n",
    "x_train_s, x_validate_s, y_train_s, y_validate_s = train_test_split(analysis_set_s.drop([\"failure\"], axis = 1),\n",
    "                                                                    analysis_set_s[\"failure\"],\n",
    "                                                                    train_size = .7)\n",
    "\n",
    "# Test if the % failure and non-failure remains the same in the new datasets as in the original dataset\n",
    "print (\"The rate of failures in the original set is \" + str(Decimal(float(analysis_set[\"failure\"].value_counts()[1])) / sum(analysis_set[\"failure\"].value_counts())))\n",
    "print (\"The rate of failures in the training set is \" + str(Decimal(float(y_train_s.value_counts()[1])) / sum(y_train_s.value_counts())))\n",
    "print (\"The rate of failures in the validation set is \" + str(Decimal(float(y_validate_s.value_counts()[1])) / sum(y_validate_s.value_counts())))\n"
   ]
  },
  {
   "cell_type": "code",
   "execution_count": 136,
   "metadata": {},
   "outputs": [
    {
     "name": "stdout",
     "output_type": "stream",
     "text": [
      "Print stats for method: SVM\n",
      "\n",
      "The number of False Negative in the validation set is 31 \n",
      "The number of False Positive in the validation set is 343 \n",
      "\n",
      "Accuracy on training set is 0.99013\n",
      "Recall (tp/(tp+fn)) of training set is 0.85135\n",
      "\n",
      "Accuracy on validation set is 0.98999\n",
      "Recall (tp/(tp+fn)) of validation set is 0.03125\n"
     ]
    }
   ],
   "source": [
    "svm_params = {\"C\": 1.0,\n",
    "              \"degree\": 3,\n",
    "              \"class_weight\": \"balanced\",\n",
    "              \"probability\": True}\n",
    "\n",
    "model_svm = svm.SVC(**svm_params)\n",
    "\n",
    "model_svm.fit(x_train_s, y_train_s,\n",
    "              sample_weight = None)\n",
    "\n",
    "modelAccuracyStats(model_svm, \"SVM\", x_train_s, y_train_s, x_validate_s, y_validate_s)"
   ]
  },
  {
   "cell_type": "code",
   "execution_count": null,
   "metadata": {
    "collapsed": true
   },
   "outputs": [],
   "source": []
  },
  {
   "cell_type": "markdown",
   "metadata": {},
   "source": [
    "### Models evaluation\n",
    "The models evaluation is done using the Receiver Operating Characteristics (ROC) curve and a confusion matrix."
   ]
  },
  {
   "cell_type": "code",
   "execution_count": 100,
   "metadata": {
    "collapsed": true
   },
   "outputs": [],
   "source": [
    "# 1) Use the ROC curve to evaluate accuracy of each model\n",
    "# Obtain the parameters needed for each ROC curve for each model\n",
    "y_pred_lr = model_lr.predict_proba(x_validate)[::, 1]\n",
    "roc_lr = roc_auc_score(y_validate, y_pred_lr)\n",
    "fpr_lr, tpr_lr, thresholds_lr = roc_curve(y_validate, y_pred_lr)\n",
    "\n",
    "y_pred_rf = model_rf.predict_proba(x_validate)[::, 1]\n",
    "roc_rf = roc_auc_score(y_validate, y_pred_rf)\n",
    "fpr_rf, tpr_rf, thresholds_rf = roc_curve(y_validate, y_pred_rf)\n",
    "\n",
    "roc_xgb = roc_auc_score(y_validate, y_pred_xgb)\n",
    "fpr_xgb, tpr_xgb, thresholds_xgb = roc_curve(y_validate, y_pred_xgb)\n",
    "\n",
    "#y_pred_svm = model_svm.predict_proba(x_validate_s)[::, 1]\n",
    "#roc_svm = roc_auc_score(y_validate_s, y_pred_svm)\n",
    "#fpr_svm, tpr_svm, thresholds_svm = roc_curve(y_validate_s, y_pred_svm)"
   ]
  },
  {
   "cell_type": "code",
   "execution_count": 101,
   "metadata": {},
   "outputs": [
    {
     "data": {
      "text/plain": [
       "<matplotlib.legend.Legend at 0x11678aeb8>"
      ]
     },
     "execution_count": 101,
     "metadata": {},
     "output_type": "execute_result"
    },
    {
     "data": {
      "image/png": "[encoded data removed]",
      "text/plain": [
       "<matplotlib.figure.Figure at 0x114565710>"
      ]
     },
     "metadata": {},
     "output_type": "display_data"
    }
   ],
   "source": [
    "# Plot the ROC curve\n",
    "plt.figure(figsize = (10, 7))\n",
    "plt.plot(fpr_lr, tpr_lr, label = \"Logistic Regression (AUC = %0.2f)\" % roc_lr)\n",
    "plt.plot(fpr_rf, tpr_rf, label = \"Random Forest (AUC = %0.2f)\" % roc_rf)\n",
    "plt.plot(fpr_xgb, tpr_xgb, label = \"XGBoost (AUC = %0.2f)\" % roc_xgb)\n",
    "#plt.plot(fpr_svm, tpr_svm, label = \"SVM (AUC = %0.2f)\" % roc_svm)\n",
    "plt.plot([0, 1], [0, 1], \"r--\")\n",
    "plt.xlim([0.0, 1])\n",
    "plt.ylim([0.0, 1])\n",
    "plt.xlabel(\"False Positive\")\n",
    "plt.ylabel(\"True Positive\")\n",
    "plt.title(\"ROC curve\")\n",
    "plt.legend(loc = \"lower right\")\n"
   ]
  },
  {
   "cell_type": "code",
   "execution_count": null,
   "metadata": {
    "collapsed": true
   },
   "outputs": [],
   "source": []
  },
  {
   "cell_type": "code",
   "execution_count": 142,
   "metadata": {},
   "outputs": [
    {
     "data": {
      "text/html": [
       "<div>\n",
       "<table border=\"1\" class=\"dataframe\">\n",
       "  <thead>\n",
       "    <tr style=\"text-align: right;\">\n",
       "      <th></th>\n",
       "      <th>True Negative</th>\n",
       "      <th>False Positive</th>\n",
       "      <th>False Negative</th>\n",
       "      <th>True Positive</th>\n",
       "    </tr>\n",
       "  </thead>\n",
       "  <tbody>\n",
       "    <tr>\n",
       "      <th>Logistic Regression</th>\n",
       "      <td>34680</td>\n",
       "      <td>2636</td>\n",
       "      <td>8</td>\n",
       "      <td>24</td>\n",
       "    </tr>\n",
       "    <tr>\n",
       "      <th>Random Forest</th>\n",
       "      <td>33843</td>\n",
       "      <td>3473</td>\n",
       "      <td>5</td>\n",
       "      <td>27</td>\n",
       "    </tr>\n",
       "    <tr>\n",
       "      <th>XGBoost</th>\n",
       "      <td>37316</td>\n",
       "      <td>1</td>\n",
       "      <td>30</td>\n",
       "      <td>2</td>\n",
       "    </tr>\n",
       "    <tr>\n",
       "      <th>SVM</th>\n",
       "      <td>36974</td>\n",
       "      <td>343</td>\n",
       "      <td>31</td>\n",
       "      <td>1</td>\n",
       "    </tr>\n",
       "  </tbody>\n",
       "</table>\n",
       "</div>"
      ],
      "text/plain": [
       "                     True Negative  False Positive  False Negative  \\\n",
       "Logistic Regression          34680            2636               8   \n",
       "Random Forest                33843            3473               5   \n",
       "XGBoost                      37316               1              30   \n",
       "SVM                          36974             343              31   \n",
       "\n",
       "                     True Positive  \n",
       "Logistic Regression             24  \n",
       "Random Forest                   27  \n",
       "XGBoost                          2  \n",
       "SVM                              1  "
      ]
     },
     "execution_count": 142,
     "metadata": {},
     "output_type": "execute_result"
    }
   ],
   "source": [
    "# 2) Create a table that prints out the confusion matrices for each model\n",
    "from sklearn.metrics import confusion_matrix\n",
    "\n",
    "cm_df = np.stack((confusionMatrix(model_lr, x_validate, y_validate),\n",
    "                  confusionMatrix(model_rf, x_validate, y_validate),\n",
    "                  confusionMatrix(model_xgb, x_validate_s, y_validate_s),\n",
    "                  confusionMatrix(model_svm, x_validate_s, y_validate_s)))\n",
    "\n",
    "cm_df = pd.DataFrame(cm_df,\n",
    "                     index = [\"Logistic Regression\", \"Random Forest\", \"XGBoost\", \"SVM\"],\n",
    "                     columns = [\"True Negative\", \"False Positive\", \"False Negative\", \"True Positive\"])\n",
    "cm_df"
   ]
  },
  {
   "cell_type": "code",
   "execution_count": null,
   "metadata": {
    "collapsed": true
   },
   "outputs": [],
   "source": []
  },
  {
   "cell_type": "code",
   "execution_count": null,
   "metadata": {
    "collapsed": true
   },
   "outputs": [],
   "source": []
  }
 ],
 "metadata": {
  "kernelspec": {
   "display_name": "Python [conda env:anaconda]",
   "language": "python",
   "name": "conda-env-anaconda-py"
  },
  "language_info": {
   "codemirror_mode": {
    "name": "ipython",
    "version": 3
   },
   "file_extension": ".py",
   "mimetype": "text/x-python",
   "name": "python",
   "nbconvert_exporter": "python",
   "pygments_lexer": "ipython3",
   "version": "3.5.2"
  }
 },
 "nbformat": 4,
 "nbformat_minor": 2
}
