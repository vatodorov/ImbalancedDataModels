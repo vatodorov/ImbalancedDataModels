{
 "cells": [
  {
   "cell_type": "code",
   "execution_count": null,
   "metadata": {
    "collapsed": true
   },
   "outputs": [],
   "source": [
    "if __name__ == '__main__':\n",
    "    n = int(raw_input())\n",
    "\n",
    "    test_n = n % 2\n",
    "    if test_n == 1:\n",
    "        print \"Weird\"\n",
    "    if test_n == 0:\n",
    "        if 2 <= n <= 5:\n",
    "            print \"Not Weird\"\n",
    "        elif 6 <= n <= 20:\n",
    "            print \"Weird\"\n",
    "        else:\n",
    "            print \"Not Weird\""
   ]
  },
  {
   "cell_type": "markdown",
   "metadata": {},
   "source": [
    "Task\n",
    "Read two integers from STDIN and print three lines where:\n",
    "\n",
    "The first line contains the sum of the two numbers.\n",
    "The second line contains the difference of the two numbers (first - second).\n",
    "The third line contains the product of the two numbers.\n",
    "Input Format\n",
    "\n",
    "The first line contains the first integer, . The second line contains the second integer, ."
   ]
  },
  {
   "cell_type": "code",
   "execution_count": null,
   "metadata": {
    "collapsed": true
   },
   "outputs": [],
   "source": [
    "if __name__ == '__main__':\n",
    "    a = int(raw_input())\n",
    "    b = int(raw_input())\n",
    "\n",
    "    print (a + b)\n",
    "    print (a - b)\n",
    "    print (a * b)  "
   ]
  },
  {
   "cell_type": "markdown",
   "metadata": {},
   "source": [
    "Read two integers and print two lines. The first line should contain integer division, a//b. The second line should contain float division, a/b.\n",
    "\n",
    "You don't need to perform any rounding or formatting operations."
   ]
  },
  {
   "cell_type": "code",
   "execution_count": null,
   "metadata": {
    "collapsed": true
   },
   "outputs": [],
   "source": [
    "from __future__ import division\n",
    "\n",
    "if __name__ == '__main__':\n",
    "    a = int(raw_input())\n",
    "    b = int(raw_input())\n",
    "\n",
    "    print int(a / b)\n",
    "    print a / b"
   ]
  },
  {
   "cell_type": "markdown",
   "metadata": {},
   "source": [
    "Read an integer N. For all non-negative integers i < N, print i**2. See the sample for details."
   ]
  },
  {
   "cell_type": "code",
   "execution_count": null,
   "metadata": {
    "collapsed": true
   },
   "outputs": [],
   "source": [
    "if __name__ == '__main__':\n",
    "    n = int(raw_input())\n",
    "\n",
    "    for i in range(0, n):\n",
    "        print i ** 2"
   ]
  },
  {
   "cell_type": "markdown",
   "metadata": {},
   "source": [
    "We add a Leap Day on February 29, almost every four years. The leap day is an extra, or intercalary day and we add it to the shortest month of the year, February. \n",
    "In the Gregorian calendar three criteria must be taken into account to identify leap years:\n",
    "\n",
    "* The year can be evenly divided by 4, is a leap year, unless:\n",
    "    * The year can be evenly divided by 100, it is NOT a leap year, unless:\n",
    "        * The year is also evenly divisible by 400. Then it is a leap year.\n",
    "\n",
    "This means that in the Gregorian calendar, the years 2000 and 2400 are leap years, while 1800, 1900, 2100, 2200, 2300 and 2500 are NOT leap years.Source\n",
    "\n",
    "Task \n",
    "You are given the year, and you have to write a function to check if the year is leap or not.\n",
    "\n",
    "Note that you have to complete the function and remaining code is given as template."
   ]
  },
  {
   "cell_type": "code",
   "execution_count": null,
   "metadata": {
    "collapsed": true
   },
   "outputs": [],
   "source": [
    "def is_leap(year):\n",
    "    leap = False\n",
    "    \n",
    "    return year % 4 == 0 and (year % 400 == 0 or year % 100 != 0)\n",
    "\n",
    "year = int(raw_input())\n",
    "print is_leap(year)"
   ]
  },
  {
   "cell_type": "markdown",
   "metadata": {},
   "source": [
    "Read an integer N.\n",
    "Without using any string methods, try to print the following: 123...N\n",
    "Note that \"....\" represents the values in between"
   ]
  },
  {
   "cell_type": "code",
   "execution_count": null,
   "metadata": {
    "collapsed": true
   },
   "outputs": [],
   "source": [
    "from __future__ import print_function\n",
    "if __name__ == '__main__':\n",
    "    n = int(raw_input())\n",
    "    \n",
    "    for i in xrange(n):\n",
    "        print(i + 1, end = \"\")"
   ]
  },
  {
   "cell_type": "code",
   "execution_count": null,
   "metadata": {
    "collapsed": true
   },
   "outputs": [],
   "source": [
    "n = int(raw_input())\n",
    "for i in xrange(n):\n",
    "    print(i + 1, end = \"-.\")"
   ]
  },
  {
   "cell_type": "code",
   "execution_count": null,
   "metadata": {
    "collapsed": true
   },
   "outputs": [],
   "source": [
    "a = [[1, 2]] + [[3, 4]] + [[5, 6]]\n",
    "\n",
    "print (zip(*a))"
   ]
  },
  {
   "cell_type": "code",
   "execution_count": null,
   "metadata": {
    "collapsed": true
   },
   "outputs": [],
   "source": [
    "# https://www.hackerrank.com/challenges/zipped/problem\n",
    "#5 3\n",
    "#89 90 78 93 80\n",
    "#90 91 85 88 86\n",
    "#91 92 83 89 90.5\n",
    "\n",
    "# Create a list of integers\n",
    "a = map(int, raw_input().split())\n",
    "\n",
    "# Create an array with the number of rows defined by a[1]\n",
    "b = [map(float, raw_input().split()) for i in range(a[1])]\n",
    "\n",
    "for i in xrange(a[0]):\n",
    "    print (sum(zip(*b)[i]) / a[1])"
   ]
  },
  {
   "cell_type": "code",
<<<<<<< HEAD
   "execution_count": null,
   "metadata": {
    "collapsed": true
   },
   "outputs": [],
   "source": [
    "#https://www.hackerrank.com/challenges/python-lists/problem\n",
    "if __name__ == '__main__':\n",
    "    N = int(raw_input())\n",
    "    \n",
    "    list = []\n",
    "    for i in range(N):\n",
    "        func = raw_input().split()\n",
    "        for j in range(1, len(func)):\n",
    "            func[j] = int(func[j])\n",
    "        #print (func[0], func[1], func[2])\n",
    "        \n",
    "        if func[0] == \"insert\":\n",
    "            list.insert(func[1], func[2])\n",
    "        elif func[0] == \"print\":\n",
    "            print(list)\n",
    "        elif func[0] == \"remove\":\n",
    "            list.remove(func[1])\n",
    "        elif func[0] == \"append\":\n",
    "            list.append(func[1])\n",
    "        elif func[0] == \"sort\":\n",
    "            list.sort()\n",
    "        elif func[0] == \"pop\":\n",
    "            list.pop()\n",
    "        elif func[0] == \"reverse\":\n",
    "            list.reverse()"
=======
   "execution_count": 64,
   "metadata": {},
   "outputs": [
    {
     "name": "stdout",
     "output_type": "stream",
     "text": [
      "2\n",
      "1 4\n",
      "1\n"
     ]
    }
   ],
   "source": [
    "#https://www.hackerrank.com/challenges/find-second-maximum-number-in-a-list/problem   \n",
    "if __name__ == '__main__':\n",
    "    n = int(raw_input())\n",
    "    arr = map(int, raw_input().strip().split())\n",
    "    arr.sort()\n",
    "    \n",
    "    max_num = max(arr)\n",
    "    \n",
    "    while max_num == max(arr):\n",
    "        arr.remove(max_num)\n",
    "    print (max(arr))"
>>>>>>> 2bf5b9318b8ad17526040c6c754fb3c3b1b40175
   ]
  },
  {
   "cell_type": "code",
<<<<<<< HEAD
   "execution_count": null,
   "metadata": {
    "collapsed": true
   },
   "outputs": [],
   "source": [
    "# https://www.hackerrank.com/challenges/python-tuples/problem\n",
    "n = int(raw_input())\n",
    "integer_list = map(int, raw_input().split())\n",
    "\n",
    "t = tuple(integer_list)\n",
    "hash(t)"
=======
   "execution_count": 63,
   "metadata": {},
   "outputs": [
    {
     "data": {
      "text/plain": [
       "[3, 5]"
      ]
     },
     "execution_count": 63,
     "metadata": {},
     "output_type": "execute_result"
    }
   ],
   "source": [
    "arr"
>>>>>>> 2bf5b9318b8ad17526040c6c754fb3c3b1b40175
   ]
  },
  {
   "cell_type": "code",
<<<<<<< HEAD
   "execution_count": null,
=======
   "execution_count": 53,
>>>>>>> 2bf5b9318b8ad17526040c6c754fb3c3b1b40175
   "metadata": {
    "collapsed": true
   },
   "outputs": [],
<<<<<<< HEAD
   "source": [
    "# https://www.hackerrank.com/challenges/list-comprehensions/problem\n",
    "x = int(raw_input())\n",
    "y = int(raw_input())\n",
    "z = int(raw_input())\n",
    "n = int(raw_input())\n",
    "\n",
    "print [[i, j, k] for i in range(x + 1) for j in range(y + 1) for k in range(z + 1) if ((i + j + k) != n)]\n"
   ]
  },
  {
   "cell_type": "code",
   "execution_count": null,
   "metadata": {},
   "outputs": [],
   "source": [
    "# https://www.hackerrank.com/challenges/nested-list/problem\n",
    "_list = []\n",
    "_score = []\n",
    "\n",
    "for _ in range(int(raw_input())):\n",
    "    name = raw_input()\n",
    "    score = float(raw_input())\n",
    "    n_s = [name, score]\n",
    "    _list.append(n_s)\n",
    "    _score.append(score)\n",
    "    \n",
    "_score.sort()\n",
    "second_lowest_grade = filter(lambda element: element != _score[0], _score)[0]\n",
    "\n",
    "_names = []\n",
    "for i in range(len(_list)):\n",
    "    if _list[i][1] == second_lowest_grade:\n",
    "        _names.append(_list[i][0])\n",
    "\n",
    "_names.sort()\n",
    "\n",
    "for p in _names:\n",
    "    print p\n",
    "\n",
    "#next(sublist for sublist in _list if second_lowest_grade in sublist)"
   ]
=======
   "source": []
  },
  {
   "cell_type": "code",
   "execution_count": 54,
   "metadata": {},
   "outputs": [
    {
     "data": {
      "text/plain": [
       "[7, 8, 9]"
      ]
     },
     "execution_count": 54,
     "metadata": {},
     "output_type": "execute_result"
    }
   ],
   "source": []
>>>>>>> 2bf5b9318b8ad17526040c6c754fb3c3b1b40175
  },
  {
   "cell_type": "code",
   "execution_count": null,
   "metadata": {
    "collapsed": true
   },
   "outputs": [],
   "source": []
  }
 ],
 "metadata": {
  "kernelspec": {
   "display_name": "Python [conda env:py27]",
   "language": "python",
   "name": "conda-env-py27-py"
  },
  "language_info": {
   "codemirror_mode": {
    "name": "ipython",
    "version": 2
   },
   "file_extension": ".py",
   "mimetype": "text/x-python",
   "name": "python",
   "nbconvert_exporter": "python",
   "pygments_lexer": "ipython2",
   "version": "2.7.13"
  }
 },
 "nbformat": 4,
 "nbformat_minor": 2
}
