{
 "cells": [
  {
   "cell_type": "code",
   "execution_count": null,
   "metadata": {
    "collapsed": true
   },
   "outputs": [],
   "source": []
  },
  {
   "cell_type": "code",
   "execution_count": null,
   "metadata": {
    "collapsed": true
   },
   "outputs": [],
   "source": []
  },
  {
   "cell_type": "markdown",
   "metadata": {},
   "source": [
    "## TODO\n",
    "\n",
    "1. Feature selection\n",
    "    * Add GridSearchCV for variable selection\n",
    "        * Visualization\n",
    "    * Add clustering\n",
    "        * Visualization\n",
    "2. Modeling\n",
    "    * Finetune the existing models\n",
    "    * Try DNN models\n",
    "    * Create ensembles from models\n",
    "    * Add a Naive Bayes model\n",
    "3. Diagnostics\n",
    "    * Calculate F1 score\n",
    "4. Visualization of data"
   ]
  },
  {
   "cell_type": "code",
   "execution_count": null,
   "metadata": {
    "collapsed": true
   },
   "outputs": [],
   "source": []
  },
  {
   "cell_type": "code",
   "execution_count": null,
   "metadata": {
    "collapsed": true
   },
   "outputs": [],
   "source": []
  },
  {
   "cell_type": "markdown",
   "metadata": {},
   "source": [
    "## Develop models to predict device failure\n",
    "___Valentin Todorov___\n",
    "\n",
    "\n",
    "#### Goal:\n",
    "Build models to predict the probability of a device failure. When building this model, minimize false positives and false negatives."
   ]
  },
  {
   "cell_type": "markdown",
   "metadata": {},
   "source": [
    "## Plan for development\n",
    "1. Setup the environment and read in the data\n",
    "2. Data exploration\n",
    "    * Calculate the distribution of total fail/not fail cases\n",
    "    * Distribution of fail/not-fail cases by year\n",
    "    * Distribution of fail/not-fail cases by month\n",
    "    * Are there any devices that have higher failure rates than others\n",
    "    * When a device fails, does it disappear from the data, or does it show up again\n",
    "    * Seasonality of failures - are there particular days of the week when a higher percent of devices fail?\n",
    "3. Understand the important variables for splitting the dataset\n",
    "    * Do a pre-modeling analysis using random forest\n",
    "    * Use decision trees to understand if I need to create categorical variables from some of the original features\n",
    "4. Derive new features\n",
    "    * Determine which features are categorical, and if needed create dummies\n",
    "    * Since the data for some of the features is very sparse, create dummies which are 1, if data is available and 0 otherwise\n",
    "    * Take logs of features\n",
    "    * Scale the features\n",
    "5. Sampling of the data\n",
    "    * Create random samples from the data - 70% for training and 30% for validation\n",
    "    * If the failures are too few compared to the non-failures, I will need to oversample the failures (and add a weight), or simply undersample the non-failures\n",
    "6. Variables reduction\n",
    "    * Random forest's variable importance    \n",
    "    * Use decision trees\n",
    "    * Use Recursive feature elimination (RFE)\n",
    "    * Compare the suggested features from each method and decide which ones to keep in the modeling set\n",
    "7. Decide on a methodology for the model estimation\n",
    "    * Logistic regression - this will be a benchmark for all the rest of the methods\n",
    "    * Random forest\n",
    "    * XG Boosting\n",
    "    * SVM\n",
    "    * Neural network\n",
    "8. Validate the results\n",
    "9. Compare accuracy measures\n",
    "    * Calculate accuracy, TP, FP, TN, FN, recall, etc.\n",
    "    * Plot the performance for multiple modles using the ROC curve\n",
    "    * Sensitivity/Recall\n",
    "10. Create a confusion matrix - reduce false positives and false negatives"
   ]
  },
  {
   "cell_type": "code",
   "execution_count": null,
   "metadata": {
    "collapsed": true
   },
   "outputs": [],
   "source": []
  },
  {
   "cell_type": "markdown",
   "metadata": {},
   "source": [
    "### Setup\n",
    "Setup the environment and import needed packages"
   ]
  },
  {
   "cell_type": "code",
   "execution_count": 107,
   "metadata": {
    "collapsed": true
   },
   "outputs": [],
   "source": [
    "import pandas as pd\n",
    "import numpy as np\n",
    "from decimal import *\n",
    "import graphviz\n",
    "import matplotlib.pyplot as plt\n",
    "import math\n",
    "\n",
    "#import xgboost as xgb\n",
    "import hdbscan\n",
    "import sklearn.datasets as data\n",
    "from imblearn.over_sampling import SMOTE\n",
    "from sklearn import datasets, svm\n",
    "from sklearn.model_selection import GridSearchCV\n",
    "from sklearn.preprocessing import MinMaxScaler\n",
    "from sklearn.neighbors import KNeighborsClassifier\n",
    "from sklearn.cross_validation import train_test_split\n",
    "from sklearn.ensemble import RandomForestClassifier, GradientBoostingClassifier\n",
    "from sklearn.feature_selection import RFE\n",
    "from sklearn.linear_model import LogisticRegression\n",
    "from sklearn.tree import DecisionTreeClassifier, export_graphviz\n",
    "from sklearn.metrics import accuracy_score, recall_score, confusion_matrix, roc_curve, roc_auc_score\n",
    "\n",
    "# Inline plotting in jupyter\n",
    "%matplotlib inline\n"
   ]
  },
  {
   "cell_type": "code",
   "execution_count": null,
   "metadata": {
    "collapsed": true
   },
   "outputs": [],
   "source": []
  },
  {
   "cell_type": "markdown",
   "metadata": {},
   "source": [
    "### Define functions that I'll be using throughout the analysis\n",
    "This section defines functions I'll use in the analysis, and the evaluation of results."
   ]
  },
  {
   "cell_type": "code",
   "execution_count": 57,
   "metadata": {
    "collapsed": true
   },
   "outputs": [],
   "source": [
    "# This defines the path to the data depending on the OS I use - Win, macOS, or Ubuntu on AWS\n",
    "def selectOS(_os):\n",
    "    if _os == \"win\":\n",
    "        data_location = \"C:/Users/bre49823/GoogleDrive/Data/aws/device_failure.csv\"\n",
    "    elif _os == \"mac\":\n",
    "        data_location = \"/Users/valentin/GoogleDrive/Data/aws/device_failure.csv\"\n",
    "    elif _os == \"aws\":\n",
    "        data_location = \"/home/ubuntu/git/Gelos/data/device_failure.csv\"\n",
    "    return data_location\n",
    "\n",
    "# Check for NA values in the data\n",
    "def checkNaValues(df, columns_idx):\n",
    "    features_na = []\n",
    "    for i in range(0, len(columns_idx)):\n",
    "        col = columns_idx[i]\n",
    "        features_na.append(df[col].isnull().sum())\n",
    "    return features_na\n",
    "\n",
    "# Create log of features\n",
    "def createLog(df, columns_list):\n",
    "    for col in columns_list:\n",
    "        column_log = col + \"_log\"    \n",
    "        df[column_log] = df[col].apply(lambda x: 0 if x == 0 else math.log(x))\n",
    "    return\n",
    "\n",
    "# Take square root of features\n",
    "def createSqrt(df, columns_list):\n",
    "    for col in columns_list:\n",
    "        column_sqrt = col + \"_sqrt\"\n",
    "        df[column_sqrt] = np.sqrt(df[col])\n",
    "    return\n",
    "\n",
    "# Take square of features\n",
    "def createSquare(df, columns_list):\n",
    "    for col in columns_list:\n",
    "        column_sq = col + \"_sq\"\n",
    "        df[column_sq] = df[col] ** 2\n",
    "    return\n",
    "\n",
    "# Calculate inverse of features\n",
    "def createInverse(df, columns_list):\n",
    "    for col in columns_list:\n",
    "        column_inv = col + \"_inv\"    \n",
    "        df[column_inv] = df[col].apply(lambda x: 0 if x == 0 else 1 / x)\n",
    "    return\n",
    "\n",
    "# Derive dummy features\n",
    "# These features take the value 1 if the value of a feature is larger than 0, otherwise take the value of 0\n",
    "def createDummy(df, columns_list):\n",
    "    column_dummy_idx = []\n",
    "    for col in columns_list:\n",
    "        column_dummy = col + \"_dummy\"\n",
    "        df[column_dummy] = [1 if x > 0 else 0 for x in df[col]]\n",
    "        column_dummy_idx.append(column_dummy)\n",
    "    return column_dummy_idx\n",
    "        \n",
    "# Create a confusion matrix\n",
    "def confusionMatrix(model, _x_validate, _y_validate):\n",
    "    _confusion_matrix = confusion_matrix(_y_validate, model.predict(_x_validate)).ravel()\n",
    "    return _confusion_matrix\n",
    "\n",
    "# Function to print accuracy statistics for each model\n",
    "def modelAccuracyStats(model, modeling_method, _x_train, _y_train, _x_validate, _y_validate):\n",
    "    tn, fp, fn, tp = confusionMatrix(model, _x_validate, _y_validate)\n",
    "    print (\"Print stats for method: %s\" % modeling_method)\n",
    "    print (\"\\nThe number of False Negative in the validation set is %s \" % str(fn))\n",
    "    print (\"The number of False Positive in the validation set is %s \" % str(fp))\n",
    "    print (\"\\nAccuracy on training set is {:.5f}\".format(model.score(_x_train, _y_train)))\n",
    "    print (\"Recall (tp/(tp+fn)) of training set is {:.5f}\".format(recall_score(_y_train, model.predict(_x_train))))\n",
    "    print (\"\\nAccuracy on validation set is {:.5f}\".format(model.score(_x_validate, _y_validate)))\n",
    "    print (\"Recall (tp/(tp+fn)) of validation set is {:.5f}\".format(recall_score(_y_validate, model.predict(_x_validate))))\n"
   ]
  },
  {
   "cell_type": "code",
   "execution_count": null,
   "metadata": {
    "collapsed": true
   },
   "outputs": [],
   "source": []
  },
  {
   "cell_type": "markdown",
   "metadata": {},
   "source": [
    "### Read in the data and print out the header"
   ]
  },
  {
   "cell_type": "code",
   "execution_count": 58,
   "metadata": {},
   "outputs": [
    {
     "name": "stdout",
     "output_type": "stream",
     "text": [
      "124494\n"
     ]
    },
    {
     "data": {
      "text/html": [
       "<div>\n",
       "<style>\n",
       "    .dataframe thead tr:only-child th {\n",
       "        text-align: right;\n",
       "    }\n",
       "\n",
       "    .dataframe thead th {\n",
       "        text-align: left;\n",
       "    }\n",
       "\n",
       "    .dataframe tbody tr th {\n",
       "        vertical-align: top;\n",
       "    }\n",
       "</style>\n",
       "<table border=\"1\" class=\"dataframe\">\n",
       "  <thead>\n",
       "    <tr style=\"text-align: right;\">\n",
       "      <th></th>\n",
       "      <th>date</th>\n",
       "      <th>device</th>\n",
       "      <th>failure</th>\n",
       "      <th>attribute1</th>\n",
       "      <th>attribute2</th>\n",
       "      <th>attribute3</th>\n",
       "      <th>attribute4</th>\n",
       "      <th>attribute5</th>\n",
       "      <th>attribute6</th>\n",
       "      <th>attribute7</th>\n",
       "      <th>attribute8</th>\n",
       "      <th>attribute9</th>\n",
       "    </tr>\n",
       "  </thead>\n",
       "  <tbody>\n",
       "    <tr>\n",
       "      <th>0</th>\n",
       "      <td>2015-01-01</td>\n",
       "      <td>S1F01085</td>\n",
       "      <td>0</td>\n",
       "      <td>215630672</td>\n",
       "      <td>56</td>\n",
       "      <td>0</td>\n",
       "      <td>52</td>\n",
       "      <td>6</td>\n",
       "      <td>407438</td>\n",
       "      <td>0</td>\n",
       "      <td>0</td>\n",
       "      <td>7</td>\n",
       "    </tr>\n",
       "    <tr>\n",
       "      <th>1</th>\n",
       "      <td>2015-01-01</td>\n",
       "      <td>S1F0166B</td>\n",
       "      <td>0</td>\n",
       "      <td>61370680</td>\n",
       "      <td>0</td>\n",
       "      <td>3</td>\n",
       "      <td>0</td>\n",
       "      <td>6</td>\n",
       "      <td>403174</td>\n",
       "      <td>0</td>\n",
       "      <td>0</td>\n",
       "      <td>0</td>\n",
       "    </tr>\n",
       "    <tr>\n",
       "      <th>2</th>\n",
       "      <td>2015-01-01</td>\n",
       "      <td>S1F01E6Y</td>\n",
       "      <td>0</td>\n",
       "      <td>173295968</td>\n",
       "      <td>0</td>\n",
       "      <td>0</td>\n",
       "      <td>0</td>\n",
       "      <td>12</td>\n",
       "      <td>237394</td>\n",
       "      <td>0</td>\n",
       "      <td>0</td>\n",
       "      <td>0</td>\n",
       "    </tr>\n",
       "    <tr>\n",
       "      <th>3</th>\n",
       "      <td>2015-01-01</td>\n",
       "      <td>S1F01JE0</td>\n",
       "      <td>0</td>\n",
       "      <td>79694024</td>\n",
       "      <td>0</td>\n",
       "      <td>0</td>\n",
       "      <td>0</td>\n",
       "      <td>6</td>\n",
       "      <td>410186</td>\n",
       "      <td>0</td>\n",
       "      <td>0</td>\n",
       "      <td>0</td>\n",
       "    </tr>\n",
       "    <tr>\n",
       "      <th>4</th>\n",
       "      <td>2015-01-01</td>\n",
       "      <td>S1F01R2B</td>\n",
       "      <td>0</td>\n",
       "      <td>135970480</td>\n",
       "      <td>0</td>\n",
       "      <td>0</td>\n",
       "      <td>0</td>\n",
       "      <td>15</td>\n",
       "      <td>313173</td>\n",
       "      <td>0</td>\n",
       "      <td>0</td>\n",
       "      <td>3</td>\n",
       "    </tr>\n",
       "  </tbody>\n",
       "</table>\n",
       "</div>"
      ],
      "text/plain": [
       "         date    device  failure  attribute1  attribute2  attribute3  \\\n",
       "0  2015-01-01  S1F01085        0   215630672          56           0   \n",
       "1  2015-01-01  S1F0166B        0    61370680           0           3   \n",
       "2  2015-01-01  S1F01E6Y        0   173295968           0           0   \n",
       "3  2015-01-01  S1F01JE0        0    79694024           0           0   \n",
       "4  2015-01-01  S1F01R2B        0   135970480           0           0   \n",
       "\n",
       "   attribute4  attribute5  attribute6  attribute7  attribute8  attribute9  \n",
       "0          52           6      407438           0           0           7  \n",
       "1           0           6      403174           0           0           0  \n",
       "2           0          12      237394           0           0           0  \n",
       "3           0           6      410186           0           0           0  \n",
       "4           0          15      313173           0           0           3  "
      ]
     },
     "execution_count": 58,
     "metadata": {},
     "output_type": "execute_result"
    }
   ],
   "source": [
    "# Read in the data and print out the header\n",
    "device_data = pd.read_csv(selectOS(\"win\"))\n",
    "\n",
    "# Check if the number of rows is as expected\n",
    "print (len(device_data))\n",
    "device_data.head(5)"
   ]
  },
  {
   "cell_type": "markdown",
   "metadata": {},
   "source": [
    "From a first glance it looks like we have time series data, in which two of the attributes (1 & 6) have values much larger than the rest of the attributes. this requires a little more exploration."
   ]
  },
  {
   "cell_type": "markdown",
   "metadata": {},
   "source": [
    "Check the type of values in each column"
   ]
  },
  {
   "cell_type": "code",
   "execution_count": 59,
   "metadata": {},
   "outputs": [
    {
     "name": "stdout",
     "output_type": "stream",
     "text": [
      "<class 'pandas.core.frame.DataFrame'>\n",
      "RangeIndex: 124494 entries, 0 to 124493\n",
      "Data columns (total 12 columns):\n",
      "date          124494 non-null object\n",
      "device        124494 non-null object\n",
      "failure       124494 non-null int64\n",
      "attribute1    124494 non-null int64\n",
      "attribute2    124494 non-null int64\n",
      "attribute3    124494 non-null int64\n",
      "attribute4    124494 non-null int64\n",
      "attribute5    124494 non-null int64\n",
      "attribute6    124494 non-null int64\n",
      "attribute7    124494 non-null int64\n",
      "attribute8    124494 non-null int64\n",
      "attribute9    124494 non-null int64\n",
      "dtypes: int64(10), object(2)\n",
      "memory usage: 11.4+ MB\n"
     ]
    }
   ],
   "source": [
    "device_data.info()"
   ]
  },
  {
   "cell_type": "code",
   "execution_count": null,
   "metadata": {
    "collapsed": true
   },
   "outputs": [],
   "source": []
  },
  {
   "cell_type": "markdown",
   "metadata": {},
   "source": [
    "Whenever I start working with a dataset I've never seen, I like to open it as a SQL table, or import it in Excel, and familiarize myself with it. If the file is small enough, and Excel can handle it, I'll import the whole file, otherwise, I take a random sample from it, small enough that can be easily processed within the available RAM and CPU.\n",
    "\n",
    "Next, I usually create a pivot table in Excel and try to understand what features are available. Are there dates - if there are, what is the time range coverered? When we know the dates from the data, we can relate them to important Macroeconomic environments - major crises, stock market and crude oil price crashes, etc. Most of the real world industry processes are impacted by economic events. For example, if the data in the provided dataset spans back to 2007, it is very likely that we'll see structural shifts in some of the attributes during the period 2008 - 2009."
   ]
  },
  {
   "cell_type": "code",
   "execution_count": 60,
   "metadata": {},
   "outputs": [
    {
     "name": "stdout",
     "output_type": "stream",
     "text": [
      "0.0008514 of the cases are device failures \n"
     ]
    }
   ],
   "source": [
    "# Calculate the distribution of total fail/not fail cases\n",
    "pct_fail_cases = sum(device_data[\"failure\"]) / Decimal(len(device_data[\"failure\"]))\n",
    "print (\"%0.7f of the cases are device failures \" % pct_fail_cases)"
   ]
  },
  {
   "cell_type": "markdown",
   "metadata": {
    "collapsed": true
   },
   "source": [
    "The percent of fail cases is very low compared to the non-fail cases - only 0.0008514 of the cases are failures. This creates an imbalanced dataset, which will have to be handled through oversampling.\n"
   ]
  },
  {
   "cell_type": "code",
   "execution_count": null,
   "metadata": {
    "collapsed": true
   },
   "outputs": [],
   "source": []
  },
  {
   "cell_type": "markdown",
   "metadata": {},
   "source": [
    "Let's get a feel of the mean, std, and percentiles for each feature."
   ]
  },
  {
   "cell_type": "code",
   "execution_count": 61,
   "metadata": {},
   "outputs": [
    {
     "data": {
      "text/html": [
       "<div>\n",
       "<style>\n",
       "    .dataframe thead tr:only-child th {\n",
       "        text-align: right;\n",
       "    }\n",
       "\n",
       "    .dataframe thead th {\n",
       "        text-align: left;\n",
       "    }\n",
       "\n",
       "    .dataframe tbody tr th {\n",
       "        vertical-align: top;\n",
       "    }\n",
       "</style>\n",
       "<table border=\"1\" class=\"dataframe\">\n",
       "  <thead>\n",
       "    <tr style=\"text-align: right;\">\n",
       "      <th></th>\n",
       "      <th>failure</th>\n",
       "      <th>attribute1</th>\n",
       "      <th>attribute2</th>\n",
       "      <th>attribute3</th>\n",
       "      <th>attribute4</th>\n",
       "      <th>attribute5</th>\n",
       "      <th>attribute6</th>\n",
       "      <th>attribute7</th>\n",
       "      <th>attribute8</th>\n",
       "      <th>attribute9</th>\n",
       "    </tr>\n",
       "  </thead>\n",
       "  <tbody>\n",
       "    <tr>\n",
       "      <th>count</th>\n",
       "      <td>124494.000000</td>\n",
       "      <td>1.244940e+05</td>\n",
       "      <td>124494.000000</td>\n",
       "      <td>124494.000000</td>\n",
       "      <td>124494.000000</td>\n",
       "      <td>124494.000000</td>\n",
       "      <td>124494.000000</td>\n",
       "      <td>124494.000000</td>\n",
       "      <td>124494.000000</td>\n",
       "      <td>124494.000000</td>\n",
       "    </tr>\n",
       "    <tr>\n",
       "      <th>mean</th>\n",
       "      <td>0.000851</td>\n",
       "      <td>1.223868e+08</td>\n",
       "      <td>159.484762</td>\n",
       "      <td>9.940455</td>\n",
       "      <td>1.741120</td>\n",
       "      <td>14.222693</td>\n",
       "      <td>260172.858025</td>\n",
       "      <td>0.292528</td>\n",
       "      <td>0.292528</td>\n",
       "      <td>12.451524</td>\n",
       "    </tr>\n",
       "    <tr>\n",
       "      <th>std</th>\n",
       "      <td>0.029167</td>\n",
       "      <td>7.045960e+07</td>\n",
       "      <td>2179.657730</td>\n",
       "      <td>185.747321</td>\n",
       "      <td>22.908507</td>\n",
       "      <td>15.943021</td>\n",
       "      <td>99151.009852</td>\n",
       "      <td>7.436924</td>\n",
       "      <td>7.436924</td>\n",
       "      <td>191.425623</td>\n",
       "    </tr>\n",
       "    <tr>\n",
       "      <th>min</th>\n",
       "      <td>0.000000</td>\n",
       "      <td>0.000000e+00</td>\n",
       "      <td>0.000000</td>\n",
       "      <td>0.000000</td>\n",
       "      <td>0.000000</td>\n",
       "      <td>1.000000</td>\n",
       "      <td>8.000000</td>\n",
       "      <td>0.000000</td>\n",
       "      <td>0.000000</td>\n",
       "      <td>0.000000</td>\n",
       "    </tr>\n",
       "    <tr>\n",
       "      <th>1%</th>\n",
       "      <td>0.000000</td>\n",
       "      <td>2.401025e+06</td>\n",
       "      <td>0.000000</td>\n",
       "      <td>0.000000</td>\n",
       "      <td>0.000000</td>\n",
       "      <td>4.000000</td>\n",
       "      <td>26.000000</td>\n",
       "      <td>0.000000</td>\n",
       "      <td>0.000000</td>\n",
       "      <td>0.000000</td>\n",
       "    </tr>\n",
       "    <tr>\n",
       "      <th>5%</th>\n",
       "      <td>0.000000</td>\n",
       "      <td>1.209010e+07</td>\n",
       "      <td>0.000000</td>\n",
       "      <td>0.000000</td>\n",
       "      <td>0.000000</td>\n",
       "      <td>6.000000</td>\n",
       "      <td>46.000000</td>\n",
       "      <td>0.000000</td>\n",
       "      <td>0.000000</td>\n",
       "      <td>0.000000</td>\n",
       "    </tr>\n",
       "    <tr>\n",
       "      <th>25%</th>\n",
       "      <td>0.000000</td>\n",
       "      <td>6.127675e+07</td>\n",
       "      <td>0.000000</td>\n",
       "      <td>0.000000</td>\n",
       "      <td>0.000000</td>\n",
       "      <td>8.000000</td>\n",
       "      <td>221452.000000</td>\n",
       "      <td>0.000000</td>\n",
       "      <td>0.000000</td>\n",
       "      <td>0.000000</td>\n",
       "    </tr>\n",
       "    <tr>\n",
       "      <th>50%</th>\n",
       "      <td>0.000000</td>\n",
       "      <td>1.227957e+08</td>\n",
       "      <td>0.000000</td>\n",
       "      <td>0.000000</td>\n",
       "      <td>0.000000</td>\n",
       "      <td>10.000000</td>\n",
       "      <td>249799.500000</td>\n",
       "      <td>0.000000</td>\n",
       "      <td>0.000000</td>\n",
       "      <td>0.000000</td>\n",
       "    </tr>\n",
       "    <tr>\n",
       "      <th>75%</th>\n",
       "      <td>0.000000</td>\n",
       "      <td>1.833084e+08</td>\n",
       "      <td>0.000000</td>\n",
       "      <td>0.000000</td>\n",
       "      <td>0.000000</td>\n",
       "      <td>12.000000</td>\n",
       "      <td>310266.000000</td>\n",
       "      <td>0.000000</td>\n",
       "      <td>0.000000</td>\n",
       "      <td>0.000000</td>\n",
       "    </tr>\n",
       "    <tr>\n",
       "      <th>95%</th>\n",
       "      <td>0.000000</td>\n",
       "      <td>2.318738e+08</td>\n",
       "      <td>8.000000</td>\n",
       "      <td>1.000000</td>\n",
       "      <td>6.000000</td>\n",
       "      <td>58.000000</td>\n",
       "      <td>443047.800000</td>\n",
       "      <td>0.000000</td>\n",
       "      <td>0.000000</td>\n",
       "      <td>11.000000</td>\n",
       "    </tr>\n",
       "    <tr>\n",
       "      <th>99%</th>\n",
       "      <td>0.000000</td>\n",
       "      <td>2.417911e+08</td>\n",
       "      <td>2664.000000</td>\n",
       "      <td>107.000000</td>\n",
       "      <td>25.000000</td>\n",
       "      <td>92.000000</td>\n",
       "      <td>501012.490000</td>\n",
       "      <td>8.000000</td>\n",
       "      <td>8.000000</td>\n",
       "      <td>155.000000</td>\n",
       "    </tr>\n",
       "    <tr>\n",
       "      <th>max</th>\n",
       "      <td>1.000000</td>\n",
       "      <td>2.441405e+08</td>\n",
       "      <td>64968.000000</td>\n",
       "      <td>24929.000000</td>\n",
       "      <td>1666.000000</td>\n",
       "      <td>98.000000</td>\n",
       "      <td>689161.000000</td>\n",
       "      <td>832.000000</td>\n",
       "      <td>832.000000</td>\n",
       "      <td>18701.000000</td>\n",
       "    </tr>\n",
       "  </tbody>\n",
       "</table>\n",
       "</div>"
      ],
      "text/plain": [
       "             failure    attribute1     attribute2     attribute3  \\\n",
       "count  124494.000000  1.244940e+05  124494.000000  124494.000000   \n",
       "mean        0.000851  1.223868e+08     159.484762       9.940455   \n",
       "std         0.029167  7.045960e+07    2179.657730     185.747321   \n",
       "min         0.000000  0.000000e+00       0.000000       0.000000   \n",
       "1%          0.000000  2.401025e+06       0.000000       0.000000   \n",
       "5%          0.000000  1.209010e+07       0.000000       0.000000   \n",
       "25%         0.000000  6.127675e+07       0.000000       0.000000   \n",
       "50%         0.000000  1.227957e+08       0.000000       0.000000   \n",
       "75%         0.000000  1.833084e+08       0.000000       0.000000   \n",
       "95%         0.000000  2.318738e+08       8.000000       1.000000   \n",
       "99%         0.000000  2.417911e+08    2664.000000     107.000000   \n",
       "max         1.000000  2.441405e+08   64968.000000   24929.000000   \n",
       "\n",
       "          attribute4     attribute5     attribute6     attribute7  \\\n",
       "count  124494.000000  124494.000000  124494.000000  124494.000000   \n",
       "mean        1.741120      14.222693  260172.858025       0.292528   \n",
       "std        22.908507      15.943021   99151.009852       7.436924   \n",
       "min         0.000000       1.000000       8.000000       0.000000   \n",
       "1%          0.000000       4.000000      26.000000       0.000000   \n",
       "5%          0.000000       6.000000      46.000000       0.000000   \n",
       "25%         0.000000       8.000000  221452.000000       0.000000   \n",
       "50%         0.000000      10.000000  249799.500000       0.000000   \n",
       "75%         0.000000      12.000000  310266.000000       0.000000   \n",
       "95%         6.000000      58.000000  443047.800000       0.000000   \n",
       "99%        25.000000      92.000000  501012.490000       8.000000   \n",
       "max      1666.000000      98.000000  689161.000000     832.000000   \n",
       "\n",
       "          attribute8     attribute9  \n",
       "count  124494.000000  124494.000000  \n",
       "mean        0.292528      12.451524  \n",
       "std         7.436924     191.425623  \n",
       "min         0.000000       0.000000  \n",
       "1%          0.000000       0.000000  \n",
       "5%          0.000000       0.000000  \n",
       "25%         0.000000       0.000000  \n",
       "50%         0.000000       0.000000  \n",
       "75%         0.000000       0.000000  \n",
       "95%         0.000000      11.000000  \n",
       "99%         8.000000     155.000000  \n",
       "max       832.000000   18701.000000  "
      ]
     },
     "execution_count": 61,
     "metadata": {},
     "output_type": "execute_result"
    }
   ],
   "source": [
    "device_data.describe(percentiles = [.01, .05, .25, .5, .75, .95, .99])"
   ]
  },
  {
   "cell_type": "code",
   "execution_count": 62,
   "metadata": {},
   "outputs": [
    {
     "data": {
      "text/html": [
       "<div>\n",
       "<style>\n",
       "    .dataframe thead tr:only-child th {\n",
       "        text-align: right;\n",
       "    }\n",
       "\n",
       "    .dataframe thead th {\n",
       "        text-align: left;\n",
       "    }\n",
       "\n",
       "    .dataframe tbody tr th {\n",
       "        vertical-align: top;\n",
       "    }\n",
       "</style>\n",
       "<table border=\"1\" class=\"dataframe\">\n",
       "  <thead>\n",
       "    <tr style=\"text-align: right;\">\n",
       "      <th></th>\n",
       "      <th>attribute1</th>\n",
       "      <th>attribute2</th>\n",
       "      <th>attribute3</th>\n",
       "      <th>attribute4</th>\n",
       "      <th>attribute5</th>\n",
       "      <th>attribute6</th>\n",
       "      <th>attribute7</th>\n",
       "      <th>attribute8</th>\n",
       "      <th>attribute9</th>\n",
       "    </tr>\n",
       "    <tr>\n",
       "      <th>failure</th>\n",
       "      <th></th>\n",
       "      <th></th>\n",
       "      <th></th>\n",
       "      <th></th>\n",
       "      <th></th>\n",
       "      <th></th>\n",
       "      <th></th>\n",
       "      <th></th>\n",
       "      <th></th>\n",
       "    </tr>\n",
       "  </thead>\n",
       "  <tbody>\n",
       "    <tr>\n",
       "      <th>0</th>\n",
       "      <td>1.223827e+08</td>\n",
       "      <td>156.118725</td>\n",
       "      <td>9.945598</td>\n",
       "      <td>1.696048</td>\n",
       "      <td>14.221637</td>\n",
       "      <td>260174.451056</td>\n",
       "      <td>0.266682</td>\n",
       "      <td>0.266682</td>\n",
       "      <td>12.442462</td>\n",
       "    </tr>\n",
       "    <tr>\n",
       "      <th>1</th>\n",
       "      <td>1.271755e+08</td>\n",
       "      <td>4109.433962</td>\n",
       "      <td>3.905660</td>\n",
       "      <td>54.632075</td>\n",
       "      <td>15.462264</td>\n",
       "      <td>258303.481132</td>\n",
       "      <td>30.622642</td>\n",
       "      <td>30.622642</td>\n",
       "      <td>23.084906</td>\n",
       "    </tr>\n",
       "  </tbody>\n",
       "</table>\n",
       "</div>"
      ],
      "text/plain": [
       "           attribute1   attribute2  attribute3  attribute4  attribute5  \\\n",
       "failure                                                                  \n",
       "0        1.223827e+08   156.118725    9.945598    1.696048   14.221637   \n",
       "1        1.271755e+08  4109.433962    3.905660   54.632075   15.462264   \n",
       "\n",
       "            attribute6  attribute7  attribute8  attribute9  \n",
       "failure                                                     \n",
       "0        260174.451056    0.266682    0.266682   12.442462  \n",
       "1        258303.481132   30.622642   30.622642   23.084906  "
      ]
     },
     "execution_count": 62,
     "metadata": {},
     "output_type": "execute_result"
    }
   ],
   "source": [
    "device_data.groupby(\"failure\").mean()"
   ]
  },
  {
   "cell_type": "markdown",
   "metadata": {},
   "source": [
    "It is clear that attributes 1 & 6 have much larger values than the rest of the attributes. This can create problems with the estimation of the models later on, so we'll scale the variables."
   ]
  },
  {
   "cell_type": "markdown",
   "metadata": {},
   "source": [
    "From the analysis of observations when the values of each attribute is larger than 0, it looks like attributes 7 & 8 have the same number of cases when they are larger than 0. This requires a little more investigation. If both attributes have the same values, one of them will be dropped.\n",
    "\n",
    "Next, I'll test if the values for attributes 7 & 8 are the same. If the difference between attributes 7 & 8 is 0, I'll drop column 8."
   ]
  },
  {
   "cell_type": "code",
   "execution_count": 63,
   "metadata": {},
   "outputs": [
    {
     "data": {
      "text/plain": [
       "0"
      ]
     },
     "execution_count": 63,
     "metadata": {},
     "output_type": "execute_result"
    }
   ],
   "source": [
    "sum((device_data[\"attribute7\"] - device_data[\"attribute8\"]))"
   ]
  },
  {
   "cell_type": "markdown",
   "metadata": {},
   "source": [
    "Based on the test, columns 7 & 8 are the same. Hence, I'll drop column 8."
   ]
  },
  {
   "cell_type": "code",
   "execution_count": 64,
   "metadata": {
    "collapsed": true
   },
   "outputs": [],
   "source": [
    "drop_vars = [\"attribute8\"]\n",
    "device_data = device_data.drop(drop_vars, axis = 1)"
   ]
  },
  {
   "cell_type": "code",
   "execution_count": null,
   "metadata": {
    "collapsed": true
   },
   "outputs": [],
   "source": []
  },
  {
   "cell_type": "markdown",
   "metadata": {},
   "source": [
    "Check if there are NA values in the data. If the list with features is very long I wouldn't print the whole list with the results, but will only print those that with missing values."
   ]
  },
  {
   "cell_type": "code",
   "execution_count": 65,
   "metadata": {},
   "outputs": [
    {
     "data": {
      "text/plain": [
       "[('date', 0),\n",
       " ('device', 0),\n",
       " ('failure', 0),\n",
       " ('attribute1', 0),\n",
       " ('attribute2', 0),\n",
       " ('attribute3', 0),\n",
       " ('attribute4', 0),\n",
       " ('attribute5', 0),\n",
       " ('attribute6', 0),\n",
       " ('attribute7', 0),\n",
       " ('attribute9', 0)]"
      ]
     },
     "execution_count": 65,
     "metadata": {},
     "output_type": "execute_result"
    }
   ],
   "source": [
    "columns_list = list(device_data.columns)\n",
    "features_na = checkNaValues(device_data, columns_list)\n",
    "list(zip(columns_list, features_na))"
   ]
  },
  {
   "cell_type": "markdown",
   "metadata": {},
   "source": [
    "There are no features with NULL or NaN values.. The next step is to check for duplicate rows in the data"
   ]
  },
  {
   "cell_type": "code",
   "execution_count": 66,
   "metadata": {},
   "outputs": [
    {
     "data": {
      "text/html": [
       "<div>\n",
       "<style>\n",
       "    .dataframe thead tr:only-child th {\n",
       "        text-align: right;\n",
       "    }\n",
       "\n",
       "    .dataframe thead th {\n",
       "        text-align: left;\n",
       "    }\n",
       "\n",
       "    .dataframe tbody tr th {\n",
       "        vertical-align: top;\n",
       "    }\n",
       "</style>\n",
       "<table border=\"1\" class=\"dataframe\">\n",
       "  <thead>\n",
       "    <tr style=\"text-align: right;\">\n",
       "      <th></th>\n",
       "      <th>date</th>\n",
       "      <th>device</th>\n",
       "      <th>failure</th>\n",
       "      <th>attribute1</th>\n",
       "      <th>attribute2</th>\n",
       "      <th>attribute3</th>\n",
       "      <th>attribute4</th>\n",
       "      <th>attribute5</th>\n",
       "      <th>attribute6</th>\n",
       "      <th>attribute7</th>\n",
       "      <th>attribute9</th>\n",
       "    </tr>\n",
       "  </thead>\n",
       "  <tbody>\n",
       "  </tbody>\n",
       "</table>\n",
       "</div>"
      ],
      "text/plain": [
       "Empty DataFrame\n",
       "Columns: [date, device, failure, attribute1, attribute2, attribute3, attribute4, attribute5, attribute6, attribute7, attribute9]\n",
       "Index: []"
      ]
     },
     "execution_count": 66,
     "metadata": {},
     "output_type": "execute_result"
    }
   ],
   "source": [
    "device_data[device_data.duplicated()]"
   ]
  },
  {
   "cell_type": "markdown",
   "metadata": {},
   "source": [
    "There are no duplicate rows in the data."
   ]
  },
  {
   "cell_type": "code",
   "execution_count": null,
   "metadata": {
    "collapsed": true
   },
   "outputs": [],
   "source": []
  },
  {
   "cell_type": "markdown",
   "metadata": {},
   "source": [
    "### Derive new features\n",
    "1. Take the log of features with large values\n",
    "<br>\n",
    "Attribute1 & attribute6 have very large values compared with the rest of the features. So I'll take the logs.\n",
    "<p>\n",
    "2. Create dummies (0/1) from the existing features\n",
    "<br>\n",
    "If the value of an attribute is larger than 0, encode as 1, otherwise 0"
   ]
  },
  {
   "cell_type": "code",
   "execution_count": 67,
   "metadata": {},
   "outputs": [
    {
     "data": {
      "text/plain": [
       "[('attribute1_dummy', 1    124483\n",
       "  0        11\n",
       "  Name: attribute1_dummy, dtype: int64), ('attribute2_dummy', 0    118110\n",
       "  1      6384\n",
       "  Name: attribute2_dummy, dtype: int64), ('attribute3_dummy', 0    115359\n",
       "  1      9135\n",
       "  Name: attribute3_dummy, dtype: int64), ('attribute4_dummy', 0    115156\n",
       "  1      9338\n",
       "  Name: attribute4_dummy, dtype: int64), ('attribute5_dummy', 1    124494\n",
       "  Name: attribute5_dummy, dtype: int64), ('attribute6_dummy', 1    124494\n",
       "  Name: attribute6_dummy, dtype: int64), ('attribute7_dummy', 0    123036\n",
       "  1      1458\n",
       "  Name: attribute7_dummy, dtype: int64), ('attribute9_dummy', 0    97358\n",
       "  1    27136\n",
       "  Name: attribute9_dummy, dtype: int64)]"
      ]
     },
     "execution_count": 67,
     "metadata": {},
     "output_type": "execute_result"
    }
   ],
   "source": [
    "# 1) Calculate the log of the attribute1 & attribute6\n",
    "columns_list = [\"attribute1\", \"attribute6\"]\n",
    "createLog(device_data, columns_list)\n",
    "\n",
    "# 2) Create dummies from the attributes\n",
    "columns_list = [\"attribute1\", \"attribute2\", \"attribute3\", \"attribute4\", \"attribute5\", \"attribute6\", \"attribute7\", \"attribute9\"]\n",
    "\n",
    "features_dummy = createDummy(device_data, columns_list)\n",
    "list(zip(features_dummy, [device_data[s].value_counts() for s in features_dummy]))"
   ]
  },
  {
   "cell_type": "markdown",
   "metadata": {},
   "source": [
    "We'll also drop the dummies for columns 5 & 6 because they are always 1. Since they have the same value for every observation, they won't provide any useful information to the models."
   ]
  },
  {
   "cell_type": "code",
   "execution_count": 68,
   "metadata": {
    "collapsed": true
   },
   "outputs": [],
   "source": [
    "drop_vars = [\"attribute5_dummy\", \"attribute6_dummy\"]\n",
    "device_data = device_data.drop(drop_vars, axis = 1)"
   ]
  },
  {
   "cell_type": "code",
   "execution_count": null,
   "metadata": {
    "collapsed": true
   },
   "outputs": [],
   "source": []
  },
  {
   "cell_type": "markdown",
   "metadata": {},
   "source": [
    "### Further investigation of the data\n",
    "We need to dig a little deeper into the distributions of failure/non-failure and understand the following:\n",
    "<br>\n",
    "1. Distribution of failure/non-failure rates by year\n",
    "2. Distribution of failure/non-failure rates by month\n",
    "3. Distribution of failure/non-failure rates by device - are there specific devices that tend to fail more than others?"
   ]
  },
  {
   "cell_type": "code",
   "execution_count": 69,
   "metadata": {},
   "outputs": [
    {
     "name": "stdout",
     "output_type": "stream",
     "text": [
      "0    124388\n",
      "1       106\n",
      "Name: failure, dtype: int64\n",
      "col_0   count\n",
      "year         \n",
      "2015   124494\n"
     ]
    },
    {
     "data": {
      "text/html": [
       "<div>\n",
       "<style>\n",
       "    .dataframe thead tr:only-child th {\n",
       "        text-align: right;\n",
       "    }\n",
       "\n",
       "    .dataframe thead th {\n",
       "        text-align: left;\n",
       "    }\n",
       "\n",
       "    .dataframe tbody tr th {\n",
       "        vertical-align: top;\n",
       "    }\n",
       "</style>\n",
       "<table border=\"1\" class=\"dataframe\">\n",
       "  <thead>\n",
       "    <tr style=\"text-align: right;\">\n",
       "      <th>col_0</th>\n",
       "      <th>count</th>\n",
       "    </tr>\n",
       "    <tr>\n",
       "      <th>month</th>\n",
       "      <th></th>\n",
       "    </tr>\n",
       "  </thead>\n",
       "  <tbody>\n",
       "    <tr>\n",
       "      <th>1</th>\n",
       "      <td>0.201070</td>\n",
       "    </tr>\n",
       "    <tr>\n",
       "      <th>2</th>\n",
       "      <td>0.156634</td>\n",
       "    </tr>\n",
       "    <tr>\n",
       "      <th>3</th>\n",
       "      <td>0.159309</td>\n",
       "    </tr>\n",
       "    <tr>\n",
       "      <th>4</th>\n",
       "      <td>0.096487</td>\n",
       "    </tr>\n",
       "    <tr>\n",
       "      <th>5</th>\n",
       "      <td>0.091008</td>\n",
       "    </tr>\n",
       "    <tr>\n",
       "      <th>6</th>\n",
       "      <td>0.084092</td>\n",
       "    </tr>\n",
       "    <tr>\n",
       "      <th>7</th>\n",
       "      <td>0.084590</td>\n",
       "    </tr>\n",
       "    <tr>\n",
       "      <th>8</th>\n",
       "      <td>0.067039</td>\n",
       "    </tr>\n",
       "    <tr>\n",
       "      <th>9</th>\n",
       "      <td>0.035905</td>\n",
       "    </tr>\n",
       "    <tr>\n",
       "      <th>10</th>\n",
       "      <td>0.023616</td>\n",
       "    </tr>\n",
       "    <tr>\n",
       "      <th>11</th>\n",
       "      <td>0.000249</td>\n",
       "    </tr>\n",
       "  </tbody>\n",
       "</table>\n",
       "</div>"
      ],
      "text/plain": [
       "col_0     count\n",
       "month          \n",
       "1      0.201070\n",
       "2      0.156634\n",
       "3      0.159309\n",
       "4      0.096487\n",
       "5      0.091008\n",
       "6      0.084092\n",
       "7      0.084590\n",
       "8      0.067039\n",
       "9      0.035905\n",
       "10     0.023616\n",
       "11     0.000249"
      ]
     },
     "execution_count": 69,
     "metadata": {},
     "output_type": "execute_result"
    }
   ],
   "source": [
    "# Distribution of failure/non-failure by year\n",
    "device_data[\"year\"] = pd.to_datetime(device_data[\"date\"]).dt.year\n",
    "device_data[\"month\"] = pd.to_datetime(device_data[\"date\"]).dt.month\n",
    "device_data[\"day_of_week\"] = pd.to_datetime(device_data[\"date\"]).dt.dayofweek\n",
    "device_data[\"device_type\"] = device_data.device.str[0]\n",
    "\n",
    "# Create dummies for each of the three different devices in the data. Each starts with a different letter - S, W, or Z\n",
    "device_data = pd.concat([device_data, pd.get_dummies(device_data[\"device_type\"].str.lower(), prefix = \"device_type\")],\n",
    "                        axis = 1, join_axes = [device_data.index])\n",
    "\n",
    "# Print some summary stats\n",
    "print(device_data.failure.value_counts())\n",
    "\n",
    "print(pd.crosstab(device_data[\"year\"],\n",
    "                  columns = \"count\"))\n",
    "pd.crosstab(device_data[\"month\"],\n",
    "            columns = \"count\") / len(device_data.month)"
   ]
  },
  {
   "cell_type": "markdown",
   "metadata": {},
   "source": [
    "It is evident that the data is only for 2015 and we have information for most of the months of 2015, except for December. However, note that 50% of the observations are from the period January - March.\n",
    "<p>\n",
    "Next, we'll look at the distribution of failure/non-failure by month - both counts and rates."
   ]
  },
  {
   "cell_type": "code",
   "execution_count": 70,
   "metadata": {},
   "outputs": [
    {
     "data": {
      "text/html": [
       "<div>\n",
       "<style>\n",
       "    .dataframe thead tr:only-child th {\n",
       "        text-align: right;\n",
       "    }\n",
       "\n",
       "    .dataframe thead th {\n",
       "        text-align: left;\n",
       "    }\n",
       "\n",
       "    .dataframe tbody tr th {\n",
       "        vertical-align: top;\n",
       "    }\n",
       "</style>\n",
       "<table border=\"1\" class=\"dataframe\">\n",
       "  <thead>\n",
       "    <tr style=\"text-align: right;\">\n",
       "      <th>month</th>\n",
       "      <th>1</th>\n",
       "      <th>2</th>\n",
       "      <th>3</th>\n",
       "      <th>4</th>\n",
       "      <th>5</th>\n",
       "      <th>6</th>\n",
       "      <th>7</th>\n",
       "      <th>8</th>\n",
       "      <th>9</th>\n",
       "      <th>10</th>\n",
       "      <th>11</th>\n",
       "      <th>All</th>\n",
       "    </tr>\n",
       "  </thead>\n",
       "  <tbody>\n",
       "    <tr>\n",
       "      <th>non_failure</th>\n",
       "      <td>25008</td>\n",
       "      <td>19486</td>\n",
       "      <td>19824</td>\n",
       "      <td>12003</td>\n",
       "      <td>11309</td>\n",
       "      <td>10463</td>\n",
       "      <td>10515</td>\n",
       "      <td>8342</td>\n",
       "      <td>4470</td>\n",
       "      <td>2937</td>\n",
       "      <td>31</td>\n",
       "      <td>124388</td>\n",
       "    </tr>\n",
       "    <tr>\n",
       "      <th>failure</th>\n",
       "      <td>24</td>\n",
       "      <td>14</td>\n",
       "      <td>9</td>\n",
       "      <td>9</td>\n",
       "      <td>21</td>\n",
       "      <td>6</td>\n",
       "      <td>16</td>\n",
       "      <td>4</td>\n",
       "      <td>0</td>\n",
       "      <td>3</td>\n",
       "      <td>0</td>\n",
       "      <td>106</td>\n",
       "    </tr>\n",
       "    <tr>\n",
       "      <th>month_total</th>\n",
       "      <td>25032</td>\n",
       "      <td>19500</td>\n",
       "      <td>19833</td>\n",
       "      <td>12012</td>\n",
       "      <td>11330</td>\n",
       "      <td>10469</td>\n",
       "      <td>10531</td>\n",
       "      <td>8346</td>\n",
       "      <td>4470</td>\n",
       "      <td>2940</td>\n",
       "      <td>31</td>\n",
       "      <td>124494</td>\n",
       "    </tr>\n",
       "  </tbody>\n",
       "</table>\n",
       "</div>"
      ],
      "text/plain": [
       "month            1      2      3      4      5      6      7     8     9  \\\n",
       "non_failure  25008  19486  19824  12003  11309  10463  10515  8342  4470   \n",
       "failure         24     14      9      9     21      6     16     4     0   \n",
       "month_total  25032  19500  19833  12012  11330  10469  10531  8346  4470   \n",
       "\n",
       "month          10  11     All  \n",
       "non_failure  2937  31  124388  \n",
       "failure         3   0     106  \n",
       "month_total  2940  31  124494  "
      ]
     },
     "execution_count": 70,
     "metadata": {},
     "output_type": "execute_result"
    }
   ],
   "source": [
    "# Distribution of failure/non-failure by month\n",
    "failure_month = pd.crosstab(index = device_data[\"failure\"],\n",
    "                            columns = device_data[\"month\"],\n",
    "                            margins = True)\n",
    "\n",
    "failure_month.index = [\"non_failure\", \"failure\", \"month_total\"]\n",
    "failure_month"
   ]
  },
  {
   "cell_type": "code",
   "execution_count": 71,
   "metadata": {},
   "outputs": [
    {
     "data": {
      "text/html": [
       "<div>\n",
       "<style>\n",
       "    .dataframe thead tr:only-child th {\n",
       "        text-align: right;\n",
       "    }\n",
       "\n",
       "    .dataframe thead th {\n",
       "        text-align: left;\n",
       "    }\n",
       "\n",
       "    .dataframe tbody tr th {\n",
       "        vertical-align: top;\n",
       "    }\n",
       "</style>\n",
       "<table border=\"1\" class=\"dataframe\">\n",
       "  <thead>\n",
       "    <tr style=\"text-align: right;\">\n",
       "      <th>month</th>\n",
       "      <th>1</th>\n",
       "      <th>2</th>\n",
       "      <th>3</th>\n",
       "      <th>4</th>\n",
       "      <th>5</th>\n",
       "      <th>6</th>\n",
       "      <th>7</th>\n",
       "      <th>8</th>\n",
       "      <th>9</th>\n",
       "      <th>10</th>\n",
       "      <th>11</th>\n",
       "      <th>All</th>\n",
       "    </tr>\n",
       "  </thead>\n",
       "  <tbody>\n",
       "    <tr>\n",
       "      <th>non_failure</th>\n",
       "      <td>0.999041</td>\n",
       "      <td>0.999282</td>\n",
       "      <td>0.999546</td>\n",
       "      <td>0.999251</td>\n",
       "      <td>0.998147</td>\n",
       "      <td>0.999427</td>\n",
       "      <td>0.998481</td>\n",
       "      <td>0.999521</td>\n",
       "      <td>1.0</td>\n",
       "      <td>0.99898</td>\n",
       "      <td>1.0</td>\n",
       "      <td>0.999149</td>\n",
       "    </tr>\n",
       "    <tr>\n",
       "      <th>failure</th>\n",
       "      <td>0.000959</td>\n",
       "      <td>0.000718</td>\n",
       "      <td>0.000454</td>\n",
       "      <td>0.000749</td>\n",
       "      <td>0.001853</td>\n",
       "      <td>0.000573</td>\n",
       "      <td>0.001519</td>\n",
       "      <td>0.000479</td>\n",
       "      <td>0.0</td>\n",
       "      <td>0.00102</td>\n",
       "      <td>0.0</td>\n",
       "      <td>0.000851</td>\n",
       "    </tr>\n",
       "    <tr>\n",
       "      <th>month_total</th>\n",
       "      <td>1.000000</td>\n",
       "      <td>1.000000</td>\n",
       "      <td>1.000000</td>\n",
       "      <td>1.000000</td>\n",
       "      <td>1.000000</td>\n",
       "      <td>1.000000</td>\n",
       "      <td>1.000000</td>\n",
       "      <td>1.000000</td>\n",
       "      <td>1.0</td>\n",
       "      <td>1.00000</td>\n",
       "      <td>1.0</td>\n",
       "      <td>1.000000</td>\n",
       "    </tr>\n",
       "  </tbody>\n",
       "</table>\n",
       "</div>"
      ],
      "text/plain": [
       "month               1         2         3         4         5         6  \\\n",
       "non_failure  0.999041  0.999282  0.999546  0.999251  0.998147  0.999427   \n",
       "failure      0.000959  0.000718  0.000454  0.000749  0.001853  0.000573   \n",
       "month_total  1.000000  1.000000  1.000000  1.000000  1.000000  1.000000   \n",
       "\n",
       "month               7         8    9       10   11       All  \n",
       "non_failure  0.998481  0.999521  1.0  0.99898  1.0  0.999149  \n",
       "failure      0.001519  0.000479  0.0  0.00102  0.0  0.000851  \n",
       "month_total  1.000000  1.000000  1.0  1.00000  1.0  1.000000  "
      ]
     },
     "execution_count": 71,
     "metadata": {},
     "output_type": "execute_result"
    }
   ],
   "source": [
    "failure_month_pct = failure_month / failure_month.loc[\"month_total\"]\n",
    "failure_month_pct"
   ]
  },
  {
   "cell_type": "code",
   "execution_count": 72,
   "metadata": {},
   "outputs": [
    {
     "data": {
      "text/plain": [
       "Text(0.5,1,u'Percent Failed Devices by Month')"
      ]
     },
     "execution_count": 72,
     "metadata": {},
     "output_type": "execute_result"
    },
    {
     "data": {
      "image/png": "[encoded data removed]",
      "text/plain": [
       "<matplotlib.figure.Figure at 0x113bb198>"
      ]
     },
     "metadata": {},
     "output_type": "display_data"
    }
   ],
   "source": [
    "# Plot the % failures/non-failures by month\n",
    "plt.figure(figsize = (15, 5))\n",
    "plt.plot(list(failure_month_pct.loc[\"failure\"]), linewidth = 0.8, color = \"#ff0000\")\n",
    "plt.xlabel(\"Months\")\n",
    "plt.ylabel(\"Percent device failure\")\n",
    "plt.title(\"Percent Failed Devices by Month\")"
   ]
  },
  {
   "cell_type": "code",
   "execution_count": 73,
   "metadata": {},
   "outputs": [
    {
     "data": {
      "text/plain": [
       "<matplotlib.axes._subplots.AxesSubplot at 0x11c70358>"
      ]
     },
     "execution_count": 73,
     "metadata": {},
     "output_type": "execute_result"
    },
    {
     "data": {
      "image/png": "[encoded data removed]",
      "text/plain": [
       "<matplotlib.figure.Figure at 0x113d7128>"
      ]
     },
     "metadata": {},
     "output_type": "display_data"
    }
   ],
   "source": [
    "# Plot the % failures/non-failures by day\n",
    "failure_day = pd.crosstab(index = device_data[\"date\"],\n",
    "                          columns = device_data[\"failure\"],\n",
    "                          margins = True)\n",
    "\n",
    "failure_day.columns = [\"non_failure\", \"failure\", \"total\"]\n",
    "\n",
    "failure_day[:-1].reset_index().plot(x = \"date\", y = \"failure\",\n",
    "                                    figsize = (15, 5),\n",
    "                                    title = \"Number of Failed Devices by Day\")"
   ]
  },
  {
   "cell_type": "code",
   "execution_count": null,
   "metadata": {
    "collapsed": true
   },
   "outputs": [],
   "source": []
  },
  {
   "cell_type": "markdown",
   "metadata": {},
   "source": [
    "I noticed that the devices start with a different letter, which could be a different device type. Some types may have higher failure rates than others, and I'll explore to see if there are different failure rates by device type"
   ]
  },
  {
   "cell_type": "code",
   "execution_count": 74,
   "metadata": {},
   "outputs": [
    {
     "name": "stdout",
     "output_type": "stream",
     "text": [
      "device_type\n",
      "S      0.000766\n",
      "W      0.000971\n",
      "Z      0.000834\n",
      "All    0.000851\n",
      "dtype: float64\n"
     ]
    },
    {
     "data": {
      "text/html": [
       "<div>\n",
       "<style>\n",
       "    .dataframe thead tr:only-child th {\n",
       "        text-align: right;\n",
       "    }\n",
       "\n",
       "    .dataframe thead th {\n",
       "        text-align: left;\n",
       "    }\n",
       "\n",
       "    .dataframe tbody tr th {\n",
       "        vertical-align: top;\n",
       "    }\n",
       "</style>\n",
       "<table border=\"1\" class=\"dataframe\">\n",
       "  <thead>\n",
       "    <tr style=\"text-align: right;\">\n",
       "      <th></th>\n",
       "      <th>non_failure</th>\n",
       "      <th>failure</th>\n",
       "      <th>total</th>\n",
       "    </tr>\n",
       "    <tr>\n",
       "      <th>device_type</th>\n",
       "      <th></th>\n",
       "      <th></th>\n",
       "      <th></th>\n",
       "    </tr>\n",
       "  </thead>\n",
       "  <tbody>\n",
       "    <tr>\n",
       "      <th>S</th>\n",
       "      <td>54816</td>\n",
       "      <td>42</td>\n",
       "      <td>54858</td>\n",
       "    </tr>\n",
       "    <tr>\n",
       "      <th>W</th>\n",
       "      <td>43226</td>\n",
       "      <td>42</td>\n",
       "      <td>43268</td>\n",
       "    </tr>\n",
       "    <tr>\n",
       "      <th>Z</th>\n",
       "      <td>26346</td>\n",
       "      <td>22</td>\n",
       "      <td>26368</td>\n",
       "    </tr>\n",
       "    <tr>\n",
       "      <th>All</th>\n",
       "      <td>124388</td>\n",
       "      <td>106</td>\n",
       "      <td>124494</td>\n",
       "    </tr>\n",
       "  </tbody>\n",
       "</table>\n",
       "</div>"
      ],
      "text/plain": [
       "             non_failure  failure   total\n",
       "device_type                              \n",
       "S                  54816       42   54858\n",
       "W                  43226       42   43268\n",
       "Z                  26346       22   26368\n",
       "All               124388      106  124494"
      ]
     },
     "execution_count": 74,
     "metadata": {},
     "output_type": "execute_result"
    }
   ],
   "source": [
    "# Distribution of failure/non-failure by device type - are there specific devices that tend to fail more than others?\n",
    "failure_device = pd.crosstab(index = device_data[\"device_type\"],\n",
    "                             columns = device_data[\"failure\"],\n",
    "                             margins = True)\n",
    "failure_device.columns = [\"non_failure\", \"failure\", \"total\"]\n",
    "\n",
    "print (failure_device[\"failure\"] / failure_device[\"total\"])\n",
    "failure_device"
   ]
  },
  {
   "cell_type": "markdown",
   "metadata": {},
   "source": [
    "It looks like the devices that start with the letter W have a slightly higher failure rate (0.000971) compared to the average (0.000851). Although, it is not too different. Nevertheless, I'll use the device type as dummy variables in the models."
   ]
  },
  {
   "cell_type": "code",
   "execution_count": null,
   "metadata": {
    "collapsed": true
   },
   "outputs": [],
   "source": []
  },
  {
   "cell_type": "code",
   "execution_count": 75,
   "metadata": {},
   "outputs": [
    {
     "data": {
      "text/html": [
       "<div>\n",
       "<style>\n",
       "    .dataframe thead tr:only-child th {\n",
       "        text-align: right;\n",
       "    }\n",
       "\n",
       "    .dataframe thead th {\n",
       "        text-align: left;\n",
       "    }\n",
       "\n",
       "    .dataframe tbody tr th {\n",
       "        vertical-align: top;\n",
       "    }\n",
       "</style>\n",
       "<table border=\"1\" class=\"dataframe\">\n",
       "  <thead>\n",
       "    <tr style=\"text-align: right;\">\n",
       "      <th>failure</th>\n",
       "      <th>0</th>\n",
       "      <th>1</th>\n",
       "      <th>All</th>\n",
       "    </tr>\n",
       "    <tr>\n",
       "      <th>day_of_week</th>\n",
       "      <th></th>\n",
       "      <th></th>\n",
       "      <th></th>\n",
       "    </tr>\n",
       "  </thead>\n",
       "  <tbody>\n",
       "    <tr>\n",
       "      <th>0</th>\n",
       "      <td>17859</td>\n",
       "      <td>27</td>\n",
       "      <td>17886</td>\n",
       "    </tr>\n",
       "    <tr>\n",
       "      <th>1</th>\n",
       "      <td>17516</td>\n",
       "      <td>18</td>\n",
       "      <td>17534</td>\n",
       "    </tr>\n",
       "    <tr>\n",
       "      <th>2</th>\n",
       "      <td>17121</td>\n",
       "      <td>15</td>\n",
       "      <td>17136</td>\n",
       "    </tr>\n",
       "    <tr>\n",
       "      <th>3</th>\n",
       "      <td>18119</td>\n",
       "      <td>22</td>\n",
       "      <td>18141</td>\n",
       "    </tr>\n",
       "    <tr>\n",
       "      <th>4</th>\n",
       "      <td>18029</td>\n",
       "      <td>12</td>\n",
       "      <td>18041</td>\n",
       "    </tr>\n",
       "    <tr>\n",
       "      <th>5</th>\n",
       "      <td>17889</td>\n",
       "      <td>8</td>\n",
       "      <td>17897</td>\n",
       "    </tr>\n",
       "    <tr>\n",
       "      <th>6</th>\n",
       "      <td>17855</td>\n",
       "      <td>4</td>\n",
       "      <td>17859</td>\n",
       "    </tr>\n",
       "    <tr>\n",
       "      <th>All</th>\n",
       "      <td>124388</td>\n",
       "      <td>106</td>\n",
       "      <td>124494</td>\n",
       "    </tr>\n",
       "  </tbody>\n",
       "</table>\n",
       "</div>"
      ],
      "text/plain": [
       "failure           0    1     All\n",
       "day_of_week                     \n",
       "0             17859   27   17886\n",
       "1             17516   18   17534\n",
       "2             17121   15   17136\n",
       "3             18119   22   18141\n",
       "4             18029   12   18041\n",
       "5             17889    8   17897\n",
       "6             17855    4   17859\n",
       "All          124388  106  124494"
      ]
     },
     "execution_count": 75,
     "metadata": {},
     "output_type": "execute_result"
    }
   ],
   "source": [
    "# Are there particular days of the week when a higher percent of devices fail?\n",
    "failure_day_week = pd.crosstab(index = device_data[\"day_of_week\"],\n",
    "                               columns = device_data[\"failure\"],\n",
    "                               margins = True)\n",
    "failure_day_week"
   ]
  },
  {
   "cell_type": "markdown",
   "metadata": {},
   "source": [
    "The devices don't seem to fail much during the weekends, which is interesting. We'll use the day-of-the-week feature as a predictor in the models."
   ]
  },
  {
   "cell_type": "code",
   "execution_count": null,
   "metadata": {
    "collapsed": true
   },
   "outputs": [],
   "source": []
  },
  {
   "cell_type": "code",
   "execution_count": 76,
   "metadata": {
    "collapsed": true
   },
   "outputs": [],
   "source": [
    "# Prepare the data for the models\n",
    "# Drop variables which will not be useful in the models\n",
    "drop_from_analysis = [\"date\", \"device\", \"year\", \"month\", \"device_type\"]\n",
    "analysis_set = device_data.drop(drop_from_analysis, axis = 1)"
   ]
  },
  {
   "cell_type": "code",
   "execution_count": null,
   "metadata": {
    "collapsed": true
   },
   "outputs": [],
   "source": []
  },
  {
   "cell_type": "markdown",
   "metadata": {
    "collapsed": true
   },
   "source": [
    "### Scale the features in the input dataset\n",
    "Some of the features have very large values, compared to the remaining features, which will create a problem unless the features are scaled."
   ]
  },
  {
   "cell_type": "code",
   "execution_count": 77,
   "metadata": {
    "collapsed": true
   },
   "outputs": [],
   "source": [
    "# Scale the features and sample from the scaled features\n",
    "keep_columns = [\"attribute1\", \"attribute2\", \"attribute3\", \"attribute4\", \"attribute5\", \"attribute6\", \"attribute7\", \"attribute9\"]\n",
    "\n",
    "scaler = MinMaxScaler()\n",
    "analysis_set_scaled = pd.DataFrame(scaler.fit_transform(analysis_set[keep_columns]),\n",
    "                                   columns = [(x + \"_s\") for x in keep_columns])\n",
    "\n",
    "analysis_set = pd.concat([analysis_set, analysis_set_scaled], axis = 1, join_axes=[analysis_set.index])"
   ]
  },
  {
   "cell_type": "code",
   "execution_count": null,
   "metadata": {
    "collapsed": true
   },
   "outputs": [],
   "source": []
  },
  {
   "cell_type": "markdown",
   "metadata": {},
   "source": [
    "### Sampling - create training and validation sets for the models\n",
    "Next, we need to create training and validation datasets to use in modeling. The training will be 70% of original and validation the remaining 30%.\n",
    "<p>\n",
    "It is very important that when we create training and validation datasets, the rate of failure in those datasets remains the same as in the full set. If it's not the same as in the original dataset, our accuracy stats on the developed model will be wrong and cannot be trusted.\n",
    "<p>\n",
    "My initial plan for creating train and validation datasets was to use train_test_split() from sklearn. However, I was suspicious that with such a low rate of failure in the input dataset (0.000851), the train_test_split() function will not properly sample the data, and the resulting rates will be different.\n",
    "<p>\n",
    "I created samples with train_test_split(), but the problem is that the sampling process yields train/validation samples with different failure rates - in one of the draws, the training ended up having a failure rate which was about 1.5 times higher than in the original.\n",
    "<p>\n",
    "Therefore, I implemented a controled sampling from the original set.\n",
    "<p>\n",
    "After the sampling, the datasets are split into X and Y sets to use in the models."
   ]
  },
  {
   "cell_type": "code",
   "execution_count": 78,
   "metadata": {},
   "outputs": [
    {
     "name": "stdout",
     "output_type": "stream",
     "text": [
      "Rate of failures in the original set is 0.0008522 \n",
      "Rate of failures in training is 0.0008499\n",
      "Rate of failures in validation is 0.0008575\n"
     ]
    }
   ],
   "source": [
    "# Split the data into training and validation - 70% training and 30% validation\n",
    "\n",
    "sample_size = .7\n",
    "_failure = analysis_set[analysis_set[\"failure\"] == 1]\n",
    "_non_failure = analysis_set[analysis_set[\"failure\"] == 0]\n",
    "\n",
    "# Create the training set - 70% of observations\n",
    "_failure_t = _failure.sample(frac = sample_size,\n",
    "                             replace = False,\n",
    "                             weights = None,\n",
    "                             random_state = 7894)\n",
    "\n",
    "_non_failure_t = _non_failure.sample(frac = sample_size,\n",
    "                                     replace = False,\n",
    "                                     weights = None,\n",
    "                                     random_state = 7894)\n",
    "\n",
    "training_set = pd.concat([_failure_t, _non_failure_t])\n",
    "\n",
    "\n",
    "# Create the validaton sample - drop the rows that were sampled for the training sets - 30% of observations\n",
    "_failure_v = _failure.drop(_failure_t.index.tolist())\n",
    "_non_failure_v = _non_failure.drop(_non_failure_t.index.tolist())\n",
    "\n",
    "validation_set = pd.concat([_failure_v, _non_failure_v])\n",
    "\n",
    "\n",
    "# Check if the % failure and non-failure remains the same in the training and validation as in the original dataset\n",
    "_orig_f = Decimal(len(analysis_set[analysis_set[\"failure\"] == 1])) / len(analysis_set[analysis_set[\"failure\"] == 0])\n",
    "print (\"Rate of failures in the original set is %0.7f \" % _orig_f)\n",
    "\n",
    "_train_f = Decimal(len(training_set[training_set[\"failure\"] == 1])) / len(training_set[training_set[\"failure\"] == 0])\n",
    "print (\"Rate of failures in training is %0.7f\" % _train_f)\n",
    "\n",
    "_validate_f = Decimal(len(validation_set[validation_set[\"failure\"] == 1])) / len(validation_set[validation_set[\"failure\"] == 0])\n",
    "print (\"Rate of failures in validation is %0.7f\" % _validate_f)\n"
   ]
  },
  {
   "cell_type": "markdown",
   "metadata": {},
   "source": [
    "The failure rates are approximately the same in the training and validation sets, and the next step is to create the X and Y sets for the models."
   ]
  },
  {
   "cell_type": "code",
   "execution_count": 79,
   "metadata": {
    "collapsed": true
   },
   "outputs": [],
   "source": [
    "# Create the X and Y sets for the models\n",
    "x_train = training_set.drop(\"failure\", axis = 1)\n",
    "x_validate = validation_set.drop(\"failure\", axis = 1)\n",
    "y_train = training_set[\"failure\"]\n",
    "y_validate = validation_set[\"failure\"]"
   ]
  },
  {
   "cell_type": "code",
   "execution_count": null,
   "metadata": {
    "collapsed": true
   },
   "outputs": [],
   "source": []
  },
  {
   "cell_type": "code",
   "execution_count": 80,
   "metadata": {},
   "outputs": [
    {
     "data": {
      "text/plain": [
       "1    87072\n",
       "0    87072\n",
       "dtype: int64"
      ]
     },
     "execution_count": 80,
     "metadata": {},
     "output_type": "execute_result"
    }
   ],
   "source": [
    "# Use Synthetic Minority Oversampling (SMOTE) to balance the datasets\n",
    "sm_params = {\"ratio\": \"minority\",\n",
    "             \"random_state\": 7894}\n",
    "\n",
    "sm = SMOTE(**sm_params)\n",
    "_x_train, _y_train = sm.fit_sample(x_train, y_train)\n",
    "\n",
    "x_train_w = pd.DataFrame(_x_train,\n",
    "                         columns = list(x_train.columns))\n",
    "y_train_w = pd.Series(_y_train)\n",
    "\n",
    "# Check the counts - should have the same counts of failures and non-failures\n",
    "y_train_w.value_counts()"
   ]
  },
  {
   "cell_type": "code",
   "execution_count": 81,
   "metadata": {
    "collapsed": true
   },
   "outputs": [],
   "source": [
    "# Create training/validation sets for the feature reduction and a separate ones for the training of models\n",
    "x_train = x_train_vs = x_train_w\n",
    "y_train = y_train_w"
   ]
  },
  {
   "cell_type": "code",
   "execution_count": null,
   "metadata": {
    "collapsed": true
   },
   "outputs": [],
   "source": []
  },
  {
   "cell_type": "markdown",
   "metadata": {},
   "source": [
    "### Variable selection\n",
    "The next step in the model development process is to find the features that are most predictive for the outcome. I'll use recursive feature elimination and Random Forest for finding the features that are important."
   ]
  },
  {
   "cell_type": "code",
   "execution_count": 31,
   "metadata": {},
   "outputs": [
    {
     "data": {
      "text/plain": [
       "[('attribute1', False, 11),\n",
       " ('attribute2', False, 9),\n",
       " ('attribute3', False, 8),\n",
       " ('attribute4', False, 4),\n",
       " ('attribute5', False, 6),\n",
       " ('attribute6', False, 10),\n",
       " ('attribute7', False, 3),\n",
       " ('attribute9', False, 7),\n",
       " ('attribute1_log', False, 2),\n",
       " ('attribute6_log', False, 5),\n",
       " ('attribute1_dummy', True, 1),\n",
       " ('attribute2_dummy', True, 1),\n",
       " ('attribute3_dummy', True, 1),\n",
       " ('attribute4_dummy', True, 1),\n",
       " ('attribute7_dummy', True, 1),\n",
       " ('attribute9_dummy', True, 1),\n",
       " ('day_of_week', True, 1),\n",
       " ('device_type_s', True, 1),\n",
       " ('device_type_w', True, 1),\n",
       " ('device_type_z', True, 1)]"
      ]
     },
     "execution_count": 31,
     "metadata": {},
     "output_type": "execute_result"
    }
   ],
   "source": [
    "# 1) Variable selection with Recursive Feature Elimination\n",
    "vs_rfe = RFE(LogisticRegression())\n",
    "vs_rfe.fit(x_train_vs, y_train)\n",
    "list(zip(x_train_vs, vs_rfe.support_, vs_rfe.ranking_))"
   ]
  },
  {
   "cell_type": "markdown",
   "metadata": {},
   "source": [
    "It appears that the recursive feature elimination suggests that we don't use in the model any of the dummies, except for the dummy for attribute1, and we shouldn't use the indicator for the type of device (s, w, z).\n",
    "<p>\n",
    "Let's start with a decision tree algorithm and see which variable are good predictors. I'll build a decision tree to understand if there are any features from which we need to create categories."
   ]
  },
  {
   "cell_type": "code",
   "execution_count": 41,
   "metadata": {},
   "outputs": [
    {
     "data": {
      "image/svg+xml": [
       "<?xml version=\"1.0\" encoding=\"UTF-8\" standalone=\"no\"?>\r\n",
       "<!DOCTYPE svg PUBLIC \"-//W3C//DTD SVG 1.1//EN\"\r\n",
       " \"http://www.w3.org/Graphics/SVG/1.1/DTD/svg11.dtd\">\r\n",
       "<!-- Generated by graphviz version 2.38.0 (20140413.2041)\r\n",
       " -->\r\n",
       "<!-- Title: Tree Pages: 1 -->\r\n",
       "<svg width=\"1218pt\" height=\"373pt\"\r\n",
       " viewBox=\"0.00 0.00 1217.50 373.00\" xmlns=\"http://www.w3.org/2000/svg\" xmlns:xlink=\"http://www.w3.org/1999/xlink\">\r\n",
       "<g id=\"graph0\" class=\"graph\" transform=\"scale(1 1) rotate(0) translate(4 369)\">\r\n",
       "<title>Tree</title>\r\n",
       "<polygon fill=\"white\" stroke=\"none\" points=\"-4,4 -4,-369 1213.5,-369 1213.5,4 -4,4\"/>\r\n",
       "<!-- 0 -->\r\n",
       "<g id=\"node1\" class=\"node\"><title>0</title>\r\n",
       "<path fill=\"none\" stroke=\"black\" d=\"M686,-365C686,-365 547,-365 547,-365 541,-365 535,-359 535,-353 535,-353 535,-309 535,-309 535,-303 541,-297 547,-297 547,-297 686,-297 686,-297 692,-297 698,-303 698,-309 698,-309 698,-353 698,-353 698,-359 692,-365 686,-365\"/>\r\n",
       "<text text-anchor=\"start\" x=\"569.5\" y=\"-349.8\" font-family=\"Helvetica,sans-Serif\" font-size=\"14.00\">attribute4 ≤ 0.0</text>\r\n",
       "<text text-anchor=\"start\" x=\"587.5\" y=\"-334.8\" font-family=\"Helvetica,sans-Serif\" font-size=\"14.00\">gini = 0.5</text>\r\n",
       "<text text-anchor=\"start\" x=\"556.5\" y=\"-319.8\" font-family=\"Helvetica,sans-Serif\" font-size=\"14.00\">samples = 174144</text>\r\n",
       "<text text-anchor=\"start\" x=\"543\" y=\"-304.8\" font-family=\"Helvetica,sans-Serif\" font-size=\"14.00\">value = [87072, 87072]</text>\r\n",
       "</g>\r\n",
       "<!-- 1 -->\r\n",
       "<g id=\"node2\" class=\"node\"><title>1</title>\r\n",
       "<path fill=\"#e58139\" fill-opacity=\"0.827451\" stroke=\"black\" d=\"M575,-261C575,-261 434,-261 434,-261 428,-261 422,-255 422,-249 422,-249 422,-205 422,-205 422,-199 428,-193 434,-193 434,-193 575,-193 575,-193 581,-193 587,-199 587,-205 587,-205 587,-249 587,-249 587,-255 581,-261 575,-261\"/>\r\n",
       "<text text-anchor=\"start\" x=\"430\" y=\"-245.8\" font-family=\"Helvetica,sans-Serif\" font-size=\"14.00\">attribute7_dummy ≤ 0.0</text>\r\n",
       "<text text-anchor=\"start\" x=\"467\" y=\"-230.8\" font-family=\"Helvetica,sans-Serif\" font-size=\"14.00\">gini = 0.249</text>\r\n",
       "<text text-anchor=\"start\" x=\"448.5\" y=\"-215.8\" font-family=\"Helvetica,sans-Serif\" font-size=\"14.00\">samples = 94406</text>\r\n",
       "<text text-anchor=\"start\" x=\"431\" y=\"-200.8\" font-family=\"Helvetica,sans-Serif\" font-size=\"14.00\">value = [80623, 13783]</text>\r\n",
       "</g>\r\n",
       "<!-- 0&#45;&gt;1 -->\r\n",
       "<g id=\"edge1\" class=\"edge\"><title>0&#45;&gt;1</title>\r\n",
       "<path fill=\"none\" stroke=\"black\" d=\"M580.137,-296.884C570.063,-287.709 559.018,-277.65 548.556,-268.123\"/>\r\n",
       "<polygon fill=\"black\" stroke=\"black\" points=\"550.814,-265.445 541.064,-261.299 546.101,-270.62 550.814,-265.445\"/>\r\n",
       "<text text-anchor=\"middle\" x=\"542.231\" y=\"-282.572\" font-family=\"Helvetica,sans-Serif\" font-size=\"14.00\">True</text>\r\n",
       "</g>\r\n",
       "<!-- 8 -->\r\n",
       "<g id=\"node9\" class=\"node\"><title>8</title>\r\n",
       "<path fill=\"#399de5\" fill-opacity=\"0.913725\" stroke=\"black\" d=\"M794,-261C794,-261 663,-261 663,-261 657,-261 651,-255 651,-249 651,-249 651,-205 651,-205 651,-199 657,-193 663,-193 663,-193 794,-193 794,-193 800,-193 806,-199 806,-205 806,-205 806,-249 806,-249 806,-255 800,-261 794,-261\"/>\r\n",
       "<text text-anchor=\"start\" x=\"668\" y=\"-245.8\" font-family=\"Helvetica,sans-Serif\" font-size=\"14.00\">day_of_week ≤ 5.0</text>\r\n",
       "<text text-anchor=\"start\" x=\"691\" y=\"-230.8\" font-family=\"Helvetica,sans-Serif\" font-size=\"14.00\">gini = 0.149</text>\r\n",
       "<text text-anchor=\"start\" x=\"672.5\" y=\"-215.8\" font-family=\"Helvetica,sans-Serif\" font-size=\"14.00\">samples = 79738</text>\r\n",
       "<text text-anchor=\"start\" x=\"659\" y=\"-200.8\" font-family=\"Helvetica,sans-Serif\" font-size=\"14.00\">value = [6449, 73289]</text>\r\n",
       "</g>\r\n",
       "<!-- 0&#45;&gt;8 -->\r\n",
       "<g id=\"edge8\" class=\"edge\"><title>0&#45;&gt;8</title>\r\n",
       "<path fill=\"none\" stroke=\"black\" d=\"M652.863,-296.884C662.937,-287.709 673.982,-277.65 684.444,-268.123\"/>\r\n",
       "<polygon fill=\"black\" stroke=\"black\" points=\"686.899,-270.62 691.936,-261.299 682.186,-265.445 686.899,-270.62\"/>\r\n",
       "<text text-anchor=\"middle\" x=\"690.769\" y=\"-282.572\" font-family=\"Helvetica,sans-Serif\" font-size=\"14.00\">False</text>\r\n",
       "</g>\r\n",
       "<!-- 2 -->\r\n",
       "<g id=\"node3\" class=\"node\"><title>2</title>\r\n",
       "<path fill=\"#e58139\" fill-opacity=\"0.917647\" stroke=\"black\" d=\"M312,-157C312,-157 181,-157 181,-157 175,-157 169,-151 169,-145 169,-145 169,-101 169,-101 169,-95 175,-89 181,-89 181,-89 312,-89 312,-89 318,-89 324,-95 324,-101 324,-101 324,-145 324,-145 324,-151 318,-157 312,-157\"/>\r\n",
       "<text text-anchor=\"start\" x=\"191\" y=\"-141.8\" font-family=\"Helvetica,sans-Serif\" font-size=\"14.00\">attribute2 ≤ 0.038</text>\r\n",
       "<text text-anchor=\"start\" x=\"209\" y=\"-126.8\" font-family=\"Helvetica,sans-Serif\" font-size=\"14.00\">gini = 0.143</text>\r\n",
       "<text text-anchor=\"start\" x=\"190.5\" y=\"-111.8\" font-family=\"Helvetica,sans-Serif\" font-size=\"14.00\">samples = 86794</text>\r\n",
       "<text text-anchor=\"start\" x=\"177\" y=\"-96.8\" font-family=\"Helvetica,sans-Serif\" font-size=\"14.00\">value = [80073, 6721]</text>\r\n",
       "</g>\r\n",
       "<!-- 1&#45;&gt;2 -->\r\n",
       "<g id=\"edge2\" class=\"edge\"><title>1&#45;&gt;2</title>\r\n",
       "<path fill=\"none\" stroke=\"black\" d=\"M421.803,-193.306C393.729,-182.207 362.283,-169.775 333.858,-158.537\"/>\r\n",
       "<polygon fill=\"black\" stroke=\"black\" points=\"334.93,-155.197 324.343,-154.775 332.356,-161.707 334.93,-155.197\"/>\r\n",
       "</g>\r\n",
       "<!-- 5 -->\r\n",
       "<g id=\"node6\" class=\"node\"><title>5</title>\r\n",
       "<path fill=\"#399de5\" fill-opacity=\"0.921569\" stroke=\"black\" d=\"M575,-157C575,-157 434,-157 434,-157 428,-157 422,-151 422,-145 422,-145 422,-101 422,-101 422,-95 428,-89 434,-89 434,-89 575,-89 575,-89 581,-89 587,-95 587,-101 587,-101 587,-145 587,-145 587,-151 581,-157 575,-157\"/>\r\n",
       "<text text-anchor=\"start\" x=\"430\" y=\"-141.8\" font-family=\"Helvetica,sans-Serif\" font-size=\"14.00\">attribute7_dummy ≤ 1.0</text>\r\n",
       "<text text-anchor=\"start\" x=\"467\" y=\"-126.8\" font-family=\"Helvetica,sans-Serif\" font-size=\"14.00\">gini = 0.134</text>\r\n",
       "<text text-anchor=\"start\" x=\"453\" y=\"-111.8\" font-family=\"Helvetica,sans-Serif\" font-size=\"14.00\">samples = 7612</text>\r\n",
       "<text text-anchor=\"start\" x=\"443.5\" y=\"-96.8\" font-family=\"Helvetica,sans-Serif\" font-size=\"14.00\">value = [550, 7062]</text>\r\n",
       "</g>\r\n",
       "<!-- 1&#45;&gt;5 -->\r\n",
       "<g id=\"edge5\" class=\"edge\"><title>1&#45;&gt;5</title>\r\n",
       "<path fill=\"none\" stroke=\"black\" d=\"M504.5,-192.884C504.5,-184.778 504.5,-175.982 504.5,-167.472\"/>\r\n",
       "<polygon fill=\"black\" stroke=\"black\" points=\"508,-167.299 504.5,-157.299 501,-167.299 508,-167.299\"/>\r\n",
       "</g>\r\n",
       "<!-- 3 -->\r\n",
       "<g id=\"node4\" class=\"node\"><title>3</title>\r\n",
       "<path fill=\"#e58139\" fill-opacity=\"0.960784\" stroke=\"black\" d=\"M143,-53C143,-53 12,-53 12,-53 6,-53 0,-47 0,-41 0,-41 0,-12 0,-12 0,-6 6,-0 12,-0 12,-0 143,-0 143,-0 149,-0 155,-6 155,-12 155,-12 155,-41 155,-41 155,-47 149,-53 143,-53\"/>\r\n",
       "<text text-anchor=\"start\" x=\"40\" y=\"-37.8\" font-family=\"Helvetica,sans-Serif\" font-size=\"14.00\">gini = 0.071</text>\r\n",
       "<text text-anchor=\"start\" x=\"21.5\" y=\"-22.8\" font-family=\"Helvetica,sans-Serif\" font-size=\"14.00\">samples = 80135</text>\r\n",
       "<text text-anchor=\"start\" x=\"8\" y=\"-7.8\" font-family=\"Helvetica,sans-Serif\" font-size=\"14.00\">value = [77175, 2960]</text>\r\n",
       "</g>\r\n",
       "<!-- 2&#45;&gt;3 -->\r\n",
       "<g id=\"edge3\" class=\"edge\"><title>2&#45;&gt;3</title>\r\n",
       "<path fill=\"none\" stroke=\"black\" d=\"M187.392,-88.9485C169.479,-78.9318 149.887,-67.9767 132.271,-58.1263\"/>\r\n",
       "<polygon fill=\"black\" stroke=\"black\" points=\"133.695,-54.9124 123.258,-53.0867 130.278,-61.0221 133.695,-54.9124\"/>\r\n",
       "</g>\r\n",
       "<!-- 4 -->\r\n",
       "<g id=\"node5\" class=\"node\"><title>4</title>\r\n",
       "<path fill=\"#399de5\" fill-opacity=\"0.231373\" stroke=\"black\" d=\"M307.5,-53C307.5,-53 185.5,-53 185.5,-53 179.5,-53 173.5,-47 173.5,-41 173.5,-41 173.5,-12 173.5,-12 173.5,-6 179.5,-0 185.5,-0 185.5,-0 307.5,-0 307.5,-0 313.5,-0 319.5,-6 319.5,-12 319.5,-12 319.5,-41 319.5,-41 319.5,-47 313.5,-53 307.5,-53\"/>\r\n",
       "<text text-anchor=\"start\" x=\"209\" y=\"-37.8\" font-family=\"Helvetica,sans-Serif\" font-size=\"14.00\">gini = 0.492</text>\r\n",
       "<text text-anchor=\"start\" x=\"195\" y=\"-22.8\" font-family=\"Helvetica,sans-Serif\" font-size=\"14.00\">samples = 6659</text>\r\n",
       "<text text-anchor=\"start\" x=\"181.5\" y=\"-7.8\" font-family=\"Helvetica,sans-Serif\" font-size=\"14.00\">value = [2898, 3761]</text>\r\n",
       "</g>\r\n",
       "<!-- 2&#45;&gt;4 -->\r\n",
       "<g id=\"edge4\" class=\"edge\"><title>2&#45;&gt;4</title>\r\n",
       "<path fill=\"none\" stroke=\"black\" d=\"M246.5,-88.9485C246.5,-80.7153 246.5,-71.848 246.5,-63.4814\"/>\r\n",
       "<polygon fill=\"black\" stroke=\"black\" points=\"250,-63.2367 246.5,-53.2367 243,-63.2367 250,-63.2367\"/>\r\n",
       "</g>\r\n",
       "<!-- 6 -->\r\n",
       "<g id=\"node7\" class=\"node\"><title>6</title>\r\n",
       "<path fill=\"#399de5\" stroke=\"black\" d=\"M447.5,-53C447.5,-53 349.5,-53 349.5,-53 343.5,-53 337.5,-47 337.5,-41 337.5,-41 337.5,-12 337.5,-12 337.5,-6 343.5,-0 349.5,-0 349.5,-0 447.5,-0 447.5,-0 453.5,-0 459.5,-6 459.5,-12 459.5,-12 459.5,-41 459.5,-41 459.5,-47 453.5,-53 447.5,-53\"/>\r\n",
       "<text text-anchor=\"start\" x=\"369.5\" y=\"-37.8\" font-family=\"Helvetica,sans-Serif\" font-size=\"14.00\">gini = 0.0</text>\r\n",
       "<text text-anchor=\"start\" x=\"347\" y=\"-22.8\" font-family=\"Helvetica,sans-Serif\" font-size=\"14.00\">samples = 6541</text>\r\n",
       "<text text-anchor=\"start\" x=\"345.5\" y=\"-7.8\" font-family=\"Helvetica,sans-Serif\" font-size=\"14.00\">value = [0, 6541]</text>\r\n",
       "</g>\r\n",
       "<!-- 5&#45;&gt;6 -->\r\n",
       "<g id=\"edge6\" class=\"edge\"><title>5&#45;&gt;6</title>\r\n",
       "<path fill=\"none\" stroke=\"black\" d=\"M467.426,-88.9485C456.96,-79.6175 445.58,-69.4722 435.139,-60.1641\"/>\r\n",
       "<polygon fill=\"black\" stroke=\"black\" points=\"437.162,-57.2788 427.369,-53.2367 432.504,-62.5038 437.162,-57.2788\"/>\r\n",
       "</g>\r\n",
       "<!-- 7 -->\r\n",
       "<g id=\"node8\" class=\"node\"><title>7</title>\r\n",
       "<path fill=\"#e58139\" fill-opacity=\"0.050980\" stroke=\"black\" d=\"M595.5,-53C595.5,-53 489.5,-53 489.5,-53 483.5,-53 477.5,-47 477.5,-41 477.5,-41 477.5,-12 477.5,-12 477.5,-6 483.5,-0 489.5,-0 489.5,-0 595.5,-0 595.5,-0 601.5,-0 607.5,-6 607.5,-12 607.5,-12 607.5,-41 607.5,-41 607.5,-47 601.5,-53 595.5,-53\"/>\r\n",
       "<text text-anchor=\"start\" x=\"513.5\" y=\"-37.8\" font-family=\"Helvetica,sans-Serif\" font-size=\"14.00\">gini = 0.5</text>\r\n",
       "<text text-anchor=\"start\" x=\"491\" y=\"-22.8\" font-family=\"Helvetica,sans-Serif\" font-size=\"14.00\">samples = 1071</text>\r\n",
       "<text text-anchor=\"start\" x=\"485.5\" y=\"-7.8\" font-family=\"Helvetica,sans-Serif\" font-size=\"14.00\">value = [550, 521]</text>\r\n",
       "</g>\r\n",
       "<!-- 5&#45;&gt;7 -->\r\n",
       "<g id=\"edge7\" class=\"edge\"><title>5&#45;&gt;7</title>\r\n",
       "<path fill=\"none\" stroke=\"black\" d=\"M517.791,-88.9485C521.212,-80.4408 524.905,-71.2562 528.367,-62.6464\"/>\r\n",
       "<polygon fill=\"black\" stroke=\"black\" points=\"531.667,-63.8205 532.151,-53.2367 525.173,-61.2089 531.667,-63.8205\"/>\r\n",
       "</g>\r\n",
       "<!-- 9 -->\r\n",
       "<g id=\"node10\" class=\"node\"><title>9</title>\r\n",
       "<path fill=\"#399de5\" fill-opacity=\"0.937255\" stroke=\"black\" d=\"M799,-157C799,-157 658,-157 658,-157 652,-157 646,-151 646,-145 646,-145 646,-101 646,-101 646,-95 652,-89 658,-89 658,-89 799,-89 799,-89 805,-89 811,-95 811,-101 811,-101 811,-145 811,-145 811,-151 805,-157 799,-157\"/>\r\n",
       "<text text-anchor=\"start\" x=\"654\" y=\"-141.8\" font-family=\"Helvetica,sans-Serif\" font-size=\"14.00\">attribute4_dummy ≤ 1.0</text>\r\n",
       "<text text-anchor=\"start\" x=\"691\" y=\"-126.8\" font-family=\"Helvetica,sans-Serif\" font-size=\"14.00\">gini = 0.112</text>\r\n",
       "<text text-anchor=\"start\" x=\"672.5\" y=\"-111.8\" font-family=\"Helvetica,sans-Serif\" font-size=\"14.00\">samples = 76495</text>\r\n",
       "<text text-anchor=\"start\" x=\"659\" y=\"-96.8\" font-family=\"Helvetica,sans-Serif\" font-size=\"14.00\">value = [4576, 71919]</text>\r\n",
       "</g>\r\n",
       "<!-- 8&#45;&gt;9 -->\r\n",
       "<g id=\"edge9\" class=\"edge\"><title>8&#45;&gt;9</title>\r\n",
       "<path fill=\"none\" stroke=\"black\" d=\"M728.5,-192.884C728.5,-184.778 728.5,-175.982 728.5,-167.472\"/>\r\n",
       "<polygon fill=\"black\" stroke=\"black\" points=\"732,-167.299 728.5,-157.299 725,-167.299 732,-167.299\"/>\r\n",
       "</g>\r\n",
       "<!-- 12 -->\r\n",
       "<g id=\"node13\" class=\"node\"><title>12</title>\r\n",
       "<path fill=\"#e58139\" fill-opacity=\"0.266667\" stroke=\"black\" d=\"M1079,-157C1079,-157 938,-157 938,-157 932,-157 926,-151 926,-145 926,-145 926,-101 926,-101 926,-95 932,-89 938,-89 938,-89 1079,-89 1079,-89 1085,-89 1091,-95 1091,-101 1091,-101 1091,-145 1091,-145 1091,-151 1085,-157 1079,-157\"/>\r\n",
       "<text text-anchor=\"start\" x=\"934\" y=\"-141.8\" font-family=\"Helvetica,sans-Serif\" font-size=\"14.00\">attribute4_dummy ≤ 1.0</text>\r\n",
       "<text text-anchor=\"start\" x=\"971\" y=\"-126.8\" font-family=\"Helvetica,sans-Serif\" font-size=\"14.00\">gini = 0.488</text>\r\n",
       "<text text-anchor=\"start\" x=\"957\" y=\"-111.8\" font-family=\"Helvetica,sans-Serif\" font-size=\"14.00\">samples = 3243</text>\r\n",
       "<text text-anchor=\"start\" x=\"943.5\" y=\"-96.8\" font-family=\"Helvetica,sans-Serif\" font-size=\"14.00\">value = [1873, 1370]</text>\r\n",
       "</g>\r\n",
       "<!-- 8&#45;&gt;12 -->\r\n",
       "<g id=\"edge12\" class=\"edge\"><title>8&#45;&gt;12</title>\r\n",
       "<path fill=\"none\" stroke=\"black\" d=\"M806.124,-197.723C840.295,-185.275 880.697,-170.557 916.381,-157.558\"/>\r\n",
       "<polygon fill=\"black\" stroke=\"black\" points=\"917.629,-160.828 925.827,-154.117 915.233,-154.251 917.629,-160.828\"/>\r\n",
       "</g>\r\n",
       "<!-- 10 -->\r\n",
       "<g id=\"node11\" class=\"node\"><title>10</title>\r\n",
       "<path fill=\"#399de5\" stroke=\"black\" d=\"M743.5,-53C743.5,-53 637.5,-53 637.5,-53 631.5,-53 625.5,-47 625.5,-41 625.5,-41 625.5,-12 625.5,-12 625.5,-6 631.5,-0 637.5,-0 637.5,-0 743.5,-0 743.5,-0 749.5,-0 755.5,-6 755.5,-12 755.5,-12 755.5,-41 755.5,-41 755.5,-47 749.5,-53 743.5,-53\"/>\r\n",
       "<text text-anchor=\"start\" x=\"661.5\" y=\"-37.8\" font-family=\"Helvetica,sans-Serif\" font-size=\"14.00\">gini = 0.0</text>\r\n",
       "<text text-anchor=\"start\" x=\"634.5\" y=\"-22.8\" font-family=\"Helvetica,sans-Serif\" font-size=\"14.00\">samples = 46084</text>\r\n",
       "<text text-anchor=\"start\" x=\"633.5\" y=\"-7.8\" font-family=\"Helvetica,sans-Serif\" font-size=\"14.00\">value = [0, 46084]</text>\r\n",
       "</g>\r\n",
       "<!-- 9&#45;&gt;10 -->\r\n",
       "<g id=\"edge10\" class=\"edge\"><title>9&#45;&gt;10</title>\r\n",
       "<path fill=\"none\" stroke=\"black\" d=\"M715.209,-88.9485C711.788,-80.4408 708.095,-71.2562 704.633,-62.6464\"/>\r\n",
       "<polygon fill=\"black\" stroke=\"black\" points=\"707.827,-61.2089 700.849,-53.2367 701.333,-63.8205 707.827,-61.2089\"/>\r\n",
       "</g>\r\n",
       "<!-- 11 -->\r\n",
       "<g id=\"node12\" class=\"node\"><title>11</title>\r\n",
       "<path fill=\"#399de5\" fill-opacity=\"0.823529\" stroke=\"black\" d=\"M917,-53C917,-53 786,-53 786,-53 780,-53 774,-47 774,-41 774,-41 774,-12 774,-12 774,-6 780,-0 786,-0 786,-0 917,-0 917,-0 923,-0 929,-6 929,-12 929,-12 929,-41 929,-41 929,-47 923,-53 917,-53\"/>\r\n",
       "<text text-anchor=\"start\" x=\"814\" y=\"-37.8\" font-family=\"Helvetica,sans-Serif\" font-size=\"14.00\">gini = 0.256</text>\r\n",
       "<text text-anchor=\"start\" x=\"795.5\" y=\"-22.8\" font-family=\"Helvetica,sans-Serif\" font-size=\"14.00\">samples = 30411</text>\r\n",
       "<text text-anchor=\"start\" x=\"782\" y=\"-7.8\" font-family=\"Helvetica,sans-Serif\" font-size=\"14.00\">value = [4576, 25835]</text>\r\n",
       "</g>\r\n",
       "<!-- 9&#45;&gt;11 -->\r\n",
       "<g id=\"edge11\" class=\"edge\"><title>9&#45;&gt;11</title>\r\n",
       "<path fill=\"none\" stroke=\"black\" d=\"M771.519,-88.9485C784.022,-79.3431 797.647,-68.8747 810.051,-59.345\"/>\r\n",
       "<polygon fill=\"black\" stroke=\"black\" points=\"812.204,-62.1046 818.001,-53.2367 807.939,-56.5537 812.204,-62.1046\"/>\r\n",
       "</g>\r\n",
       "<!-- 13 -->\r\n",
       "<g id=\"node14\" class=\"node\"><title>13</title>\r\n",
       "<path fill=\"#399de5\" stroke=\"black\" d=\"M1057.5,-53C1057.5,-53 959.5,-53 959.5,-53 953.5,-53 947.5,-47 947.5,-41 947.5,-41 947.5,-12 947.5,-12 947.5,-6 953.5,-0 959.5,-0 959.5,-0 1057.5,-0 1057.5,-0 1063.5,-0 1069.5,-6 1069.5,-12 1069.5,-12 1069.5,-41 1069.5,-41 1069.5,-47 1063.5,-53 1057.5,-53\"/>\r\n",
       "<text text-anchor=\"start\" x=\"979.5\" y=\"-37.8\" font-family=\"Helvetica,sans-Serif\" font-size=\"14.00\">gini = 0.0</text>\r\n",
       "<text text-anchor=\"start\" x=\"957\" y=\"-22.8\" font-family=\"Helvetica,sans-Serif\" font-size=\"14.00\">samples = 1367</text>\r\n",
       "<text text-anchor=\"start\" x=\"955.5\" y=\"-7.8\" font-family=\"Helvetica,sans-Serif\" font-size=\"14.00\">value = [0, 1367]</text>\r\n",
       "</g>\r\n",
       "<!-- 12&#45;&gt;13 -->\r\n",
       "<g id=\"edge13\" class=\"edge\"><title>12&#45;&gt;13</title>\r\n",
       "<path fill=\"none\" stroke=\"black\" d=\"M1008.5,-88.9485C1008.5,-80.7153 1008.5,-71.848 1008.5,-63.4814\"/>\r\n",
       "<polygon fill=\"black\" stroke=\"black\" points=\"1012,-63.2367 1008.5,-53.2367 1005,-63.2367 1012,-63.2367\"/>\r\n",
       "</g>\r\n",
       "<!-- 14 -->\r\n",
       "<g id=\"node15\" class=\"node\"><title>14</title>\r\n",
       "<path fill=\"#e58139\" stroke=\"black\" d=\"M1197.5,-53C1197.5,-53 1099.5,-53 1099.5,-53 1093.5,-53 1087.5,-47 1087.5,-41 1087.5,-41 1087.5,-12 1087.5,-12 1087.5,-6 1093.5,-0 1099.5,-0 1099.5,-0 1197.5,-0 1197.5,-0 1203.5,-0 1209.5,-6 1209.5,-12 1209.5,-12 1209.5,-41 1209.5,-41 1209.5,-47 1203.5,-53 1197.5,-53\"/>\r\n",
       "<text text-anchor=\"start\" x=\"1111\" y=\"-37.8\" font-family=\"Helvetica,sans-Serif\" font-size=\"14.00\">gini = 0.003</text>\r\n",
       "<text text-anchor=\"start\" x=\"1097\" y=\"-22.8\" font-family=\"Helvetica,sans-Serif\" font-size=\"14.00\">samples = 1876</text>\r\n",
       "<text text-anchor=\"start\" x=\"1095.5\" y=\"-7.8\" font-family=\"Helvetica,sans-Serif\" font-size=\"14.00\">value = [1873, 3]</text>\r\n",
       "</g>\r\n",
       "<!-- 12&#45;&gt;14 -->\r\n",
       "<g id=\"edge14\" class=\"edge\"><title>12&#45;&gt;14</title>\r\n",
       "<path fill=\"none\" stroke=\"black\" d=\"M1057.47,-88.9485C1071.83,-79.2516 1087.5,-68.6752 1101.73,-59.073\"/>\r\n",
       "<polygon fill=\"black\" stroke=\"black\" points=\"1104.04,-61.7325 1110.37,-53.2367 1100.12,-55.9305 1104.04,-61.7325\"/>\r\n",
       "</g>\r\n",
       "</g>\r\n",
       "</svg>\r\n"
      ],
      "text/plain": [
       "<graphviz.files.Source at 0xedb9048>"
      ]
     },
     "execution_count": 41,
     "metadata": {},
     "output_type": "execute_result"
    }
   ],
   "source": [
    "# Specify the decision tree model and fit\n",
    "dt_params = {\"criterion\": \"gini\",    \n",
    "             \"random_state\": 0,\n",
    "             \"max_depth\": 3,\n",
    "             \"min_samples_split\": 20}\n",
    "\n",
    "vs_model_dt = DecisionTreeClassifier(**dt_params)\n",
    "vs_model_dt.fit(x_train, y_train)\n",
    "\n",
    "# Visualize the decision tree\n",
    "# Export the data from the decision tree as a DOT object\n",
    "dt_viz = export_graphviz(vs_model_dt,\n",
    "                         out_file = None,\n",
    "                         feature_names = list(x_train),\n",
    "                         filled = True, rounded = True,\n",
    "                         special_characters = True)\n",
    "\n",
    "\n",
    "# Plot the tree and explore which features split the tree\n",
    "graphviz.Source(dt_viz)"
   ]
  },
  {
   "cell_type": "code",
   "execution_count": null,
   "metadata": {
    "collapsed": true
   },
   "outputs": [],
   "source": []
  },
  {
   "cell_type": "markdown",
   "metadata": {},
   "source": [
    "Let's see what Random Forest suggests as important variables."
   ]
  },
  {
   "cell_type": "code",
   "execution_count": 42,
   "metadata": {},
   "outputs": [
    {
     "data": {
      "image/png": "[encoded data removed]",
      "text/plain": [
       "<matplotlib.figure.Figure at 0x12d43fd0>"
      ]
     },
     "metadata": {},
     "output_type": "display_data"
    }
   ],
   "source": [
    "# 2) Variable selection using the feature importance from Random Forest\n",
    "# At this step Random Forest is used only as a feature selection method. I'll obtain the feature importance from RF\n",
    "# At a later stage, I'll also use Random Forest as a classification model\n",
    "\n",
    "rf_vs_params = {\"n_estimators\": 1000,             # From prior experience I've noticed that a few hundred trees are usually enough for small datasets\n",
    "                \"random_state\": 0,\n",
    "                \"max_depth\": 3                  # We don't have much observations, so that's why I set max tree depth to 3\n",
    "                #,\"class_weight\": \"balanced\"      # Note needed when the dataset has been balanced with SMOTE\n",
    "               }\n",
    "\n",
    "model_rf_vs = RandomForestClassifier(**rf_vs_params)\n",
    "model_rf_vs.fit(x_train_vs, y_train)\n",
    "\n",
    "# Plot the feature importance values\n",
    "def plotFeatureImportance(model, x_data):\n",
    "    plt.figure(figsize = (8, 7))\n",
    "    num_features = len(list(x_data.columns))\n",
    "    plt.barh(range(num_features), model.feature_importances_)\n",
    "    plt.yticks(np.arange(num_features), list(x_data.columns))\n",
    "    plt.xlabel(\"Variables importance\")\n",
    "    plt.ylabel(\"Variables names\")\n",
    "    \n",
    "plotFeatureImportance(model_rf_vs, x_train_vs)"
   ]
  },
  {
   "cell_type": "code",
   "execution_count": null,
   "metadata": {
    "collapsed": true
   },
   "outputs": [],
   "source": []
  },
  {
   "cell_type": "markdown",
   "metadata": {},
   "source": [
    "Based on the variable importance plot, I'll drop certain features, and will re-run the Random Forest selection."
   ]
  },
  {
   "cell_type": "code",
   "execution_count": null,
   "metadata": {
    "collapsed": true
   },
   "outputs": [],
   "source": [
    "# Drop weak variables\n",
    "drop_col = [\"attribute1\", \"attribute3\", \"attribute5\", \"attribute6\", \"attribute9\", \"attribute1_log\", \"attribute6_log\",\n",
    "            \"attribute1_dummy\", \"attribute3_dummy\", \"attribute9_dummy\",\n",
    "            \"device_type_z\", \"device_type_w\", \"device_type_s\",\n",
    "            \"attribute1_s\", \"attribute3_s\", \"attribute5_s\", \"attribute6_s\", \"attribute9_s\"]\n",
    "\n",
    "x_train_vs = x_train_vs.drop(drop_col, axis = 1)\n",
    "\n",
    "\n",
    "# Re-run feature importance\n",
    "rf_vs_params = {\"n_estimators\": 500,\n",
    "                \"random_state\": 0,\n",
    "                \"max_depth\": 3,\n",
    "                \"class_weight\": \"balanced\"}\n",
    "\n",
    "model_rf_vs = RandomForestClassifier(**rf_vs_params)\n",
    "model_rf_vs.fit(x_train_vs, y_train)\n",
    "\n",
    "# Plot the feature importance values\n",
    "def plotFeatureImportance(model, x_data):\n",
    "    plt.figure(figsize = (8, 7))\n",
    "    num_features = len(list(x_data.columns))\n",
    "    plt.barh(range(num_features), model.feature_importances_)\n",
    "    plt.yticks(np.arange(num_features), list(x_data.columns))\n",
    "    plt.xlabel(\"Variables importance\")\n",
    "    plt.ylabel(\"Variables names\")\n",
    "    \n",
    "plotFeatureImportance(model_rf_vs, x_train_vs)"
   ]
  },
  {
   "cell_type": "code",
   "execution_count": null,
   "metadata": {
    "collapsed": true
   },
   "outputs": [],
   "source": []
  },
  {
   "cell_type": "markdown",
   "metadata": {},
   "source": [
    "Print goodness-of-fit stats from Logistic regression.\n",
    "<br>\n",
    "These stats give us an idea of the explanatory power of each variable, and guide our decision which varaibles to use in the models."
   ]
  },
  {
   "cell_type": "code",
   "execution_count": null,
   "metadata": {
    "collapsed": true
   },
   "outputs": [],
   "source": [
    "import statsmodels.api as sm\n",
    "\n",
    "model_lr_vs = sm.Logit(y_train, x_train_vs).fit()\n",
    "print(model_lr_vs.summary())"
   ]
  },
  {
   "cell_type": "code",
   "execution_count": null,
   "metadata": {
    "collapsed": true
   },
   "outputs": [],
   "source": []
  },
  {
   "cell_type": "markdown",
   "metadata": {},
   "source": [
    "### Use XG Boost for variable selection"
   ]
  },
  {
   "cell_type": "code",
   "execution_count": null,
   "metadata": {
    "collapsed": true
   },
   "outputs": [],
   "source": [
    "cv_params = {\"max_depth\": [3, 5, 7],\n",
    "             \"min_child_weight\": [1, 3, 5]}\n",
    "\n",
    "xgb_params = {\"learning_rate\": 0.05,\n",
    "              \"n_estimators\": 10,\n",
    "              \"seed\": 0,\n",
    "              \"subsample\": 0.5,\n",
    "              \"colsample_bytree\": 0.5,\n",
    "              \"objective\": \"binary:logistic\",\n",
    "              \"silent\": 0}\n",
    "\n",
    "model_xgb_vs = xgb.XGBClassifier(**xgb_params)\n",
    "\n",
    "xgb_cv = GridSearchCV(model_xgb_vs,\n",
    "                      cv_params,\n",
    "                      scoring = 'accuracy', cv = 5, n_jobs = -1, verbose = True)\n"
   ]
  },
  {
   "cell_type": "code",
   "execution_count": null,
   "metadata": {
    "collapsed": true
   },
   "outputs": [],
   "source": [
    "xgb_cv.fit(x_train_vs, y_train)"
   ]
  },
  {
   "cell_type": "code",
   "execution_count": null,
   "metadata": {
    "collapsed": true
   },
   "outputs": [],
   "source": [
    "xgb_cv.cv_results_"
   ]
  },
  {
   "cell_type": "code",
   "execution_count": null,
   "metadata": {
    "collapsed": true
   },
   "outputs": [],
   "source": []
  },
  {
   "cell_type": "markdown",
   "metadata": {
    "collapsed": true
   },
   "source": [
    "Use grid search cross validation to optimize settings for XG Boost"
   ]
  },
  {
   "cell_type": "code",
   "execution_count": null,
   "metadata": {
    "collapsed": true
   },
   "outputs": [],
   "source": [
    "xgdmat = xgb.DMatrix(final_train, y_train) # Create our DMatrix to make XGBoost more efficient\n",
    "\n",
    "our_params = {\"eta\": 0.1,\n",
    "              \"seed\": 0,\n",
    "              \"subsample\": 0.8,\n",
    "              \"colsample_bytree\": 0.8,\n",
    "              \"objective\": \"binary:logistic\",\n",
    "              \"max_depth\": 3,\n",
    "              \"min_child_weight\": 1}\n",
    "\n",
    "model_xgb_vs = xgb.cv(params = our_params,\n",
    "                      dtrain = xgdmat,\n",
    "                      num_boost_round = 3000,\n",
    "                      nfold = 5,\n",
    "                      metrics = [\"error\"],\n",
    "                      early_stopping_rounds = 100)"
   ]
  },
  {
   "cell_type": "code",
   "execution_count": null,
   "metadata": {
    "collapsed": true
   },
   "outputs": [],
   "source": [
    "# Check how the model did\n",
    "cv_xgb.tail(5)"
   ]
  },
  {
   "cell_type": "code",
   "execution_count": null,
   "metadata": {
    "collapsed": true
   },
   "outputs": [],
   "source": [
    "# If needed, adjust parameters and save them in an object which is passed to the training\n",
    "final_xgb_params = {\"eta\": 0.1,\n",
    "                    \"seed\": 0,\n",
    "                    \"subsample\": 0.8,\n",
    "                    \"colsample_bytree\": 0.8,\n",
    "                    \"objective\": \"binary:logistic\",\n",
    "                    \"max_depth\": 3,\n",
    "                    \"min_child_weight\": 1}\n",
    "\n",
    "final_model_xgb_vs = xgb.train(our_params,\n",
    "                               xgdmat,\n",
    "                               num_boost_round = 432)"
   ]
  },
  {
   "cell_type": "code",
   "execution_count": null,
   "metadata": {
    "collapsed": true
   },
   "outputs": [],
   "source": [
    "importances = final_model_xgb_vs.get_fscore()"
   ]
  },
  {
   "cell_type": "code",
   "execution_count": null,
   "metadata": {
    "collapsed": true
   },
   "outputs": [],
   "source": [
    "xgb.plot_importance(final_model_xgb_vs)"
   ]
  },
  {
   "cell_type": "code",
   "execution_count": null,
   "metadata": {
    "collapsed": true
   },
   "outputs": [],
   "source": []
  },
  {
   "cell_type": "code",
   "execution_count": null,
   "metadata": {
    "collapsed": true
   },
   "outputs": [],
   "source": []
  },
  {
   "cell_type": "markdown",
   "metadata": {},
   "source": [
    "Before continuing with the models, make sure that the features in the validation sample are the same as those in the training. If they are not the same, the model will error out."
   ]
  },
  {
   "cell_type": "code",
   "execution_count": 99,
   "metadata": {
    "collapsed": true
   },
   "outputs": [],
   "source": [
    "x_validate = x_validate[list(x_train.columns)]"
   ]
  },
  {
   "cell_type": "code",
   "execution_count": null,
   "metadata": {
    "collapsed": true
   },
   "outputs": [],
   "source": []
  },
  {
   "cell_type": "markdown",
   "metadata": {},
   "source": [
    "## Models\n",
    "The following section contains the models I developed on the dataset. Each of the models will be trained and validated on two different datasets - scaled and synthetic dataset created with SMOTE.\n",
    "<p>\n",
    "The best models will be plotted on a ROC curve and print out the confusion matrix for each.\n",
    "<p>\n",
    "1. Logistic regression - This is the standard method for developing binary classification models. We'll use the logistic regression as a benchmark for all other methods\n",
    "2. Random forest classifier\n",
    "3. Gradient boosting with XGboost\n",
    "4. Support vector machine"
   ]
  },
  {
   "cell_type": "code",
   "execution_count": null,
   "metadata": {
    "collapsed": true
   },
   "outputs": [],
   "source": []
  },
  {
   "cell_type": "markdown",
   "metadata": {},
   "source": [
    "### 1. Logistic regression"
   ]
  },
  {
   "cell_type": "code",
   "execution_count": 100,
   "metadata": {},
   "outputs": [
    {
     "name": "stdout",
     "output_type": "stream",
     "text": [
      "Print stats for method: Logistic regression\n",
      "\n",
      "The number of False Negative in the validation set is 8 \n",
      "The number of False Positive in the validation set is 2636 \n",
      "\n",
      "Accuracy on training set is 0.92888\n",
      "Recall (tp/(tp+fn)) of training set is 0.59459\n",
      "\n",
      "Accuracy on validation set is 0.92921\n",
      "Recall (tp/(tp+fn)) of validation set is 0.75000\n"
     ]
    }
   ],
   "source": [
    "lr_params = {\"C\": 1.0,\n",
    "             \"penalty\": \"l2\",\n",
    "             \"class_weight\": \"balanced\"}    # parameter to adjust for the imbalanced dataset. Weights are proportional to class frequencies.\n",
    "\n",
    "model_lr = LogisticRegression(**lr_params)\n",
    "model_lr.fit(x_train, y_train)\n",
    "\n",
    "\n",
    "# Predict on training set and check the accuracy\n",
    "modelAccuracyStats(model_lr, \"Logistic regression\", x_train, y_train, x_validate, y_validate)"
   ]
  },
  {
   "cell_type": "code",
   "execution_count": null,
   "metadata": {
    "collapsed": true
   },
   "outputs": [],
   "source": []
  },
  {
   "cell_type": "markdown",
   "metadata": {},
   "source": [
    "### 2. Random forest classifier"
   ]
  },
  {
   "cell_type": "code",
   "execution_count": 106,
   "metadata": {},
   "outputs": [
    {
     "name": "stdout",
     "output_type": "stream",
     "text": [
      "Print stats for method: Random Forest\n",
      "\n",
      "The number of False Negative in the validation set is 5 \n",
      "The number of False Positive in the validation set is 3473 \n",
      "\n",
      "Accuracy on training set is 0.90686\n",
      "Recall (tp/(tp+fn)) of training set is 0.77027\n",
      "\n",
      "Accuracy on validation set is 0.90688\n",
      "Recall (tp/(tp+fn)) of validation set is 0.84375\n"
     ]
    }
   ],
   "source": [
    "rf_params = {\"n_estimators\": 1000,\n",
    "             \"random_state\": 0,\n",
    "             \"verbose\": 0,\n",
    "             \"max_depth\": 3,\n",
    "             \"n_jobs\": -1,\n",
    "             \"criterion\": \"gini\",\n",
    "             \"class_weight\": \"balanced\"}\n",
    "\n",
    "model_rf = RandomForestClassifier(**rf_params)\n",
    "model_rf.fit(x_train, y_train)\n",
    "\n",
    "# Predict on training set and check the accuracy\n",
    "modelAccuracyStats(model_rf, \"Random Forest\", x_train, y_train, x_validate, y_validate)"
   ]
  },
  {
   "cell_type": "code",
   "execution_count": null,
   "metadata": {
    "collapsed": true
   },
   "outputs": [],
   "source": []
  },
  {
   "cell_type": "markdown",
   "metadata": {},
   "source": [
    "### 3. Gradient boosting with XGboost"
   ]
  },
  {
   "cell_type": "code",
   "execution_count": null,
   "metadata": {
    "collapsed": true
   },
   "outputs": [],
   "source": [
    "xgdmat = xgb.DMatrix(x_train, y_train) # Create our DMatrix to make XGBoost more efficient\n",
    "\n",
    "xgb_cv_params = {\"eta\": 0.1,\n",
    "              \"seed\": 0,\n",
    "              \"subsample\": 0.8,\n",
    "              \"colsample_bytree\": 0.8,\n",
    "              \"objective\": \"binary:logistic\",\n",
    "              \"max_depth\": 3,\n",
    "              \"min_child_weight\": 1}\n",
    "\n",
    "model_xgb = xgb.cv(params = **xgb_cv_params,\n",
    "                      dtrain = xgdmat,\n",
    "                      num_boost_round = 3000,\n",
    "                      nfold = 5,\n",
    "                      metrics = [\"error\"],\n",
    "                      early_stopping_rounds = 100)\n",
    "\n",
    "# Check how the model did\n",
    "cv_xgb.tail(5)"
   ]
  },
  {
   "cell_type": "code",
   "execution_count": null,
   "metadata": {
    "collapsed": true
   },
   "outputs": [],
   "source": [
    "# If needed, adjust parameters and save them in an object which is passed to the training\n",
    "xgb_cv_params = {\"eta\": 0.1,\n",
    "                    \"seed\": 0,\n",
    "                    \"subsample\": 0.8,\n",
    "                    \"colsample_bytree\": 0.8,\n",
    "                    \"objective\": \"binary:logistic\",\n",
    "                    \"max_depth\": 3,\n",
    "                    \"min_child_weight\": 1}\n",
    "\n",
    "model_xgb = xgb.train(**xgb_cv_params,\n",
    "                               xgdmat,\n",
    "                               num_boost_round = 432)"
   ]
  },
  {
   "cell_type": "code",
   "execution_count": null,
   "metadata": {
    "collapsed": true
   },
   "outputs": [],
   "source": [
    "validate_dmat = xgb.DMatrix(x_validate)\n",
    "y_pred = final_gb.predict(validate_dmat) # Predict using our testdmat\n"
   ]
  },
  {
   "cell_type": "code",
   "execution_count": null,
   "metadata": {
    "collapsed": true
   },
   "outputs": [],
   "source": []
  },
  {
   "cell_type": "code",
   "execution_count": null,
   "metadata": {
    "collapsed": true
   },
   "outputs": [],
   "source": []
  },
  {
   "cell_type": "code",
   "execution_count": 129,
   "metadata": {},
   "outputs": [
    {
     "name": "stdout",
     "output_type": "stream",
     "text": [
      "Print stats for method: XGBoost\n",
      "\n",
      "The number of False Negative in the validation set is 32 \n",
      "The number of False Positive in the validation set is 2 \n",
      "\n",
      "Accuracy on training set is 0.99921\n",
      "Recall (tp/(tp+fn)) of training set is 0.06757\n",
      "\n",
      "Accuracy on validation set is 0.99909\n",
      "Recall (tp/(tp+fn)) of validation set is 0.00000\n"
     ]
    }
   ],
   "source": [
    "#### THIS WAS THE ORIGINAL XG Boosting setup ####\n",
    "xgb_params = {\"max_depth\": 3,\n",
    "              \"learning_rate\": 0.01,\n",
    "              \"n_estimators\": 1000,\n",
    "              \"objective\": 'binary:logistic',\n",
    "              \"min_child_weight\": 3,\n",
    "              \"max_depth\": 3,\n",
    "              \"random_state\": 0,\n",
    "              \"subsample\": 0.8,\n",
    "              \"colsample_bytree\": 0.8}\n",
    "\n",
    "model_xgb = xgb.XGBClassifier(**xgb_params)\n",
    "model_xgb.fit(x_train_s, y_train_s,\n",
    "              sample_weight = None) # This option can be used if I implement sampling to control the imbalanced dataset\n",
    "\n",
    "# Predict on training set and check the accuracy\n",
    "modelAccuracyStats(model_xgb, \"XGBoost\", x_train_s, y_train_s, x_validate_s, y_validate_s)"
   ]
  },
  {
   "cell_type": "code",
   "execution_count": null,
   "metadata": {
    "collapsed": true
   },
   "outputs": [],
   "source": []
  },
  {
   "cell_type": "markdown",
   "metadata": {},
   "source": [
    "### 4. Support vector machine\n",
    "SVM expects that all features have similar mean and stddev. Rescale the features before feeding the data to the model."
   ]
  },
  {
   "cell_type": "code",
   "execution_count": 135,
   "metadata": {},
   "outputs": [
    {
     "name": "stdout",
     "output_type": "stream",
     "text": [
      "The rate of failures in the original set is 0.0008514466560637460439860555529\n",
      "The rate of failures in the training set is 0.0008491594468988467496700900798\n",
      "The rate of failures in the validation set is 0.0008567833141449570269618999170\n"
     ]
    }
   ],
   "source": [
    "# Sampling for SVM\n",
    "analysis_set_s = analysis_set[[\"failure\", \"attribute2\", \"attribute4\", \"attribute7\",\n",
    "                               \"attribute1_s\", \"attribute2_s\", \"attribute3_s\", \"attribute4_s\", \"attribute5_s\", \"attribute6_s\",\n",
    "                              \"attribute7_s\", \"attribute9_s\",\n",
    "                              \"attribute1_dummy\", \"attribute2_dummy\", \"attribute3_dummy\",\n",
    "                              \"attribute4_dummy\",\n",
    "                              \"attribute7_dummy\",\n",
    "                              \"attribute9_dummy\",\n",
    "                              \"day_of_week\",\n",
    "                              \"device_type_s\",\n",
    "                              \"device_type_w\",\n",
    "                              \"device_type_z\"]]\n",
    "\n",
    "x_train_s, x_validate_s, y_train_s, y_validate_s = train_test_split(analysis_set_s.drop([\"failure\"], axis = 1),\n",
    "                                                                    analysis_set_s[\"failure\"],\n",
    "                                                                    train_size = .7)\n",
    "\n",
    "# Test if the % failure and non-failure remains the same in the new datasets as in the original dataset\n",
    "print (\"The rate of failures in the original set is \" + str(Decimal(float(analysis_set[\"failure\"].value_counts()[1])) / sum(analysis_set[\"failure\"].value_counts())))\n",
    "print (\"The rate of failures in the training set is \" + str(Decimal(float(y_train_s.value_counts()[1])) / sum(y_train_s.value_counts())))\n",
    "print (\"The rate of failures in the validation set is \" + str(Decimal(float(y_validate_s.value_counts()[1])) / sum(y_validate_s.value_counts())))\n"
   ]
  },
  {
   "cell_type": "code",
   "execution_count": 136,
   "metadata": {},
   "outputs": [
    {
     "name": "stdout",
     "output_type": "stream",
     "text": [
      "Print stats for method: SVM\n",
      "\n",
      "The number of False Negative in the validation set is 31 \n",
      "The number of False Positive in the validation set is 343 \n",
      "\n",
      "Accuracy on training set is 0.99013\n",
      "Recall (tp/(tp+fn)) of training set is 0.85135\n",
      "\n",
      "Accuracy on validation set is 0.98999\n",
      "Recall (tp/(tp+fn)) of validation set is 0.03125\n"
     ]
    }
   ],
   "source": [
    "svm_params = {\"C\": 1.0,\n",
    "              \"degree\": 3,\n",
    "              \"class_weight\": \"balanced\",\n",
    "              \"probability\": True}\n",
    "\n",
    "model_svm = svm.SVC(**svm_params)\n",
    "\n",
    "model_svm.fit(x_train_s, y_train_s,\n",
    "              sample_weight = None)\n",
    "\n",
    "modelAccuracyStats(model_svm, \"SVM\", x_train_s, y_train_s, x_validate_s, y_validate_s)"
   ]
  },
  {
   "cell_type": "code",
   "execution_count": null,
   "metadata": {
    "collapsed": true
   },
   "outputs": [],
   "source": []
  },
  {
   "cell_type": "markdown",
   "metadata": {},
   "source": [
    "### 5. Clustering - HDBSCAN"
   ]
  },
  {
   "cell_type": "code",
   "execution_count": 139,
   "metadata": {},
   "outputs": [
    {
     "data": {
      "text/plain": [
       "HDBSCAN(algorithm='best', allow_single_cluster=False, alpha=1.0,\n",
       "    approx_min_span_tree=True, cluster_selection_method='eom',\n",
       "    core_dist_n_jobs=4, gen_min_span_tree=False, leaf_size=40,\n",
       "    match_reference_implementation=False, memory=Memory(cachedir=None),\n",
       "    metric='euclidean', min_cluster_size=10, min_samples=None, p=None,\n",
       "    prediction_data=True)"
      ]
     },
     "execution_count": 139,
     "metadata": {},
     "output_type": "execute_result"
    }
   ],
   "source": [
    "# Use HDBSCAN for clustering\n",
    "hdbscan_params = {\"min_cluster_size\": 10,\n",
    "                  \"prediction_data\": True}\n",
    "\n",
    "hdbscan_model = hdbscan.HDBSCAN(**hdbscan_params)\n",
    "hdbscan_model.fit(x_train, y_train)\n",
    "\n",
    "# Visualize clusters\n",
    "#hdbscan_vs.condensed_tree_.plot(select_clusters = True, selection_palette = sns.color_palette(\"deep\", 8))\n",
    "\n",
    "# Visualize single linkage trees\n",
    "#hdbscan_vs.single_linkage_tree_.plot()"
   ]
  },
  {
   "cell_type": "code",
   "execution_count": 148,
   "metadata": {},
   "outputs": [],
   "source": [
    "# Cluster number to which each observation belongs\n",
    "hdbscan_model.labels_\n",
    "\n",
    "# Generate probabilities on the training set\n",
    "# The strength with which each sample is a member of its assigned cluster.\n",
    "y_pred_train_hdbscan = hdbscan_model.probabilities_"
   ]
  },
  {
   "cell_type": "code",
   "execution_count": 150,
   "metadata": {},
   "outputs": [],
   "source": [
    "y_pred_hdbscan = hdbscan.approximate_predict(hdbscan_model, x_validate)"
   ]
  },
  {
   "cell_type": "code",
   "execution_count": null,
   "metadata": {
    "collapsed": true
   },
   "outputs": [],
   "source": []
  },
  {
   "cell_type": "code",
   "execution_count": null,
   "metadata": {
    "collapsed": true
   },
   "outputs": [],
   "source": []
  },
  {
   "cell_type": "markdown",
   "metadata": {},
   "source": [
    "### Models evaluation\n",
    "The models evaluation is done using the Receiver Operating Characteristics (ROC) curve and a confusion matrix."
   ]
  },
  {
   "cell_type": "code",
   "execution_count": 139,
   "metadata": {
    "collapsed": true
   },
   "outputs": [],
   "source": [
    "# 1) Use the ROC curve to evaluate accuracy of each model\n",
    "# Obtain the parameters needed for each ROC curve for each model\n",
    "y_pred_lr = model_lr.predict_proba(x_validate)[::, 1]\n",
    "roc_lr = roc_auc_score(y_validate, y_pred_lr)\n",
    "fpr_lr, tpr_lr, thresholds_lr = roc_curve(y_validate, y_pred_lr)\n",
    "\n",
    "y_pred_rf = model_rf.predict_proba(x_validate)[::, 1]\n",
    "roc_rf = roc_auc_score(y_validate, y_pred_rf)\n",
    "fpr_rf, tpr_rf, thresholds_rf = roc_curve(y_validate, y_pred_rf)\n",
    "\n",
    "y_pred_xgb = model_xgb.predict_proba(x_validate_s)[::, 1]\n",
    "roc_xgb = roc_auc_score(y_validate_s, y_pred_xgb)\n",
    "fpr_xgb, tpr_xgb, thresholds_xgb = roc_curve(y_validate_s, y_pred_xgb)\n",
    "\n",
    "y_pred_svm = model_svm.predict_proba(x_validate_s)[::, 1]\n",
    "roc_svm = roc_auc_score(y_validate_s, y_pred_svm)\n",
    "fpr_svm, tpr_svm, thresholds_svm = roc_curve(y_validate_s, y_pred_svm)"
   ]
  },
  {
   "cell_type": "code",
   "execution_count": 140,
   "metadata": {},
   "outputs": [
    {
     "data": {
      "text/plain": [
       "<matplotlib.legend.Legend at 0x7faa31b758d0>"
      ]
     },
     "execution_count": 140,
     "metadata": {},
     "output_type": "execute_result"
    },
    {
     "data": {
      "image/png": "[encoded data removed]",
      "text/plain": [
       "<matplotlib.figure.Figure at 0x7faa408edfd0>"
      ]
     },
     "metadata": {},
     "output_type": "display_data"
    }
   ],
   "source": [
    "# Plot the ROC curve\n",
    "plt.figure(figsize = (10, 7))\n",
    "plt.plot(fpr_lr, tpr_lr, label = \"Logistic Regression (AUC = %0.2f)\" % roc_lr)\n",
    "plt.plot(fpr_rf, tpr_rf, label = \"Random Forest (AUC = %0.2f)\" % roc_rf)\n",
    "plt.plot(fpr_xgb, tpr_xgb, label = \"XGBoost (AUC = %0.2f)\" % roc_xgb)\n",
    "plt.plot(fpr_svm, tpr_svm, label = \"SVM (AUC = %0.2f)\" % roc_svm)\n",
    "plt.plot([0, 1], [0, 1], \"r--\")\n",
    "plt.xlim([0.0, 1])\n",
    "plt.ylim([0.0, 1])\n",
    "plt.xlabel(\"False Positive\")\n",
    "plt.ylabel(\"True Positive\")\n",
    "plt.title(\"ROC curve\")\n",
    "plt.legend(loc = \"lower right\")\n"
   ]
  },
  {
   "cell_type": "code",
   "execution_count": null,
   "metadata": {
    "collapsed": true
   },
   "outputs": [],
   "source": []
  },
  {
   "cell_type": "code",
   "execution_count": 142,
   "metadata": {},
   "outputs": [
    {
     "data": {
      "text/html": [
       "<div>\n",
       "<table border=\"1\" class=\"dataframe\">\n",
       "  <thead>\n",
       "    <tr style=\"text-align: right;\">\n",
       "      <th></th>\n",
       "      <th>True Negative</th>\n",
       "      <th>False Positive</th>\n",
       "      <th>False Negative</th>\n",
       "      <th>True Positive</th>\n",
       "    </tr>\n",
       "  </thead>\n",
       "  <tbody>\n",
       "    <tr>\n",
       "      <th>Logistic Regression</th>\n",
       "      <td>34680</td>\n",
       "      <td>2636</td>\n",
       "      <td>8</td>\n",
       "      <td>24</td>\n",
       "    </tr>\n",
       "    <tr>\n",
       "      <th>Random Forest</th>\n",
       "      <td>33843</td>\n",
       "      <td>3473</td>\n",
       "      <td>5</td>\n",
       "      <td>27</td>\n",
       "    </tr>\n",
       "    <tr>\n",
       "      <th>XGBoost</th>\n",
       "      <td>37316</td>\n",
       "      <td>1</td>\n",
       "      <td>30</td>\n",
       "      <td>2</td>\n",
       "    </tr>\n",
       "    <tr>\n",
       "      <th>SVM</th>\n",
       "      <td>36974</td>\n",
       "      <td>343</td>\n",
       "      <td>31</td>\n",
       "      <td>1</td>\n",
       "    </tr>\n",
       "  </tbody>\n",
       "</table>\n",
       "</div>"
      ],
      "text/plain": [
       "                     True Negative  False Positive  False Negative  \\\n",
       "Logistic Regression          34680            2636               8   \n",
       "Random Forest                33843            3473               5   \n",
       "XGBoost                      37316               1              30   \n",
       "SVM                          36974             343              31   \n",
       "\n",
       "                     True Positive  \n",
       "Logistic Regression             24  \n",
       "Random Forest                   27  \n",
       "XGBoost                          2  \n",
       "SVM                              1  "
      ]
     },
     "execution_count": 142,
     "metadata": {},
     "output_type": "execute_result"
    }
   ],
   "source": [
    "# 2) Create a table that prints out the confusion matrices for each model\n",
    "from sklearn.metrics import confusion_matrix\n",
    "\n",
    "cm_df = np.stack((confusionMatrix(model_lr, x_validate, y_validate),\n",
    "                  confusionMatrix(model_rf, x_validate, y_validate),\n",
    "                  confusionMatrix(model_xgb, x_validate_s, y_validate_s),\n",
    "                  confusionMatrix(model_svm, x_validate_s, y_validate_s)))\n",
    "\n",
    "cm_df = pd.DataFrame(cm_df,\n",
    "                     index = [\"Logistic Regression\", \"Random Forest\", \"XGBoost\", \"SVM\"],\n",
    "                     columns = [\"True Negative\", \"False Positive\", \"False Negative\", \"True Positive\"])\n",
    "cm_df"
   ]
  },
  {
   "cell_type": "code",
   "execution_count": null,
   "metadata": {
    "collapsed": true
   },
   "outputs": [],
   "source": []
  },
  {
   "cell_type": "code",
   "execution_count": null,
   "metadata": {
    "collapsed": true
   },
   "outputs": [],
   "source": []
  }
 ],
 "metadata": {
  "kernelspec": {
   "display_name": "Python 2",
   "language": "python",
   "name": "python2"
  },
  "language_info": {
   "codemirror_mode": {
    "name": "ipython",
    "version": 2
   },
   "file_extension": ".py",
   "mimetype": "text/x-python",
   "name": "python",
   "nbconvert_exporter": "python",
   "pygments_lexer": "ipython2",
   "version": "2.7.13"
  }
 },
 "nbformat": 4,
 "nbformat_minor": 2
}
