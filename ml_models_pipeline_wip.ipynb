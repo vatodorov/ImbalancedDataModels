{
 "cells": [
  {
   "cell_type": "code",
   "execution_count": null,
   "metadata": {
    "collapsed": true
   },
   "outputs": [],
   "source": []
  },
  {
   "cell_type": "code",
   "execution_count": null,
   "metadata": {
    "collapsed": true
   },
   "outputs": [],
   "source": []
  },
  {
   "cell_type": "markdown",
   "metadata": {},
   "source": [
    "## TODO\n",
    "\n",
    "1. Feature selection\n",
    "    * Add GridSearchCV for variable selection\n",
    "        * Visualization\n",
    "    * Add clustering\n",
    "        * Visualization\n",
    "2. Modeling\n",
    "    * Finetune the existing models\n",
    "    * Try DNN models\n",
    "    * Create ensembles from models\n",
    "    * Add a Naive Bayes model\n",
    "3. Diagnostics\n",
    "    * Calculate F1 score\n",
    "4. Visualization of data"
   ]
  },
  {
   "cell_type": "code",
   "execution_count": null,
   "metadata": {
    "collapsed": true
   },
   "outputs": [],
   "source": []
  },
  {
   "cell_type": "code",
   "execution_count": null,
   "metadata": {
    "collapsed": true
   },
   "outputs": [],
   "source": []
  },
  {
   "cell_type": "markdown",
   "metadata": {},
   "source": [
    "## Develop models to predict device failure\n",
    "___Valentin Todorov___\n",
    "\n",
    "\n",
    "#### Goal:\n",
    "Build models to predict the probability of a device failure. When building this model, minimize false positives and false negatives."
   ]
  },
  {
   "cell_type": "markdown",
   "metadata": {},
   "source": [
    "## Plan for development\n",
    "1. Setup the environment and read in the data\n",
    "2. Data exploration\n",
    "    * Calculate the distribution of total fail/not fail cases\n",
    "    * Distribution of fail/not-fail cases by year\n",
    "    * Distribution of fail/not-fail cases by month\n",
    "    * Are there any devices that have higher failure rates than others\n",
    "    * When a device fails, does it disappear from the data, or does it show up again\n",
    "    * Seasonality of failures - are there particular days of the week when a higher percent of devices fail?\n",
    "3. Understand the important variables for splitting the dataset\n",
    "    * Do a pre-modeling analysis using random forest\n",
    "    * Use decision trees to understand if I need to create categorical variables from some of the original features\n",
    "4. Derive new features\n",
    "    * Determine which features are categorical, and if needed create dummies\n",
    "    * Since the data for some of the features is very sparse, create dummies which are 1, if data is available and 0 otherwise\n",
    "    * Take logs of features\n",
    "    * Scale the features\n",
    "5. Sampling of the data\n",
    "    * Create random samples from the data - 70% for training and 30% for validation\n",
    "    * If the failures are too few compared to the non-failures, I will need to oversample the failures (and add a weight), or simply undersample the non-failures\n",
    "6. Variables reduction\n",
    "    * Random forest's variable importance    \n",
    "    * Use decision trees\n",
    "    * Use Recursive feature elimination (RFE)\n",
    "    * Compare the suggested features from each method and decide which ones to keep in the modeling set\n",
    "7. Decide on a methodology for the model estimation\n",
    "    * Logistic regression - this will be a benchmark for all the rest of the methods\n",
    "    * Random forest\n",
    "    * XG Boosting\n",
    "    * SVM\n",
    "    * Neural network\n",
    "8. Validate the results\n",
    "9. Compare accuracy measures\n",
    "    * Calculate accuracy, TP, FP, TN, FN, recall, etc.\n",
    "    * Plot the performance for multiple modles using the ROC curve\n",
    "    * Sensitivity/Recall\n",
    "10. Create a confusion matrix - reduce false positives and false negatives"
   ]
  },
  {
   "cell_type": "code",
   "execution_count": null,
   "metadata": {
    "collapsed": true
   },
   "outputs": [],
   "source": []
  },
  {
   "cell_type": "markdown",
   "metadata": {},
   "source": [
    "### Setup\n",
    "Setup the environment and import needed packages"
   ]
  },
  {
   "cell_type": "code",
   "execution_count": 65,
   "metadata": {
    "collapsed": true
   },
   "outputs": [],
   "source": [
    "import pandas as pd\n",
    "import numpy as np\n",
    "from decimal import *\n",
    "import graphviz\n",
    "import matplotlib.pyplot as plt\n",
    "import math\n",
    "\n",
    "import xgboost as xgb\n",
    "from sklearn import datasets, svm\n",
    "from sklearn.model_selection import GridSearchCV\n",
    "from sklearn.preprocessing import MinMaxScaler\n",
    "from sklearn.cross_validation import train_test_split\n",
    "from sklearn.ensemble import RandomForestClassifier, GradientBoostingClassifier\n",
    "from sklearn.feature_selection import RFE\n",
    "from sklearn.linear_model import LogisticRegression\n",
    "from sklearn.tree import DecisionTreeClassifier, export_graphviz\n",
    "from sklearn.metrics import accuracy_score, recall_score, confusion_matrix, roc_curve, roc_auc_score\n",
    "from imblearn.over_sampling import SMOTE\n",
    "\n",
    "# Inline plotting in jupyter\n",
    "%matplotlib inline\n"
   ]
  },
  {
   "cell_type": "code",
   "execution_count": null,
   "metadata": {
    "collapsed": true
   },
   "outputs": [],
   "source": []
  },
  {
   "cell_type": "markdown",
   "metadata": {},
   "source": [
    "### Define functions that I'll be using throughout the analysis\n",
    "This section defines functions I'll use in the analysis, and the evaluation of results."
   ]
  },
  {
   "cell_type": "code",
   "execution_count": 2,
   "metadata": {
    "collapsed": true
   },
   "outputs": [],
   "source": [
    "# This defines the path to the data depending on the OS I use - Win, macOS, or Ubuntu on AWS\n",
    "def selectOS(_os):\n",
    "    if _os == \"win\":\n",
    "        data_location = \"C:/Users/bre49823/GoogleDrive/Data/aws/device_failure.csv\"\n",
    "    elif _os == \"mac\":\n",
    "        data_location = \"/Users/valentin/GoogleDrive/Data/aws/device_failure.csv\"\n",
    "    elif _os == \"aws\":\n",
    "        data_location = \"/home/ubuntu/git/Gelos/data/device_failure.csv\"\n",
    "    return data_location\n",
    "\n",
    "# Check for NA values in the data\n",
    "def checkNaValues(df, columns_idx):\n",
    "    features_na = []\n",
    "    for i in range(0, len(columns_idx)):\n",
    "        col = columns_idx[i]\n",
    "        features_na.append(df[col].isnull().sum())\n",
    "    return features_na\n",
    "\n",
    "# Create new features that are the log of existing ones\n",
    "def createLog(df, columns_list):\n",
    "    for col in columns_list:\n",
    "        column_log = col + \"_log\"    \n",
    "        df[column_log] = df[col].apply(lambda x: 0 if x == 0 else math.log(x))\n",
    "    return\n",
    "\n",
    "# Create new features that square root of existing ones\n",
    "def createSqrt(df, columns_list):\n",
    "    for col in columns_list:\n",
    "        column_sqrt = col + \"_sqrt\"\n",
    "        df[column_sqrt] = np.sqrt(df[col])\n",
    "    return\n",
    "\n",
    "# Create new features that are the square of existing ones\n",
    "def createSquare(df, columns_list):\n",
    "    for col in columns_list:\n",
    "        column_sq = col + \"_sq\"\n",
    "        df[column_sq] = df[col] ** 2\n",
    "    return\n",
    "\n",
    "# Create new features that are the inverse of existing ones\n",
    "def createInverse(df, columns_list):\n",
    "    for col in columns_list:\n",
    "        column_inv = col + \"_inv\"    \n",
    "        df[column_inv] = df[col].apply(lambda x: 0 if x == 0 else 1 / x)\n",
    "    return\n",
    "\n",
    "# Derive dummy features\n",
    "# These features take the value 1 if the value of a feature is larger than 0, otherwise take the value of 0\n",
    "def createDummy(df, columns_list):\n",
    "    column_dummy_idx = []\n",
    "    for col in columns_list:\n",
    "        column_dummy = col + \"_dummy\"\n",
    "        df[column_dummy] = [1 if x > 0 else 0 for x in df[col]]\n",
    "        column_dummy_idx.append(column_dummy)\n",
    "    return column_dummy_idx\n",
    "        \n",
    "# Create a confusion matrix\n",
    "def confusionMatrix(model, _x_validate, _y_validate):\n",
    "    _confusion_matrix = confusion_matrix(_y_validate, model.predict(_x_validate)).ravel()\n",
    "    return _confusion_matrix\n",
    "\n",
    "# Function to print accuracy statistics for each model\n",
    "def modelAccuracyStats(model, modeling_method, _x_train, _y_train, _x_validate, _y_validate):\n",
    "    tn, fp, fn, tp = confusionMatrix(model, _x_validate, _y_validate)\n",
    "    print (\"Print stats for method: %s\" % modeling_method)\n",
    "    print (\"\\nThe number of False Negative in the validation set is %s \" % str(fn))\n",
    "    print (\"The number of False Positive in the validation set is %s \" % str(fp))\n",
    "    print (\"\\nAccuracy on training set is {:.5f}\".format(model.score(_x_train, _y_train)))\n",
    "    print (\"Recall (tp/(tp+fn)) of training set is {:.5f}\".format(recall_score(_y_train, model.predict(_x_train))))\n",
    "    print (\"\\nAccuracy on validation set is {:.5f}\".format(model.score(_x_validate, _y_validate)))\n",
    "    print (\"Recall (tp/(tp+fn)) of validation set is {:.5f}\".format(recall_score(_y_validate, model.predict(_x_validate))))\n"
   ]
  },
  {
   "cell_type": "code",
   "execution_count": null,
   "metadata": {
    "collapsed": true
   },
   "outputs": [],
   "source": []
  },
  {
   "cell_type": "markdown",
   "metadata": {},
   "source": [
    "### Read in the data and print out the header"
   ]
  },
  {
   "cell_type": "code",
   "execution_count": 3,
   "metadata": {},
   "outputs": [
    {
     "name": "stdout",
     "output_type": "stream",
     "text": [
      "124494\n"
     ]
    },
    {
     "data": {
      "text/html": [
       "<div>\n",
       "<table border=\"1\" class=\"dataframe\">\n",
       "  <thead>\n",
       "    <tr style=\"text-align: right;\">\n",
       "      <th></th>\n",
       "      <th>date</th>\n",
       "      <th>device</th>\n",
       "      <th>failure</th>\n",
       "      <th>attribute1</th>\n",
       "      <th>attribute2</th>\n",
       "      <th>attribute3</th>\n",
       "      <th>attribute4</th>\n",
       "      <th>attribute5</th>\n",
       "      <th>attribute6</th>\n",
       "      <th>attribute7</th>\n",
       "      <th>attribute8</th>\n",
       "      <th>attribute9</th>\n",
       "    </tr>\n",
       "  </thead>\n",
       "  <tbody>\n",
       "    <tr>\n",
       "      <th>0</th>\n",
       "      <td>2015-01-01</td>\n",
       "      <td>S1F01085</td>\n",
       "      <td>0</td>\n",
       "      <td>215630672</td>\n",
       "      <td>56</td>\n",
       "      <td>0</td>\n",
       "      <td>52</td>\n",
       "      <td>6</td>\n",
       "      <td>407438</td>\n",
       "      <td>0</td>\n",
       "      <td>0</td>\n",
       "      <td>7</td>\n",
       "    </tr>\n",
       "    <tr>\n",
       "      <th>1</th>\n",
       "      <td>2015-01-01</td>\n",
       "      <td>S1F0166B</td>\n",
       "      <td>0</td>\n",
       "      <td>61370680</td>\n",
       "      <td>0</td>\n",
       "      <td>3</td>\n",
       "      <td>0</td>\n",
       "      <td>6</td>\n",
       "      <td>403174</td>\n",
       "      <td>0</td>\n",
       "      <td>0</td>\n",
       "      <td>0</td>\n",
       "    </tr>\n",
       "    <tr>\n",
       "      <th>2</th>\n",
       "      <td>2015-01-01</td>\n",
       "      <td>S1F01E6Y</td>\n",
       "      <td>0</td>\n",
       "      <td>173295968</td>\n",
       "      <td>0</td>\n",
       "      <td>0</td>\n",
       "      <td>0</td>\n",
       "      <td>12</td>\n",
       "      <td>237394</td>\n",
       "      <td>0</td>\n",
       "      <td>0</td>\n",
       "      <td>0</td>\n",
       "    </tr>\n",
       "    <tr>\n",
       "      <th>3</th>\n",
       "      <td>2015-01-01</td>\n",
       "      <td>S1F01JE0</td>\n",
       "      <td>0</td>\n",
       "      <td>79694024</td>\n",
       "      <td>0</td>\n",
       "      <td>0</td>\n",
       "      <td>0</td>\n",
       "      <td>6</td>\n",
       "      <td>410186</td>\n",
       "      <td>0</td>\n",
       "      <td>0</td>\n",
       "      <td>0</td>\n",
       "    </tr>\n",
       "    <tr>\n",
       "      <th>4</th>\n",
       "      <td>2015-01-01</td>\n",
       "      <td>S1F01R2B</td>\n",
       "      <td>0</td>\n",
       "      <td>135970480</td>\n",
       "      <td>0</td>\n",
       "      <td>0</td>\n",
       "      <td>0</td>\n",
       "      <td>15</td>\n",
       "      <td>313173</td>\n",
       "      <td>0</td>\n",
       "      <td>0</td>\n",
       "      <td>3</td>\n",
       "    </tr>\n",
       "  </tbody>\n",
       "</table>\n",
       "</div>"
      ],
      "text/plain": [
       "         date    device  failure  attribute1  attribute2  attribute3  \\\n",
       "0  2015-01-01  S1F01085        0   215630672          56           0   \n",
       "1  2015-01-01  S1F0166B        0    61370680           0           3   \n",
       "2  2015-01-01  S1F01E6Y        0   173295968           0           0   \n",
       "3  2015-01-01  S1F01JE0        0    79694024           0           0   \n",
       "4  2015-01-01  S1F01R2B        0   135970480           0           0   \n",
       "\n",
       "   attribute4  attribute5  attribute6  attribute7  attribute8  attribute9  \n",
       "0          52           6      407438           0           0           7  \n",
       "1           0           6      403174           0           0           0  \n",
       "2           0          12      237394           0           0           0  \n",
       "3           0           6      410186           0           0           0  \n",
       "4           0          15      313173           0           0           3  "
      ]
     },
     "execution_count": 3,
     "metadata": {},
     "output_type": "execute_result"
    }
   ],
   "source": [
    "# Read in the data and print out the header\n",
    "device_data = pd.read_csv(selectOS(\"mac\"))\n",
    "\n",
    "# Check if the number of rows is as expected\n",
    "print (len(device_data))\n",
    "device_data.head(5)"
   ]
  },
  {
   "cell_type": "markdown",
   "metadata": {},
   "source": [
    "From a first glance it looks like we have time series data, in which two of the attributes (1 & 6) have values much larger than the rest of the attributes. this requires a little more exploration."
   ]
  },
  {
   "cell_type": "markdown",
   "metadata": {},
   "source": [
    "Check the type of values in each column"
   ]
  },
  {
   "cell_type": "code",
   "execution_count": 4,
   "metadata": {},
   "outputs": [
    {
     "name": "stdout",
     "output_type": "stream",
     "text": [
      "<class 'pandas.core.frame.DataFrame'>\n",
      "RangeIndex: 124494 entries, 0 to 124493\n",
      "Data columns (total 12 columns):\n",
      "date          124494 non-null object\n",
      "device        124494 non-null object\n",
      "failure       124494 non-null int64\n",
      "attribute1    124494 non-null int64\n",
      "attribute2    124494 non-null int64\n",
      "attribute3    124494 non-null int64\n",
      "attribute4    124494 non-null int64\n",
      "attribute5    124494 non-null int64\n",
      "attribute6    124494 non-null int64\n",
      "attribute7    124494 non-null int64\n",
      "attribute8    124494 non-null int64\n",
      "attribute9    124494 non-null int64\n",
      "dtypes: int64(10), object(2)\n",
      "memory usage: 11.4+ MB\n"
     ]
    }
   ],
   "source": [
    "device_data.info()"
   ]
  },
  {
   "cell_type": "code",
   "execution_count": null,
   "metadata": {
    "collapsed": true
   },
   "outputs": [],
   "source": []
  },
  {
   "cell_type": "markdown",
   "metadata": {},
   "source": [
    "Whenever I start working with a dataset I've never seen, I like to open it as a SQL table, or import it in Excel, and familiarize myself with it. If the file is small enough, and Excel can handle it, I'll import the whole file, otherwise, I take a random sample from it, small enough that can be easily processed within the available RAM and CPU.\n",
    "\n",
    "Next, I usually create a pivot table in Excel and try to understand what features are available. Are there dates - if there are, what is the time range coverered? When we know the dates from the data, we can relate them to important Macroeconomic environments - major crises, stock market and crude oil price crashes, etc. Most of the real world industry processes are impacted by economic events. For example, if the data in the provided dataset spans back to 2007, it is very likely that we'll see structural shifts in some of the attributes during the period 2008 - 2009."
   ]
  },
  {
   "cell_type": "code",
   "execution_count": 5,
   "metadata": {},
   "outputs": [
    {
     "name": "stdout",
     "output_type": "stream",
     "text": [
      "0.0008514 of the cases are device failures \n"
     ]
    }
   ],
   "source": [
    "# Calculate the distribution of total fail/not fail cases\n",
    "pct_fail_cases = sum(device_data[\"failure\"]) / Decimal(len(device_data[\"failure\"]))\n",
    "print (\"%0.7f of the cases are device failures \" % pct_fail_cases)"
   ]
  },
  {
   "cell_type": "markdown",
   "metadata": {
    "collapsed": true
   },
   "source": [
    "The percent of fail cases is very low compared to the non-fail cases - only 0.0008514 of the cases are failures. This creates an imbalanced dataset, which will have to be handled through oversampling.\n"
   ]
  },
  {
   "cell_type": "code",
   "execution_count": null,
   "metadata": {
    "collapsed": true
   },
   "outputs": [],
   "source": []
  },
  {
   "cell_type": "markdown",
   "metadata": {},
   "source": [
    "Let's get a feel of the mean, std, and percentiles for each feature."
   ]
  },
  {
   "cell_type": "code",
   "execution_count": 6,
   "metadata": {},
   "outputs": [
    {
     "data": {
      "text/html": [
       "<div>\n",
       "<table border=\"1\" class=\"dataframe\">\n",
       "  <thead>\n",
       "    <tr style=\"text-align: right;\">\n",
       "      <th></th>\n",
       "      <th>failure</th>\n",
       "      <th>attribute1</th>\n",
       "      <th>attribute2</th>\n",
       "      <th>attribute3</th>\n",
       "      <th>attribute4</th>\n",
       "      <th>attribute5</th>\n",
       "      <th>attribute6</th>\n",
       "      <th>attribute7</th>\n",
       "      <th>attribute8</th>\n",
       "      <th>attribute9</th>\n",
       "    </tr>\n",
       "  </thead>\n",
       "  <tbody>\n",
       "    <tr>\n",
       "      <th>count</th>\n",
       "      <td>124494.000000</td>\n",
       "      <td>1.244940e+05</td>\n",
       "      <td>124494.000000</td>\n",
       "      <td>124494.000000</td>\n",
       "      <td>124494.000000</td>\n",
       "      <td>124494.000000</td>\n",
       "      <td>124494.000000</td>\n",
       "      <td>124494.000000</td>\n",
       "      <td>124494.000000</td>\n",
       "      <td>124494.000000</td>\n",
       "    </tr>\n",
       "    <tr>\n",
       "      <th>mean</th>\n",
       "      <td>0.000851</td>\n",
       "      <td>1.223868e+08</td>\n",
       "      <td>159.484762</td>\n",
       "      <td>9.940455</td>\n",
       "      <td>1.741120</td>\n",
       "      <td>14.222693</td>\n",
       "      <td>260172.858025</td>\n",
       "      <td>0.292528</td>\n",
       "      <td>0.292528</td>\n",
       "      <td>12.451524</td>\n",
       "    </tr>\n",
       "    <tr>\n",
       "      <th>std</th>\n",
       "      <td>0.029167</td>\n",
       "      <td>7.045960e+07</td>\n",
       "      <td>2179.657730</td>\n",
       "      <td>185.747321</td>\n",
       "      <td>22.908507</td>\n",
       "      <td>15.943021</td>\n",
       "      <td>99151.009852</td>\n",
       "      <td>7.436924</td>\n",
       "      <td>7.436924</td>\n",
       "      <td>191.425623</td>\n",
       "    </tr>\n",
       "    <tr>\n",
       "      <th>min</th>\n",
       "      <td>0.000000</td>\n",
       "      <td>0.000000e+00</td>\n",
       "      <td>0.000000</td>\n",
       "      <td>0.000000</td>\n",
       "      <td>0.000000</td>\n",
       "      <td>1.000000</td>\n",
       "      <td>8.000000</td>\n",
       "      <td>0.000000</td>\n",
       "      <td>0.000000</td>\n",
       "      <td>0.000000</td>\n",
       "    </tr>\n",
       "    <tr>\n",
       "      <th>1%</th>\n",
       "      <td>0.000000</td>\n",
       "      <td>2.401025e+06</td>\n",
       "      <td>0.000000</td>\n",
       "      <td>0.000000</td>\n",
       "      <td>0.000000</td>\n",
       "      <td>4.000000</td>\n",
       "      <td>26.000000</td>\n",
       "      <td>0.000000</td>\n",
       "      <td>0.000000</td>\n",
       "      <td>0.000000</td>\n",
       "    </tr>\n",
       "    <tr>\n",
       "      <th>5%</th>\n",
       "      <td>0.000000</td>\n",
       "      <td>1.209010e+07</td>\n",
       "      <td>0.000000</td>\n",
       "      <td>0.000000</td>\n",
       "      <td>0.000000</td>\n",
       "      <td>6.000000</td>\n",
       "      <td>46.000000</td>\n",
       "      <td>0.000000</td>\n",
       "      <td>0.000000</td>\n",
       "      <td>0.000000</td>\n",
       "    </tr>\n",
       "    <tr>\n",
       "      <th>25%</th>\n",
       "      <td>0.000000</td>\n",
       "      <td>6.127675e+07</td>\n",
       "      <td>0.000000</td>\n",
       "      <td>0.000000</td>\n",
       "      <td>0.000000</td>\n",
       "      <td>8.000000</td>\n",
       "      <td>221452.000000</td>\n",
       "      <td>0.000000</td>\n",
       "      <td>0.000000</td>\n",
       "      <td>0.000000</td>\n",
       "    </tr>\n",
       "    <tr>\n",
       "      <th>50%</th>\n",
       "      <td>0.000000</td>\n",
       "      <td>1.227957e+08</td>\n",
       "      <td>0.000000</td>\n",
       "      <td>0.000000</td>\n",
       "      <td>0.000000</td>\n",
       "      <td>10.000000</td>\n",
       "      <td>249799.500000</td>\n",
       "      <td>0.000000</td>\n",
       "      <td>0.000000</td>\n",
       "      <td>0.000000</td>\n",
       "    </tr>\n",
       "    <tr>\n",
       "      <th>75%</th>\n",
       "      <td>0.000000</td>\n",
       "      <td>1.833084e+08</td>\n",
       "      <td>0.000000</td>\n",
       "      <td>0.000000</td>\n",
       "      <td>0.000000</td>\n",
       "      <td>12.000000</td>\n",
       "      <td>310266.000000</td>\n",
       "      <td>0.000000</td>\n",
       "      <td>0.000000</td>\n",
       "      <td>0.000000</td>\n",
       "    </tr>\n",
       "    <tr>\n",
       "      <th>95%</th>\n",
       "      <td>0.000000</td>\n",
       "      <td>2.318738e+08</td>\n",
       "      <td>8.000000</td>\n",
       "      <td>1.000000</td>\n",
       "      <td>6.000000</td>\n",
       "      <td>58.000000</td>\n",
       "      <td>443047.800000</td>\n",
       "      <td>0.000000</td>\n",
       "      <td>0.000000</td>\n",
       "      <td>11.000000</td>\n",
       "    </tr>\n",
       "    <tr>\n",
       "      <th>99%</th>\n",
       "      <td>0.000000</td>\n",
       "      <td>2.417911e+08</td>\n",
       "      <td>2664.000000</td>\n",
       "      <td>107.000000</td>\n",
       "      <td>25.000000</td>\n",
       "      <td>92.000000</td>\n",
       "      <td>501012.490000</td>\n",
       "      <td>8.000000</td>\n",
       "      <td>8.000000</td>\n",
       "      <td>155.000000</td>\n",
       "    </tr>\n",
       "    <tr>\n",
       "      <th>max</th>\n",
       "      <td>1.000000</td>\n",
       "      <td>2.441405e+08</td>\n",
       "      <td>64968.000000</td>\n",
       "      <td>24929.000000</td>\n",
       "      <td>1666.000000</td>\n",
       "      <td>98.000000</td>\n",
       "      <td>689161.000000</td>\n",
       "      <td>832.000000</td>\n",
       "      <td>832.000000</td>\n",
       "      <td>18701.000000</td>\n",
       "    </tr>\n",
       "  </tbody>\n",
       "</table>\n",
       "</div>"
      ],
      "text/plain": [
       "             failure    attribute1     attribute2     attribute3  \\\n",
       "count  124494.000000  1.244940e+05  124494.000000  124494.000000   \n",
       "mean        0.000851  1.223868e+08     159.484762       9.940455   \n",
       "std         0.029167  7.045960e+07    2179.657730     185.747321   \n",
       "min         0.000000  0.000000e+00       0.000000       0.000000   \n",
       "1%          0.000000  2.401025e+06       0.000000       0.000000   \n",
       "5%          0.000000  1.209010e+07       0.000000       0.000000   \n",
       "25%         0.000000  6.127675e+07       0.000000       0.000000   \n",
       "50%         0.000000  1.227957e+08       0.000000       0.000000   \n",
       "75%         0.000000  1.833084e+08       0.000000       0.000000   \n",
       "95%         0.000000  2.318738e+08       8.000000       1.000000   \n",
       "99%         0.000000  2.417911e+08    2664.000000     107.000000   \n",
       "max         1.000000  2.441405e+08   64968.000000   24929.000000   \n",
       "\n",
       "          attribute4     attribute5     attribute6     attribute7  \\\n",
       "count  124494.000000  124494.000000  124494.000000  124494.000000   \n",
       "mean        1.741120      14.222693  260172.858025       0.292528   \n",
       "std        22.908507      15.943021   99151.009852       7.436924   \n",
       "min         0.000000       1.000000       8.000000       0.000000   \n",
       "1%          0.000000       4.000000      26.000000       0.000000   \n",
       "5%          0.000000       6.000000      46.000000       0.000000   \n",
       "25%         0.000000       8.000000  221452.000000       0.000000   \n",
       "50%         0.000000      10.000000  249799.500000       0.000000   \n",
       "75%         0.000000      12.000000  310266.000000       0.000000   \n",
       "95%         6.000000      58.000000  443047.800000       0.000000   \n",
       "99%        25.000000      92.000000  501012.490000       8.000000   \n",
       "max      1666.000000      98.000000  689161.000000     832.000000   \n",
       "\n",
       "          attribute8     attribute9  \n",
       "count  124494.000000  124494.000000  \n",
       "mean        0.292528      12.451524  \n",
       "std         7.436924     191.425623  \n",
       "min         0.000000       0.000000  \n",
       "1%          0.000000       0.000000  \n",
       "5%          0.000000       0.000000  \n",
       "25%         0.000000       0.000000  \n",
       "50%         0.000000       0.000000  \n",
       "75%         0.000000       0.000000  \n",
       "95%         0.000000      11.000000  \n",
       "99%         8.000000     155.000000  \n",
       "max       832.000000   18701.000000  "
      ]
     },
     "execution_count": 6,
     "metadata": {},
     "output_type": "execute_result"
    }
   ],
   "source": [
    "device_data.describe(percentiles = [.01, .05, .25, .5, .75, .95, .99])"
   ]
  },
  {
   "cell_type": "code",
   "execution_count": 7,
   "metadata": {},
   "outputs": [
    {
     "data": {
      "text/html": [
       "<div>\n",
       "<table border=\"1\" class=\"dataframe\">\n",
       "  <thead>\n",
       "    <tr style=\"text-align: right;\">\n",
       "      <th></th>\n",
       "      <th>attribute1</th>\n",
       "      <th>attribute2</th>\n",
       "      <th>attribute3</th>\n",
       "      <th>attribute4</th>\n",
       "      <th>attribute5</th>\n",
       "      <th>attribute6</th>\n",
       "      <th>attribute7</th>\n",
       "      <th>attribute8</th>\n",
       "      <th>attribute9</th>\n",
       "    </tr>\n",
       "    <tr>\n",
       "      <th>failure</th>\n",
       "      <th></th>\n",
       "      <th></th>\n",
       "      <th></th>\n",
       "      <th></th>\n",
       "      <th></th>\n",
       "      <th></th>\n",
       "      <th></th>\n",
       "      <th></th>\n",
       "      <th></th>\n",
       "    </tr>\n",
       "  </thead>\n",
       "  <tbody>\n",
       "    <tr>\n",
       "      <th>0</th>\n",
       "      <td>1.223827e+08</td>\n",
       "      <td>156.118725</td>\n",
       "      <td>9.945598</td>\n",
       "      <td>1.696048</td>\n",
       "      <td>14.221637</td>\n",
       "      <td>260174.451056</td>\n",
       "      <td>0.266682</td>\n",
       "      <td>0.266682</td>\n",
       "      <td>12.442462</td>\n",
       "    </tr>\n",
       "    <tr>\n",
       "      <th>1</th>\n",
       "      <td>1.271755e+08</td>\n",
       "      <td>4109.433962</td>\n",
       "      <td>3.905660</td>\n",
       "      <td>54.632075</td>\n",
       "      <td>15.462264</td>\n",
       "      <td>258303.481132</td>\n",
       "      <td>30.622642</td>\n",
       "      <td>30.622642</td>\n",
       "      <td>23.084906</td>\n",
       "    </tr>\n",
       "  </tbody>\n",
       "</table>\n",
       "</div>"
      ],
      "text/plain": [
       "           attribute1   attribute2  attribute3  attribute4  attribute5  \\\n",
       "failure                                                                  \n",
       "0        1.223827e+08   156.118725    9.945598    1.696048   14.221637   \n",
       "1        1.271755e+08  4109.433962    3.905660   54.632075   15.462264   \n",
       "\n",
       "            attribute6  attribute7  attribute8  attribute9  \n",
       "failure                                                     \n",
       "0        260174.451056    0.266682    0.266682   12.442462  \n",
       "1        258303.481132   30.622642   30.622642   23.084906  "
      ]
     },
     "execution_count": 7,
     "metadata": {},
     "output_type": "execute_result"
    }
   ],
   "source": [
    "device_data.groupby(\"failure\").mean()"
   ]
  },
  {
   "cell_type": "markdown",
   "metadata": {},
   "source": [
    "It is clear that attributes 1 & 6 have much larger values than the rest of the attributes. This can create problems with the estimation of the models later on, so we'll scale the variables."
   ]
  },
  {
   "cell_type": "markdown",
   "metadata": {},
   "source": [
    "From the analysis of observations when the values of each attribute is larger than 0, it looks like attributes 7 & 8 have the same number of cases when they are larger than 0. This requires a little more investigation. If both attributes have the same values, one of them will be dropped.\n",
    "\n",
    "Next, I'll test if the values for attributes 7 & 8 are the same. If the difference between attributes 7 & 8 is 0, I'll drop column 8."
   ]
  },
  {
   "cell_type": "code",
   "execution_count": 8,
   "metadata": {},
   "outputs": [
    {
     "data": {
      "text/plain": [
       "0"
      ]
     },
     "execution_count": 8,
     "metadata": {},
     "output_type": "execute_result"
    }
   ],
   "source": [
    "sum((device_data[\"attribute7\"] - device_data[\"attribute8\"]))"
   ]
  },
  {
   "cell_type": "markdown",
   "metadata": {},
   "source": [
    "Based on the test, columns 7 & 8 are the same. Hence, I'll drop column 8."
   ]
  },
  {
   "cell_type": "code",
   "execution_count": 9,
   "metadata": {
    "collapsed": true
   },
   "outputs": [],
   "source": [
    "drop_vars = [\"attribute8\"]\n",
    "device_data = device_data.drop(drop_vars, axis = 1)"
   ]
  },
  {
   "cell_type": "code",
   "execution_count": null,
   "metadata": {
    "collapsed": true
   },
   "outputs": [],
   "source": []
  },
  {
   "cell_type": "markdown",
   "metadata": {},
   "source": [
    "Check if there are NA values in the data. If the list with features is very long I wouldn't print the whole list with the results, but will only print those that with missing values."
   ]
  },
  {
   "cell_type": "code",
   "execution_count": 10,
   "metadata": {},
   "outputs": [
    {
     "data": {
      "text/plain": [
       "[('date', 0),\n",
       " ('device', 0),\n",
       " ('failure', 0),\n",
       " ('attribute1', 0),\n",
       " ('attribute2', 0),\n",
       " ('attribute3', 0),\n",
       " ('attribute4', 0),\n",
       " ('attribute5', 0),\n",
       " ('attribute6', 0),\n",
       " ('attribute7', 0),\n",
       " ('attribute9', 0)]"
      ]
     },
     "execution_count": 10,
     "metadata": {},
     "output_type": "execute_result"
    }
   ],
   "source": [
    "columns_list = list(device_data.columns)\n",
    "features_na = checkNaValues(device_data, columns_list)\n",
    "list(zip(columns_list, features_na))"
   ]
  },
  {
   "cell_type": "markdown",
   "metadata": {},
   "source": [
    "There are no features with NULL or NaN values.. The next step is to check for duplicate rows in the data"
   ]
  },
  {
   "cell_type": "code",
   "execution_count": 11,
   "metadata": {},
   "outputs": [
    {
     "data": {
      "text/html": [
       "<div>\n",
       "<table border=\"1\" class=\"dataframe\">\n",
       "  <thead>\n",
       "    <tr style=\"text-align: right;\">\n",
       "      <th></th>\n",
       "      <th>date</th>\n",
       "      <th>device</th>\n",
       "      <th>failure</th>\n",
       "      <th>attribute1</th>\n",
       "      <th>attribute2</th>\n",
       "      <th>attribute3</th>\n",
       "      <th>attribute4</th>\n",
       "      <th>attribute5</th>\n",
       "      <th>attribute6</th>\n",
       "      <th>attribute7</th>\n",
       "      <th>attribute9</th>\n",
       "    </tr>\n",
       "  </thead>\n",
       "  <tbody>\n",
       "  </tbody>\n",
       "</table>\n",
       "</div>"
      ],
      "text/plain": [
       "Empty DataFrame\n",
       "Columns: [date, device, failure, attribute1, attribute2, attribute3, attribute4, attribute5, attribute6, attribute7, attribute9]\n",
       "Index: []"
      ]
     },
     "execution_count": 11,
     "metadata": {},
     "output_type": "execute_result"
    }
   ],
   "source": [
    "device_data[device_data.duplicated()]"
   ]
  },
  {
   "cell_type": "markdown",
   "metadata": {},
   "source": [
    "There are no duplicate rows in the data."
   ]
  },
  {
   "cell_type": "code",
   "execution_count": null,
   "metadata": {
    "collapsed": true
   },
   "outputs": [],
   "source": []
  },
  {
   "cell_type": "markdown",
   "metadata": {},
   "source": [
    "### Derive new features\n",
    "1. Take the log of features with large values\n",
    "<br>\n",
    "Attribute1 & attribute6 have very large values compared with the rest of the features. So I'll take the logs.\n",
    "<p>\n",
    "2. Create dummies (0/1) from the existing features\n",
    "<br>\n",
    "If the value of an attribute is larger than 0, encode as 1, otherwise 0"
   ]
  },
  {
   "cell_type": "code",
   "execution_count": 12,
   "metadata": {},
   "outputs": [
    {
     "data": {
      "text/plain": [
       "[('attribute1_dummy', 1    124483\n",
       "  0        11\n",
       "  Name: attribute1_dummy, dtype: int64), ('attribute2_dummy', 0    118110\n",
       "  1      6384\n",
       "  Name: attribute2_dummy, dtype: int64), ('attribute3_dummy', 0    115359\n",
       "  1      9135\n",
       "  Name: attribute3_dummy, dtype: int64), ('attribute4_dummy', 0    115156\n",
       "  1      9338\n",
       "  Name: attribute4_dummy, dtype: int64), ('attribute5_dummy', 1    124494\n",
       "  Name: attribute5_dummy, dtype: int64), ('attribute6_dummy', 1    124494\n",
       "  Name: attribute6_dummy, dtype: int64), ('attribute7_dummy', 0    123036\n",
       "  1      1458\n",
       "  Name: attribute7_dummy, dtype: int64), ('attribute9_dummy', 0    97358\n",
       "  1    27136\n",
       "  Name: attribute9_dummy, dtype: int64)]"
      ]
     },
     "execution_count": 12,
     "metadata": {},
     "output_type": "execute_result"
    }
   ],
   "source": [
    "# 1) Calculate the log of the attribute1 & attribute6\n",
    "columns_list = [\"attribute1\", \"attribute6\"]\n",
    "createLog(device_data, columns_list)\n",
    "\n",
    "# 2) Create dummies from the attributes\n",
    "columns_list = [\"attribute1\", \"attribute2\", \"attribute3\", \"attribute4\", \"attribute5\", \"attribute6\", \"attribute7\", \"attribute9\"]\n",
    "\n",
    "features_dummy = createDummy(device_data, columns_list)\n",
    "list(zip(features_dummy, [device_data[s].value_counts() for s in features_dummy]))"
   ]
  },
  {
   "cell_type": "markdown",
   "metadata": {},
   "source": [
    "We'll also drop the dummies for columns 5 & 6 because they are always 1. Since they have the same value for every observation, they won't provide any useful information to the models."
   ]
  },
  {
   "cell_type": "code",
   "execution_count": 13,
   "metadata": {
    "collapsed": true
   },
   "outputs": [],
   "source": [
    "drop_vars = [\"attribute5_dummy\", \"attribute6_dummy\"]\n",
    "device_data = device_data.drop(drop_vars, axis = 1)"
   ]
  },
  {
   "cell_type": "code",
   "execution_count": null,
   "metadata": {
    "collapsed": true
   },
   "outputs": [],
   "source": []
  },
  {
   "cell_type": "markdown",
   "metadata": {},
   "source": [
    "### Further investigation of the data\n",
    "We need to dig a little deeper into the distributions of failure/non-failure and understand the following:\n",
    "<br>\n",
    "1. Distribution of failure/non-failure rates by year\n",
    "2. Distribution of failure/non-failure rates by month\n",
    "3. Distribution of failure/non-failure rates by device - are there specific devices that tend to fail more than others?"
   ]
  },
  {
   "cell_type": "code",
   "execution_count": 14,
   "metadata": {},
   "outputs": [
    {
     "name": "stdout",
     "output_type": "stream",
     "text": [
      "0    124388\n",
      "1       106\n",
      "Name: failure, dtype: int64\n",
      "col_0   count\n",
      "year         \n",
      "2015   124494\n"
     ]
    },
    {
     "data": {
      "text/html": [
       "<div>\n",
       "<table border=\"1\" class=\"dataframe\">\n",
       "  <thead>\n",
       "    <tr style=\"text-align: right;\">\n",
       "      <th>col_0</th>\n",
       "      <th>count</th>\n",
       "    </tr>\n",
       "    <tr>\n",
       "      <th>month</th>\n",
       "      <th></th>\n",
       "    </tr>\n",
       "  </thead>\n",
       "  <tbody>\n",
       "    <tr>\n",
       "      <th>1</th>\n",
       "      <td>0.201070</td>\n",
       "    </tr>\n",
       "    <tr>\n",
       "      <th>2</th>\n",
       "      <td>0.156634</td>\n",
       "    </tr>\n",
       "    <tr>\n",
       "      <th>3</th>\n",
       "      <td>0.159309</td>\n",
       "    </tr>\n",
       "    <tr>\n",
       "      <th>4</th>\n",
       "      <td>0.096487</td>\n",
       "    </tr>\n",
       "    <tr>\n",
       "      <th>5</th>\n",
       "      <td>0.091008</td>\n",
       "    </tr>\n",
       "    <tr>\n",
       "      <th>6</th>\n",
       "      <td>0.084092</td>\n",
       "    </tr>\n",
       "    <tr>\n",
       "      <th>7</th>\n",
       "      <td>0.084590</td>\n",
       "    </tr>\n",
       "    <tr>\n",
       "      <th>8</th>\n",
       "      <td>0.067039</td>\n",
       "    </tr>\n",
       "    <tr>\n",
       "      <th>9</th>\n",
       "      <td>0.035905</td>\n",
       "    </tr>\n",
       "    <tr>\n",
       "      <th>10</th>\n",
       "      <td>0.023616</td>\n",
       "    </tr>\n",
       "    <tr>\n",
       "      <th>11</th>\n",
       "      <td>0.000249</td>\n",
       "    </tr>\n",
       "  </tbody>\n",
       "</table>\n",
       "</div>"
      ],
      "text/plain": [
       "col_0     count\n",
       "month          \n",
       "1      0.201070\n",
       "2      0.156634\n",
       "3      0.159309\n",
       "4      0.096487\n",
       "5      0.091008\n",
       "6      0.084092\n",
       "7      0.084590\n",
       "8      0.067039\n",
       "9      0.035905\n",
       "10     0.023616\n",
       "11     0.000249"
      ]
     },
     "execution_count": 14,
     "metadata": {},
     "output_type": "execute_result"
    }
   ],
   "source": [
    "# Distribution of failure/non-failure by year\n",
    "device_data[\"year\"] = pd.to_datetime(device_data[\"date\"]).dt.year\n",
    "device_data[\"month\"] = pd.to_datetime(device_data[\"date\"]).dt.month\n",
    "device_data[\"day_of_week\"] = pd.to_datetime(device_data[\"date\"]).dt.dayofweek\n",
    "device_data[\"device_type\"] = device_data.device.str[0]\n",
    "\n",
    "# Create dummies for each of the three different devices in the data. Each starts with a different letter - S, W, or Z\n",
    "device_data = pd.concat([device_data, pd.get_dummies(device_data[\"device_type\"].str.lower(), prefix = \"device_type\")],\n",
    "                        axis = 1, join_axes = [device_data.index])\n",
    "\n",
    "# Print some summary stats\n",
    "print(device_data.failure.value_counts())\n",
    "\n",
    "print(pd.crosstab(device_data[\"year\"],\n",
    "                  columns = \"count\"))\n",
    "pd.crosstab(device_data[\"month\"],\n",
    "            columns = \"count\") / len(device_data.month)"
   ]
  },
  {
   "cell_type": "markdown",
   "metadata": {},
   "source": [
    "It is evident that the data is only for 2015 and we have information for most of the months of 2015, except for December. However, note that 50% of the observations are from the period January - March.\n",
    "<p>\n",
    "Next, we'll look at the distribution of failure/non-failure by month - both counts and rates."
   ]
  },
  {
   "cell_type": "code",
   "execution_count": 15,
   "metadata": {},
   "outputs": [
    {
     "data": {
      "text/html": [
       "<div>\n",
       "<table border=\"1\" class=\"dataframe\">\n",
       "  <thead>\n",
       "    <tr style=\"text-align: right;\">\n",
       "      <th>month</th>\n",
       "      <th>1</th>\n",
       "      <th>2</th>\n",
       "      <th>3</th>\n",
       "      <th>4</th>\n",
       "      <th>5</th>\n",
       "      <th>6</th>\n",
       "      <th>7</th>\n",
       "      <th>8</th>\n",
       "      <th>9</th>\n",
       "      <th>10</th>\n",
       "      <th>11</th>\n",
       "      <th>All</th>\n",
       "    </tr>\n",
       "  </thead>\n",
       "  <tbody>\n",
       "    <tr>\n",
       "      <th>non_failure</th>\n",
       "      <td>25008</td>\n",
       "      <td>19486</td>\n",
       "      <td>19824</td>\n",
       "      <td>12003</td>\n",
       "      <td>11309</td>\n",
       "      <td>10463</td>\n",
       "      <td>10515</td>\n",
       "      <td>8342</td>\n",
       "      <td>4470</td>\n",
       "      <td>2937</td>\n",
       "      <td>31</td>\n",
       "      <td>124388</td>\n",
       "    </tr>\n",
       "    <tr>\n",
       "      <th>failure</th>\n",
       "      <td>24</td>\n",
       "      <td>14</td>\n",
       "      <td>9</td>\n",
       "      <td>9</td>\n",
       "      <td>21</td>\n",
       "      <td>6</td>\n",
       "      <td>16</td>\n",
       "      <td>4</td>\n",
       "      <td>0</td>\n",
       "      <td>3</td>\n",
       "      <td>0</td>\n",
       "      <td>106</td>\n",
       "    </tr>\n",
       "    <tr>\n",
       "      <th>month_total</th>\n",
       "      <td>25032</td>\n",
       "      <td>19500</td>\n",
       "      <td>19833</td>\n",
       "      <td>12012</td>\n",
       "      <td>11330</td>\n",
       "      <td>10469</td>\n",
       "      <td>10531</td>\n",
       "      <td>8346</td>\n",
       "      <td>4470</td>\n",
       "      <td>2940</td>\n",
       "      <td>31</td>\n",
       "      <td>124494</td>\n",
       "    </tr>\n",
       "  </tbody>\n",
       "</table>\n",
       "</div>"
      ],
      "text/plain": [
       "month            1      2      3      4      5      6      7     8     9  \\\n",
       "non_failure  25008  19486  19824  12003  11309  10463  10515  8342  4470   \n",
       "failure         24     14      9      9     21      6     16     4     0   \n",
       "month_total  25032  19500  19833  12012  11330  10469  10531  8346  4470   \n",
       "\n",
       "month          10  11     All  \n",
       "non_failure  2937  31  124388  \n",
       "failure         3   0     106  \n",
       "month_total  2940  31  124494  "
      ]
     },
     "execution_count": 15,
     "metadata": {},
     "output_type": "execute_result"
    }
   ],
   "source": [
    "# Distribution of failure/non-failure by month\n",
    "failure_month = pd.crosstab(index = device_data[\"failure\"],\n",
    "                            columns = device_data[\"month\"],\n",
    "                            margins = True)\n",
    "\n",
    "failure_month.index = [\"non_failure\", \"failure\", \"month_total\"]\n",
    "failure_month"
   ]
  },
  {
   "cell_type": "code",
   "execution_count": 16,
   "metadata": {},
   "outputs": [
    {
     "data": {
      "text/html": [
       "<div>\n",
       "<table border=\"1\" class=\"dataframe\">\n",
       "  <thead>\n",
       "    <tr style=\"text-align: right;\">\n",
       "      <th>month</th>\n",
       "      <th>1</th>\n",
       "      <th>2</th>\n",
       "      <th>3</th>\n",
       "      <th>4</th>\n",
       "      <th>5</th>\n",
       "      <th>6</th>\n",
       "      <th>7</th>\n",
       "      <th>8</th>\n",
       "      <th>9</th>\n",
       "      <th>10</th>\n",
       "      <th>11</th>\n",
       "      <th>All</th>\n",
       "    </tr>\n",
       "  </thead>\n",
       "  <tbody>\n",
       "    <tr>\n",
       "      <th>non_failure</th>\n",
       "      <td>0.999041</td>\n",
       "      <td>0.999282</td>\n",
       "      <td>0.999546</td>\n",
       "      <td>0.999251</td>\n",
       "      <td>0.998147</td>\n",
       "      <td>0.999427</td>\n",
       "      <td>0.998481</td>\n",
       "      <td>0.999521</td>\n",
       "      <td>1.0</td>\n",
       "      <td>0.99898</td>\n",
       "      <td>1.0</td>\n",
       "      <td>0.999149</td>\n",
       "    </tr>\n",
       "    <tr>\n",
       "      <th>failure</th>\n",
       "      <td>0.000959</td>\n",
       "      <td>0.000718</td>\n",
       "      <td>0.000454</td>\n",
       "      <td>0.000749</td>\n",
       "      <td>0.001853</td>\n",
       "      <td>0.000573</td>\n",
       "      <td>0.001519</td>\n",
       "      <td>0.000479</td>\n",
       "      <td>0.0</td>\n",
       "      <td>0.00102</td>\n",
       "      <td>0.0</td>\n",
       "      <td>0.000851</td>\n",
       "    </tr>\n",
       "    <tr>\n",
       "      <th>month_total</th>\n",
       "      <td>1.000000</td>\n",
       "      <td>1.000000</td>\n",
       "      <td>1.000000</td>\n",
       "      <td>1.000000</td>\n",
       "      <td>1.000000</td>\n",
       "      <td>1.000000</td>\n",
       "      <td>1.000000</td>\n",
       "      <td>1.000000</td>\n",
       "      <td>1.0</td>\n",
       "      <td>1.00000</td>\n",
       "      <td>1.0</td>\n",
       "      <td>1.000000</td>\n",
       "    </tr>\n",
       "  </tbody>\n",
       "</table>\n",
       "</div>"
      ],
      "text/plain": [
       "month               1         2         3         4         5         6  \\\n",
       "non_failure  0.999041  0.999282  0.999546  0.999251  0.998147  0.999427   \n",
       "failure      0.000959  0.000718  0.000454  0.000749  0.001853  0.000573   \n",
       "month_total  1.000000  1.000000  1.000000  1.000000  1.000000  1.000000   \n",
       "\n",
       "month               7         8    9       10   11       All  \n",
       "non_failure  0.998481  0.999521  1.0  0.99898  1.0  0.999149  \n",
       "failure      0.001519  0.000479  0.0  0.00102  0.0  0.000851  \n",
       "month_total  1.000000  1.000000  1.0  1.00000  1.0  1.000000  "
      ]
     },
     "execution_count": 16,
     "metadata": {},
     "output_type": "execute_result"
    }
   ],
   "source": [
    "failure_month_pct = failure_month / failure_month.loc[\"month_total\"]\n",
    "failure_month_pct"
   ]
  },
  {
   "cell_type": "code",
   "execution_count": 17,
   "metadata": {},
   "outputs": [
    {
     "data": {
      "text/plain": [
       "<matplotlib.text.Text at 0x11421fc88>"
      ]
     },
     "execution_count": 17,
     "metadata": {},
     "output_type": "execute_result"
    },
    {
     "data": {
      "image/png": "[encoded data removed]",
      "text/plain": [
       "<matplotlib.figure.Figure at 0x1118de9e8>"
      ]
     },
     "metadata": {},
     "output_type": "display_data"
    }
   ],
   "source": [
    "# Plot the % failures/non-failures by month\n",
    "plt.figure(figsize = (15, 5))\n",
    "plt.plot(list(failure_month_pct.loc[\"failure\"]), linewidth = 0.8, color = \"#ff0000\")\n",
    "plt.xlabel(\"Months\")\n",
    "plt.ylabel(\"Percent device failure\")\n",
    "plt.title(\"Percent Failed Devices by Month\")"
   ]
  },
  {
   "cell_type": "code",
   "execution_count": 18,
   "metadata": {},
   "outputs": [
    {
     "data": {
      "text/plain": [
       "<matplotlib.axes._subplots.AxesSubplot at 0x113d6c4e0>"
      ]
     },
     "execution_count": 18,
     "metadata": {},
     "output_type": "execute_result"
    },
    {
     "data": {
      "image/png": "[encoded data removed]",
      "text/plain": [
       "<matplotlib.figure.Figure at 0x1118de630>"
      ]
     },
     "metadata": {},
     "output_type": "display_data"
    }
   ],
   "source": [
    "# Plot the % failures/non-failures by day\n",
    "failure_day = pd.crosstab(index = device_data[\"date\"],\n",
    "                          columns = device_data[\"failure\"],\n",
    "                          margins = True)\n",
    "\n",
    "failure_day.columns = [\"non_failure\", \"failure\", \"total\"]\n",
    "\n",
    "failure_day[:-1].reset_index().plot(x = \"date\", y = \"failure\",\n",
    "                                    figsize = (15, 5),\n",
    "                                    title = \"Number of Failed Devices by Day\")"
   ]
  },
  {
   "cell_type": "code",
   "execution_count": null,
   "metadata": {
    "collapsed": true
   },
   "outputs": [],
   "source": []
  },
  {
   "cell_type": "markdown",
   "metadata": {},
   "source": [
    "I noticed that the devices start with a different letter, which could be a different device type. Some types may have higher failure rates than others, and I'll explore to see if there are different failure rates by device type"
   ]
  },
  {
   "cell_type": "code",
   "execution_count": 19,
   "metadata": {},
   "outputs": [
    {
     "name": "stdout",
     "output_type": "stream",
     "text": [
      "device_type\n",
      "S      0.000766\n",
      "W      0.000971\n",
      "Z      0.000834\n",
      "All    0.000851\n",
      "dtype: float64\n"
     ]
    },
    {
     "data": {
      "text/html": [
       "<div>\n",
       "<table border=\"1\" class=\"dataframe\">\n",
       "  <thead>\n",
       "    <tr style=\"text-align: right;\">\n",
       "      <th></th>\n",
       "      <th>non_failure</th>\n",
       "      <th>failure</th>\n",
       "      <th>total</th>\n",
       "    </tr>\n",
       "    <tr>\n",
       "      <th>device_type</th>\n",
       "      <th></th>\n",
       "      <th></th>\n",
       "      <th></th>\n",
       "    </tr>\n",
       "  </thead>\n",
       "  <tbody>\n",
       "    <tr>\n",
       "      <th>S</th>\n",
       "      <td>54816</td>\n",
       "      <td>42</td>\n",
       "      <td>54858</td>\n",
       "    </tr>\n",
       "    <tr>\n",
       "      <th>W</th>\n",
       "      <td>43226</td>\n",
       "      <td>42</td>\n",
       "      <td>43268</td>\n",
       "    </tr>\n",
       "    <tr>\n",
       "      <th>Z</th>\n",
       "      <td>26346</td>\n",
       "      <td>22</td>\n",
       "      <td>26368</td>\n",
       "    </tr>\n",
       "    <tr>\n",
       "      <th>All</th>\n",
       "      <td>124388</td>\n",
       "      <td>106</td>\n",
       "      <td>124494</td>\n",
       "    </tr>\n",
       "  </tbody>\n",
       "</table>\n",
       "</div>"
      ],
      "text/plain": [
       "             non_failure  failure   total\n",
       "device_type                              \n",
       "S                  54816       42   54858\n",
       "W                  43226       42   43268\n",
       "Z                  26346       22   26368\n",
       "All               124388      106  124494"
      ]
     },
     "execution_count": 19,
     "metadata": {},
     "output_type": "execute_result"
    }
   ],
   "source": [
    "# Distribution of failure/non-failure by device type - are there specific devices that tend to fail more than others?\n",
    "failure_device = pd.crosstab(index = device_data[\"device_type\"],\n",
    "                             columns = device_data[\"failure\"],\n",
    "                             margins = True)\n",
    "failure_device.columns = [\"non_failure\", \"failure\", \"total\"]\n",
    "\n",
    "print (failure_device[\"failure\"] / failure_device[\"total\"])\n",
    "failure_device"
   ]
  },
  {
   "cell_type": "markdown",
   "metadata": {},
   "source": [
    "It looks like the devices that start with the letter W have a slightly higher failure rate (0.000971) compared to the average (0.000851). Although, it is not too different. Nevertheless, I'll use the device type as dummy variables in the models."
   ]
  },
  {
   "cell_type": "code",
   "execution_count": null,
   "metadata": {
    "collapsed": true
   },
   "outputs": [],
   "source": []
  },
  {
   "cell_type": "code",
   "execution_count": 20,
   "metadata": {},
   "outputs": [
    {
     "data": {
      "text/html": [
       "<div>\n",
       "<table border=\"1\" class=\"dataframe\">\n",
       "  <thead>\n",
       "    <tr style=\"text-align: right;\">\n",
       "      <th>failure</th>\n",
       "      <th>0</th>\n",
       "      <th>1</th>\n",
       "      <th>All</th>\n",
       "    </tr>\n",
       "    <tr>\n",
       "      <th>day_of_week</th>\n",
       "      <th></th>\n",
       "      <th></th>\n",
       "      <th></th>\n",
       "    </tr>\n",
       "  </thead>\n",
       "  <tbody>\n",
       "    <tr>\n",
       "      <th>0</th>\n",
       "      <td>17859</td>\n",
       "      <td>27</td>\n",
       "      <td>17886</td>\n",
       "    </tr>\n",
       "    <tr>\n",
       "      <th>1</th>\n",
       "      <td>17516</td>\n",
       "      <td>18</td>\n",
       "      <td>17534</td>\n",
       "    </tr>\n",
       "    <tr>\n",
       "      <th>2</th>\n",
       "      <td>17121</td>\n",
       "      <td>15</td>\n",
       "      <td>17136</td>\n",
       "    </tr>\n",
       "    <tr>\n",
       "      <th>3</th>\n",
       "      <td>18119</td>\n",
       "      <td>22</td>\n",
       "      <td>18141</td>\n",
       "    </tr>\n",
       "    <tr>\n",
       "      <th>4</th>\n",
       "      <td>18029</td>\n",
       "      <td>12</td>\n",
       "      <td>18041</td>\n",
       "    </tr>\n",
       "    <tr>\n",
       "      <th>5</th>\n",
       "      <td>17889</td>\n",
       "      <td>8</td>\n",
       "      <td>17897</td>\n",
       "    </tr>\n",
       "    <tr>\n",
       "      <th>6</th>\n",
       "      <td>17855</td>\n",
       "      <td>4</td>\n",
       "      <td>17859</td>\n",
       "    </tr>\n",
       "    <tr>\n",
       "      <th>All</th>\n",
       "      <td>124388</td>\n",
       "      <td>106</td>\n",
       "      <td>124494</td>\n",
       "    </tr>\n",
       "  </tbody>\n",
       "</table>\n",
       "</div>"
      ],
      "text/plain": [
       "failure           0    1     All\n",
       "day_of_week                     \n",
       "0             17859   27   17886\n",
       "1             17516   18   17534\n",
       "2             17121   15   17136\n",
       "3             18119   22   18141\n",
       "4             18029   12   18041\n",
       "5             17889    8   17897\n",
       "6             17855    4   17859\n",
       "All          124388  106  124494"
      ]
     },
     "execution_count": 20,
     "metadata": {},
     "output_type": "execute_result"
    }
   ],
   "source": [
    "# Are there particular days of the week when a higher percent of devices fail?\n",
    "failure_day_week = pd.crosstab(index = device_data[\"day_of_week\"],\n",
    "                               columns = device_data[\"failure\"],\n",
    "                               margins = True)\n",
    "failure_day_week"
   ]
  },
  {
   "cell_type": "markdown",
   "metadata": {},
   "source": [
    "The devices don't seem to fail much during the weekends, which is interesting. We'll use the day-of-the-week feature as a predictor in the models."
   ]
  },
  {
   "cell_type": "code",
   "execution_count": null,
   "metadata": {
    "collapsed": true
   },
   "outputs": [],
   "source": []
  },
  {
   "cell_type": "code",
   "execution_count": 21,
   "metadata": {
    "collapsed": true
   },
   "outputs": [],
   "source": [
    "# Prepare the data for the models\n",
    "# Drop variables which will not be useful in the models\n",
    "drop_from_analysis = [\"date\", \"device\", \"year\", \"month\", \"device_type\"]\n",
    "analysis_set = device_data.drop(drop_from_analysis, axis = 1)"
   ]
  },
  {
   "cell_type": "code",
   "execution_count": null,
   "metadata": {
    "collapsed": true
   },
   "outputs": [],
   "source": []
  },
  {
   "cell_type": "markdown",
   "metadata": {
    "collapsed": true
   },
   "source": [
    "### Scale the features in the input dataset\n",
    "Some of the features have very large values, compared to the remaining features, which will create a problem unless the features are scaled."
   ]
  },
  {
   "cell_type": "code",
   "execution_count": 22,
   "metadata": {
    "collapsed": true
   },
   "outputs": [],
   "source": [
    "# Scale the features and sample from the scaled features\n",
    "keep_columns = [\"attribute1\", \"attribute2\", \"attribute3\", \"attribute4\", \"attribute5\", \"attribute6\", \"attribute7\", \"attribute9\"]\n",
    "\n",
    "scaler = MinMaxScaler()\n",
    "analysis_set_scaled = pd.DataFrame(scaler.fit_transform(analysis_set[keep_columns]),\n",
    "                                   columns = [(x + \"_s\") for x in keep_columns])\n",
    "\n",
    "analysis_set = pd.concat([analysis_set, analysis_set_scaled], axis = 1, join_axes=[analysis_set.index])"
   ]
  },
  {
   "cell_type": "code",
   "execution_count": null,
   "metadata": {
    "collapsed": true
   },
   "outputs": [],
   "source": []
  },
  {
   "cell_type": "markdown",
   "metadata": {},
   "source": [
    "### Sampling - create training and validation sets for the models\n",
    "Next, we need to create training and validation datasets to use in modeling. The training will be 70% of original and validation the remaining 30%.\n",
    "<p>\n",
    "It is very important that when we create training and validation datasets, the rate of failure in those datasets remains the same as in the full set. If it's not the same as in the original dataset, our accuracy stats on the developed model will be wrong and cannot be trusted.\n",
    "<p>\n",
    "My initial plan for creating train and validation datasets was to use train_test_split() from sklearn. However, I was suspicious that with such a low rate of failure in the input dataset (0.000851), the train_test_split() function will not properly sample the data, and the resulting rates will be different.\n",
    "<p>\n",
    "I created samples with train_test_split(), but the problem is that the sampling process yields train/validation samples with different failure rates - in one of the draws, the training ended up having a failure rate which was about 1.5 times higher than in the original.\n",
    "<p>\n",
    "Therefore, I implemented a controled sampling from the original set.\n",
    "<p>\n",
    "After the sampling, the datasets are split into X and Y sets to use in the models."
   ]
  },
  {
   "cell_type": "code",
   "execution_count": 23,
   "metadata": {},
   "outputs": [
    {
     "name": "stdout",
     "output_type": "stream",
     "text": [
      "Rate of failures in the original set is 0.0008522 \n",
      "Rate of failures in training is 0.0008499\n",
      "Rate of failures in validation is 0.0008575\n"
     ]
    }
   ],
   "source": [
    "# Split the data into training and validation - 70% training and 30% validation\n",
    "\n",
    "sample_size = .7\n",
    "_failure = analysis_set[analysis_set[\"failure\"] == 1]\n",
    "_non_failure = analysis_set[analysis_set[\"failure\"] == 0]\n",
    "\n",
    "# Create the training set - 70% of observations\n",
    "_failure_t = _failure.sample(frac = sample_size,\n",
    "                             replace = False,\n",
    "                             weights = None,\n",
    "                             random_state = 7894)\n",
    "\n",
    "_non_failure_t = _non_failure.sample(frac = sample_size,\n",
    "                                     replace = False,\n",
    "                                     weights = None,\n",
    "                                     random_state = 7894)\n",
    "\n",
    "training_set = pd.concat([_failure_t, _non_failure_t])\n",
    "\n",
    "\n",
    "# Create the validaton sample - drop the rows that were sampled for the training sets - 30% of observations\n",
    "_failure_v = _failure.drop(_failure_t.index.tolist())\n",
    "_non_failure_v = _non_failure.drop(_non_failure_t.index.tolist())\n",
    "\n",
    "validation_set = pd.concat([_failure_v, _non_failure_v])\n",
    "\n",
    "\n",
    "# Check if the % failure and non-failure remains the same in the training and validation as in the original dataset\n",
    "_orig_f = Decimal(len(analysis_set[analysis_set[\"failure\"] == 1])) / len(analysis_set[analysis_set[\"failure\"] == 0])\n",
    "print (\"Rate of failures in the original set is %0.7f \" % _orig_f)\n",
    "\n",
    "_train_f = Decimal(len(training_set[training_set[\"failure\"] == 1])) / len(training_set[training_set[\"failure\"] == 0])\n",
    "print (\"Rate of failures in training is %0.7f\" % _train_f)\n",
    "\n",
    "_validate_f = Decimal(len(validation_set[validation_set[\"failure\"] == 1])) / len(validation_set[validation_set[\"failure\"] == 0])\n",
    "print (\"Rate of failures in validation is %0.7f\" % _validate_f)\n"
   ]
  },
  {
   "cell_type": "markdown",
   "metadata": {},
   "source": [
    "The failure rates are approximately the same in the training and validation sets, and the next step is to create the X and Y sets for the models."
   ]
  },
  {
   "cell_type": "code",
   "execution_count": 24,
   "metadata": {
    "collapsed": true
   },
   "outputs": [],
   "source": [
    "# Create the X and Y sets for the models\n",
    "x_train = training_set.drop(\"failure\", axis = 1)\n",
    "x_validate = validation_set.drop(\"failure\", axis = 1)\n",
    "y_train = training_set[\"failure\"]\n",
    "y_validate = validation_set[\"failure\"]"
   ]
  },
  {
   "cell_type": "code",
   "execution_count": null,
   "metadata": {
    "collapsed": true
   },
   "outputs": [],
   "source": []
  },
  {
   "cell_type": "markdown",
   "metadata": {},
   "source": [
    "### Dealing with imbalanced data\n",
    "There are multiple methods to adjust imbalanced datasets\n",
    "1. Sample the failures, but use a weight which is inversly prportional to the rate of failure. Use that weight in the models\n",
    "2. Undersample the non-failures\n",
    "3. Create synthetic observations of the minority class, i.e. observations where failure = 1, with SMOTE, a method which is part of the scikit-learn library. SMOTE uses clustering (k-nearest neighbor) to create synthetic observations which are similar to the observations in the minority class."
   ]
  },
  {
   "cell_type": "code",
   "execution_count": 25,
   "metadata": {
    "collapsed": true
   },
   "outputs": [],
   "source": [
    "sm = SMOTE(ratio = \"minority\", random_state = 7894)\n",
    "_x_train, _y_train = sm.fit_sample(x_train, y_train)\n",
    "\n",
    "x_train_w = pd.DataFrame(_x_train,\n",
    "                         columns = list(x_train.columns))\n",
    "y_train_w = pd.Series(_y_train)"
   ]
  },
  {
   "cell_type": "code",
   "execution_count": 26,
   "metadata": {},
   "outputs": [
    {
     "data": {
      "text/plain": [
       "1    87072\n",
       "0    87072\n",
       "dtype: int64"
      ]
     },
     "execution_count": 26,
     "metadata": {},
     "output_type": "execute_result"
    }
   ],
   "source": [
    "y_train_w.value_counts()"
   ]
  },
  {
   "cell_type": "code",
   "execution_count": 27,
   "metadata": {
    "collapsed": true
   },
   "outputs": [],
   "source": [
    "x_train = x_train_vs = x_train_w     # Create training sets for the feature reduction and a separate one for the training of models\n",
    "x_validate = x_validate\n",
    "y_train = y_train_w\n",
    "y_validate = y_validate"
   ]
  },
  {
   "cell_type": "code",
   "execution_count": null,
   "metadata": {
    "collapsed": true
   },
   "outputs": [],
   "source": []
  },
  {
   "cell_type": "code",
   "execution_count": 72,
   "metadata": {
    "collapsed": true
   },
   "outputs": [],
   "source": [
    "# REMOVE ALL THE SCALED FEATURES\n",
    "drop_col = [\"attribute1_s\", \"attribute2_s\", \"attribute3_s\", \"attribute4_s\", \"attribute5_s\", \"attribute6_s\",\n",
    "            \"attribute7_s\", \"attribute9_s\"]\n",
    "x_train = x_train_vs = x_train.drop(drop_col, axis = 1)"
   ]
  },
  {
   "cell_type": "code",
   "execution_count": null,
   "metadata": {
    "collapsed": true
   },
   "outputs": [],
   "source": []
  },
  {
   "cell_type": "markdown",
   "metadata": {},
   "source": [
    "### Variable selection\n",
    "The next step in the model development process is to find the features that are most predictive for the outcome. I'll use recursive feature elimination and Random Forest for finding the features that are important."
   ]
  },
  {
   "cell_type": "code",
   "execution_count": 115,
   "metadata": {},
   "outputs": [
    {
     "data": {
      "text/plain": [
       "[('attribute1', False, 13),\n",
       " ('attribute2', False, 8),\n",
       " ('attribute3', False, 4),\n",
       " ('attribute4', True, 1),\n",
       " ('attribute5', False, 2),\n",
       " ('attribute6', False, 9),\n",
       " ('attribute7', True, 1),\n",
       " ('attribute9', False, 3),\n",
       " ('attribute1_log', True, 1),\n",
       " ('attribute6_log', True, 1),\n",
       " ('attribute1_dummy', True, 1),\n",
       " ('attribute2_dummy', True, 1),\n",
       " ('attribute3_dummy', True, 1),\n",
       " ('attribute4_dummy', True, 1),\n",
       " ('attribute7_dummy', True, 1),\n",
       " ('attribute9_dummy', True, 1),\n",
       " ('day_of_week', True, 1),\n",
       " ('device_type_s', True, 1),\n",
       " ('device_type_w', True, 1),\n",
       " ('device_type_z', True, 1),\n",
       " ('attribute1_s', False, 15),\n",
       " ('attribute2_s', False, 12),\n",
       " ('attribute3_s', False, 11),\n",
       " ('attribute4_s', False, 7),\n",
       " ('attribute5_s', False, 5),\n",
       " ('attribute6_s', False, 14),\n",
       " ('attribute7_s', False, 6),\n",
       " ('attribute9_s', False, 10)]"
      ]
     },
     "execution_count": 115,
     "metadata": {},
     "output_type": "execute_result"
    }
   ],
   "source": [
    "# 1) Variable selection with Recursive Feature Elimination\n",
    "vs_rfe = RFE(LogisticRegression())\n",
    "vs_rfe.fit(x_train_vs, y_train)\n",
    "list(zip(x_train_vs, vs_rfe.support_, vs_rfe.ranking_))"
   ]
  },
  {
   "cell_type": "markdown",
   "metadata": {},
   "source": [
    "It appears that the recursive feature elimination suggests that we don't use in the model any of the dummies, except for the dummy for attribute1, and we shouldn't use the indicator for the type of device (s, w, z).\n",
    "<p>\n",
    "Let's see what Random Forest suggests as important variables."
   ]
  },
  {
   "cell_type": "code",
   "execution_count": 120,
   "metadata": {},
   "outputs": [
    {
     "data": {
      "image/png": "[encoded data removed]",
      "text/plain": [
       "<matplotlib.figure.Figure at 0x117146e48>"
      ]
     },
     "metadata": {},
     "output_type": "display_data"
    }
   ],
   "source": [
    "# 2) Variable selection using the feature importance from Random Forest\n",
    "# At this step Random Forest is used only as a feature selection method. I'll obtain the feature importance from RF\n",
    "# At a later stage, I'll also use Random Forest as a classification model\n",
    "\n",
    "rf_vs_params = {\"n_estimators\": 1000,             # From prior experience I've noticed that a few hundred trees are usually enough for small datasets\n",
    "                \"random_state\": 0,\n",
    "                \"max_depth\": 3,                  # We don't have much observations, so that's why I set max tree depth to 3\n",
    "                \"class_weight\": \"balanced\"}      # parameter to adjust for the imbalanced dataset\n",
    "\n",
    "model_rf_vs = RandomForestClassifier(**rf_vs_params)\n",
    "model_rf_vs.fit(x_train_vs, y_train)\n",
    "\n",
    "# Plot the feature importance values\n",
    "def plotFeatureImportance(model, x_data):\n",
    "    plt.figure(figsize = (8, 7))\n",
    "    num_features = len(list(x_data.columns))\n",
    "    plt.barh(range(num_features), model.feature_importances_)\n",
    "    plt.yticks(np.arange(num_features), list(x_data.columns))\n",
    "    plt.xlabel(\"Variables importance\")\n",
    "    plt.ylabel(\"Variables names\")\n",
    "    \n",
    "plotFeatureImportance(model_rf_vs, x_train_vs)"
   ]
  },
  {
   "cell_type": "markdown",
   "metadata": {},
   "source": [
    "Based on the variable importance plot, I'll drop certain features, and will re-run the Random Forest selection."
   ]
  },
  {
   "cell_type": "code",
   "execution_count": 28,
   "metadata": {},
   "outputs": [
    {
     "data": {
      "image/png": "[encoded data removed]",
      "text/plain": [
       "<matplotlib.figure.Figure at 0x111d2bf60>"
      ]
     },
     "metadata": {},
     "output_type": "display_data"
    }
   ],
   "source": [
    "# Drop weak variables\n",
    "drop_col = [\"attribute1\", \"attribute3\", \"attribute5\", \"attribute6\", \"attribute9\", \"attribute1_log\", \"attribute6_log\",\n",
    "            \"attribute1_dummy\", \"attribute3_dummy\", \"attribute9_dummy\",\n",
    "            \"device_type_z\", \"device_type_w\", \"device_type_s\",\n",
    "            \"attribute1_s\", \"attribute3_s\", \"attribute5_s\", \"attribute6_s\", \"attribute9_s\"]\n",
    "\n",
    "x_train_vs = x_train_vs.drop(drop_col, axis = 1)\n",
    "\n",
    "\n",
    "# Re-run feature importance\n",
    "rf_vs_params = {\"n_estimators\": 500,\n",
    "                \"random_state\": 0,\n",
    "                \"max_depth\": 3,\n",
    "                \"class_weight\": \"balanced\"}\n",
    "\n",
    "model_rf_vs = RandomForestClassifier(**rf_vs_params)\n",
    "model_rf_vs.fit(x_train_vs, y_train)\n",
    "\n",
    "# Plot the feature importance values\n",
    "def plotFeatureImportance(model, x_data):\n",
    "    plt.figure(figsize = (8, 7))\n",
    "    num_features = len(list(x_data.columns))\n",
    "    plt.barh(range(num_features), model.feature_importances_)\n",
    "    plt.yticks(np.arange(num_features), list(x_data.columns))\n",
    "    plt.xlabel(\"Variables importance\")\n",
    "    plt.ylabel(\"Variables names\")\n",
    "    \n",
    "plotFeatureImportance(model_rf_vs, x_train_vs)"
   ]
  },
  {
   "cell_type": "code",
   "execution_count": null,
   "metadata": {
    "collapsed": true
   },
   "outputs": [],
   "source": []
  },
  {
   "cell_type": "markdown",
   "metadata": {},
   "source": [
    "Print goodness-of-fit stats from Logistic regression.\n",
    "<br>\n",
    "These stats give us an idea of the explanatory power of each variable, and guide our decision which varaibles to use in the models."
   ]
  },
  {
   "cell_type": "code",
   "execution_count": 29,
   "metadata": {},
   "outputs": [
    {
     "name": "stdout",
     "output_type": "stream",
     "text": [
      "Warning: Maximum number of iterations has been exceeded.\n",
      "         Current function value: 0.380714\n",
      "         Iterations: 35\n",
      "                           Logit Regression Results                           \n",
      "==============================================================================\n",
      "Dep. Variable:                      y   No. Observations:               174144\n",
      "Model:                          Logit   Df Residuals:                   174137\n",
      "Method:                           MLE   Df Model:                            6\n",
      "Date:                Wed, 10 Jan 2018   Pseudo R-squ.:                  0.4507\n",
      "Time:                        16:05:11   Log-Likelihood:                -66299.\n",
      "converged:                      False   LL-Null:                   -1.2071e+05\n",
      "                                        LLR p-value:                     0.000\n",
      "====================================================================================\n",
      "                       coef    std err          z      P>|z|      [0.025      0.975]\n",
      "------------------------------------------------------------------------------------\n",
      "attribute2       -2.476e-05     45.790  -5.41e-07      1.000     -89.747      89.747\n",
      "attribute4           0.0133    1.4e+04   9.45e-07      1.000   -2.75e+04    2.75e+04\n",
      "attribute7           0.0368        nan        nan        nan         nan         nan\n",
      "attribute2_dummy     2.0418      0.025     82.694      0.000       1.993       2.090\n",
      "attribute4_dummy     2.0738      0.022     92.353      0.000       2.030       2.118\n",
      "attribute7_dummy     3.7000      0.068     54.681      0.000       3.567       3.833\n",
      "day_of_week         -0.4672      0.003   -164.997      0.000      -0.473      -0.462\n",
      "attribute2_s     -1.238e-06   2.97e+06  -4.16e-13      1.000   -5.83e+06    5.83e+06\n",
      "attribute4_s      7.514e-06   2.34e+07   3.21e-13      1.000   -4.59e+07    4.59e+07\n",
      "attribute7_s      4.603e-05        nan        nan        nan         nan         nan\n",
      "====================================================================================\n"
     ]
    },
    {
     "name": "stderr",
     "output_type": "stream",
     "text": [
      "/Users/valentin/anaconda/lib/python3.5/site-packages/statsmodels/base/model.py:496: ConvergenceWarning: Maximum Likelihood optimization failed to converge. Check mle_retvals\n",
      "  \"Check mle_retvals\", ConvergenceWarning)\n",
      "/Users/valentin/anaconda/lib/python3.5/site-packages/statsmodels/base/model.py:1029: RuntimeWarning: invalid value encountered in sqrt\n",
      "  return np.sqrt(np.diag(self.cov_params()))\n",
      "/Users/valentin/anaconda/lib/python3.5/site-packages/scipy/stats/_distn_infrastructure.py:879: RuntimeWarning: invalid value encountered in greater\n",
      "  return (self.a < x) & (x < self.b)\n",
      "/Users/valentin/anaconda/lib/python3.5/site-packages/scipy/stats/_distn_infrastructure.py:879: RuntimeWarning: invalid value encountered in less\n",
      "  return (self.a < x) & (x < self.b)\n",
      "/Users/valentin/anaconda/lib/python3.5/site-packages/scipy/stats/_distn_infrastructure.py:1818: RuntimeWarning: invalid value encountered in less_equal\n",
      "  cond2 = cond0 & (x <= self.a)\n"
     ]
    }
   ],
   "source": [
    "import statsmodels.api as sm\n",
    "\n",
    "model_lr_vs = sm.Logit(y_train, x_train_vs).fit()\n",
    "print(model_lr_vs.summary())"
   ]
  },
  {
   "cell_type": "code",
   "execution_count": null,
   "metadata": {
    "collapsed": true
   },
   "outputs": [],
   "source": []
  },
  {
   "cell_type": "markdown",
   "metadata": {},
   "source": [
    "Test XGboost's GridSearch CV"
   ]
  },
  {
   "cell_type": "code",
   "execution_count": 61,
   "metadata": {
    "collapsed": true
   },
   "outputs": [],
   "source": [
    "cv_params = {\"max_depth\": [3, 5, 7],                # [3, 5, 7]\n",
    "             \"min_child_weight\": [1, 3, 5]}         # [1, 3, 5]\n",
    "\n",
    "xgb_params = {\"learning_rate\": 0.05,\n",
    "              \"n_estimators\": 10,\n",
    "              \"seed\": 0,\n",
    "              \"subsample\": 0.5,\n",
    "              \"colsample_bytree\": 0.5,\n",
    "              \"objective\": \"binary:logistic\",\n",
    "              \"silent\": 0}\n",
    "\n",
    "model_xgb_vs = xgb.XGBClassifier(**xgb_params)\n",
    "\n",
    "xgb_cv = GridSearchCV(model_xgb_vs,\n",
    "                      cv_params,\n",
    "                      scoring = 'accuracy', cv = 5, n_jobs = -1, verbose = True)\n"
   ]
  },
  {
   "cell_type": "code",
   "execution_count": 62,
   "metadata": {},
   "outputs": [
    {
     "name": "stdout",
     "output_type": "stream",
     "text": [
      "Fitting 5 folds for each of 9 candidates, totalling 45 fits\n"
     ]
    },
    {
     "name": "stderr",
     "output_type": "stream",
     "text": [
      "[Parallel(n_jobs=-1)]: Done  45 out of  45 | elapsed:   28.1s finished\n"
     ]
    },
    {
     "data": {
      "text/plain": [
       "GridSearchCV(cv=5, error_score='raise',\n",
       "       estimator=XGBClassifier(base_score=0.5, colsample_bylevel=1, colsample_bytree=0.5,\n",
       "       gamma=0, learning_rate=0.05, max_delta_step=0, max_depth=3,\n",
       "       min_child_weight=1, missing=None, n_estimators=10, nthread=-1,\n",
       "       objective='binary:logistic', reg_alpha=0, reg_lambda=1,\n",
       "       scale_pos_weight=1, seed=0, silent=0, subsample=0.5),\n",
       "       fit_params=None, iid=True, n_jobs=-1,\n",
       "       param_grid={'max_depth': [3, 5, 7], 'min_child_weight': [1, 3, 5]},\n",
       "       pre_dispatch='2*n_jobs', refit=True, return_train_score=True,\n",
       "       scoring='accuracy', verbose=True)"
      ]
     },
     "execution_count": 62,
     "metadata": {},
     "output_type": "execute_result"
    }
   ],
   "source": [
    "xgb_cv.fit(x_train_vs, y_train)"
   ]
  },
  {
   "cell_type": "code",
   "execution_count": 64,
   "metadata": {},
   "outputs": [
    {
     "data": {
      "text/plain": [
       "{'mean_fit_time': array([ 2.15873137,  2.17613702,  1.97153959,  2.19744668,  2.2139308 ,\n",
       "         2.19796343,  2.51816678,  2.53929901,  2.2481854 ]),\n",
       " 'mean_score_time': array([ 0.03652263,  0.03558178,  0.03536501,  0.02883239,  0.03357987,\n",
       "         0.03899436,  0.03127584,  0.03556018,  0.02740965]),\n",
       " 'mean_test_score': array([ 0.93493316,  0.93493316,  0.93493316,  0.96703303,  0.96699858,\n",
       "         0.96694689,  0.98461044,  0.98473103,  0.98439797]),\n",
       " 'mean_train_score': array([ 0.93530503,  0.93530503,  0.93530503,  0.96727566,  0.967257  ,\n",
       "         0.96721249,  0.98469085,  0.98487317,  0.9845717 ]),\n",
       " 'param_max_depth': masked_array(data = [3 3 3 5 5 5 7 7 7],\n",
       "              mask = [False False False False False False False False False],\n",
       "        fill_value = ?),\n",
       " 'param_min_child_weight': masked_array(data = [1 3 5 1 3 5 1 3 5],\n",
       "              mask = [False False False False False False False False False],\n",
       "        fill_value = ?),\n",
       " 'params': [{'max_depth': 3, 'min_child_weight': 1},\n",
       "  {'max_depth': 3, 'min_child_weight': 3},\n",
       "  {'max_depth': 3, 'min_child_weight': 5},\n",
       "  {'max_depth': 5, 'min_child_weight': 1},\n",
       "  {'max_depth': 5, 'min_child_weight': 3},\n",
       "  {'max_depth': 5, 'min_child_weight': 5},\n",
       "  {'max_depth': 7, 'min_child_weight': 1},\n",
       "  {'max_depth': 7, 'min_child_weight': 3},\n",
       "  {'max_depth': 7, 'min_child_weight': 5}],\n",
       " 'rank_test_score': array([7, 7, 7, 4, 5, 6, 2, 1, 3], dtype=int32),\n",
       " 'split0_test_score': array([ 0.94438702,  0.94438702,  0.94438702,  0.96749928,  0.96744186,\n",
       "         0.9672696 ,  0.98630491,  0.98613264,  0.98607522]),\n",
       " 'split0_train_score': array([ 0.9449804 ,  0.9449804 ,  0.9449804 ,  0.96991688,  0.96988099,\n",
       "         0.96978767,  0.98817779,  0.98801269,  0.98793373]),\n",
       " 'split1_test_score': array([ 0.9448464 ,  0.9448464 ,  0.9448464 ,  0.96945162,  0.96936549,\n",
       "         0.96930807,  0.98954924,  0.98960666,  0.98920471]),\n",
       " 'split1_train_score': array([ 0.94408315,  0.94408315,  0.94408315,  0.96942159,  0.96939288,\n",
       "         0.96934981,  0.98849362,  0.98841466,  0.98807729]),\n",
       " 'split2_test_score': array([ 0.92930975,  0.92930975,  0.92930975,  0.96623406,  0.96623406,\n",
       "         0.96623406,  0.98294476,  0.98389227,  0.98314574]),\n",
       " 'split2_train_score': array([ 0.93053203,  0.93053203,  0.93053203,  0.96607712,  0.96607712,\n",
       "         0.96602687,  0.98319647,  0.98443826,  0.98386402]),\n",
       " 'split3_test_score': array([ 0.93051568,  0.93051568,  0.93051568,  0.9663202 ,  0.9663202 ,\n",
       "         0.96629149,  0.98323188,  0.98305961,  0.98271506]),\n",
       " 'split3_train_score': array([ 0.93022338,  0.93022338,  0.93022338,  0.96604123,  0.96604841,\n",
       "         0.96601252,  0.98257199,  0.98254328,  0.98205518]),\n",
       " 'split4_test_score': array([ 0.92560583,  0.92560583,  0.92560583,  0.96565981,  0.9656311 ,\n",
       "         0.9656311 ,  0.98102102,  0.98096359,  0.98084874]),\n",
       " 'split4_train_score': array([ 0.92670619,  0.92670619,  0.92670619,  0.96492147,  0.96488558,\n",
       "         0.96488558,  0.98101438,  0.98095696,  0.98092825]),\n",
       " 'std_fit_time': array([ 0.03358199,  0.06075919,  0.19133421,  0.02068069,  0.02242587,\n",
       "         0.00616655,  0.02211681,  0.03724066,  0.5128994 ]),\n",
       " 'std_score_time': array([ 0.00530327,  0.00757932,  0.00795747,  0.00117008,  0.00431997,\n",
       "         0.01128714,  0.00525048,  0.00490201,  0.00605659]),\n",
       " 'std_test_score': array([ 0.00807201,  0.00807201,  0.00807201,  0.00134902,  0.00132012,\n",
       "         0.00129216,  0.00299407,  0.00294712,  0.0029297 ]),\n",
       " 'std_train_score': array([ 0.00765785,  0.00765785,  0.00765785,  0.00200417,  0.00199618,\n",
       "         0.00197281,  0.00306134,  0.00294459,  0.00295638])}"
      ]
     },
     "execution_count": 64,
     "metadata": {},
     "output_type": "execute_result"
    }
   ],
   "source": [
    "xgb_cv.cv_results_"
   ]
  },
  {
   "cell_type": "code",
   "execution_count": null,
   "metadata": {
    "collapsed": true
   },
   "outputs": [],
   "source": []
  },
  {
   "cell_type": "code",
   "execution_count": null,
   "metadata": {
    "collapsed": true
   },
   "outputs": [],
   "source": []
  },
  {
   "cell_type": "code",
   "execution_count": null,
   "metadata": {
    "collapsed": true
   },
   "outputs": [],
   "source": []
  },
  {
   "cell_type": "markdown",
   "metadata": {},
   "source": [
    "Finally, I'll build a decision tree to understand if there are any features from which we need to create categories.\n"
   ]
  },
  {
   "cell_type": "code",
   "execution_count": 98,
   "metadata": {},
   "outputs": [
    {
     "data": {
      "image/svg+xml": [
       "<?xml version=\"1.0\" encoding=\"UTF-8\" standalone=\"no\"?>\n",
       "<!DOCTYPE svg PUBLIC \"-//W3C//DTD SVG 1.1//EN\"\n",
       " \"http://www.w3.org/Graphics/SVG/1.1/DTD/svg11.dtd\">\n",
       "<!-- Generated by graphviz version 2.38.0 (20140413.2041)\n",
       " -->\n",
       "<!-- Title: Tree Pages: 1 -->\n",
       "<svg width=\"1184pt\" height=\"373pt\"\n",
       " viewBox=\"0.00 0.00 1184.00 373.00\" xmlns=\"http://www.w3.org/2000/svg\" xmlns:xlink=\"http://www.w3.org/1999/xlink\">\n",
       "<g id=\"graph0\" class=\"graph\" transform=\"scale(1 1) rotate(0) translate(4 369)\">\n",
       "<title>Tree</title>\n",
       "<polygon fill=\"white\" stroke=\"none\" points=\"-4,4 -4,-369 1180,-369 1180,4 -4,4\"/>\n",
       "<!-- 0 -->\n",
       "<g id=\"node1\" class=\"node\"><title>0</title>\n",
       "<path fill=\"#e58139\" stroke=\"black\" d=\"M674,-365C674,-365 540,-365 540,-365 534,-365 528,-359 528,-353 528,-353 528,-309 528,-309 528,-303 534,-297 540,-297 540,-297 674,-297 674,-297 680,-297 686,-303 686,-309 686,-309 686,-353 686,-353 686,-359 680,-365 674,-365\"/>\n",
       "<text text-anchor=\"start\" x=\"545\" y=\"-349.8\" font-family=\"Helvetica,sans-Serif\" font-size=\"14.00\">attribute7 ≤ 20.0</text>\n",
       "<text text-anchor=\"start\" x=\"563.5\" y=\"-334.8\" font-family=\"Helvetica,sans-Serif\" font-size=\"14.00\">gini = 0.002</text>\n",
       "<text text-anchor=\"start\" x=\"546.5\" y=\"-319.8\" font-family=\"Helvetica,sans-Serif\" font-size=\"14.00\">samples = 87146</text>\n",
       "<text text-anchor=\"start\" x=\"536\" y=\"-304.8\" font-family=\"Helvetica,sans-Serif\" font-size=\"14.00\">value = [87072, 74]</text>\n",
       "</g>\n",
       "<!-- 1 -->\n",
       "<g id=\"node2\" class=\"node\"><title>1</title>\n",
       "<path fill=\"#e58139\" stroke=\"black\" d=\"M566,-261C566,-261 432,-261 432,-261 426,-261 420,-255 420,-249 420,-249 420,-205 420,-205 420,-199 426,-193 432,-193 432,-193 566,-193 566,-193 572,-193 578,-199 578,-205 578,-205 578,-249 578,-249 578,-255 572,-261 566,-261\"/>\n",
       "<text text-anchor=\"start\" x=\"441.5\" y=\"-245.8\" font-family=\"Helvetica,sans-Serif\" font-size=\"14.00\">attribute4 ≤ 6.5</text>\n",
       "<text text-anchor=\"start\" x=\"455.5\" y=\"-230.8\" font-family=\"Helvetica,sans-Serif\" font-size=\"14.00\">gini = 0.001</text>\n",
       "<text text-anchor=\"start\" x=\"438.5\" y=\"-215.8\" font-family=\"Helvetica,sans-Serif\" font-size=\"14.00\">samples = 86965</text>\n",
       "<text text-anchor=\"start\" x=\"428\" y=\"-200.8\" font-family=\"Helvetica,sans-Serif\" font-size=\"14.00\">value = [86903, 62]</text>\n",
       "</g>\n",
       "<!-- 0&#45;&gt;1 -->\n",
       "<g id=\"edge1\" class=\"edge\"><title>0&#45;&gt;1</title>\n",
       "<path fill=\"none\" stroke=\"black\" d=\"M571.935,-296.884C562.316,-287.798 551.778,-277.845 541.777,-268.4\"/>\n",
       "<polygon fill=\"black\" stroke=\"black\" points=\"543.931,-265.621 534.258,-261.299 539.125,-270.71 543.931,-265.621\"/>\n",
       "<text text-anchor=\"middle\" x=\"534.972\" y=\"-282.589\" font-family=\"Helvetica,sans-Serif\" font-size=\"14.00\">True</text>\n",
       "</g>\n",
       "<!-- 8 -->\n",
       "<g id=\"node9\" class=\"node\"><title>8</title>\n",
       "<path fill=\"#e58139\" fill-opacity=\"0.929412\" stroke=\"black\" d=\"M779,-261C779,-261 653,-261 653,-261 647,-261 641,-255 641,-249 641,-249 641,-205 641,-205 641,-199 647,-193 653,-193 653,-193 779,-193 779,-193 785,-193 791,-199 791,-205 791,-205 791,-249 791,-249 791,-255 785,-261 779,-261\"/>\n",
       "<text text-anchor=\"start\" x=\"649\" y=\"-245.8\" font-family=\"Helvetica,sans-Serif\" font-size=\"14.00\">day_of_week ≤ 1.5</text>\n",
       "<text text-anchor=\"start\" x=\"672.5\" y=\"-230.8\" font-family=\"Helvetica,sans-Serif\" font-size=\"14.00\">gini = 0.124</text>\n",
       "<text text-anchor=\"start\" x=\"664.5\" y=\"-215.8\" font-family=\"Helvetica,sans-Serif\" font-size=\"14.00\">samples = 181</text>\n",
       "<text text-anchor=\"start\" x=\"654\" y=\"-200.8\" font-family=\"Helvetica,sans-Serif\" font-size=\"14.00\">value = [169, 12]</text>\n",
       "</g>\n",
       "<!-- 0&#45;&gt;8 -->\n",
       "<g id=\"edge8\" class=\"edge\"><title>0&#45;&gt;8</title>\n",
       "<path fill=\"none\" stroke=\"black\" d=\"M642.389,-296.884C652.098,-287.798 662.734,-277.845 672.827,-268.4\"/>\n",
       "<polygon fill=\"black\" stroke=\"black\" points=\"675.505,-270.688 680.415,-261.299 670.722,-265.577 675.505,-270.688\"/>\n",
       "<text text-anchor=\"middle\" x=\"679.586\" y=\"-282.586\" font-family=\"Helvetica,sans-Serif\" font-size=\"14.00\">False</text>\n",
       "</g>\n",
       "<!-- 2 -->\n",
       "<g id=\"node3\" class=\"node\"><title>2</title>\n",
       "<path fill=\"#e58139\" stroke=\"black\" d=\"M309,-157C309,-157 175,-157 175,-157 169,-157 163,-151 163,-145 163,-145 163,-101 163,-101 163,-95 169,-89 175,-89 175,-89 309,-89 309,-89 315,-89 321,-95 321,-101 321,-101 321,-145 321,-145 321,-151 315,-157 309,-157\"/>\n",
       "<text text-anchor=\"start\" x=\"184.5\" y=\"-141.8\" font-family=\"Helvetica,sans-Serif\" font-size=\"14.00\">attribute7 ≤ 7.0</text>\n",
       "<text text-anchor=\"start\" x=\"198.5\" y=\"-126.8\" font-family=\"Helvetica,sans-Serif\" font-size=\"14.00\">gini = 0.001</text>\n",
       "<text text-anchor=\"start\" x=\"181.5\" y=\"-111.8\" font-family=\"Helvetica,sans-Serif\" font-size=\"14.00\">samples = 84915</text>\n",
       "<text text-anchor=\"start\" x=\"171\" y=\"-96.8\" font-family=\"Helvetica,sans-Serif\" font-size=\"14.00\">value = [84877, 38]</text>\n",
       "</g>\n",
       "<!-- 1&#45;&gt;2 -->\n",
       "<g id=\"edge2\" class=\"edge\"><title>1&#45;&gt;2</title>\n",
       "<path fill=\"none\" stroke=\"black\" d=\"M419.794,-194.564C391.703,-183.415 359.907,-170.796 331.05,-159.343\"/>\n",
       "<polygon fill=\"black\" stroke=\"black\" points=\"331.972,-155.943 321.386,-155.507 329.39,-162.45 331.972,-155.943\"/>\n",
       "</g>\n",
       "<!-- 5 -->\n",
       "<g id=\"node6\" class=\"node\"><title>5</title>\n",
       "<path fill=\"#e58139\" fill-opacity=\"0.988235\" stroke=\"black\" d=\"M570.5,-157C570.5,-157 427.5,-157 427.5,-157 421.5,-157 415.5,-151 415.5,-145 415.5,-145 415.5,-101 415.5,-101 415.5,-95 421.5,-89 427.5,-89 427.5,-89 570.5,-89 570.5,-89 576.5,-89 582.5,-95 582.5,-101 582.5,-101 582.5,-145 582.5,-145 582.5,-151 576.5,-157 570.5,-157\"/>\n",
       "<text text-anchor=\"start\" x=\"423.5\" y=\"-141.8\" font-family=\"Helvetica,sans-Serif\" font-size=\"14.00\">attribute6_log ≤ 6.05</text>\n",
       "<text text-anchor=\"start\" x=\"455.5\" y=\"-126.8\" font-family=\"Helvetica,sans-Serif\" font-size=\"14.00\">gini = 0.023</text>\n",
       "<text text-anchor=\"start\" x=\"443\" y=\"-111.8\" font-family=\"Helvetica,sans-Serif\" font-size=\"14.00\">samples = 2050</text>\n",
       "<text text-anchor=\"start\" x=\"432.5\" y=\"-96.8\" font-family=\"Helvetica,sans-Serif\" font-size=\"14.00\">value = [2026, 24]</text>\n",
       "</g>\n",
       "<!-- 1&#45;&gt;5 -->\n",
       "<g id=\"edge5\" class=\"edge\"><title>1&#45;&gt;5</title>\n",
       "<path fill=\"none\" stroke=\"black\" d=\"M499,-192.884C499,-184.778 499,-175.982 499,-167.472\"/>\n",
       "<polygon fill=\"black\" stroke=\"black\" points=\"502.5,-167.299 499,-157.299 495.5,-167.299 502.5,-167.299\"/>\n",
       "</g>\n",
       "<!-- 3 -->\n",
       "<g id=\"node4\" class=\"node\"><title>3</title>\n",
       "<path fill=\"#e58139\" stroke=\"black\" d=\"M146,-53C146,-53 12,-53 12,-53 6,-53 1.42109e-14,-47 1.42109e-14,-41 1.42109e-14,-41 1.42109e-14,-12 1.42109e-14,-12 1.42109e-14,-6 6,-0 12,-0 12,-0 146,-0 146,-0 152,-0 158,-6 158,-12 158,-12 158,-41 158,-41 158,-47 152,-53 146,-53\"/>\n",
       "<text text-anchor=\"start\" x=\"35.5\" y=\"-37.8\" font-family=\"Helvetica,sans-Serif\" font-size=\"14.00\">gini = 0.001</text>\n",
       "<text text-anchor=\"start\" x=\"18.5\" y=\"-22.8\" font-family=\"Helvetica,sans-Serif\" font-size=\"14.00\">samples = 84330</text>\n",
       "<text text-anchor=\"start\" x=\"8\" y=\"-7.8\" font-family=\"Helvetica,sans-Serif\" font-size=\"14.00\">value = [84298, 32]</text>\n",
       "</g>\n",
       "<!-- 2&#45;&gt;3 -->\n",
       "<g id=\"edge3\" class=\"edge\"><title>2&#45;&gt;3</title>\n",
       "<path fill=\"none\" stroke=\"black\" d=\"M184.991,-88.9485C167.713,-78.9318 148.817,-67.9767 131.826,-58.1263\"/>\n",
       "<polygon fill=\"black\" stroke=\"black\" points=\"133.54,-55.0744 123.134,-53.0867 130.029,-61.1303 133.54,-55.0744\"/>\n",
       "</g>\n",
       "<!-- 4 -->\n",
       "<g id=\"node5\" class=\"node\"><title>4</title>\n",
       "<path fill=\"#e58139\" fill-opacity=\"0.988235\" stroke=\"black\" d=\"M295.5,-53C295.5,-53 188.5,-53 188.5,-53 182.5,-53 176.5,-47 176.5,-41 176.5,-41 176.5,-12 176.5,-12 176.5,-6 182.5,-0 188.5,-0 188.5,-0 295.5,-0 295.5,-0 301.5,-0 307.5,-6 307.5,-12 307.5,-12 307.5,-41 307.5,-41 307.5,-47 301.5,-53 295.5,-53\"/>\n",
       "<text text-anchor=\"start\" x=\"203\" y=\"-37.8\" font-family=\"Helvetica,sans-Serif\" font-size=\"14.00\">gini = 0.02</text>\n",
       "<text text-anchor=\"start\" x=\"190.5\" y=\"-22.8\" font-family=\"Helvetica,sans-Serif\" font-size=\"14.00\">samples = 585</text>\n",
       "<text text-anchor=\"start\" x=\"184.5\" y=\"-7.8\" font-family=\"Helvetica,sans-Serif\" font-size=\"14.00\">value = [579, 6]</text>\n",
       "</g>\n",
       "<!-- 2&#45;&gt;4 -->\n",
       "<g id=\"edge4\" class=\"edge\"><title>2&#45;&gt;4</title>\n",
       "<path fill=\"none\" stroke=\"black\" d=\"M242,-88.9485C242,-80.7153 242,-71.848 242,-63.4814\"/>\n",
       "<polygon fill=\"black\" stroke=\"black\" points=\"245.5,-63.2367 242,-53.2367 238.5,-63.2367 245.5,-63.2367\"/>\n",
       "</g>\n",
       "<!-- 6 -->\n",
       "<g id=\"node7\" class=\"node\"><title>6</title>\n",
       "<path fill=\"none\" stroke=\"black\" d=\"M426.5,-53C426.5,-53 337.5,-53 337.5,-53 331.5,-53 325.5,-47 325.5,-41 325.5,-41 325.5,-12 325.5,-12 325.5,-6 331.5,-0 337.5,-0 337.5,-0 426.5,-0 426.5,-0 432.5,-0 438.5,-6 438.5,-12 438.5,-12 438.5,-41 438.5,-41 438.5,-47 432.5,-53 426.5,-53\"/>\n",
       "<text text-anchor=\"start\" x=\"347.5\" y=\"-37.8\" font-family=\"Helvetica,sans-Serif\" font-size=\"14.00\">gini = 0.5</text>\n",
       "<text text-anchor=\"start\" x=\"339.5\" y=\"-22.8\" font-family=\"Helvetica,sans-Serif\" font-size=\"14.00\">samples = 2</text>\n",
       "<text text-anchor=\"start\" x=\"333.5\" y=\"-7.8\" font-family=\"Helvetica,sans-Serif\" font-size=\"14.00\">value = [1, 1]</text>\n",
       "</g>\n",
       "<!-- 5&#45;&gt;6 -->\n",
       "<g id=\"edge6\" class=\"edge\"><title>5&#45;&gt;6</title>\n",
       "<path fill=\"none\" stroke=\"black\" d=\"M458.079,-88.9485C446.3,-79.4346 433.473,-69.074 421.765,-59.6175\"/>\n",
       "<polygon fill=\"black\" stroke=\"black\" points=\"423.843,-56.7973 413.864,-53.2367 419.445,-62.2429 423.843,-56.7973\"/>\n",
       "</g>\n",
       "<!-- 7 -->\n",
       "<g id=\"node8\" class=\"node\"><title>7</title>\n",
       "<path fill=\"#e58139\" fill-opacity=\"0.988235\" stroke=\"black\" d=\"M593.5,-53C593.5,-53 468.5,-53 468.5,-53 462.5,-53 456.5,-47 456.5,-41 456.5,-41 456.5,-12 456.5,-12 456.5,-6 462.5,-0 468.5,-0 468.5,-0 593.5,-0 593.5,-0 599.5,-0 605.5,-6 605.5,-12 605.5,-12 605.5,-41 605.5,-41 605.5,-47 599.5,-53 593.5,-53\"/>\n",
       "<text text-anchor=\"start\" x=\"487.5\" y=\"-37.8\" font-family=\"Helvetica,sans-Serif\" font-size=\"14.00\">gini = 0.022</text>\n",
       "<text text-anchor=\"start\" x=\"475\" y=\"-22.8\" font-family=\"Helvetica,sans-Serif\" font-size=\"14.00\">samples = 2048</text>\n",
       "<text text-anchor=\"start\" x=\"464.5\" y=\"-7.8\" font-family=\"Helvetica,sans-Serif\" font-size=\"14.00\">value = [2025, 23]</text>\n",
       "</g>\n",
       "<!-- 5&#45;&gt;7 -->\n",
       "<g id=\"edge7\" class=\"edge\"><title>5&#45;&gt;7</title>\n",
       "<path fill=\"none\" stroke=\"black\" d=\"M510.192,-88.9485C513.042,-80.5323 516.116,-71.4536 519.004,-62.9243\"/>\n",
       "<polygon fill=\"black\" stroke=\"black\" points=\"522.393,-63.831 522.285,-53.2367 515.762,-61.5858 522.393,-63.831\"/>\n",
       "</g>\n",
       "<!-- 9 -->\n",
       "<g id=\"node10\" class=\"node\"><title>9</title>\n",
       "<path fill=\"#e58139\" fill-opacity=\"0.788235\" stroke=\"black\" d=\"M769.5,-157C769.5,-157 662.5,-157 662.5,-157 656.5,-157 650.5,-151 650.5,-145 650.5,-145 650.5,-101 650.5,-101 650.5,-95 656.5,-89 662.5,-89 662.5,-89 769.5,-89 769.5,-89 775.5,-89 781.5,-95 781.5,-101 781.5,-101 781.5,-145 781.5,-145 781.5,-151 775.5,-157 769.5,-157\"/>\n",
       "<text text-anchor=\"start\" x=\"658.5\" y=\"-141.8\" font-family=\"Helvetica,sans-Serif\" font-size=\"14.00\">attribute4 ≤ 5.0</text>\n",
       "<text text-anchor=\"start\" x=\"672.5\" y=\"-126.8\" font-family=\"Helvetica,sans-Serif\" font-size=\"14.00\">gini = 0.289</text>\n",
       "<text text-anchor=\"start\" x=\"669\" y=\"-111.8\" font-family=\"Helvetica,sans-Serif\" font-size=\"14.00\">samples = 57</text>\n",
       "<text text-anchor=\"start\" x=\"658.5\" y=\"-96.8\" font-family=\"Helvetica,sans-Serif\" font-size=\"14.00\">value = [47, 10]</text>\n",
       "</g>\n",
       "<!-- 8&#45;&gt;9 -->\n",
       "<g id=\"edge9\" class=\"edge\"><title>8&#45;&gt;9</title>\n",
       "<path fill=\"none\" stroke=\"black\" d=\"M716,-192.884C716,-184.778 716,-175.982 716,-167.472\"/>\n",
       "<polygon fill=\"black\" stroke=\"black\" points=\"719.5,-167.299 716,-157.299 712.5,-167.299 719.5,-167.299\"/>\n",
       "</g>\n",
       "<!-- 12 -->\n",
       "<g id=\"node13\" class=\"node\"><title>12</title>\n",
       "<path fill=\"#e58139\" fill-opacity=\"0.984314\" stroke=\"black\" d=\"M1028,-157C1028,-157 912,-157 912,-157 906,-157 900,-151 900,-145 900,-145 900,-101 900,-101 900,-95 906,-89 912,-89 912,-89 1028,-89 1028,-89 1034,-89 1040,-95 1040,-101 1040,-101 1040,-145 1040,-145 1040,-151 1034,-157 1028,-157\"/>\n",
       "<text text-anchor=\"start\" x=\"908\" y=\"-141.8\" font-family=\"Helvetica,sans-Serif\" font-size=\"14.00\">attribute4 ≤ 10.5</text>\n",
       "<text text-anchor=\"start\" x=\"926.5\" y=\"-126.8\" font-family=\"Helvetica,sans-Serif\" font-size=\"14.00\">gini = 0.032</text>\n",
       "<text text-anchor=\"start\" x=\"918.5\" y=\"-111.8\" font-family=\"Helvetica,sans-Serif\" font-size=\"14.00\">samples = 124</text>\n",
       "<text text-anchor=\"start\" x=\"912.5\" y=\"-96.8\" font-family=\"Helvetica,sans-Serif\" font-size=\"14.00\">value = [122, 2]</text>\n",
       "</g>\n",
       "<!-- 8&#45;&gt;12 -->\n",
       "<g id=\"edge12\" class=\"edge\"><title>8&#45;&gt;12</title>\n",
       "<path fill=\"none\" stroke=\"black\" d=\"M791.177,-195.811C822.332,-183.3 858.508,-168.772 890.138,-156.07\"/>\n",
       "<polygon fill=\"black\" stroke=\"black\" points=\"891.823,-159.166 899.798,-152.191 889.214,-152.67 891.823,-159.166\"/>\n",
       "</g>\n",
       "<!-- 10 -->\n",
       "<g id=\"node11\" class=\"node\"><title>10</title>\n",
       "<path fill=\"#e58139\" fill-opacity=\"0.917647\" stroke=\"black\" d=\"M734,-53C734,-53 636,-53 636,-53 630,-53 624,-47 624,-41 624,-41 624,-12 624,-12 624,-6 630,-0 636,-0 636,-0 734,-0 734,-0 740,-0 746,-6 746,-12 746,-12 746,-41 746,-41 746,-47 740,-53 734,-53\"/>\n",
       "<text text-anchor=\"start\" x=\"641.5\" y=\"-37.8\" font-family=\"Helvetica,sans-Serif\" font-size=\"14.00\">gini = 0.142</text>\n",
       "<text text-anchor=\"start\" x=\"638\" y=\"-22.8\" font-family=\"Helvetica,sans-Serif\" font-size=\"14.00\">samples = 39</text>\n",
       "<text text-anchor=\"start\" x=\"632\" y=\"-7.8\" font-family=\"Helvetica,sans-Serif\" font-size=\"14.00\">value = [36, 3]</text>\n",
       "</g>\n",
       "<!-- 9&#45;&gt;10 -->\n",
       "<g id=\"edge10\" class=\"edge\"><title>9&#45;&gt;10</title>\n",
       "<path fill=\"none\" stroke=\"black\" d=\"M705.158,-88.9485C702.397,-80.5323 699.419,-71.4536 696.621,-62.9243\"/>\n",
       "<polygon fill=\"black\" stroke=\"black\" points=\"699.885,-61.6475 693.443,-53.2367 693.234,-63.8295 699.885,-61.6475\"/>\n",
       "</g>\n",
       "<!-- 11 -->\n",
       "<g id=\"node12\" class=\"node\"><title>11</title>\n",
       "<path fill=\"#e58139\" fill-opacity=\"0.364706\" stroke=\"black\" d=\"M874,-53C874,-53 776,-53 776,-53 770,-53 764,-47 764,-41 764,-41 764,-12 764,-12 764,-6 770,-0 776,-0 776,-0 874,-0 874,-0 880,-0 886,-6 886,-12 886,-12 886,-41 886,-41 886,-47 880,-53 874,-53\"/>\n",
       "<text text-anchor=\"start\" x=\"781.5\" y=\"-37.8\" font-family=\"Helvetica,sans-Serif\" font-size=\"14.00\">gini = 0.475</text>\n",
       "<text text-anchor=\"start\" x=\"778\" y=\"-22.8\" font-family=\"Helvetica,sans-Serif\" font-size=\"14.00\">samples = 18</text>\n",
       "<text text-anchor=\"start\" x=\"772\" y=\"-7.8\" font-family=\"Helvetica,sans-Serif\" font-size=\"14.00\">value = [11, 7]</text>\n",
       "</g>\n",
       "<!-- 9&#45;&gt;11 -->\n",
       "<g id=\"edge11\" class=\"edge\"><title>9&#45;&gt;11</title>\n",
       "<path fill=\"none\" stroke=\"black\" d=\"M754.123,-88.9485C764.991,-79.526 776.817,-69.2731 787.639,-59.8906\"/>\n",
       "<polygon fill=\"black\" stroke=\"black\" points=\"790.051,-62.4319 795.314,-53.2367 785.466,-57.1428 790.051,-62.4319\"/>\n",
       "</g>\n",
       "<!-- 13 -->\n",
       "<g id=\"node14\" class=\"node\"><title>13</title>\n",
       "<path fill=\"#e58139\" fill-opacity=\"0.988235\" stroke=\"black\" d=\"M1023.5,-53C1023.5,-53 916.5,-53 916.5,-53 910.5,-53 904.5,-47 904.5,-41 904.5,-41 904.5,-12 904.5,-12 904.5,-6 910.5,-0 916.5,-0 916.5,-0 1023.5,-0 1023.5,-0 1029.5,-0 1035.5,-6 1035.5,-12 1035.5,-12 1035.5,-41 1035.5,-41 1035.5,-47 1029.5,-53 1023.5,-53\"/>\n",
       "<text text-anchor=\"start\" x=\"926.5\" y=\"-37.8\" font-family=\"Helvetica,sans-Serif\" font-size=\"14.00\">gini = 0.019</text>\n",
       "<text text-anchor=\"start\" x=\"918.5\" y=\"-22.8\" font-family=\"Helvetica,sans-Serif\" font-size=\"14.00\">samples = 103</text>\n",
       "<text text-anchor=\"start\" x=\"912.5\" y=\"-7.8\" font-family=\"Helvetica,sans-Serif\" font-size=\"14.00\">value = [102, 1]</text>\n",
       "</g>\n",
       "<!-- 12&#45;&gt;13 -->\n",
       "<g id=\"edge13\" class=\"edge\"><title>12&#45;&gt;13</title>\n",
       "<path fill=\"none\" stroke=\"black\" d=\"M970,-88.9485C970,-80.7153 970,-71.848 970,-63.4814\"/>\n",
       "<polygon fill=\"black\" stroke=\"black\" points=\"973.5,-63.2367 970,-53.2367 966.5,-63.2367 973.5,-63.2367\"/>\n",
       "</g>\n",
       "<!-- 14 -->\n",
       "<g id=\"node15\" class=\"node\"><title>14</title>\n",
       "<path fill=\"#e58139\" fill-opacity=\"0.949020\" stroke=\"black\" d=\"M1164,-53C1164,-53 1066,-53 1066,-53 1060,-53 1054,-47 1054,-41 1054,-41 1054,-12 1054,-12 1054,-6 1060,-0 1066,-0 1066,-0 1164,-0 1164,-0 1170,-0 1176,-6 1176,-12 1176,-12 1176,-41 1176,-41 1176,-47 1170,-53 1164,-53\"/>\n",
       "<text text-anchor=\"start\" x=\"1071.5\" y=\"-37.8\" font-family=\"Helvetica,sans-Serif\" font-size=\"14.00\">gini = 0.091</text>\n",
       "<text text-anchor=\"start\" x=\"1068\" y=\"-22.8\" font-family=\"Helvetica,sans-Serif\" font-size=\"14.00\">samples = 21</text>\n",
       "<text text-anchor=\"start\" x=\"1062\" y=\"-7.8\" font-family=\"Helvetica,sans-Serif\" font-size=\"14.00\">value = [20, 1]</text>\n",
       "</g>\n",
       "<!-- 12&#45;&gt;14 -->\n",
       "<g id=\"edge14\" class=\"edge\"><title>12&#45;&gt;14</title>\n",
       "<path fill=\"none\" stroke=\"black\" d=\"M1020.71,-88.9485C1035.73,-79.1601 1052.13,-68.4756 1066.97,-58.8015\"/>\n",
       "<polygon fill=\"black\" stroke=\"black\" points=\"1069.04,-61.629 1075.51,-53.2367 1065.22,-55.7645 1069.04,-61.629\"/>\n",
       "</g>\n",
       "</g>\n",
       "</svg>\n"
      ],
      "text/plain": [
       "<graphviz.files.Source at 0x7faa406ab110>"
      ]
     },
     "execution_count": 98,
     "metadata": {},
     "output_type": "execute_result"
    }
   ],
   "source": [
    "# Specify the decision tree model and fit\n",
    "dt_params = {\"criterion\": \"gini\",    \n",
    "             \"random_state\": 0,\n",
    "             \"max_depth\": 3,\n",
    "             \"min_samples_split\": 20}\n",
    "\n",
    "vs_model_dt = DecisionTreeClassifier(**dt_params)\n",
    "vs_model_dt.fit(x_train, y_train)\n",
    "\n",
    "# Visualize the decision tree\n",
    "# Export the data from the decision tree as a DOT object\n",
    "dt_viz = export_graphviz(vs_model_dt,\n",
    "                         out_file = None,\n",
    "                         feature_names = list(x_train),\n",
    "                         filled = True, rounded = True,\n",
    "                         special_characters = True)\n",
    "\n",
    "\n",
    "# Plot the tree and explore which features split the tree\n",
    "graphviz.Source(dt_viz)"
   ]
  },
  {
   "cell_type": "code",
   "execution_count": null,
   "metadata": {
    "collapsed": true
   },
   "outputs": [],
   "source": []
  },
  {
   "cell_type": "markdown",
   "metadata": {},
   "source": [
    "Before continuing with the models, make sure that the features in the validation sample are the same as those in the training. If they are not the same, the model will error out."
   ]
  },
  {
   "cell_type": "code",
   "execution_count": 99,
   "metadata": {
    "collapsed": true
   },
   "outputs": [],
   "source": [
    "x_validate = x_validate[list(x_train.columns)]"
   ]
  },
  {
   "cell_type": "code",
   "execution_count": null,
   "metadata": {
    "collapsed": true
   },
   "outputs": [],
   "source": []
  },
  {
   "cell_type": "markdown",
   "metadata": {},
   "source": [
    "## Models\n",
    "The following section contains the models I developed on the dataset. Each of the models will be trained and validated on two different datasets - scaled and synthetic dataset created with SMOTE.\n",
    "<p>\n",
    "The best models will be plotted on a ROC curve and print out the confusion matrix for each.\n",
    "<p>\n",
    "1. Logistic regression - This is the standard method for developing binary classification models. We'll use the logistic regression as a benchmark for all other methods\n",
    "2. Random forest classifier\n",
    "3. Gradient boosting with XGboost\n",
    "4. Support vector machine"
   ]
  },
  {
   "cell_type": "code",
   "execution_count": null,
   "metadata": {
    "collapsed": true
   },
   "outputs": [],
   "source": []
  },
  {
   "cell_type": "markdown",
   "metadata": {},
   "source": [
    "### 1. Logistic regression"
   ]
  },
  {
   "cell_type": "code",
   "execution_count": 100,
   "metadata": {},
   "outputs": [
    {
     "name": "stdout",
     "output_type": "stream",
     "text": [
      "Print stats for method: Logistic regression\n",
      "\n",
      "The number of False Negative in the validation set is 8 \n",
      "The number of False Positive in the validation set is 2636 \n",
      "\n",
      "Accuracy on training set is 0.92888\n",
      "Recall (tp/(tp+fn)) of training set is 0.59459\n",
      "\n",
      "Accuracy on validation set is 0.92921\n",
      "Recall (tp/(tp+fn)) of validation set is 0.75000\n"
     ]
    }
   ],
   "source": [
    "lr_params = {\"C\": 1.0,\n",
    "             \"penalty\": \"l2\",\n",
    "             \"class_weight\": \"balanced\"}    # parameter to adjust for the imbalanced dataset. Weights are proportional to class frequencies.\n",
    "\n",
    "model_lr = LogisticRegression(**lr_params)\n",
    "model_lr.fit(x_train, y_train)\n",
    "\n",
    "\n",
    "# Predict on training set and check the accuracy\n",
    "modelAccuracyStats(model_lr, \"Logistic regression\", x_train, y_train, x_validate, y_validate)"
   ]
  },
  {
   "cell_type": "code",
   "execution_count": null,
   "metadata": {
    "collapsed": true
   },
   "outputs": [],
   "source": []
  },
  {
   "cell_type": "markdown",
   "metadata": {},
   "source": [
    "### 2. Random forest classifier"
   ]
  },
  {
   "cell_type": "code",
   "execution_count": 106,
   "metadata": {},
   "outputs": [
    {
     "name": "stdout",
     "output_type": "stream",
     "text": [
      "Print stats for method: Random Forest\n",
      "\n",
      "The number of False Negative in the validation set is 5 \n",
      "The number of False Positive in the validation set is 3473 \n",
      "\n",
      "Accuracy on training set is 0.90686\n",
      "Recall (tp/(tp+fn)) of training set is 0.77027\n",
      "\n",
      "Accuracy on validation set is 0.90688\n",
      "Recall (tp/(tp+fn)) of validation set is 0.84375\n"
     ]
    }
   ],
   "source": [
    "rf_params = {\"n_estimators\": 1000,\n",
    "             \"random_state\": 0,\n",
    "             \"verbose\": 0,\n",
    "             \"max_depth\": 3,\n",
    "             \"n_jobs\": -1,\n",
    "             \"criterion\": \"gini\",\n",
    "             \"class_weight\": \"balanced\"}\n",
    "\n",
    "model_rf = RandomForestClassifier(**rf_params)\n",
    "model_rf.fit(x_train, y_train)\n",
    "\n",
    "# Predict on training set and check the accuracy\n",
    "modelAccuracyStats(model_rf, \"Random Forest\", x_train, y_train, x_validate, y_validate)"
   ]
  },
  {
   "cell_type": "code",
   "execution_count": null,
   "metadata": {
    "collapsed": true
   },
   "outputs": [],
   "source": []
  },
  {
   "cell_type": "markdown",
   "metadata": {},
   "source": [
    "### 3. Gradient boosting with XGboost"
   ]
  },
  {
   "cell_type": "code",
   "execution_count": 129,
   "metadata": {},
   "outputs": [
    {
     "name": "stdout",
     "output_type": "stream",
     "text": [
      "Print stats for method: XGBoost\n",
      "\n",
      "The number of False Negative in the validation set is 32 \n",
      "The number of False Positive in the validation set is 2 \n",
      "\n",
      "Accuracy on training set is 0.99921\n",
      "Recall (tp/(tp+fn)) of training set is 0.06757\n",
      "\n",
      "Accuracy on validation set is 0.99909\n",
      "Recall (tp/(tp+fn)) of validation set is 0.00000\n"
     ]
    }
   ],
   "source": [
    "xgb_params = {\"max_depth\": 3,\n",
    "              \"learning_rate\": 0.01,\n",
    "              \"n_estimators\": 1000,\n",
    "              \"objective\": 'binary:logistic',\n",
    "              \"min_child_weight\": 3,\n",
    "              \"max_depth\": 3,\n",
    "              \"random_state\": 0,\n",
    "              \"subsample\": 0.8,\n",
    "              \"colsample_bytree\": 0.8}\n",
    "\n",
    "model_xgb = xgb.XGBClassifier(**xgb_params)\n",
    "model_xgb.fit(x_train_s, y_train_s,\n",
    "              sample_weight = None) # This option can be used if I implement sampling to control the imbalanced dataset\n",
    "\n",
    "# Predict on training set and check the accuracy\n",
    "modelAccuracyStats(model_xgb, \"XGBoost\", x_train_s, y_train_s, x_validate_s, y_validate_s)"
   ]
  },
  {
   "cell_type": "code",
   "execution_count": null,
   "metadata": {
    "collapsed": true
   },
   "outputs": [],
   "source": []
  },
  {
   "cell_type": "markdown",
   "metadata": {},
   "source": [
    "### 4. Support vector machine\n",
    "SVM expects that all features have similar mean and stddev. Rescale the features before feeding the data to the model."
   ]
  },
  {
   "cell_type": "code",
   "execution_count": 135,
   "metadata": {},
   "outputs": [
    {
     "name": "stdout",
     "output_type": "stream",
     "text": [
      "The rate of failures in the original set is 0.0008514466560637460439860555529\n",
      "The rate of failures in the training set is 0.0008491594468988467496700900798\n",
      "The rate of failures in the validation set is 0.0008567833141449570269618999170\n"
     ]
    }
   ],
   "source": [
    "# Sampling for SVM\n",
    "analysis_set_s = analysis_set[[\"failure\", \"attribute2\", \"attribute4\", \"attribute7\",\n",
    "                               \"attribute1_s\", \"attribute2_s\", \"attribute3_s\", \"attribute4_s\", \"attribute5_s\", \"attribute6_s\",\n",
    "                              \"attribute7_s\", \"attribute9_s\",\n",
    "                              \"attribute1_dummy\", \"attribute2_dummy\", \"attribute3_dummy\",\n",
    "                              \"attribute4_dummy\",\n",
    "                              \"attribute7_dummy\",\n",
    "                              \"attribute9_dummy\",\n",
    "                              \"day_of_week\",\n",
    "                              \"device_type_s\",\n",
    "                              \"device_type_w\",\n",
    "                              \"device_type_z\"]]\n",
    "\n",
    "x_train_s, x_validate_s, y_train_s, y_validate_s = train_test_split(analysis_set_s.drop([\"failure\"], axis = 1),\n",
    "                                                                    analysis_set_s[\"failure\"],\n",
    "                                                                    train_size = .7)\n",
    "\n",
    "# Test if the % failure and non-failure remains the same in the new datasets as in the original dataset\n",
    "print (\"The rate of failures in the original set is \" + str(Decimal(float(analysis_set[\"failure\"].value_counts()[1])) / sum(analysis_set[\"failure\"].value_counts())))\n",
    "print (\"The rate of failures in the training set is \" + str(Decimal(float(y_train_s.value_counts()[1])) / sum(y_train_s.value_counts())))\n",
    "print (\"The rate of failures in the validation set is \" + str(Decimal(float(y_validate_s.value_counts()[1])) / sum(y_validate_s.value_counts())))\n"
   ]
  },
  {
   "cell_type": "code",
   "execution_count": 136,
   "metadata": {},
   "outputs": [
    {
     "name": "stdout",
     "output_type": "stream",
     "text": [
      "Print stats for method: SVM\n",
      "\n",
      "The number of False Negative in the validation set is 31 \n",
      "The number of False Positive in the validation set is 343 \n",
      "\n",
      "Accuracy on training set is 0.99013\n",
      "Recall (tp/(tp+fn)) of training set is 0.85135\n",
      "\n",
      "Accuracy on validation set is 0.98999\n",
      "Recall (tp/(tp+fn)) of validation set is 0.03125\n"
     ]
    }
   ],
   "source": [
    "svm_params = {\"C\": 1.0,\n",
    "              \"degree\": 3,\n",
    "              \"class_weight\": \"balanced\",\n",
    "              \"probability\": True}\n",
    "\n",
    "model_svm = svm.SVC(**svm_params)\n",
    "\n",
    "model_svm.fit(x_train_s, y_train_s,\n",
    "              sample_weight = None)\n",
    "\n",
    "modelAccuracyStats(model_svm, \"SVM\", x_train_s, y_train_s, x_validate_s, y_validate_s)"
   ]
  },
  {
   "cell_type": "code",
   "execution_count": null,
   "metadata": {
    "collapsed": true
   },
   "outputs": [],
   "source": []
  },
  {
   "cell_type": "markdown",
   "metadata": {},
   "source": [
    "### Models evaluation\n",
    "The models evaluation is done using the Receiver Operating Characteristics (ROC) curve and a confusion matrix."
   ]
  },
  {
   "cell_type": "code",
   "execution_count": 139,
   "metadata": {
    "collapsed": true
   },
   "outputs": [],
   "source": [
    "# 1) Use the ROC curve to evaluate accuracy of each model\n",
    "# Obtain the parameters needed for each ROC curve for each model\n",
    "y_pred_lr = model_lr.predict_proba(x_validate)[::, 1]\n",
    "roc_lr = roc_auc_score(y_validate, y_pred_lr)\n",
    "fpr_lr, tpr_lr, thresholds_lr = roc_curve(y_validate, y_pred_lr)\n",
    "\n",
    "\n",
    "#Another version\n",
    "#logit_roc_auc = roc_auc_score(y_validate, model_lr.predict(x_validate))\n",
    "#fpr, tpr, thresholds = roc_curve(y_validate, model_lr.predict_proba(x_validate)[:,1])\n",
    "\n",
    "\n",
    "y_pred_rf = model_rf.predict_proba(x_validate)[::, 1]\n",
    "roc_rf = roc_auc_score(y_validate, y_pred_rf)\n",
    "fpr_rf, tpr_rf, thresholds_rf = roc_curve(y_validate, y_pred_rf)\n",
    "\n",
    "y_pred_xgb = model_xgb.predict_proba(x_validate_s)[::, 1]\n",
    "roc_xgb = roc_auc_score(y_validate_s, y_pred_xgb)\n",
    "fpr_xgb, tpr_xgb, thresholds_xgb = roc_curve(y_validate_s, y_pred_xgb)\n",
    "\n",
    "y_pred_svm = model_svm.predict_proba(x_validate_s)[::, 1]\n",
    "roc_svm = roc_auc_score(y_validate_s, y_pred_svm)\n",
    "fpr_svm, tpr_svm, thresholds_svm = roc_curve(y_validate_s, y_pred_svm)"
   ]
  },
  {
   "cell_type": "code",
   "execution_count": 140,
   "metadata": {},
   "outputs": [
    {
     "data": {
      "text/plain": [
       "<matplotlib.legend.Legend at 0x7faa31b758d0>"
      ]
     },
     "execution_count": 140,
     "metadata": {},
     "output_type": "execute_result"
    },
    {
     "data": {
      "image/png": "[encoded data removed]",
      "text/plain": [
       "<matplotlib.figure.Figure at 0x7faa408edfd0>"
      ]
     },
     "metadata": {},
     "output_type": "display_data"
    }
   ],
   "source": [
    "# Plot the ROC curve\n",
    "plt.figure(figsize = (10, 7))\n",
    "plt.plot(fpr_lr, tpr_lr, label = \"Logistic Regression (AUC = %0.2f)\" % roc_lr)\n",
    "plt.plot(fpr_rf, tpr_rf, label = \"Random Forest (AUC = %0.2f)\" % roc_rf)\n",
    "plt.plot(fpr_xgb, tpr_xgb, label = \"XGBoost (AUC = %0.2f)\" % roc_xgb)\n",
    "plt.plot(fpr_svm, tpr_svm, label = \"SVM (AUC = %0.2f)\" % roc_svm)\n",
    "plt.plot([0, 1], [0, 1], \"r--\")\n",
    "plt.xlim([0.0, 1])\n",
    "plt.ylim([0.0, 1])\n",
    "plt.xlabel(\"False Positive\")\n",
    "plt.ylabel(\"True Positive\")\n",
    "plt.title(\"ROC curve\")\n",
    "plt.legend(loc = \"lower right\")\n"
   ]
  },
  {
   "cell_type": "code",
   "execution_count": null,
   "metadata": {
    "collapsed": true
   },
   "outputs": [],
   "source": []
  },
  {
   "cell_type": "code",
   "execution_count": 142,
   "metadata": {},
   "outputs": [
    {
     "data": {
      "text/html": [
       "<div>\n",
       "<table border=\"1\" class=\"dataframe\">\n",
       "  <thead>\n",
       "    <tr style=\"text-align: right;\">\n",
       "      <th></th>\n",
       "      <th>True Negative</th>\n",
       "      <th>False Positive</th>\n",
       "      <th>False Negative</th>\n",
       "      <th>True Positive</th>\n",
       "    </tr>\n",
       "  </thead>\n",
       "  <tbody>\n",
       "    <tr>\n",
       "      <th>Logistic Regression</th>\n",
       "      <td>34680</td>\n",
       "      <td>2636</td>\n",
       "      <td>8</td>\n",
       "      <td>24</td>\n",
       "    </tr>\n",
       "    <tr>\n",
       "      <th>Random Forest</th>\n",
       "      <td>33843</td>\n",
       "      <td>3473</td>\n",
       "      <td>5</td>\n",
       "      <td>27</td>\n",
       "    </tr>\n",
       "    <tr>\n",
       "      <th>XGBoost</th>\n",
       "      <td>37316</td>\n",
       "      <td>1</td>\n",
       "      <td>30</td>\n",
       "      <td>2</td>\n",
       "    </tr>\n",
       "    <tr>\n",
       "      <th>SVM</th>\n",
       "      <td>36974</td>\n",
       "      <td>343</td>\n",
       "      <td>31</td>\n",
       "      <td>1</td>\n",
       "    </tr>\n",
       "  </tbody>\n",
       "</table>\n",
       "</div>"
      ],
      "text/plain": [
       "                     True Negative  False Positive  False Negative  \\\n",
       "Logistic Regression          34680            2636               8   \n",
       "Random Forest                33843            3473               5   \n",
       "XGBoost                      37316               1              30   \n",
       "SVM                          36974             343              31   \n",
       "\n",
       "                     True Positive  \n",
       "Logistic Regression             24  \n",
       "Random Forest                   27  \n",
       "XGBoost                          2  \n",
       "SVM                              1  "
      ]
     },
     "execution_count": 142,
     "metadata": {},
     "output_type": "execute_result"
    }
   ],
   "source": [
    "# 2) Create a table that prints out the confusion matrices for each model\n",
    "from sklearn.metrics import confusion_matrix\n",
    "\n",
    "cm_df = np.stack((confusionMatrix(model_lr, x_validate, y_validate),\n",
    "                  confusionMatrix(model_rf, x_validate, y_validate),\n",
    "                  confusionMatrix(model_xgb, x_validate_s, y_validate_s),\n",
    "                  confusionMatrix(model_svm, x_validate_s, y_validate_s)))\n",
    "\n",
    "cm_df = pd.DataFrame(cm_df,\n",
    "                     index = [\"Logistic Regression\", \"Random Forest\", \"XGBoost\", \"SVM\"],\n",
    "                     columns = [\"True Negative\", \"False Positive\", \"False Negative\", \"True Positive\"])\n",
    "cm_df"
   ]
  },
  {
   "cell_type": "code",
   "execution_count": null,
   "metadata": {
    "collapsed": true
   },
   "outputs": [],
   "source": []
  },
  {
   "cell_type": "code",
   "execution_count": null,
   "metadata": {
    "collapsed": true
   },
   "outputs": [],
   "source": []
  }
 ],
 "metadata": {
  "kernelspec": {
   "display_name": "Python [conda env:anaconda]",
   "language": "python",
   "name": "conda-env-anaconda-py"
  },
  "language_info": {
   "codemirror_mode": {
    "name": "ipython",
    "version": 3
   },
   "file_extension": ".py",
   "mimetype": "text/x-python",
   "name": "python",
   "nbconvert_exporter": "python",
   "pygments_lexer": "ipython3",
   "version": "3.5.2"
  }
 },
 "nbformat": 4,
 "nbformat_minor": 2
}
