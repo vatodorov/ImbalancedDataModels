{
 "cells": [
  {
   "cell_type": "markdown",
   "metadata": {},
   "source": [
    "### IMPORTANT TO DOs - remove from the submission to AWS\n",
    "\n",
    "<p>\n",
    "__!!!_ADD A SIDEBAR TO THE NOTEBOOK_!!!__\n",
    "<br>\n",
    "https://github.com/ipython-contrib/jupyter_contrib_nbextensions\n",
    "<p>\n",
    "#### Refactor the code. Create functions for plotting, dummy variables creation, crosstabulation, etc.\n",
    "\n"
   ]
  },
  {
   "cell_type": "markdown",
   "metadata": {},
   "source": [
    "### Reduce maintenance cost through predictive techniques\n",
    "___Valentin Todorov (January 2018)___\n",
    "\n",
    "#### Background\n",
    "Company (3D Technologies) has a fleet of devices transmitting daily aggregated telemetry\n",
    "attributes.\n",
    "\n",
    "Predictive maintenance techniques are designed to help determine the condition of in-service\n",
    "equipment in order to predict when maintenance should be performed. This approach\n",
    "promises cost savings over routine or time-based preventive maintenance, because tasks are\n",
    "performed only when warranted.\n",
    "\n",
    "#### Goal:\n",
    "You are tasked with building a predictive model using machine learning to predict the\n",
    "probability of a device failure. When building this model, be sure to minimize false positives and\n",
    "false negatives. The column you are trying to predict is called failure with binary value 0 for\n",
    "non-failure and 1 for failure.\n",
    "\n",
    "#### Data\n",
    "Download link: http://aws-proserve-data-science.s3.amazonaws.com/device_failure.csv"
   ]
  },
  {
   "cell_type": "markdown",
   "metadata": {},
   "source": [
    "#### Plan for development\n",
    "1. Read the data\n",
    "2. Data exploration\n",
    "    * Calculate the distribution of total fail/not fail cases\n",
    "    * Distribution of fail/not-fail cases by year\n",
    "    * Distribution of fail/not-fail cases by month\n",
    "    * Are there any devices that have higher failure rates than others\n",
    "    * When a device fails, does it disappear from the data, or does it show up again\n",
    "    * Are there particular days of the week when a higher percent of devices fail?\n",
    "3. Understand the important variables for splitting the dataset\n",
    "    * Do a pre-modeling analysis using decision trees\n",
    "    * Use decision trees to understand which are the important drivers for the outcome\n",
    "4. Derive new features\n",
    "    * Determine which features are categorical, and if needed create dummies\n",
    "    * Since the data for some of the features is very sparse, create dummies which are 1, if data is available and 0 otherwise\n",
    "    * Use decision trees to decide how to split by categories of attributes\n",
    "    * Should I do PCA? (likely no..)\n",
    "5. Sampling of the data (70/30)\n",
    "    * Create random samples from the data - 70% for training and 30% for validation\n",
    "    * If the failures are too few compared to the non-failures, I will need to oversample the failures (and add a weight), or simply undersample the non-failures\n",
    "    * Dealing with imbalanced datasets (https://datascience.stackexchange.com/questions/9488/xgboost-give-more-importance-to-recent-samples)\n",
    "6. Do we need separate models for different groups of devices?\n",
    "    * Use decision trees to figure this out\n",
    "        * Run decision trees on all devices\n",
    "        * Run decision trees by types of devices, determined by the first letter - S, W, or Z\n",
    "7. Variables reduction\n",
    "    * Use decision trees\n",
    "    * Use p-values\n",
    "    * LASSO\n",
    "    * Random forest's variable importance\n",
    "    * Stepwise logistic regression\n",
    "    * Compare the suggested features from each method\n",
    "8. Decide on a methodology for the model estimation\n",
    "    * Random forest\n",
    "    * Random forest with XG boosting\n",
    "    * Random forest with ADA\n",
    "    * SVM\n",
    "    * Penalized-SVM\n",
    "    * Neural network\n",
    "    * Logistic regression\n",
    "9. Validate the results\n",
    "10. Accuracy measures\n",
    "    * Calculate c-statistic and ROC\n",
    "    * Plot the performance for multiple modles using the area under the curve (AUC) graph\n",
    "    * Create a deciles table with lift, and graph it\n",
    "    * Sensitivity/Recall\n",
    "    * Specificity\n",
    "11. Create a confusion matrix - reduce false positives and false negatives\n",
    "12. Does the methodology we use allow us to understand what drives the outcome? If it doesn't, do we need another methodology that can help with that?\n"
   ]
  },
  {
   "cell_type": "code",
   "execution_count": null,
   "metadata": {
    "collapsed": true
   },
   "outputs": [],
   "source": []
  },
  {
   "cell_type": "markdown",
   "metadata": {},
   "source": [
    "#### Environment\n",
    "The model was developed in Python 3.5"
   ]
  },
  {
   "cell_type": "code",
   "execution_count": null,
   "metadata": {
    "collapsed": true
   },
   "outputs": [],
   "source": []
  },
  {
   "cell_type": "markdown",
   "metadata": {},
   "source": [
    "#### Setup\n",
    "Setup the environment and import needed packages"
   ]
  },
  {
   "cell_type": "code",
   "execution_count": 40,
   "metadata": {
    "collapsed": true
   },
   "outputs": [],
   "source": [
    "import pandas as pd\n",
    "import numpy as np\n",
    "from decimal import *\n",
    "import graphviz                             # This module is needed for the visualization of the decision tree, but I can't import it in Python 3.6\n",
    "import matplotlib.pyplot as plt\n",
    "import math\n",
    "\n",
    "#from xgboost import XGBClassifier            # This module needs to be installed (however, so far I was only able to find it for Py3.6)\n",
    "from sklearn import datasets, svm\n",
    "from sklearn.preprocessing import MinMaxScaler\n",
    "from sklearn.model_selection import GridSearchCV, train_test_split\n",
    "from sklearn.ensemble import RandomForestClassifier\n",
    "from sklearn.feature_selection import RFE\n",
    "from sklearn.linear_model import LogisticRegression\n",
    "from sklearn.tree import DecisionTreeClassifier, export_graphviz\n",
    "from sklearn.metrics import accuracy_score, recall_score, confusion_matrix, roc_curve, roc_auc_score\n",
    "#from imblearn.over_sampling import SMOTE\n",
    "\n",
    "%matplotlib inline\n"
   ]
  },
  {
   "cell_type": "code",
   "execution_count": null,
   "metadata": {
    "collapsed": true
   },
   "outputs": [],
   "source": []
  },
  {
   "cell_type": "markdown",
   "metadata": {},
   "source": [
    "#### Define functions I'll be using throughout the analysis\n",
    "This section defines functions I'll use in the analysis, and the evaluation of results."
   ]
  },
  {
   "cell_type": "code",
   "execution_count": 41,
   "metadata": {
    "collapsed": true
   },
   "outputs": [],
   "source": [
    "# This defines the path to the data depending on the OS I use - Win or mac OS\n",
    "# I've saved the dataset in my Google Drive, but depending on my location, I use different computers (Mac or Windows) and the paths to the folders are different\n",
    "def selectOS(_os):\n",
    "    if _os == \"win\":\n",
    "        data_location = \"C:/Users/bre49823/GoogleDrive/Data/aws/device_failure.csv\"\n",
    "    elif _os == \"mac\":\n",
    "        data_location = \"/Users/valentin/GoogleDrive/Data/aws/device_failure.csv\"\n",
    "    return data_location\n",
    "\n",
    "# Check for NA values in the data\n",
    "def checkNaValues(df, columns_idx):\n",
    "    features_na = []\n",
    "    for i in range(0, len(columns_idx)):\n",
    "        col = columns_idx[i]\n",
    "        features_na.append(df[col].isnull().sum())\n",
    "    return features_na\n",
    "\n",
    "# Create new features that are the log of existing ones\n",
    "def createLog(df, columns_list):\n",
    "    for col in columns_list:\n",
    "        column_log = col + \"_log\"    \n",
    "        df[column_log] = df[col].apply(lambda x: 0 if x == 0 else math.log(x))\n",
    "    return\n",
    "\n",
    "# Derive dummy features - these features take the value 1 if the value in the original features is larger than 0, otherwise they take the value of 0\n",
    "def createDummy(columns_list):\n",
    "    column_dummy_idx = []\n",
    "    for col in columns_list:\n",
    "        column_dummy = col + \"_dummy\"\n",
    "        device_data[column_dummy] = [1 if x > 0 else 0 for x in device_data[col]]\n",
    "        column_dummy_idx.append(column_dummy)\n",
    "    return column_dummy_idx\n",
    "        \n",
    "# Create a confusion matrix\n",
    "def confusionMatrix(model, _x_validate, _y_validate):\n",
    "    _confusion_matrix = confusion_matrix(_y_validate, model.predict(_x_validate)).ravel()\n",
    "    return _confusion_matrix\n",
    "\n",
    "# Function to print accuracy statistics for each model\n",
    "def modelAccuracyStats(model, modeling_method, _x_train, _y_train, _x_validate, _y_validate):\n",
    "    tn, fp, fn, tp = confusionMatrix(model, _x_validate, _y_validate)\n",
    "    print (\"Print stats for method: %s\" % modeling_method)\n",
    "    print (\"\\nThe number of False Negative in the validation set is %s \" % str(fn))\n",
    "    print (\"The number of False Positive in the validation set is %s \" % str(fp))\n",
    "    print (\"\\nAccuracy on training set is {:.5f}\".format(model.score(_x_train, _y_train)))\n",
    "    print (\"Recall (tp/(tp+fn)) of training set is {:.5f}\".format(recall_score(_y_train, model.predict(_x_train))))\n",
    "    print (\"\\nAccuracy on validation set is {:.5f}\".format(model.score(_x_validate, _y_validate)))\n",
    "    print (\"Recall (tp/(tp+fn)) of validation set is {:.5f}\".format(recall_score(_y_validate, model.predict(_x_validate))))\n",
    " "
   ]
  },
  {
   "cell_type": "code",
   "execution_count": null,
   "metadata": {
    "collapsed": true
   },
   "outputs": [],
   "source": []
  },
  {
   "cell_type": "markdown",
   "metadata": {},
   "source": [
    "#### Read in the data and print out the header"
   ]
  },
  {
   "cell_type": "code",
   "execution_count": 42,
   "metadata": {},
   "outputs": [
    {
     "name": "stdout",
     "output_type": "stream",
     "text": [
      "124494\n"
     ]
    },
    {
     "data": {
      "text/html": [
       "<div>\n",
       "<style>\n",
       "    .dataframe thead tr:only-child th {\n",
       "        text-align: right;\n",
       "    }\n",
       "\n",
       "    .dataframe thead th {\n",
       "        text-align: left;\n",
       "    }\n",
       "\n",
       "    .dataframe tbody tr th {\n",
       "        vertical-align: top;\n",
       "    }\n",
       "</style>\n",
       "<table border=\"1\" class=\"dataframe\">\n",
       "  <thead>\n",
       "    <tr style=\"text-align: right;\">\n",
       "      <th></th>\n",
       "      <th>date</th>\n",
       "      <th>device</th>\n",
       "      <th>failure</th>\n",
       "      <th>attribute1</th>\n",
       "      <th>attribute2</th>\n",
       "      <th>attribute3</th>\n",
       "      <th>attribute4</th>\n",
       "      <th>attribute5</th>\n",
       "      <th>attribute6</th>\n",
       "      <th>attribute7</th>\n",
       "      <th>attribute8</th>\n",
       "      <th>attribute9</th>\n",
       "    </tr>\n",
       "  </thead>\n",
       "  <tbody>\n",
       "    <tr>\n",
       "      <th>0</th>\n",
       "      <td>2015-01-01</td>\n",
       "      <td>S1F01085</td>\n",
       "      <td>0</td>\n",
       "      <td>215630672</td>\n",
       "      <td>56</td>\n",
       "      <td>0</td>\n",
       "      <td>52</td>\n",
       "      <td>6</td>\n",
       "      <td>407438</td>\n",
       "      <td>0</td>\n",
       "      <td>0</td>\n",
       "      <td>7</td>\n",
       "    </tr>\n",
       "    <tr>\n",
       "      <th>1</th>\n",
       "      <td>2015-01-01</td>\n",
       "      <td>S1F0166B</td>\n",
       "      <td>0</td>\n",
       "      <td>61370680</td>\n",
       "      <td>0</td>\n",
       "      <td>3</td>\n",
       "      <td>0</td>\n",
       "      <td>6</td>\n",
       "      <td>403174</td>\n",
       "      <td>0</td>\n",
       "      <td>0</td>\n",
       "      <td>0</td>\n",
       "    </tr>\n",
       "    <tr>\n",
       "      <th>2</th>\n",
       "      <td>2015-01-01</td>\n",
       "      <td>S1F01E6Y</td>\n",
       "      <td>0</td>\n",
       "      <td>173295968</td>\n",
       "      <td>0</td>\n",
       "      <td>0</td>\n",
       "      <td>0</td>\n",
       "      <td>12</td>\n",
       "      <td>237394</td>\n",
       "      <td>0</td>\n",
       "      <td>0</td>\n",
       "      <td>0</td>\n",
       "    </tr>\n",
       "    <tr>\n",
       "      <th>3</th>\n",
       "      <td>2015-01-01</td>\n",
       "      <td>S1F01JE0</td>\n",
       "      <td>0</td>\n",
       "      <td>79694024</td>\n",
       "      <td>0</td>\n",
       "      <td>0</td>\n",
       "      <td>0</td>\n",
       "      <td>6</td>\n",
       "      <td>410186</td>\n",
       "      <td>0</td>\n",
       "      <td>0</td>\n",
       "      <td>0</td>\n",
       "    </tr>\n",
       "    <tr>\n",
       "      <th>4</th>\n",
       "      <td>2015-01-01</td>\n",
       "      <td>S1F01R2B</td>\n",
       "      <td>0</td>\n",
       "      <td>135970480</td>\n",
       "      <td>0</td>\n",
       "      <td>0</td>\n",
       "      <td>0</td>\n",
       "      <td>15</td>\n",
       "      <td>313173</td>\n",
       "      <td>0</td>\n",
       "      <td>0</td>\n",
       "      <td>3</td>\n",
       "    </tr>\n",
       "    <tr>\n",
       "      <th>5</th>\n",
       "      <td>2015-01-01</td>\n",
       "      <td>S1F01TD5</td>\n",
       "      <td>0</td>\n",
       "      <td>68837488</td>\n",
       "      <td>0</td>\n",
       "      <td>0</td>\n",
       "      <td>41</td>\n",
       "      <td>6</td>\n",
       "      <td>413535</td>\n",
       "      <td>0</td>\n",
       "      <td>0</td>\n",
       "      <td>1</td>\n",
       "    </tr>\n",
       "    <tr>\n",
       "      <th>6</th>\n",
       "      <td>2015-01-01</td>\n",
       "      <td>S1F01XDJ</td>\n",
       "      <td>0</td>\n",
       "      <td>227721632</td>\n",
       "      <td>0</td>\n",
       "      <td>0</td>\n",
       "      <td>0</td>\n",
       "      <td>8</td>\n",
       "      <td>402525</td>\n",
       "      <td>0</td>\n",
       "      <td>0</td>\n",
       "      <td>0</td>\n",
       "    </tr>\n",
       "    <tr>\n",
       "      <th>7</th>\n",
       "      <td>2015-01-01</td>\n",
       "      <td>S1F023H2</td>\n",
       "      <td>0</td>\n",
       "      <td>141503600</td>\n",
       "      <td>0</td>\n",
       "      <td>0</td>\n",
       "      <td>1</td>\n",
       "      <td>19</td>\n",
       "      <td>494462</td>\n",
       "      <td>16</td>\n",
       "      <td>16</td>\n",
       "      <td>3</td>\n",
       "    </tr>\n",
       "    <tr>\n",
       "      <th>8</th>\n",
       "      <td>2015-01-01</td>\n",
       "      <td>S1F02A0J</td>\n",
       "      <td>0</td>\n",
       "      <td>8217840</td>\n",
       "      <td>0</td>\n",
       "      <td>1</td>\n",
       "      <td>0</td>\n",
       "      <td>14</td>\n",
       "      <td>311869</td>\n",
       "      <td>0</td>\n",
       "      <td>0</td>\n",
       "      <td>0</td>\n",
       "    </tr>\n",
       "    <tr>\n",
       "      <th>9</th>\n",
       "      <td>2015-01-01</td>\n",
       "      <td>S1F02DZ2</td>\n",
       "      <td>0</td>\n",
       "      <td>116440096</td>\n",
       "      <td>0</td>\n",
       "      <td>323</td>\n",
       "      <td>9</td>\n",
       "      <td>9</td>\n",
       "      <td>407905</td>\n",
       "      <td>0</td>\n",
       "      <td>0</td>\n",
       "      <td>164</td>\n",
       "    </tr>\n",
       "  </tbody>\n",
       "</table>\n",
       "</div>"
      ],
      "text/plain": [
       "         date    device  failure  attribute1  attribute2  attribute3  \\\n",
       "0  2015-01-01  S1F01085        0   215630672          56           0   \n",
       "1  2015-01-01  S1F0166B        0    61370680           0           3   \n",
       "2  2015-01-01  S1F01E6Y        0   173295968           0           0   \n",
       "3  2015-01-01  S1F01JE0        0    79694024           0           0   \n",
       "4  2015-01-01  S1F01R2B        0   135970480           0           0   \n",
       "5  2015-01-01  S1F01TD5        0    68837488           0           0   \n",
       "6  2015-01-01  S1F01XDJ        0   227721632           0           0   \n",
       "7  2015-01-01  S1F023H2        0   141503600           0           0   \n",
       "8  2015-01-01  S1F02A0J        0     8217840           0           1   \n",
       "9  2015-01-01  S1F02DZ2        0   116440096           0         323   \n",
       "\n",
       "   attribute4  attribute5  attribute6  attribute7  attribute8  attribute9  \n",
       "0          52           6      407438           0           0           7  \n",
       "1           0           6      403174           0           0           0  \n",
       "2           0          12      237394           0           0           0  \n",
       "3           0           6      410186           0           0           0  \n",
       "4           0          15      313173           0           0           3  \n",
       "5          41           6      413535           0           0           1  \n",
       "6           0           8      402525           0           0           0  \n",
       "7           1          19      494462          16          16           3  \n",
       "8           0          14      311869           0           0           0  \n",
       "9           9           9      407905           0           0         164  "
      ]
     },
     "execution_count": 42,
     "metadata": {},
     "output_type": "execute_result"
    }
   ],
   "source": [
    "# Read in the data and print out the header\n",
    "device_data = pd.read_csv(selectOS(\"win\"))\n",
    "\n",
    "# Check if the number of rows is as expected\n",
    "print (len(device_data))\n",
    "device_data.head(10)"
   ]
  },
  {
   "cell_type": "code",
   "execution_count": null,
   "metadata": {
    "collapsed": true
   },
   "outputs": [],
   "source": []
  },
  {
   "cell_type": "markdown",
   "metadata": {},
   "source": [
    "Whenever I start working with a dataset I've never seen, I like to open it as a SQL table, or import it in Excel, and familiarize myself with it. If the file is small enough, and Excel can handle it, I'll import the whole file, otherwise, I take a random sample from it, small enough that can be easily processed within the available RAM and CPU.\n",
    "\n",
    "Next, I usually create a pivot table in Excel and try to understand what features are available. Are there dates - if there are, what is the time range coverered? When we know the dates from the data, we can relate them to important Macroeconomic environments - major crises, stock market and crude oil price crashes, etc. Most of the real world industry processes are impacted by economic events. For example, if the data in the provided dataset spans back to 2007, it is very likely that we'll see structural shifts in some of the attributes during the period 2008 - 2009."
   ]
  },
  {
   "cell_type": "code",
   "execution_count": 43,
   "metadata": {},
   "outputs": [
    {
     "name": "stdout",
     "output_type": "stream",
     "text": [
      "It appears that the data is very imbalanced. The percent of fail cases is very low compared to the non-fail cases.\n",
      "Only 0.0008514 of the cases are device failures \n"
     ]
    }
   ],
   "source": [
    "# Calculate the distribution of total fail/not fail cases\n",
    "pct_fail_cases = sum(device_data[\"failure\"]) / Decimal(len(device_data[\"failure\"]))\n",
    "print (\"It appears that the data is very imbalanced. The percent of fail cases is very low compared to the non-fail cases.\")\n",
    "print (\"Only %0.7f of the cases are device failures \" % pct_fail_cases)"
   ]
  },
  {
   "cell_type": "code",
   "execution_count": null,
   "metadata": {
    "collapsed": true
   },
   "outputs": [],
   "source": []
  },
  {
   "cell_type": "markdown",
   "metadata": {
    "collapsed": true
   },
   "source": [
    "Let's get a feeling of the mean values by category of the variable \"failure\""
   ]
  },
  {
   "cell_type": "code",
   "execution_count": 83,
   "metadata": {},
   "outputs": [
    {
     "data": {
      "text/html": [
       "<div>\n",
       "<style>\n",
       "    .dataframe thead tr:only-child th {\n",
       "        text-align: right;\n",
       "    }\n",
       "\n",
       "    .dataframe thead th {\n",
       "        text-align: left;\n",
       "    }\n",
       "\n",
       "    .dataframe tbody tr th {\n",
       "        vertical-align: top;\n",
       "    }\n",
       "</style>\n",
       "<table border=\"1\" class=\"dataframe\">\n",
       "  <thead>\n",
       "    <tr style=\"text-align: right;\">\n",
       "      <th></th>\n",
       "      <th>attribute1</th>\n",
       "      <th>attribute2</th>\n",
       "      <th>attribute3</th>\n",
       "      <th>attribute4</th>\n",
       "      <th>attribute5</th>\n",
       "      <th>attribute6</th>\n",
       "      <th>attribute7</th>\n",
       "      <th>attribute9</th>\n",
       "      <th>attribute1_dummy</th>\n",
       "      <th>attribute2_dummy</th>\n",
       "      <th>...</th>\n",
       "      <th>year</th>\n",
       "      <th>month</th>\n",
       "      <th>day_of_week</th>\n",
       "      <th>device_type_s</th>\n",
       "      <th>device_type_w</th>\n",
       "      <th>device_type_z</th>\n",
       "      <th>attribute1_log</th>\n",
       "      <th>attribute2_log</th>\n",
       "      <th>attribute3_log</th>\n",
       "      <th>attribute4_log</th>\n",
       "    </tr>\n",
       "    <tr>\n",
       "      <th>failure</th>\n",
       "      <th></th>\n",
       "      <th></th>\n",
       "      <th></th>\n",
       "      <th></th>\n",
       "      <th></th>\n",
       "      <th></th>\n",
       "      <th></th>\n",
       "      <th></th>\n",
       "      <th></th>\n",
       "      <th></th>\n",
       "      <th></th>\n",
       "      <th></th>\n",
       "      <th></th>\n",
       "      <th></th>\n",
       "      <th></th>\n",
       "      <th></th>\n",
       "      <th></th>\n",
       "      <th></th>\n",
       "      <th></th>\n",
       "      <th></th>\n",
       "      <th></th>\n",
       "    </tr>\n",
       "  </thead>\n",
       "  <tbody>\n",
       "    <tr>\n",
       "      <th>0</th>\n",
       "      <td>1.223827e+08</td>\n",
       "      <td>156.118725</td>\n",
       "      <td>9.945598</td>\n",
       "      <td>1.696048</td>\n",
       "      <td>14.221637</td>\n",
       "      <td>260174.451056</td>\n",
       "      <td>0.266682</td>\n",
       "      <td>12.442462</td>\n",
       "      <td>0.999912</td>\n",
       "      <td>0.050937</td>\n",
       "      <td>...</td>\n",
       "      <td>2015.0</td>\n",
       "      <td>4.028274</td>\n",
       "      <td>3.013201</td>\n",
       "      <td>0.440686</td>\n",
       "      <td>0.347509</td>\n",
       "      <td>0.211805</td>\n",
       "      <td>18.314306</td>\n",
       "      <td>0.315488</td>\n",
       "      <td>0.154446</td>\n",
       "      <td>0.146618</td>\n",
       "    </tr>\n",
       "    <tr>\n",
       "      <th>1</th>\n",
       "      <td>1.271755e+08</td>\n",
       "      <td>4109.433962</td>\n",
       "      <td>3.905660</td>\n",
       "      <td>54.632075</td>\n",
       "      <td>15.462264</td>\n",
       "      <td>258303.481132</td>\n",
       "      <td>30.622642</td>\n",
       "      <td>23.084906</td>\n",
       "      <td>1.000000</td>\n",
       "      <td>0.452830</td>\n",
       "      <td>...</td>\n",
       "      <td>2015.0</td>\n",
       "      <td>4.056604</td>\n",
       "      <td>2.132075</td>\n",
       "      <td>0.396226</td>\n",
       "      <td>0.396226</td>\n",
       "      <td>0.207547</td>\n",
       "      <td>18.409083</td>\n",
       "      <td>3.347495</td>\n",
       "      <td>0.147863</td>\n",
       "      <td>1.674240</td>\n",
       "    </tr>\n",
       "  </tbody>\n",
       "</table>\n",
       "<p>2 rows × 24 columns</p>\n",
       "</div>"
      ],
      "text/plain": [
       "           attribute1   attribute2  attribute3  attribute4  attribute5  \\\n",
       "failure                                                                  \n",
       "0        1.223827e+08   156.118725    9.945598    1.696048   14.221637   \n",
       "1        1.271755e+08  4109.433962    3.905660   54.632075   15.462264   \n",
       "\n",
       "            attribute6  attribute7  attribute9  attribute1_dummy  \\\n",
       "failure                                                            \n",
       "0        260174.451056    0.266682   12.442462          0.999912   \n",
       "1        258303.481132   30.622642   23.084906          1.000000   \n",
       "\n",
       "         attribute2_dummy       ...          year     month  day_of_week  \\\n",
       "failure                         ...                                        \n",
       "0                0.050937       ...        2015.0  4.028274     3.013201   \n",
       "1                0.452830       ...        2015.0  4.056604     2.132075   \n",
       "\n",
       "         device_type_s  device_type_w  device_type_z  attribute1_log  \\\n",
       "failure                                                                \n",
       "0             0.440686       0.347509       0.211805       18.314306   \n",
       "1             0.396226       0.396226       0.207547       18.409083   \n",
       "\n",
       "         attribute2_log  attribute3_log  attribute4_log  \n",
       "failure                                                  \n",
       "0              0.315488        0.154446        0.146618  \n",
       "1              3.347495        0.147863        1.674240  \n",
       "\n",
       "[2 rows x 24 columns]"
      ]
     },
     "execution_count": 83,
     "metadata": {},
     "output_type": "execute_result"
    }
   ],
   "source": [
    "device_data.groupby(\"failure\").mean()"
   ]
  },
  {
   "cell_type": "markdown",
   "metadata": {},
   "source": [
    "From the analysis of observations when the values of each attribute is larger than 0, it looks like attributes 7 & 8 have the same number of cases when they are larger than 0. This requires a little more investigation. If both attributes have the same values, one of them will be dropped.\n",
    "\n",
    "Next, I'll test if the values for attributes 7 & 8 are the same. I'll simply subtract attribute 7 from 8 and sum up the differences. If the sum is 0, then all the values for 7 & 8 are the same, and I'll drop column 8."
   ]
  },
  {
   "cell_type": "code",
   "execution_count": null,
   "metadata": {},
   "outputs": [],
   "source": [
    "sum((device_data[\"attribute7\"] - device_data[\"attribute8\"]))"
   ]
  },
  {
   "cell_type": "markdown",
   "metadata": {},
   "source": [
    "Based on the test, columns 7 & 8 are the same. Hence, I'll drop column 8."
   ]
  },
  {
   "cell_type": "code",
   "execution_count": null,
   "metadata": {
    "collapsed": true
   },
   "outputs": [],
   "source": [
    "drop_vars = [\"attribute8\"]\n",
    "device_data = device_data.drop(drop_vars, axis = 1)"
   ]
  },
  {
   "cell_type": "code",
   "execution_count": null,
   "metadata": {
    "collapsed": true
   },
   "outputs": [],
   "source": []
  },
  {
   "cell_type": "code",
   "execution_count": 44,
   "metadata": {},
   "outputs": [
    {
     "data": {
      "text/plain": [
       "[('date', 0),\n",
       " ('device', 0),\n",
       " ('failure', 0),\n",
       " ('attribute1', 0),\n",
       " ('attribute2', 0),\n",
       " ('attribute3', 0),\n",
       " ('attribute4', 0),\n",
       " ('attribute5', 0),\n",
       " ('attribute6', 0),\n",
       " ('attribute7', 0),\n",
       " ('attribute8', 0),\n",
       " ('attribute9', 0)]"
      ]
     },
     "execution_count": 44,
     "metadata": {},
     "output_type": "execute_result"
    }
   ],
   "source": [
    "# Check if there are NA values in the data\n",
    "# If the list with features is very long I wouldn't print the whole list with the results, but will only print those that with missing values\n",
    "columns_list = list(device_data.columns)\n",
    "features_na = checkNaValues(device_data, columns_list)\n",
    "list(zip(columns_list, features_na))\n"
   ]
  },
  {
   "cell_type": "markdown",
   "metadata": {},
   "source": [
    "There are no features with NULL or NaN values.."
   ]
  },
  {
   "cell_type": "code",
   "execution_count": 85,
   "metadata": {},
   "outputs": [
    {
     "data": {
      "text/html": [
       "<div>\n",
       "<style>\n",
       "    .dataframe thead tr:only-child th {\n",
       "        text-align: right;\n",
       "    }\n",
       "\n",
       "    .dataframe thead th {\n",
       "        text-align: left;\n",
       "    }\n",
       "\n",
       "    .dataframe tbody tr th {\n",
       "        vertical-align: top;\n",
       "    }\n",
       "</style>\n",
       "<table border=\"1\" class=\"dataframe\">\n",
       "  <thead>\n",
       "    <tr style=\"text-align: right;\">\n",
       "      <th></th>\n",
       "      <th>date</th>\n",
       "      <th>device</th>\n",
       "      <th>failure</th>\n",
       "      <th>attribute1</th>\n",
       "      <th>attribute2</th>\n",
       "      <th>attribute3</th>\n",
       "      <th>attribute4</th>\n",
       "      <th>attribute5</th>\n",
       "      <th>attribute6</th>\n",
       "      <th>attribute7</th>\n",
       "      <th>...</th>\n",
       "      <th>month</th>\n",
       "      <th>day_of_week</th>\n",
       "      <th>device_type</th>\n",
       "      <th>device_type_s</th>\n",
       "      <th>device_type_w</th>\n",
       "      <th>device_type_z</th>\n",
       "      <th>attribute1_log</th>\n",
       "      <th>attribute2_log</th>\n",
       "      <th>attribute3_log</th>\n",
       "      <th>attribute4_log</th>\n",
       "    </tr>\n",
       "  </thead>\n",
       "  <tbody>\n",
       "  </tbody>\n",
       "</table>\n",
       "<p>0 rows × 28 columns</p>\n",
       "</div>"
      ],
      "text/plain": [
       "Empty DataFrame\n",
       "Columns: [date, device, failure, attribute1, attribute2, attribute3, attribute4, attribute5, attribute6, attribute7, attribute9, attribute1_dummy, attribute2_dummy, attribute3_dummy, attribute4_dummy, attribute7_dummy, attribute9_dummy, year, month, day_of_week, device_type, device_type_s, device_type_w, device_type_z, attribute1_log, attribute2_log, attribute3_log, attribute4_log]\n",
       "Index: []\n",
       "\n",
       "[0 rows x 28 columns]"
      ]
     },
     "execution_count": 85,
     "metadata": {},
     "output_type": "execute_result"
    }
   ],
   "source": [
    "# Check for duplicate rows in the data\n",
    "device_data[device_data.duplicated()]"
   ]
  },
  {
   "cell_type": "markdown",
   "metadata": {},
   "source": [
    "There are no duplicate rows in the data."
   ]
  },
  {
   "cell_type": "code",
   "execution_count": null,
   "metadata": {
    "collapsed": true
   },
   "outputs": [],
   "source": []
  },
  {
   "cell_type": "markdown",
   "metadata": {},
   "source": [
    "#### Derive new features\n",
    "1. Take the log of features with large values\n",
    "<br>\n",
    "Attribute1 & attribute6 have very large values compared with the rest of the features. So I'll take the logs.\n",
    "<p>\n",
    "2. Create dummies (0/1) from the existing features\n",
    "<br>\n",
    "If the value of an attribute is larger than 0, encode as 1, otherwise 0"
   ]
  },
  {
   "cell_type": "code",
   "execution_count": 45,
   "metadata": {},
   "outputs": [
    {
     "data": {
      "text/plain": [
       "[('attribute1_dummy', 1    124483\n",
       "  0        11\n",
       "  Name: attribute1_dummy, dtype: int64), ('attribute2_dummy', 0    118110\n",
       "  1      6384\n",
       "  Name: attribute2_dummy, dtype: int64), ('attribute3_dummy', 0    115359\n",
       "  1      9135\n",
       "  Name: attribute3_dummy, dtype: int64), ('attribute4_dummy', 0    115156\n",
       "  1      9338\n",
       "  Name: attribute4_dummy, dtype: int64), ('attribute5_dummy', 1    124494\n",
       "  Name: attribute5_dummy, dtype: int64), ('attribute6_dummy', 1    124494\n",
       "  Name: attribute6_dummy, dtype: int64), ('attribute7_dummy', 0    123036\n",
       "  1      1458\n",
       "  Name: attribute7_dummy, dtype: int64), ('attribute8_dummy', 0    123036\n",
       "  1      1458\n",
       "  Name: attribute8_dummy, dtype: int64), ('attribute9_dummy', 0    97358\n",
       "  1    27136\n",
       "  Name: attribute9_dummy, dtype: int64)]"
      ]
     },
     "execution_count": 45,
     "metadata": {},
     "output_type": "execute_result"
    }
   ],
   "source": [
    "# 1) Calculate the log of the attribute1 & attribute6\n",
    "columns_list = [\"attribute1\", \"attribute6\"]\n",
    "createLog(device_data, columns_list)\n",
    "\n",
    "# 2) Create dummies from the attributes\n",
    "columns_list = [\"attribute1\", \"attribute2\", \"attribute3\", \"attribute4\", \"attribute5\", \"attribute6\", \"attribute7\", \"attribute9\"]\n",
    "\n",
    "features_dummy = createDummy(columns_list)\n",
    "list(zip(features_dummy, [device_data[s].value_counts() for s in features_dummy]))"
   ]
  },
  {
   "cell_type": "markdown",
   "metadata": {},
   "source": [
    "We'll also drop the dummies for columns 5 & 6 because they are always 1. Since they have the same value for every observation, they won't provide any useful information to the models."
   ]
  },
  {
   "cell_type": "code",
   "execution_count": 48,
   "metadata": {
    "collapsed": true
   },
   "outputs": [],
   "source": [
    "drop_vars = [\"attribute5_dummy\", \"attribute6_dummy\"]\n",
    "device_data = device_data.drop(drop_vars, axis = 1)"
   ]
  },
  {
   "cell_type": "code",
   "execution_count": null,
   "metadata": {
    "collapsed": true
   },
   "outputs": [],
   "source": []
  },
  {
   "cell_type": "markdown",
   "metadata": {},
   "source": [
    "We need to dig a little deeper into the distributions of failure/non-failure and understand the following:\n",
    "1. Distribution of failure/non-failure by year\n",
    "2. Distribution of failure/non-failure by month\n",
    "3. Distribution of failure/non-failure by device - are there specific devices that tend to fail more than others?"
   ]
  },
  {
   "cell_type": "code",
   "execution_count": 50,
   "metadata": {},
   "outputs": [
    {
     "name": "stdout",
     "output_type": "stream",
     "text": [
      "0    124388\n",
      "1       106\n",
      "Name: failure, dtype: int64\n",
      "col_0   count\n",
      "year         \n",
      "2015   124494\n"
     ]
    },
    {
     "data": {
      "text/html": [
       "<div>\n",
       "<style>\n",
       "    .dataframe thead tr:only-child th {\n",
       "        text-align: right;\n",
       "    }\n",
       "\n",
       "    .dataframe thead th {\n",
       "        text-align: left;\n",
       "    }\n",
       "\n",
       "    .dataframe tbody tr th {\n",
       "        vertical-align: top;\n",
       "    }\n",
       "</style>\n",
       "<table border=\"1\" class=\"dataframe\">\n",
       "  <thead>\n",
       "    <tr style=\"text-align: right;\">\n",
       "      <th>col_0</th>\n",
       "      <th>count</th>\n",
       "    </tr>\n",
       "    <tr>\n",
       "      <th>month</th>\n",
       "      <th></th>\n",
       "    </tr>\n",
       "  </thead>\n",
       "  <tbody>\n",
       "    <tr>\n",
       "      <th>1</th>\n",
       "      <td>0.201070</td>\n",
       "    </tr>\n",
       "    <tr>\n",
       "      <th>2</th>\n",
       "      <td>0.156634</td>\n",
       "    </tr>\n",
       "    <tr>\n",
       "      <th>3</th>\n",
       "      <td>0.159309</td>\n",
       "    </tr>\n",
       "    <tr>\n",
       "      <th>4</th>\n",
       "      <td>0.096487</td>\n",
       "    </tr>\n",
       "    <tr>\n",
       "      <th>5</th>\n",
       "      <td>0.091008</td>\n",
       "    </tr>\n",
       "    <tr>\n",
       "      <th>6</th>\n",
       "      <td>0.084092</td>\n",
       "    </tr>\n",
       "    <tr>\n",
       "      <th>7</th>\n",
       "      <td>0.084590</td>\n",
       "    </tr>\n",
       "    <tr>\n",
       "      <th>8</th>\n",
       "      <td>0.067039</td>\n",
       "    </tr>\n",
       "    <tr>\n",
       "      <th>9</th>\n",
       "      <td>0.035905</td>\n",
       "    </tr>\n",
       "    <tr>\n",
       "      <th>10</th>\n",
       "      <td>0.023616</td>\n",
       "    </tr>\n",
       "    <tr>\n",
       "      <th>11</th>\n",
       "      <td>0.000249</td>\n",
       "    </tr>\n",
       "  </tbody>\n",
       "</table>\n",
       "</div>"
      ],
      "text/plain": [
       "col_0     count\n",
       "month          \n",
       "1      0.201070\n",
       "2      0.156634\n",
       "3      0.159309\n",
       "4      0.096487\n",
       "5      0.091008\n",
       "6      0.084092\n",
       "7      0.084590\n",
       "8      0.067039\n",
       "9      0.035905\n",
       "10     0.023616\n",
       "11     0.000249"
      ]
     },
     "execution_count": 50,
     "metadata": {},
     "output_type": "execute_result"
    }
   ],
   "source": [
    "# Distribution of failure/non-failure by year\n",
    "device_data[\"year\"] = pd.to_datetime(device_data[\"date\"]).dt.year\n",
    "device_data[\"month\"] = pd.to_datetime(device_data[\"date\"]).dt.month\n",
    "device_data[\"day_of_week\"] = pd.to_datetime(device_data[\"date\"]).dt.dayofweek\n",
    "device_data[\"device_type\"] = device_data.device.str[0]\n",
    "\n",
    "# Create dummies for each of the three different devices in the data. Each starts with a different letter - S, W, or Z\n",
    "device_data = pd.concat([device_data, pd.get_dummies(device_data[\"device_type\"].str.lower(), prefix = \"device_type\")],\n",
    "                        axis = 1, join_axes = [device_data.index])\n",
    "\n",
    "# One-hot encode the failure variable\n",
    "# failure_outcome = pd.get_dummies(device_data.failure)\n",
    "\n",
    "# Print some summary stats\n",
    "print(device_data.failure.value_counts())\n",
    "\n",
    "print(pd.crosstab(device_data[\"year\"],\n",
    "                  columns = \"count\"))\n",
    "pd.crosstab(device_data[\"month\"],\n",
    "            columns = \"count\") / len(device_data.month)"
   ]
  },
  {
   "cell_type": "markdown",
   "metadata": {},
   "source": [
    "It is evident that the data is only for 2015 and we have information for most of the months of 2015, except for December. However, note that 50% of the observations are from the period January - March.\n",
    "<p>\n",
    "Next, we'll look at the distribution of failure/non-failure by month"
   ]
  },
  {
   "cell_type": "code",
   "execution_count": 51,
   "metadata": {},
   "outputs": [
    {
     "data": {
      "text/html": [
       "<div>\n",
       "<style>\n",
       "    .dataframe thead tr:only-child th {\n",
       "        text-align: right;\n",
       "    }\n",
       "\n",
       "    .dataframe thead th {\n",
       "        text-align: left;\n",
       "    }\n",
       "\n",
       "    .dataframe tbody tr th {\n",
       "        vertical-align: top;\n",
       "    }\n",
       "</style>\n",
       "<table border=\"1\" class=\"dataframe\">\n",
       "  <thead>\n",
       "    <tr style=\"text-align: right;\">\n",
       "      <th>month</th>\n",
       "      <th>1</th>\n",
       "      <th>2</th>\n",
       "      <th>3</th>\n",
       "      <th>4</th>\n",
       "      <th>5</th>\n",
       "      <th>6</th>\n",
       "      <th>7</th>\n",
       "      <th>8</th>\n",
       "      <th>9</th>\n",
       "      <th>10</th>\n",
       "      <th>11</th>\n",
       "      <th>All</th>\n",
       "    </tr>\n",
       "  </thead>\n",
       "  <tbody>\n",
       "    <tr>\n",
       "      <th>non_failure</th>\n",
       "      <td>25008</td>\n",
       "      <td>19486</td>\n",
       "      <td>19824</td>\n",
       "      <td>12003</td>\n",
       "      <td>11309</td>\n",
       "      <td>10463</td>\n",
       "      <td>10515</td>\n",
       "      <td>8342</td>\n",
       "      <td>4470</td>\n",
       "      <td>2937</td>\n",
       "      <td>31</td>\n",
       "      <td>124388</td>\n",
       "    </tr>\n",
       "    <tr>\n",
       "      <th>failure</th>\n",
       "      <td>24</td>\n",
       "      <td>14</td>\n",
       "      <td>9</td>\n",
       "      <td>9</td>\n",
       "      <td>21</td>\n",
       "      <td>6</td>\n",
       "      <td>16</td>\n",
       "      <td>4</td>\n",
       "      <td>0</td>\n",
       "      <td>3</td>\n",
       "      <td>0</td>\n",
       "      <td>106</td>\n",
       "    </tr>\n",
       "    <tr>\n",
       "      <th>month_total</th>\n",
       "      <td>25032</td>\n",
       "      <td>19500</td>\n",
       "      <td>19833</td>\n",
       "      <td>12012</td>\n",
       "      <td>11330</td>\n",
       "      <td>10469</td>\n",
       "      <td>10531</td>\n",
       "      <td>8346</td>\n",
       "      <td>4470</td>\n",
       "      <td>2940</td>\n",
       "      <td>31</td>\n",
       "      <td>124494</td>\n",
       "    </tr>\n",
       "  </tbody>\n",
       "</table>\n",
       "</div>"
      ],
      "text/plain": [
       "month            1      2      3      4      5      6      7     8     9  \\\n",
       "non_failure  25008  19486  19824  12003  11309  10463  10515  8342  4470   \n",
       "failure         24     14      9      9     21      6     16     4     0   \n",
       "month_total  25032  19500  19833  12012  11330  10469  10531  8346  4470   \n",
       "\n",
       "month          10  11     All  \n",
       "non_failure  2937  31  124388  \n",
       "failure         3   0     106  \n",
       "month_total  2940  31  124494  "
      ]
     },
     "execution_count": 51,
     "metadata": {},
     "output_type": "execute_result"
    }
   ],
   "source": [
    "# Distribution of failure/non-failure by month\n",
    "failure_month = pd.crosstab(index = device_data[\"failure\"],\n",
    "                            columns = device_data[\"month\"],\n",
    "                            margins = True)\n",
    "\n",
    "failure_month.index = [\"non_failure\", \"failure\", \"month_total\"]\n",
    "failure_month"
   ]
  },
  {
   "cell_type": "code",
   "execution_count": 52,
   "metadata": {},
   "outputs": [
    {
     "data": {
      "text/html": [
       "<div>\n",
       "<style>\n",
       "    .dataframe thead tr:only-child th {\n",
       "        text-align: right;\n",
       "    }\n",
       "\n",
       "    .dataframe thead th {\n",
       "        text-align: left;\n",
       "    }\n",
       "\n",
       "    .dataframe tbody tr th {\n",
       "        vertical-align: top;\n",
       "    }\n",
       "</style>\n",
       "<table border=\"1\" class=\"dataframe\">\n",
       "  <thead>\n",
       "    <tr style=\"text-align: right;\">\n",
       "      <th>month</th>\n",
       "      <th>1</th>\n",
       "      <th>2</th>\n",
       "      <th>3</th>\n",
       "      <th>4</th>\n",
       "      <th>5</th>\n",
       "      <th>6</th>\n",
       "      <th>7</th>\n",
       "      <th>8</th>\n",
       "      <th>9</th>\n",
       "      <th>10</th>\n",
       "      <th>11</th>\n",
       "      <th>All</th>\n",
       "    </tr>\n",
       "  </thead>\n",
       "  <tbody>\n",
       "    <tr>\n",
       "      <th>non_failure</th>\n",
       "      <td>0.999041</td>\n",
       "      <td>0.999282</td>\n",
       "      <td>0.999546</td>\n",
       "      <td>0.999251</td>\n",
       "      <td>0.998147</td>\n",
       "      <td>0.999427</td>\n",
       "      <td>0.998481</td>\n",
       "      <td>0.999521</td>\n",
       "      <td>1.0</td>\n",
       "      <td>0.99898</td>\n",
       "      <td>1.0</td>\n",
       "      <td>0.999149</td>\n",
       "    </tr>\n",
       "    <tr>\n",
       "      <th>failure</th>\n",
       "      <td>0.000959</td>\n",
       "      <td>0.000718</td>\n",
       "      <td>0.000454</td>\n",
       "      <td>0.000749</td>\n",
       "      <td>0.001853</td>\n",
       "      <td>0.000573</td>\n",
       "      <td>0.001519</td>\n",
       "      <td>0.000479</td>\n",
       "      <td>0.0</td>\n",
       "      <td>0.00102</td>\n",
       "      <td>0.0</td>\n",
       "      <td>0.000851</td>\n",
       "    </tr>\n",
       "    <tr>\n",
       "      <th>month_total</th>\n",
       "      <td>1.000000</td>\n",
       "      <td>1.000000</td>\n",
       "      <td>1.000000</td>\n",
       "      <td>1.000000</td>\n",
       "      <td>1.000000</td>\n",
       "      <td>1.000000</td>\n",
       "      <td>1.000000</td>\n",
       "      <td>1.000000</td>\n",
       "      <td>1.0</td>\n",
       "      <td>1.00000</td>\n",
       "      <td>1.0</td>\n",
       "      <td>1.000000</td>\n",
       "    </tr>\n",
       "  </tbody>\n",
       "</table>\n",
       "</div>"
      ],
      "text/plain": [
       "month               1         2         3         4         5         6  \\\n",
       "non_failure  0.999041  0.999282  0.999546  0.999251  0.998147  0.999427   \n",
       "failure      0.000959  0.000718  0.000454  0.000749  0.001853  0.000573   \n",
       "month_total  1.000000  1.000000  1.000000  1.000000  1.000000  1.000000   \n",
       "\n",
       "month               7         8    9       10   11       All  \n",
       "non_failure  0.998481  0.999521  1.0  0.99898  1.0  0.999149  \n",
       "failure      0.001519  0.000479  0.0  0.00102  0.0  0.000851  \n",
       "month_total  1.000000  1.000000  1.0  1.00000  1.0  1.000000  "
      ]
     },
     "execution_count": 52,
     "metadata": {},
     "output_type": "execute_result"
    }
   ],
   "source": [
    "failure_month_pct = failure_month / failure_month.loc[\"month_total\"]\n",
    "failure_month_pct"
   ]
  },
  {
   "cell_type": "code",
   "execution_count": 53,
   "metadata": {},
   "outputs": [
    {
     "data": {
      "text/plain": [
       "Text(0.5,1,u'Percent Failed Devices by Month')"
      ]
     },
     "execution_count": 53,
     "metadata": {},
     "output_type": "execute_result"
    },
    {
     "data": {
      "image/png": "[encoded data removed]",
      "text/plain": [
       "<matplotlib.figure.Figure at 0x12e20e80>"
      ]
     },
     "metadata": {},
     "output_type": "display_data"
    }
   ],
   "source": [
    "# Plot the % failures/non-failures by month\n",
    "plt.figure(figsize = (15, 5))\n",
    "plt.plot(list(failure_month_pct.loc[\"failure\"]), linewidth = 0.8, color = \"#ff0000\")\n",
    "plt.xlabel(\"Months\")\n",
    "plt.ylabel(\"Percent device failure\")\n",
    "plt.title(\"Percent Failed Devices by Month\")"
   ]
  },
  {
   "cell_type": "code",
   "execution_count": 54,
   "metadata": {},
   "outputs": [
    {
     "data": {
      "text/plain": [
       "<matplotlib.axes._subplots.AxesSubplot at 0x1534cef0>"
      ]
     },
     "execution_count": 54,
     "metadata": {},
     "output_type": "execute_result"
    },
    {
     "data": {
      "image/png": "[encoded data removed]",
      "text/plain": [
       "<matplotlib.figure.Figure at 0x12ee0908>"
      ]
     },
     "metadata": {},
     "output_type": "display_data"
    }
   ],
   "source": [
    "# Plot the % failures/non-failures by day\n",
    "failure_day = pd.crosstab(index = device_data[\"date\"],\n",
    "                          columns = device_data[\"failure\"],\n",
    "                          margins = True)\n",
    "\n",
    "failure_day.columns = [\"non_failure\", \"failure\", \"total\"]\n",
    "\n",
    "failure_day[:-1].reset_index().plot(x = \"date\", y = \"failure\",\n",
    "                                    figsize = (15, 5),\n",
    "                                    title = \"Number of Failed Devices by Day\")"
   ]
  },
  {
   "cell_type": "code",
   "execution_count": 55,
   "metadata": {},
   "outputs": [
    {
     "name": "stdout",
     "output_type": "stream",
     "text": [
      "device_type\n",
      "S      0.000766\n",
      "W      0.000971\n",
      "Z      0.000834\n",
      "All    0.000851\n",
      "dtype: float64\n"
     ]
    },
    {
     "data": {
      "text/html": [
       "<div>\n",
       "<style>\n",
       "    .dataframe thead tr:only-child th {\n",
       "        text-align: right;\n",
       "    }\n",
       "\n",
       "    .dataframe thead th {\n",
       "        text-align: left;\n",
       "    }\n",
       "\n",
       "    .dataframe tbody tr th {\n",
       "        vertical-align: top;\n",
       "    }\n",
       "</style>\n",
       "<table border=\"1\" class=\"dataframe\">\n",
       "  <thead>\n",
       "    <tr style=\"text-align: right;\">\n",
       "      <th></th>\n",
       "      <th>non_failure</th>\n",
       "      <th>failure</th>\n",
       "      <th>total</th>\n",
       "    </tr>\n",
       "    <tr>\n",
       "      <th>device_type</th>\n",
       "      <th></th>\n",
       "      <th></th>\n",
       "      <th></th>\n",
       "    </tr>\n",
       "  </thead>\n",
       "  <tbody>\n",
       "    <tr>\n",
       "      <th>S</th>\n",
       "      <td>54816</td>\n",
       "      <td>42</td>\n",
       "      <td>54858</td>\n",
       "    </tr>\n",
       "    <tr>\n",
       "      <th>W</th>\n",
       "      <td>43226</td>\n",
       "      <td>42</td>\n",
       "      <td>43268</td>\n",
       "    </tr>\n",
       "    <tr>\n",
       "      <th>Z</th>\n",
       "      <td>26346</td>\n",
       "      <td>22</td>\n",
       "      <td>26368</td>\n",
       "    </tr>\n",
       "    <tr>\n",
       "      <th>All</th>\n",
       "      <td>124388</td>\n",
       "      <td>106</td>\n",
       "      <td>124494</td>\n",
       "    </tr>\n",
       "  </tbody>\n",
       "</table>\n",
       "</div>"
      ],
      "text/plain": [
       "             non_failure  failure   total\n",
       "device_type                              \n",
       "S                  54816       42   54858\n",
       "W                  43226       42   43268\n",
       "Z                  26346       22   26368\n",
       "All               124388      106  124494"
      ]
     },
     "execution_count": 55,
     "metadata": {},
     "output_type": "execute_result"
    }
   ],
   "source": [
    "# Distribution of failure/non-failure by device type - are there specific devices that tend to fail more than others?\n",
    "failure_device = pd.crosstab(index = device_data[\"device_type\"],\n",
    "                             columns = device_data[\"failure\"],\n",
    "                             margins = True)\n",
    "failure_device.columns = [\"non_failure\", \"failure\", \"total\"]\n",
    "\n",
    "print (failure_device[\"failure\"] / failure_device[\"total\"])\n",
    "failure_device"
   ]
  },
  {
   "cell_type": "code",
   "execution_count": 56,
   "metadata": {},
   "outputs": [
    {
     "data": {
      "text/html": [
       "<div>\n",
       "<style>\n",
       "    .dataframe thead tr:only-child th {\n",
       "        text-align: right;\n",
       "    }\n",
       "\n",
       "    .dataframe thead th {\n",
       "        text-align: left;\n",
       "    }\n",
       "\n",
       "    .dataframe tbody tr th {\n",
       "        vertical-align: top;\n",
       "    }\n",
       "</style>\n",
       "<table border=\"1\" class=\"dataframe\">\n",
       "  <thead>\n",
       "    <tr style=\"text-align: right;\">\n",
       "      <th>failure</th>\n",
       "      <th>0</th>\n",
       "      <th>1</th>\n",
       "      <th>All</th>\n",
       "    </tr>\n",
       "    <tr>\n",
       "      <th>day_of_week</th>\n",
       "      <th></th>\n",
       "      <th></th>\n",
       "      <th></th>\n",
       "    </tr>\n",
       "  </thead>\n",
       "  <tbody>\n",
       "    <tr>\n",
       "      <th>0</th>\n",
       "      <td>17859</td>\n",
       "      <td>27</td>\n",
       "      <td>17886</td>\n",
       "    </tr>\n",
       "    <tr>\n",
       "      <th>1</th>\n",
       "      <td>17516</td>\n",
       "      <td>18</td>\n",
       "      <td>17534</td>\n",
       "    </tr>\n",
       "    <tr>\n",
       "      <th>2</th>\n",
       "      <td>17121</td>\n",
       "      <td>15</td>\n",
       "      <td>17136</td>\n",
       "    </tr>\n",
       "    <tr>\n",
       "      <th>3</th>\n",
       "      <td>18119</td>\n",
       "      <td>22</td>\n",
       "      <td>18141</td>\n",
       "    </tr>\n",
       "    <tr>\n",
       "      <th>4</th>\n",
       "      <td>18029</td>\n",
       "      <td>12</td>\n",
       "      <td>18041</td>\n",
       "    </tr>\n",
       "    <tr>\n",
       "      <th>5</th>\n",
       "      <td>17889</td>\n",
       "      <td>8</td>\n",
       "      <td>17897</td>\n",
       "    </tr>\n",
       "    <tr>\n",
       "      <th>6</th>\n",
       "      <td>17855</td>\n",
       "      <td>4</td>\n",
       "      <td>17859</td>\n",
       "    </tr>\n",
       "    <tr>\n",
       "      <th>All</th>\n",
       "      <td>124388</td>\n",
       "      <td>106</td>\n",
       "      <td>124494</td>\n",
       "    </tr>\n",
       "  </tbody>\n",
       "</table>\n",
       "</div>"
      ],
      "text/plain": [
       "failure           0    1     All\n",
       "day_of_week                     \n",
       "0             17859   27   17886\n",
       "1             17516   18   17534\n",
       "2             17121   15   17136\n",
       "3             18119   22   18141\n",
       "4             18029   12   18041\n",
       "5             17889    8   17897\n",
       "6             17855    4   17859\n",
       "All          124388  106  124494"
      ]
     },
     "execution_count": 56,
     "metadata": {},
     "output_type": "execute_result"
    }
   ],
   "source": [
    "# Are there particular days of the week when a higher percent of devices fail?\n",
    "failure_day_week = pd.crosstab(index = device_data[\"day_of_week\"],\n",
    "                               columns = device_data[\"failure\"],\n",
    "                               margins = True)\n",
    "failure_day_week"
   ]
  },
  {
   "cell_type": "code",
   "execution_count": 57,
   "metadata": {
    "collapsed": true
   },
   "outputs": [],
   "source": [
    "# Prepare the data for the models\n",
    "# Drop variables which will not be useful in the models\n",
    "drop_from_analysis = [\"date\", \"device\", \"year\", \"month\", \"device_type\"]\n",
    "analysis_set = device_data.drop(drop_from_analysis, axis = 1)"
   ]
  },
  {
   "cell_type": "code",
   "execution_count": null,
   "metadata": {
    "collapsed": true
   },
   "outputs": [],
   "source": []
  },
  {
   "cell_type": "markdown",
   "metadata": {},
   "source": [
    "### Plan for 01/02/2018\n",
    "1. Create a sample\n",
    "    * Sample with replacement from the x_train sample\n",
    "    * Use \"class_weight = balanced\" for the models that have that function\n",
    "    * Use a sample weight - how am I going to deal with models that don't have the ability to incorporated a weight\n",
    "2. Try scaling all the data before sampling and see if this improves the results\n",
    "3. Create transformed variables\n",
    "    * Square\n",
    "    * Square root\n",
    "4. Update the models\n",
    "    * XGboost\n",
    "        * Modify model parameters\n",
    "        * How to control for the sample imbalance?\n",
    "    * SVM\n",
    "        * Need to rescale the full dataset and draw the training and validation samples from it\n",
    "        * Figure out what all the parameters are\n",
    "\n",
    "#### 5. Fix the ROC curve - it doesn't properly show the AUC !!"
   ]
  },
  {
   "cell_type": "code",
   "execution_count": null,
   "metadata": {
    "collapsed": true
   },
   "outputs": [],
   "source": []
  },
  {
   "cell_type": "code",
   "execution_count": 58,
   "metadata": {
    "collapsed": true
   },
   "outputs": [],
   "source": [
    "# Scale the features and sample from the scaled features\n",
    "keep_columns = [\"attribute1\", \"attribute2\", \"attribute3\", \"attribute4\", \"attribute5\", \"attribute6\", \"attribute7\", \"attribute9\"]\n",
    "\n",
    "scaler = MinMaxScaler()\n",
    "analysis_set_scaled = pd.DataFrame(scaler.fit_transform(analysis_set[keep_columns]),\n",
    "                                   columns = [(x + \"_s\") for x in keep_columns])\n",
    "\n",
    "analysis_set = pd.concat([analysis_set, analysis_set_scaled], axis = 1, join_axes=[analysis_set.index])"
   ]
  },
  {
   "cell_type": "code",
   "execution_count": 59,
   "metadata": {},
   "outputs": [
    {
     "data": {
      "text/html": [
       "<div>\n",
       "<style>\n",
       "    .dataframe thead tr:only-child th {\n",
       "        text-align: right;\n",
       "    }\n",
       "\n",
       "    .dataframe thead th {\n",
       "        text-align: left;\n",
       "    }\n",
       "\n",
       "    .dataframe tbody tr th {\n",
       "        vertical-align: top;\n",
       "    }\n",
       "</style>\n",
       "<table border=\"1\" class=\"dataframe\">\n",
       "  <thead>\n",
       "    <tr style=\"text-align: right;\">\n",
       "      <th></th>\n",
       "      <th>failure</th>\n",
       "      <th>attribute1_dummy</th>\n",
       "      <th>attribute2_dummy</th>\n",
       "      <th>attribute3_dummy</th>\n",
       "      <th>attribute4_dummy</th>\n",
       "      <th>attribute7_dummy</th>\n",
       "      <th>attribute9_dummy</th>\n",
       "      <th>day_of_week</th>\n",
       "      <th>device_type_s</th>\n",
       "      <th>device_type_w</th>\n",
       "      <th>device_type_z</th>\n",
       "      <th>attribute1_s</th>\n",
       "      <th>attribute2_s</th>\n",
       "      <th>attribute3_s</th>\n",
       "      <th>attribute4_s</th>\n",
       "      <th>attribute5_s</th>\n",
       "      <th>attribute6_s</th>\n",
       "      <th>attribute7_s</th>\n",
       "      <th>attribute9_s</th>\n",
       "    </tr>\n",
       "  </thead>\n",
       "  <tbody>\n",
       "    <tr>\n",
       "      <th>0</th>\n",
       "      <td>0</td>\n",
       "      <td>1</td>\n",
       "      <td>1</td>\n",
       "      <td>0</td>\n",
       "      <td>1</td>\n",
       "      <td>0</td>\n",
       "      <td>1</td>\n",
       "      <td>3</td>\n",
       "      <td>1</td>\n",
       "      <td>0</td>\n",
       "      <td>0</td>\n",
       "      <td>0.883224</td>\n",
       "      <td>0.000862</td>\n",
       "      <td>0.00000</td>\n",
       "      <td>0.031212</td>\n",
       "      <td>0.051546</td>\n",
       "      <td>0.591204</td>\n",
       "      <td>0.0</td>\n",
       "      <td>0.000374</td>\n",
       "    </tr>\n",
       "    <tr>\n",
       "      <th>1</th>\n",
       "      <td>0</td>\n",
       "      <td>1</td>\n",
       "      <td>0</td>\n",
       "      <td>1</td>\n",
       "      <td>0</td>\n",
       "      <td>0</td>\n",
       "      <td>0</td>\n",
       "      <td>3</td>\n",
       "      <td>1</td>\n",
       "      <td>0</td>\n",
       "      <td>0</td>\n",
       "      <td>0.251374</td>\n",
       "      <td>0.000000</td>\n",
       "      <td>0.00012</td>\n",
       "      <td>0.000000</td>\n",
       "      <td>0.051546</td>\n",
       "      <td>0.585017</td>\n",
       "      <td>0.0</td>\n",
       "      <td>0.000000</td>\n",
       "    </tr>\n",
       "    <tr>\n",
       "      <th>2</th>\n",
       "      <td>0</td>\n",
       "      <td>1</td>\n",
       "      <td>0</td>\n",
       "      <td>0</td>\n",
       "      <td>0</td>\n",
       "      <td>0</td>\n",
       "      <td>0</td>\n",
       "      <td>3</td>\n",
       "      <td>1</td>\n",
       "      <td>0</td>\n",
       "      <td>0</td>\n",
       "      <td>0.709821</td>\n",
       "      <td>0.000000</td>\n",
       "      <td>0.00000</td>\n",
       "      <td>0.000000</td>\n",
       "      <td>0.113402</td>\n",
       "      <td>0.344461</td>\n",
       "      <td>0.0</td>\n",
       "      <td>0.000000</td>\n",
       "    </tr>\n",
       "    <tr>\n",
       "      <th>3</th>\n",
       "      <td>0</td>\n",
       "      <td>1</td>\n",
       "      <td>0</td>\n",
       "      <td>0</td>\n",
       "      <td>0</td>\n",
       "      <td>0</td>\n",
       "      <td>0</td>\n",
       "      <td>3</td>\n",
       "      <td>1</td>\n",
       "      <td>0</td>\n",
       "      <td>0</td>\n",
       "      <td>0.326427</td>\n",
       "      <td>0.000000</td>\n",
       "      <td>0.00000</td>\n",
       "      <td>0.000000</td>\n",
       "      <td>0.051546</td>\n",
       "      <td>0.595191</td>\n",
       "      <td>0.0</td>\n",
       "      <td>0.000000</td>\n",
       "    </tr>\n",
       "    <tr>\n",
       "      <th>4</th>\n",
       "      <td>0</td>\n",
       "      <td>1</td>\n",
       "      <td>0</td>\n",
       "      <td>0</td>\n",
       "      <td>0</td>\n",
       "      <td>0</td>\n",
       "      <td>1</td>\n",
       "      <td>3</td>\n",
       "      <td>1</td>\n",
       "      <td>0</td>\n",
       "      <td>0</td>\n",
       "      <td>0.556935</td>\n",
       "      <td>0.000000</td>\n",
       "      <td>0.00000</td>\n",
       "      <td>0.000000</td>\n",
       "      <td>0.144330</td>\n",
       "      <td>0.454420</td>\n",
       "      <td>0.0</td>\n",
       "      <td>0.000160</td>\n",
       "    </tr>\n",
       "  </tbody>\n",
       "</table>\n",
       "</div>"
      ],
      "text/plain": [
       "   failure  attribute1_dummy  attribute2_dummy  attribute3_dummy  \\\n",
       "0        0                 1                 1                 0   \n",
       "1        0                 1                 0                 1   \n",
       "2        0                 1                 0                 0   \n",
       "3        0                 1                 0                 0   \n",
       "4        0                 1                 0                 0   \n",
       "\n",
       "   attribute4_dummy  attribute7_dummy  attribute9_dummy  day_of_week  \\\n",
       "0                 1                 0                 1            3   \n",
       "1                 0                 0                 0            3   \n",
       "2                 0                 0                 0            3   \n",
       "3                 0                 0                 0            3   \n",
       "4                 0                 0                 1            3   \n",
       "\n",
       "   device_type_s  device_type_w  device_type_z  attribute1_s  attribute2_s  \\\n",
       "0              1              0              0      0.883224      0.000862   \n",
       "1              1              0              0      0.251374      0.000000   \n",
       "2              1              0              0      0.709821      0.000000   \n",
       "3              1              0              0      0.326427      0.000000   \n",
       "4              1              0              0      0.556935      0.000000   \n",
       "\n",
       "   attribute3_s  attribute4_s  attribute5_s  attribute6_s  attribute7_s  \\\n",
       "0       0.00000      0.031212      0.051546      0.591204           0.0   \n",
       "1       0.00012      0.000000      0.051546      0.585017           0.0   \n",
       "2       0.00000      0.000000      0.113402      0.344461           0.0   \n",
       "3       0.00000      0.000000      0.051546      0.595191           0.0   \n",
       "4       0.00000      0.000000      0.144330      0.454420           0.0   \n",
       "\n",
       "   attribute9_s  \n",
       "0      0.000374  \n",
       "1      0.000000  \n",
       "2      0.000000  \n",
       "3      0.000000  \n",
       "4      0.000160  "
      ]
     },
     "execution_count": 59,
     "metadata": {},
     "output_type": "execute_result"
    }
   ],
   "source": [
    "drop_columns = [\"attribute1\", \"attribute2\", \"attribute3\", \"attribute4\", \"attribute5\", \"attribute6\", \"attribute7\", \"attribute9\"]\n",
    "analysis_set = analysis_set.drop(drop_columns, axis = 1)\n",
    "analysis_set.head()"
   ]
  },
  {
   "cell_type": "markdown",
   "metadata": {},
   "source": [
    "#### Sampling\n",
    "Next, we need to create training and validation datasets to use in modeling. It is very important that when we create training and validation datasets, the rate of failure in those datasets remains the same as in the full set. If it's not the same as in the original dataset, our accuracy stats on the developed model will be wrong and cannot be trusted.\n",
    "<p>\n",
    "My initial plan for creating train and validation datasets was to use train_test_split() from sklearn. However, I was suspicious that with such a low rate of failure in the input dataset (0.000851), the train_test_split() function will not properly sample the data, and the resulting rates will be different.\n",
    "<p>\n",
    "I created samples with train_test_split(), and re-ran the sampling a couple of times, and in one of the draws, the training ended up having a failure rate which was about 1.5 times higher than in the original, or the validation sets.\n",
    "<p>\n",
    "Therefore, I implemented a controled sampling from the original set.\n",
    "<p>\n",
    "After the sampling, the datasets are split into X and Y sets to use in the models."
   ]
  },
  {
   "cell_type": "code",
   "execution_count": 60,
   "metadata": {},
   "outputs": [
    {
     "name": "stdout",
     "output_type": "stream",
     "text": [
      "Rate of failures in the original set is 0.0008522 \n",
      "Rate of failures in training is 0.0008499\n",
      "Rate of failures in validation is 0.0008575\n"
     ]
    }
   ],
   "source": [
    "# Split the data into training and validation - 70% training and 30% validation\n",
    "# There are so few failure cases that using the train_test_split function from scikit-learn to split the dataset creates sets with different rates of failure\n",
    "# Therefore, I decided to implement a controled sampling, the results of which produce training and validation sets with failure rates the same as in the original set\n",
    "\n",
    "sample_size = .7\n",
    "_failure = analysis_set[analysis_set[\"failure\"] == 1]\n",
    "_non_failure = analysis_set[analysis_set[\"failure\"] == 0]\n",
    "\n",
    "# Create the training sample - 70% of observations\n",
    "_failure_t = _failure.sample(frac = sample_size,\n",
    "                             replace = False,\n",
    "                             weights = None,\n",
    "                             random_state = 7894)\n",
    "\n",
    "_non_failure_t = _non_failure.sample(frac = sample_size,\n",
    "                                     replace = False,\n",
    "                                     weights = None,\n",
    "                                     random_state = 7894)\n",
    "\n",
    "training_set = pd.concat([_failure_t, _non_failure_t])\n",
    "\n",
    "\n",
    "# Create the validaton sample - drop the rows that were sampled for the training sets - 30% of observations\n",
    "_failure_v = _failure.drop(_failure_t.index.tolist())\n",
    "_non_failure_v = _non_failure.drop(_non_failure_t.index.tolist())\n",
    "\n",
    "validation_set = pd.concat([_failure_v, _non_failure_v])\n",
    "\n",
    "\n",
    "# Check if the % failure and non-failure remains the same in the training and validation as in the original dataset\n",
    "_orig_f = Decimal(len(analysis_set[analysis_set[\"failure\"] == 1])) / len(analysis_set[analysis_set[\"failure\"] == 0])\n",
    "print (\"Rate of failures in the original set is %0.7f \" % _orig_f)\n",
    "\n",
    "_train_f = Decimal(len(training_set[training_set[\"failure\"] == 1])) / len(training_set[training_set[\"failure\"] == 0])\n",
    "print \"Rate of failures in training is %0.7f\" % _train_f\n",
    "\n",
    "_validate_f = Decimal(len(validation_set[validation_set[\"failure\"] == 1])) / len(validation_set[validation_set[\"failure\"] == 0])\n",
    "print \"Rate of failures in validation is %0.7f\" % _validate_f\n"
   ]
  },
  {
   "cell_type": "markdown",
   "metadata": {},
   "source": [
    "The failure rates are approximately the same in the training and validation sets, and the next step is to create the X and Y sets for the models."
   ]
  },
  {
   "cell_type": "code",
   "execution_count": 61,
   "metadata": {
    "collapsed": true
   },
   "outputs": [],
   "source": [
    "# Create the X and Y sets for the models\n",
    "x_train = training_set.drop(\"failure\", axis = 1)\n",
    "x_validate = validation_set.drop(\"failure\", axis = 1)\n",
    "y_train = training_set[\"failure\"]\n",
    "y_validate = validation_set[\"failure\"]"
   ]
  },
  {
   "cell_type": "code",
   "execution_count": null,
   "metadata": {
    "collapsed": true
   },
   "outputs": [],
   "source": []
  },
  {
   "cell_type": "code",
   "execution_count": null,
   "metadata": {
    "collapsed": true
   },
   "outputs": [],
   "source": []
  },
  {
   "cell_type": "code",
   "execution_count": null,
   "metadata": {
    "collapsed": true
   },
   "outputs": [],
   "source": []
  },
  {
   "cell_type": "code",
   "execution_count": null,
   "metadata": {
    "collapsed": true
   },
   "outputs": [],
   "source": []
  },
  {
   "cell_type": "markdown",
   "metadata": {},
   "source": [
    "#### Variable selection\n",
    "The next step in the model development process is to find the features that are most predictive for the outcome. I'll use recursive feature elimination and XGboost for finding the features that are important."
   ]
  },
  {
   "cell_type": "code",
   "execution_count": 62,
   "metadata": {},
   "outputs": [
    {
     "data": {
      "text/plain": [
       "[('attribute1_dummy', True, 1),\n",
       " ('attribute2_dummy', True, 1),\n",
       " ('attribute3_dummy', False, 7),\n",
       " ('attribute4_dummy', True, 1),\n",
       " ('attribute7_dummy', True, 1),\n",
       " ('attribute9_dummy', False, 6),\n",
       " ('day_of_week', False, 4),\n",
       " ('device_type_s', True, 1),\n",
       " ('device_type_w', True, 1),\n",
       " ('device_type_z', True, 1),\n",
       " ('attribute1_s', False, 10),\n",
       " ('attribute2_s', False, 3),\n",
       " ('attribute3_s', False, 9),\n",
       " ('attribute4_s', True, 1),\n",
       " ('attribute5_s', False, 2),\n",
       " ('attribute6_s', False, 5),\n",
       " ('attribute7_s', True, 1),\n",
       " ('attribute9_s', False, 8)]"
      ]
     },
     "execution_count": 62,
     "metadata": {},
     "output_type": "execute_result"
    }
   ],
   "source": [
    "# 1) Variable selection with Recursive Feature Elimination\n",
    "vs_rfe = RFE(LogisticRegression())\n",
    "vs_rfe.fit(x_train, y_train)\n",
    "list(zip(x_train.columns, vs_rfe.support_, vs_rfe.ranking_))"
   ]
  },
  {
   "cell_type": "markdown",
   "metadata": {},
   "source": [
    "It appears that the recursive feature elimination suggests that we don't use in the model any of the dummies, except for the dummy for attribute1, and we shouldn't use the indicator for the type of device (_s, _w, _z)."
   ]
  },
  {
   "cell_type": "code",
   "execution_count": 64,
   "metadata": {},
   "outputs": [
    {
     "data": {
      "image/png": "[encoded data removed]",
      "text/plain": [
       "<matplotlib.figure.Figure at 0x12ada668>"
      ]
     },
     "metadata": {},
     "output_type": "display_data"
    }
   ],
   "source": [
    "# 2) Variable selection using the feature importance from Random Forest\n",
    "# At this step Random Forest is used only as a feature selection method. I'll obtain the feature importance from RF\n",
    "# At a later stage, I'll also use Random Forest as a classification model\n",
    "vs_model_rf = RandomForestClassifier(n_estimators = 500,        # From prior experience I've noticed that a few hundred trees are usually enough for small datasets\n",
    "                                     random_state = 0,\n",
    "                                     max_depth = 3,             # We don't have much observations, so that's why I set max tree depth to 2\n",
    "                                     class_weight = \"balanced\") # parameter to adjust for the imbalanced dataset\n",
    "vs_model_rf.fit(x_train, y_train)\n",
    "\n",
    "# Plot the feature importance values\n",
    "def plotFeatureImportance(model):\n",
    "    plt.figure(figsize = (8, 7))\n",
    "    num_features = len(list(x_train.columns))\n",
    "    plt.barh(range(num_features), model.feature_importances_)\n",
    "    plt.yticks(np.arange(num_features), list(x_train.columns))\n",
    "    plt.xlabel(\"Variables importance\")\n",
    "    plt.ylabel(\"Variables names\")\n",
    "    \n",
    "plotFeatureImportance(vs_model_rf)"
   ]
  },
  {
   "cell_type": "code",
   "execution_count": null,
   "metadata": {
    "collapsed": true
   },
   "outputs": [],
   "source": []
  },
  {
   "cell_type": "code",
   "execution_count": 65,
   "metadata": {},
   "outputs": [
    {
     "data": {
      "image/svg+xml": [
       "<?xml version=\"1.0\" encoding=\"UTF-8\" standalone=\"no\"?>\r\n",
       "<!DOCTYPE svg PUBLIC \"-//W3C//DTD SVG 1.1//EN\"\r\n",
       " \"http://www.w3.org/Graphics/SVG/1.1/DTD/svg11.dtd\">\r\n",
       "<!-- Generated by graphviz version 2.38.0 (20140413.2041)\r\n",
       " -->\r\n",
       "<!-- Title: Tree Pages: 1 -->\r\n",
       "<svg width=\"1122pt\" height=\"373pt\"\r\n",
       " viewBox=\"0.00 0.00 1122.00 373.00\" xmlns=\"http://www.w3.org/2000/svg\" xmlns:xlink=\"http://www.w3.org/1999/xlink\">\r\n",
       "<g id=\"graph0\" class=\"graph\" transform=\"scale(1 1) rotate(0) translate(4 369)\">\r\n",
       "<title>Tree</title>\r\n",
       "<polygon fill=\"white\" stroke=\"none\" points=\"-4,4 -4,-369 1118,-369 1118,4 -4,4\"/>\r\n",
       "<!-- 0 -->\r\n",
       "<g id=\"node1\" class=\"node\"><title>0</title>\r\n",
       "<path fill=\"#e58139\" stroke=\"black\" d=\"M628.5,-365C628.5,-365 509.5,-365 509.5,-365 503.5,-365 497.5,-359 497.5,-353 497.5,-353 497.5,-309 497.5,-309 497.5,-303 503.5,-297 509.5,-297 509.5,-297 628.5,-297 628.5,-297 634.5,-297 640.5,-303 640.5,-309 640.5,-309 640.5,-353 640.5,-353 640.5,-359 634.5,-365 628.5,-365\"/>\r\n",
       "<text text-anchor=\"start\" x=\"505.5\" y=\"-349.8\" font-family=\"Helvetica,sans-Serif\" font-size=\"14.00\">attribute4_s ≤ 0.004</text>\r\n",
       "<text text-anchor=\"start\" x=\"523\" y=\"-334.8\" font-family=\"Helvetica,sans-Serif\" font-size=\"14.00\">entropy = 0.01</text>\r\n",
       "<text text-anchor=\"start\" x=\"513\" y=\"-319.8\" font-family=\"Helvetica,sans-Serif\" font-size=\"14.00\">samples = 87146</text>\r\n",
       "<text text-anchor=\"start\" x=\"508\" y=\"-304.8\" font-family=\"Helvetica,sans-Serif\" font-size=\"14.00\">value = [87072, 74]</text>\r\n",
       "</g>\r\n",
       "<!-- 1 -->\r\n",
       "<g id=\"node2\" class=\"node\"><title>1</title>\r\n",
       "<path fill=\"#e58139\" stroke=\"black\" d=\"M523.5,-261C523.5,-261 404.5,-261 404.5,-261 398.5,-261 392.5,-255 392.5,-249 392.5,-249 392.5,-205 392.5,-205 392.5,-199 398.5,-193 404.5,-193 404.5,-193 523.5,-193 523.5,-193 529.5,-193 535.5,-199 535.5,-205 535.5,-205 535.5,-249 535.5,-249 535.5,-255 529.5,-261 523.5,-261\"/>\r\n",
       "<text text-anchor=\"start\" x=\"400.5\" y=\"-245.8\" font-family=\"Helvetica,sans-Serif\" font-size=\"14.00\">attribute7_s ≤ 0.008</text>\r\n",
       "<text text-anchor=\"start\" x=\"414\" y=\"-230.8\" font-family=\"Helvetica,sans-Serif\" font-size=\"14.00\">entropy = 0.006</text>\r\n",
       "<text text-anchor=\"start\" x=\"408\" y=\"-215.8\" font-family=\"Helvetica,sans-Serif\" font-size=\"14.00\">samples = 85057</text>\r\n",
       "<text text-anchor=\"start\" x=\"403\" y=\"-200.8\" font-family=\"Helvetica,sans-Serif\" font-size=\"14.00\">value = [85014, 43]</text>\r\n",
       "</g>\r\n",
       "<!-- 0&#45;&gt;1 -->\r\n",
       "<g id=\"edge1\" class=\"edge\"><title>0&#45;&gt;1</title>\r\n",
       "<path fill=\"none\" stroke=\"black\" d=\"M534.91,-296.884C525.557,-287.798 515.312,-277.845 505.589,-268.4\"/>\r\n",
       "<polygon fill=\"black\" stroke=\"black\" points=\"507.89,-265.757 498.279,-261.299 503.013,-270.778 507.89,-265.757\"/>\r\n",
       "<text text-anchor=\"middle\" x=\"498.641\" y=\"-282.597\" font-family=\"Helvetica,sans-Serif\" font-size=\"14.00\">True</text>\r\n",
       "</g>\r\n",
       "<!-- 8 -->\r\n",
       "<g id=\"node9\" class=\"node\"><title>8</title>\r\n",
       "<path fill=\"#e58139\" fill-opacity=\"0.984314\" stroke=\"black\" d=\"M733.5,-261C733.5,-261 614.5,-261 614.5,-261 608.5,-261 602.5,-255 602.5,-249 602.5,-249 602.5,-205 602.5,-205 602.5,-199 608.5,-193 614.5,-193 614.5,-193 733.5,-193 733.5,-193 739.5,-193 745.5,-199 745.5,-205 745.5,-205 745.5,-249 745.5,-249 745.5,-255 739.5,-261 733.5,-261\"/>\r\n",
       "<text text-anchor=\"start\" x=\"610.5\" y=\"-245.8\" font-family=\"Helvetica,sans-Serif\" font-size=\"14.00\">attribute7_s ≤ 0.024</text>\r\n",
       "<text text-anchor=\"start\" x=\"624\" y=\"-230.8\" font-family=\"Helvetica,sans-Serif\" font-size=\"14.00\">entropy = 0.111</text>\r\n",
       "<text text-anchor=\"start\" x=\"622.5\" y=\"-215.8\" font-family=\"Helvetica,sans-Serif\" font-size=\"14.00\">samples = 2089</text>\r\n",
       "<text text-anchor=\"start\" x=\"617\" y=\"-200.8\" font-family=\"Helvetica,sans-Serif\" font-size=\"14.00\">value = [2058, 31]</text>\r\n",
       "</g>\r\n",
       "<!-- 0&#45;&gt;8 -->\r\n",
       "<g id=\"edge8\" class=\"edge\"><title>0&#45;&gt;8</title>\r\n",
       "<path fill=\"none\" stroke=\"black\" d=\"M603.09,-296.884C612.443,-287.798 622.688,-277.845 632.411,-268.4\"/>\r\n",
       "<polygon fill=\"black\" stroke=\"black\" points=\"634.987,-270.778 639.721,-261.299 630.11,-265.757 634.987,-270.778\"/>\r\n",
       "<text text-anchor=\"middle\" x=\"639.359\" y=\"-282.597\" font-family=\"Helvetica,sans-Serif\" font-size=\"14.00\">False</text>\r\n",
       "</g>\r\n",
       "<!-- 2 -->\r\n",
       "<g id=\"node3\" class=\"node\"><title>2</title>\r\n",
       "<path fill=\"#e58139\" stroke=\"black\" d=\"M278,-157C278,-157 164,-157 164,-157 158,-157 152,-151 152,-145 152,-145 152,-101 152,-101 152,-95 158,-89 164,-89 164,-89 278,-89 278,-89 284,-89 290,-95 290,-101 290,-101 290,-145 290,-145 290,-151 284,-157 278,-157\"/>\r\n",
       "<text text-anchor=\"start\" x=\"166\" y=\"-141.8\" font-family=\"Helvetica,sans-Serif\" font-size=\"14.00\">attribute2_s ≤ 0.0</text>\r\n",
       "<text text-anchor=\"start\" x=\"171\" y=\"-126.8\" font-family=\"Helvetica,sans-Serif\" font-size=\"14.00\">entropy = 0.005</text>\r\n",
       "<text text-anchor=\"start\" x=\"165\" y=\"-111.8\" font-family=\"Helvetica,sans-Serif\" font-size=\"14.00\">samples = 84330</text>\r\n",
       "<text text-anchor=\"start\" x=\"160\" y=\"-96.8\" font-family=\"Helvetica,sans-Serif\" font-size=\"14.00\">value = [84298, 32]</text>\r\n",
       "</g>\r\n",
       "<!-- 1&#45;&gt;2 -->\r\n",
       "<g id=\"edge2\" class=\"edge\"><title>1&#45;&gt;2</title>\r\n",
       "<path fill=\"none\" stroke=\"black\" d=\"M392.406,-195.948C363.351,-183.752 329.688,-169.622 299.926,-157.129\"/>\r\n",
       "<polygon fill=\"black\" stroke=\"black\" points=\"300.986,-153.778 290.41,-153.135 298.276,-160.233 300.986,-153.778\"/>\r\n",
       "</g>\r\n",
       "<!-- 5 -->\r\n",
       "<g id=\"node6\" class=\"node\"><title>5</title>\r\n",
       "<path fill=\"#e58139\" fill-opacity=\"0.984314\" stroke=\"black\" d=\"M520.5,-157C520.5,-157 407.5,-157 407.5,-157 401.5,-157 395.5,-151 395.5,-145 395.5,-145 395.5,-101 395.5,-101 395.5,-95 401.5,-89 407.5,-89 407.5,-89 520.5,-89 520.5,-89 526.5,-89 532.5,-95 532.5,-101 532.5,-101 532.5,-145 532.5,-145 532.5,-151 526.5,-157 520.5,-157\"/>\r\n",
       "<text text-anchor=\"start\" x=\"403.5\" y=\"-141.8\" font-family=\"Helvetica,sans-Serif\" font-size=\"14.00\">day_of_week ≤ 4.5</text>\r\n",
       "<text text-anchor=\"start\" x=\"414\" y=\"-126.8\" font-family=\"Helvetica,sans-Serif\" font-size=\"14.00\">entropy = 0.113</text>\r\n",
       "<text text-anchor=\"start\" x=\"416.5\" y=\"-111.8\" font-family=\"Helvetica,sans-Serif\" font-size=\"14.00\">samples = 727</text>\r\n",
       "<text text-anchor=\"start\" x=\"411\" y=\"-96.8\" font-family=\"Helvetica,sans-Serif\" font-size=\"14.00\">value = [716, 11]</text>\r\n",
       "</g>\r\n",
       "<!-- 1&#45;&gt;5 -->\r\n",
       "<g id=\"edge5\" class=\"edge\"><title>1&#45;&gt;5</title>\r\n",
       "<path fill=\"none\" stroke=\"black\" d=\"M464,-192.884C464,-184.778 464,-175.982 464,-167.472\"/>\r\n",
       "<polygon fill=\"black\" stroke=\"black\" points=\"467.5,-167.299 464,-157.299 460.5,-167.299 467.5,-167.299\"/>\r\n",
       "</g>\r\n",
       "<!-- 3 -->\r\n",
       "<g id=\"node4\" class=\"node\"><title>3</title>\r\n",
       "<path fill=\"#e58139\" stroke=\"black\" d=\"M126,-53C126,-53 12,-53 12,-53 6,-53 0,-47 0,-41 0,-41 0,-12 0,-12 0,-6 6,-0 12,-0 12,-0 126,-0 126,-0 132,-0 138,-6 138,-12 138,-12 138,-41 138,-41 138,-47 132,-53 126,-53\"/>\r\n",
       "<text text-anchor=\"start\" x=\"19\" y=\"-37.8\" font-family=\"Helvetica,sans-Serif\" font-size=\"14.00\">entropy = 0.004</text>\r\n",
       "<text text-anchor=\"start\" x=\"13\" y=\"-22.8\" font-family=\"Helvetica,sans-Serif\" font-size=\"14.00\">samples = 80880</text>\r\n",
       "<text text-anchor=\"start\" x=\"8\" y=\"-7.8\" font-family=\"Helvetica,sans-Serif\" font-size=\"14.00\">value = [80858, 22]</text>\r\n",
       "</g>\r\n",
       "<!-- 2&#45;&gt;3 -->\r\n",
       "<g id=\"edge3\" class=\"edge\"><title>2&#45;&gt;3</title>\r\n",
       "<path fill=\"none\" stroke=\"black\" d=\"M167.838,-88.9485C151.946,-79.0686 134.586,-68.2758 118.911,-58.5305\"/>\r\n",
       "<polygon fill=\"black\" stroke=\"black\" points=\"120.737,-55.5443 110.397,-53.2367 117.041,-61.489 120.737,-55.5443\"/>\r\n",
       "</g>\r\n",
       "<!-- 4 -->\r\n",
       "<g id=\"node5\" class=\"node\"><title>4</title>\r\n",
       "<path fill=\"#e58139\" fill-opacity=\"0.996078\" stroke=\"black\" d=\"M274,-53C274,-53 168,-53 168,-53 162,-53 156,-47 156,-41 156,-41 156,-12 156,-12 156,-6 162,-0 168,-0 168,-0 274,-0 274,-0 280,-0 286,-6 286,-12 286,-12 286,-41 286,-41 286,-47 280,-53 274,-53\"/>\r\n",
       "<text text-anchor=\"start\" x=\"171\" y=\"-37.8\" font-family=\"Helvetica,sans-Serif\" font-size=\"14.00\">entropy = 0.029</text>\r\n",
       "<text text-anchor=\"start\" x=\"169.5\" y=\"-22.8\" font-family=\"Helvetica,sans-Serif\" font-size=\"14.00\">samples = 3450</text>\r\n",
       "<text text-anchor=\"start\" x=\"164\" y=\"-7.8\" font-family=\"Helvetica,sans-Serif\" font-size=\"14.00\">value = [3440, 10]</text>\r\n",
       "</g>\r\n",
       "<!-- 2&#45;&gt;4 -->\r\n",
       "<g id=\"edge4\" class=\"edge\"><title>2&#45;&gt;4</title>\r\n",
       "<path fill=\"none\" stroke=\"black\" d=\"M221,-88.9485C221,-80.7153 221,-71.848 221,-63.4814\"/>\r\n",
       "<polygon fill=\"black\" stroke=\"black\" points=\"224.5,-63.2367 221,-53.2367 217.5,-63.2367 224.5,-63.2367\"/>\r\n",
       "</g>\r\n",
       "<!-- 6 -->\r\n",
       "<g id=\"node7\" class=\"node\"><title>6</title>\r\n",
       "<path fill=\"#e58139\" fill-opacity=\"0.980392\" stroke=\"black\" d=\"M414,-53C414,-53 316,-53 316,-53 310,-53 304,-47 304,-41 304,-41 304,-12 304,-12 304,-6 310,-0 316,-0 316,-0 414,-0 414,-0 420,-0 426,-6 426,-12 426,-12 426,-41 426,-41 426,-47 420,-53 414,-53\"/>\r\n",
       "<text text-anchor=\"start\" x=\"315\" y=\"-37.8\" font-family=\"Helvetica,sans-Serif\" font-size=\"14.00\">entropy = 0.145</text>\r\n",
       "<text text-anchor=\"start\" x=\"317.5\" y=\"-22.8\" font-family=\"Helvetica,sans-Serif\" font-size=\"14.00\">samples = 533</text>\r\n",
       "<text text-anchor=\"start\" x=\"312\" y=\"-7.8\" font-family=\"Helvetica,sans-Serif\" font-size=\"14.00\">value = [522, 11]</text>\r\n",
       "</g>\r\n",
       "<!-- 5&#45;&gt;6 -->\r\n",
       "<g id=\"edge6\" class=\"edge\"><title>5&#45;&gt;6</title>\r\n",
       "<path fill=\"none\" stroke=\"black\" d=\"M429.375,-88.9485C419.599,-79.6175 408.971,-69.4722 399.22,-60.1641\"/>\r\n",
       "<polygon fill=\"black\" stroke=\"black\" points=\"401.613,-57.6097 391.962,-53.2367 396.779,-62.6732 401.613,-57.6097\"/>\r\n",
       "</g>\r\n",
       "<!-- 7 -->\r\n",
       "<g id=\"node8\" class=\"node\"><title>7</title>\r\n",
       "<path fill=\"#e58139\" stroke=\"black\" d=\"M545.5,-53C545.5,-53 456.5,-53 456.5,-53 450.5,-53 444.5,-47 444.5,-41 444.5,-41 444.5,-12 444.5,-12 444.5,-6 450.5,-0 456.5,-0 456.5,-0 545.5,-0 545.5,-0 551.5,-0 557.5,-6 557.5,-12 557.5,-12 557.5,-41 557.5,-41 557.5,-47 551.5,-53 545.5,-53\"/>\r\n",
       "<text text-anchor=\"start\" x=\"459\" y=\"-37.8\" font-family=\"Helvetica,sans-Serif\" font-size=\"14.00\">entropy = 0.0</text>\r\n",
       "<text text-anchor=\"start\" x=\"453.5\" y=\"-22.8\" font-family=\"Helvetica,sans-Serif\" font-size=\"14.00\">samples = 194</text>\r\n",
       "<text text-anchor=\"start\" x=\"452.5\" y=\"-7.8\" font-family=\"Helvetica,sans-Serif\" font-size=\"14.00\">value = [194, 0]</text>\r\n",
       "</g>\r\n",
       "<!-- 5&#45;&gt;7 -->\r\n",
       "<g id=\"edge7\" class=\"edge\"><title>5&#45;&gt;7</title>\r\n",
       "<path fill=\"none\" stroke=\"black\" d=\"M476.941,-88.9485C480.272,-80.4408 483.868,-71.2562 487.239,-62.6464\"/>\r\n",
       "<polygon fill=\"black\" stroke=\"black\" points=\"490.536,-63.8245 490.923,-53.2367 484.018,-61.2723 490.536,-63.8245\"/>\r\n",
       "</g>\r\n",
       "<!-- 9 -->\r\n",
       "<g id=\"node10\" class=\"node\"><title>9</title>\r\n",
       "<path fill=\"#e58139\" fill-opacity=\"0.988235\" stroke=\"black\" d=\"M730.5,-157C730.5,-157 617.5,-157 617.5,-157 611.5,-157 605.5,-151 605.5,-145 605.5,-145 605.5,-101 605.5,-101 605.5,-95 611.5,-89 617.5,-89 617.5,-89 730.5,-89 730.5,-89 736.5,-89 742.5,-95 742.5,-101 742.5,-101 742.5,-145 742.5,-145 742.5,-151 736.5,-157 730.5,-157\"/>\r\n",
       "<text text-anchor=\"start\" x=\"613.5\" y=\"-141.8\" font-family=\"Helvetica,sans-Serif\" font-size=\"14.00\">day_of_week ≤ 0.5</text>\r\n",
       "<text text-anchor=\"start\" x=\"624\" y=\"-126.8\" font-family=\"Helvetica,sans-Serif\" font-size=\"14.00\">entropy = 0.092</text>\r\n",
       "<text text-anchor=\"start\" x=\"622.5\" y=\"-111.8\" font-family=\"Helvetica,sans-Serif\" font-size=\"14.00\">samples = 2050</text>\r\n",
       "<text text-anchor=\"start\" x=\"617\" y=\"-96.8\" font-family=\"Helvetica,sans-Serif\" font-size=\"14.00\">value = [2026, 24]</text>\r\n",
       "</g>\r\n",
       "<!-- 8&#45;&gt;9 -->\r\n",
       "<g id=\"edge9\" class=\"edge\"><title>8&#45;&gt;9</title>\r\n",
       "<path fill=\"none\" stroke=\"black\" d=\"M674,-192.884C674,-184.778 674,-175.982 674,-167.472\"/>\r\n",
       "<polygon fill=\"black\" stroke=\"black\" points=\"677.5,-167.299 674,-157.299 670.5,-167.299 677.5,-167.299\"/>\r\n",
       "</g>\r\n",
       "<!-- 12 -->\r\n",
       "<g id=\"node13\" class=\"node\"><title>12</title>\r\n",
       "<path fill=\"#e58139\" fill-opacity=\"0.780392\" stroke=\"black\" d=\"M978.5,-157C978.5,-157 865.5,-157 865.5,-157 859.5,-157 853.5,-151 853.5,-145 853.5,-145 853.5,-101 853.5,-101 853.5,-95 859.5,-89 865.5,-89 865.5,-89 978.5,-89 978.5,-89 984.5,-89 990.5,-95 990.5,-101 990.5,-101 990.5,-145 990.5,-145 990.5,-151 984.5,-157 978.5,-157\"/>\r\n",
       "<text text-anchor=\"start\" x=\"861.5\" y=\"-141.8\" font-family=\"Helvetica,sans-Serif\" font-size=\"14.00\">day_of_week ≤ 1.5</text>\r\n",
       "<text text-anchor=\"start\" x=\"872\" y=\"-126.8\" font-family=\"Helvetica,sans-Serif\" font-size=\"14.00\">entropy = 0.679</text>\r\n",
       "<text text-anchor=\"start\" x=\"878.5\" y=\"-111.8\" font-family=\"Helvetica,sans-Serif\" font-size=\"14.00\">samples = 39</text>\r\n",
       "<text text-anchor=\"start\" x=\"877.5\" y=\"-96.8\" font-family=\"Helvetica,sans-Serif\" font-size=\"14.00\">value = [32, 7]</text>\r\n",
       "</g>\r\n",
       "<!-- 8&#45;&gt;12 -->\r\n",
       "<g id=\"edge12\" class=\"edge\"><title>8&#45;&gt;12</title>\r\n",
       "<path fill=\"none\" stroke=\"black\" d=\"M745.732,-196.497C776.457,-183.86 812.423,-169.068 843.826,-156.152\"/>\r\n",
       "<polygon fill=\"black\" stroke=\"black\" points=\"845.498,-159.249 853.415,-152.209 842.835,-152.775 845.498,-159.249\"/>\r\n",
       "</g>\r\n",
       "<!-- 10 -->\r\n",
       "<g id=\"node11\" class=\"node\"><title>10</title>\r\n",
       "<path fill=\"#e58139\" fill-opacity=\"0.964706\" stroke=\"black\" d=\"M686,-53C686,-53 588,-53 588,-53 582,-53 576,-47 576,-41 576,-41 576,-12 576,-12 576,-6 582,-0 588,-0 588,-0 686,-0 686,-0 692,-0 698,-6 698,-12 698,-12 698,-41 698,-41 698,-47 692,-53 686,-53\"/>\r\n",
       "<text text-anchor=\"start\" x=\"587\" y=\"-37.8\" font-family=\"Helvetica,sans-Serif\" font-size=\"14.00\">entropy = 0.207</text>\r\n",
       "<text text-anchor=\"start\" x=\"589.5\" y=\"-22.8\" font-family=\"Helvetica,sans-Serif\" font-size=\"14.00\">samples = 307</text>\r\n",
       "<text text-anchor=\"start\" x=\"584\" y=\"-7.8\" font-family=\"Helvetica,sans-Serif\" font-size=\"14.00\">value = [297, 10]</text>\r\n",
       "</g>\r\n",
       "<!-- 9&#45;&gt;10 -->\r\n",
       "<g id=\"edge10\" class=\"edge\"><title>9&#45;&gt;10</title>\r\n",
       "<path fill=\"none\" stroke=\"black\" d=\"M661.059,-88.9485C657.728,-80.4408 654.132,-71.2562 650.761,-62.6464\"/>\r\n",
       "<polygon fill=\"black\" stroke=\"black\" points=\"653.982,-61.2723 647.077,-53.2367 647.464,-63.8245 653.982,-61.2723\"/>\r\n",
       "</g>\r\n",
       "<!-- 11 -->\r\n",
       "<g id=\"node12\" class=\"node\"><title>11</title>\r\n",
       "<path fill=\"#e58139\" fill-opacity=\"0.992157\" stroke=\"black\" d=\"M834,-53C834,-53 728,-53 728,-53 722,-53 716,-47 716,-41 716,-41 716,-12 716,-12 716,-6 722,-0 728,-0 728,-0 834,-0 834,-0 840,-0 846,-6 846,-12 846,-12 846,-41 846,-41 846,-47 840,-53 834,-53\"/>\r\n",
       "<text text-anchor=\"start\" x=\"731\" y=\"-37.8\" font-family=\"Helvetica,sans-Serif\" font-size=\"14.00\">entropy = 0.067</text>\r\n",
       "<text text-anchor=\"start\" x=\"729.5\" y=\"-22.8\" font-family=\"Helvetica,sans-Serif\" font-size=\"14.00\">samples = 1743</text>\r\n",
       "<text text-anchor=\"start\" x=\"724\" y=\"-7.8\" font-family=\"Helvetica,sans-Serif\" font-size=\"14.00\">value = [1729, 14]</text>\r\n",
       "</g>\r\n",
       "<!-- 9&#45;&gt;11 -->\r\n",
       "<g id=\"edge11\" class=\"edge\"><title>9&#45;&gt;11</title>\r\n",
       "<path fill=\"none\" stroke=\"black\" d=\"M711.423,-88.9485C722.092,-79.526 733.701,-69.2731 744.325,-59.8906\"/>\r\n",
       "<polygon fill=\"black\" stroke=\"black\" points=\"746.681,-62.4798 751.859,-53.2367 742.047,-57.2331 746.681,-62.4798\"/>\r\n",
       "</g>\r\n",
       "<!-- 13 -->\r\n",
       "<g id=\"node14\" class=\"node\"><title>13</title>\r\n",
       "<path fill=\"#e58139\" fill-opacity=\"0.400000\" stroke=\"black\" d=\"M968,-53C968,-53 876,-53 876,-53 870,-53 864,-47 864,-41 864,-41 864,-12 864,-12 864,-6 870,-0 876,-0 876,-0 968,-0 968,-0 974,-0 980,-6 980,-12 980,-12 980,-41 980,-41 980,-47 974,-53 968,-53\"/>\r\n",
       "<text text-anchor=\"start\" x=\"872\" y=\"-37.8\" font-family=\"Helvetica,sans-Serif\" font-size=\"14.00\">entropy = 0.954</text>\r\n",
       "<text text-anchor=\"start\" x=\"878.5\" y=\"-22.8\" font-family=\"Helvetica,sans-Serif\" font-size=\"14.00\">samples = 16</text>\r\n",
       "<text text-anchor=\"start\" x=\"877.5\" y=\"-7.8\" font-family=\"Helvetica,sans-Serif\" font-size=\"14.00\">value = [10, 6]</text>\r\n",
       "</g>\r\n",
       "<!-- 12&#45;&gt;13 -->\r\n",
       "<g id=\"edge13\" class=\"edge\"><title>12&#45;&gt;13</title>\r\n",
       "<path fill=\"none\" stroke=\"black\" d=\"M922,-88.9485C922,-80.7153 922,-71.848 922,-63.4814\"/>\r\n",
       "<polygon fill=\"black\" stroke=\"black\" points=\"925.5,-63.2367 922,-53.2367 918.5,-63.2367 925.5,-63.2367\"/>\r\n",
       "</g>\r\n",
       "<!-- 14 -->\r\n",
       "<g id=\"node15\" class=\"node\"><title>14</title>\r\n",
       "<path fill=\"#e58139\" fill-opacity=\"0.952941\" stroke=\"black\" d=\"M1102,-53C1102,-53 1010,-53 1010,-53 1004,-53 998,-47 998,-41 998,-41 998,-12 998,-12 998,-6 1004,-0 1010,-0 1010,-0 1102,-0 1102,-0 1108,-0 1114,-6 1114,-12 1114,-12 1114,-41 1114,-41 1114,-47 1108,-53 1102,-53\"/>\r\n",
       "<text text-anchor=\"start\" x=\"1006\" y=\"-37.8\" font-family=\"Helvetica,sans-Serif\" font-size=\"14.00\">entropy = 0.258</text>\r\n",
       "<text text-anchor=\"start\" x=\"1012.5\" y=\"-22.8\" font-family=\"Helvetica,sans-Serif\" font-size=\"14.00\">samples = 23</text>\r\n",
       "<text text-anchor=\"start\" x=\"1011.5\" y=\"-7.8\" font-family=\"Helvetica,sans-Serif\" font-size=\"14.00\">value = [22, 1]</text>\r\n",
       "</g>\r\n",
       "<!-- 12&#45;&gt;14 -->\r\n",
       "<g id=\"edge14\" class=\"edge\"><title>12&#45;&gt;14</title>\r\n",
       "<path fill=\"none\" stroke=\"black\" d=\"M968.867,-88.9485C982.617,-79.2516 997.614,-68.6752 1011.23,-59.073\"/>\r\n",
       "<polygon fill=\"black\" stroke=\"black\" points=\"1013.35,-61.8603 1019.51,-53.2367 1009.32,-56.1397 1013.35,-61.8603\"/>\r\n",
       "</g>\r\n",
       "</g>\r\n",
       "</svg>\r\n"
      ],
      "text/plain": [
       "<graphviz.files.Source at 0x12ef3828>"
      ]
     },
     "execution_count": 65,
     "metadata": {},
     "output_type": "execute_result"
    }
   ],
   "source": [
    "# 3) Finally, I'll build a decision tree to understand if there are any features from which we need to create categories\n",
    "# Specify the decision tree model and fit\n",
    "vs_model_dt = DecisionTreeClassifier(criterion = \"entropy\",\n",
    "                                     random_state = 99,\n",
    "                                     max_depth = 3,\n",
    "                                     min_samples_split = 20)\n",
    "vs_model_dt.fit(x_train, y_train)\n",
    "\n",
    "# Visualize the decision tree\n",
    "# Export the data from the decision tree as a DOT object\n",
    "dt_viz = export_graphviz(vs_model_dt,\n",
    "                         out_file = None,\n",
    "                         feature_names = list(x_train),\n",
    "                         filled = True, rounded = True,\n",
    "                         special_characters = True)\n",
    "\n",
    "# Plot the tree and explore which features split the tree\n",
    "graphviz.Source(dt_viz)"
   ]
  },
  {
   "cell_type": "code",
   "execution_count": null,
   "metadata": {
    "collapsed": true
   },
   "outputs": [],
   "source": []
  },
  {
   "cell_type": "markdown",
   "metadata": {},
   "source": [
    "#### Modify the list of variables based on the variable selection analysis\n",
    "\n",
    "## MAKE SURE TO MODIFY THE FINAL LIST after feature selection - based on RFE, RF and DT!!!!\n"
   ]
  },
  {
   "cell_type": "code",
   "execution_count": 66,
   "metadata": {
    "collapsed": true
   },
   "outputs": [],
   "source": [
    "drop_vars = [\"attribute1_dummy\", \"attribute3_dummy\", \"attribute9_dummy\", \"day_of_week\", \"attribute1_s\",\n",
    "             \"attribute3_s\", \"attribute4_s\", \"attribute5_s\", \"attribute6_s\", \"attribute9_s\",   \n",
    "             \"device_type_s\", \"device_type_w\", \"device_type_z\"]\n",
    "\n",
    "x_train = x_train.drop(drop_vars, axis = 1)\n",
    "x_validate = x_validate.drop(drop_vars, axis = 1)"
   ]
  },
  {
   "cell_type": "code",
   "execution_count": null,
   "metadata": {
    "collapsed": true
   },
   "outputs": [],
   "source": []
  },
  {
   "cell_type": "code",
   "execution_count": 67,
   "metadata": {},
   "outputs": [
    {
     "name": "stdout",
     "output_type": "stream",
     "text": [
      "Print stats for method: Logistic regression\n",
      "\n",
      "The number of False Negative in the validation set is 5 \n",
      "The number of False Positive in the validation set is 4290 \n",
      "\n",
      "Accuracy on training set is 0.88624\n",
      "Recall (tp/(tp+fn)) of training set is 0.77027\n",
      "\n",
      "Accuracy on validation set is 0.88500\n",
      "Recall (tp/(tp+fn)) of validation set is 0.84375\n"
     ]
    }
   ],
   "source": [
    "# 1) Logistic regression\n",
    "# This is the easiest method for developing binary classification models\n",
    "# We'll use the logistic regression as a benchmark for all other methods\n",
    "\n",
    "model_lr = LogisticRegression(C = 1.0,\n",
    "                              penalty = \"l2\",\n",
    "                              class_weight = \"balanced\")   # parameter to adjust for the imbalanced dataset\n",
    "model_lr.fit(x_train, y_train)\n",
    "\n",
    "\"\"\"\n",
    "class_weight : dict or ‘balanced’, default: None\n",
    "\n",
    "Weights associated with classes in the form {class_label: weight}. If not given, all classes are supposed to have\n",
    "weight one. The “balanced” mode uses the values of y to automatically adjust weights inversely proportional to\n",
    "class frequencies in the input data as n_samples / (n_classes * np.bincount(y))\n",
    "\"\"\"\n",
    "\n",
    "# Predict on training set and check the accuracy\n",
    "pred_model_lr = model_lr.predict(x_train)\n",
    "\n",
    "modelAccuracyStats(model_lr, \"Logistic regression\", x_train, y_train, x_validate, y_validate)"
   ]
  },
  {
   "cell_type": "code",
   "execution_count": null,
   "metadata": {
    "collapsed": true
   },
   "outputs": [],
   "source": []
  },
  {
   "cell_type": "code",
   "execution_count": 68,
   "metadata": {},
   "outputs": [
    {
     "name": "stdout",
     "output_type": "stream",
     "text": [
      "Print stats for method: Random Forest\n",
      "\n",
      "The number of False Negative in the validation set is 5 \n",
      "The number of False Positive in the validation set is 4225 \n",
      "\n",
      "Accuracy on training set is 0.88790\n",
      "Recall (tp/(tp+fn)) of training set is 0.77027\n",
      "\n",
      "Accuracy on validation set is 0.88674\n",
      "Recall (tp/(tp+fn)) of validation set is 0.84375\n"
     ]
    }
   ],
   "source": [
    "# 2) Random Forest classifier\n",
    "# Define a random forest model and fit\n",
    "model_rf = RandomForestClassifier(n_estimators = 500,\n",
    "                                  random_state = 0,\n",
    "                                  verbose = 0,\n",
    "                                  max_depth = 2,\n",
    "                                  class_weight = \"balanced\") # parameter to adjust for the imbalanced dataset\n",
    "model_rf.fit(x_train, y_train)\n",
    "\n",
    "modelAccuracyStats(model_rf, \"Random Forest\", x_train, y_train, x_validate, y_validate)"
   ]
  },
  {
   "cell_type": "code",
   "execution_count": null,
   "metadata": {
    "collapsed": true
   },
   "outputs": [],
   "source": []
  },
  {
   "cell_type": "code",
   "execution_count": 208,
   "metadata": {
    "collapsed": true
   },
   "outputs": [],
   "source": [
    "# 3) Support vector machine\n",
    "# SVM expects that all features have similar mean and stddev. Rescale the features before feeding the data to the model\n",
    "# IMPORTANT - the rescaling needs to be done with the complete dataset, from which we'll pull training and validation samples\n"
   ]
  },
  {
   "cell_type": "code",
   "execution_count": 186,
   "metadata": {},
   "outputs": [
    {
     "name": "stdout",
     "output_type": "stream",
     "text": [
      "The rate of failures in the original set is 0.0008514466560637460439860555529\n",
      "The rate of failures in the training set is 0.0008376843192380515233231969706\n",
      "The rate of failures in the validation set is 0.0008835577927119869340544592894\n"
     ]
    }
   ],
   "source": [
    "# Sampling\n",
    "x_train_s, x_validate_s, y_train_s, y_validate_s = train_test_split(analysis_set,\n",
    "                                                                    analysis_set[\"failure\"],\n",
    "                                                                    train_size = .7)\n",
    "\n",
    "# Test if the % failure and non-failure remains the same in the new datasets as in the original dataset\n",
    "print (\"The rate of failures in the original set is \" + str(Decimal(float(analysis_set[\"failure\"].value_counts()[1])) / sum(analysis_set[\"failure\"].value_counts())))\n",
    "print (\"The rate of failures in the training set is \" + str(Decimal(float(y_train_s.value_counts()[1])) / sum(y_train_s.value_counts())))\n",
    "print (\"The rate of failures in the validation set is \" + str(Decimal(float(y_validate_s.value_counts()[1])) / sum(y_validate_s.value_counts())))\n"
   ]
  },
  {
   "cell_type": "code",
   "execution_count": null,
   "metadata": {
    "collapsed": true
   },
   "outputs": [],
   "source": [
    "model_svm = svm.SVC(C = 1.0,\n",
    "                    degree = 3,\n",
    "                    class_weight = \"balanced\",\n",
    "                    probability = True)\n",
    "model_svm.fit(x_train_s, y_train_s,\n",
    "              sample_weight = None)\n",
    "\n",
    "modelAccuracyStats(model_svm, \"SVM\", x_train_s, y_train_s, x_validate_s, y_validate_s)"
   ]
  },
  {
   "cell_type": "code",
   "execution_count": null,
   "metadata": {
    "collapsed": true
   },
   "outputs": [],
   "source": []
  },
  {
   "cell_type": "code",
   "execution_count": 451,
   "metadata": {},
   "outputs": [
    {
     "name": "stdout",
     "output_type": "stream",
     "text": [
      "Print stats for method: XGBoost\n",
      "\n",
      "The number of False Negative in the validation set is 31 \n",
      "The number of False Positive in the validation set is 1 \n",
      "\n",
      "Accuracy on training set is 0.99920\n",
      "Recall (tp/(tp+fn)) of training set is 0.05405\n",
      "\n",
      "Accuracy on validation set is 0.99914\n",
      "Recall (tp/(tp+fn)) of validation set is 0.03125\n"
     ]
    }
   ],
   "source": [
    "# 4) Gradient boosting with XGboost\n",
    "model_xgb = xgb.XGBClassifier()\n",
    "model_xgb.fit(x_train_s, y_train_s,\n",
    "              sample_weight = None) # This option can be used if I implement sampling to control the imbalanced dataset\n",
    "\n",
    "modelAccuracyStats(model_xgb, \"XGBoost\", x_train_s, y_train_s, x_validate_s, y_validate_s)"
   ]
  },
  {
   "cell_type": "code",
   "execution_count": null,
   "metadata": {
    "collapsed": true
   },
   "outputs": [],
   "source": []
  },
  {
   "cell_type": "markdown",
   "metadata": {},
   "source": [
    "#### Models evaluation\n",
    "The models evaluation is done using the Receiver Operating Characteristics (ROC) curve"
   ]
  },
  {
   "cell_type": "code",
   "execution_count": 69,
   "metadata": {
    "collapsed": true
   },
   "outputs": [],
   "source": [
    "# 1) Use the ROC curve to evaluate accuracy of each model\n",
    "# Obtain the parameters needed for each ROC curve for each model\n",
    "y_pred_lr = model_lr.predict_proba(x_validate)[::,1]\n",
    "roc_lr = roc_auc_score(y_validate, y_pred_lr)\n",
    "fpr_lr, tpr_lr, thresholds_lr = roc_curve(y_validate, y_pred_lr)\n",
    "\n",
    "y_pred_rf = model_rf.predict_proba(x_validate)[::,1]\n",
    "roc_rf = roc_auc_score(y_validate, y_pred_rf)\n",
    "fpr_rf, tpr_rf, thresholds_rf = roc_curve(y_validate, y_pred_rf)\n",
    "\n",
    "#y_pred_svm = model_svm.predict_proba(x_validate_s)[::,1]\n",
    "#roc_svm = roc_auc_score(y_validate_s, y_pred_svm)\n",
    "#fpr_svm, tpr_svm, thresholds_svm = roc_curve(y_validate_s, y_pred_svm)\n",
    "\n",
    "#y_pred_xgb = model_xgb.predict_proba(x_validate_s)[::,1]\n",
    "#roc_xgb = roc_auc_score(y_validate_s, y_pred_xgb)\n",
    "#fpr_xgb, tpr_xgb, thresholds_xgb = roc_curve(y_validate_s, y_pred_xgb)\n"
   ]
  },
  {
   "cell_type": "code",
   "execution_count": 70,
   "metadata": {},
   "outputs": [
    {
     "data": {
      "text/plain": [
       "<matplotlib.legend.Legend at 0x14dd7e10>"
      ]
     },
     "execution_count": 70,
     "metadata": {},
     "output_type": "execute_result"
    },
    {
     "data": {
      "image/png": "[encoded data removed]",
      "text/plain": [
       "<matplotlib.figure.Figure at 0x22aeaba8>"
      ]
     },
     "metadata": {},
     "output_type": "display_data"
    }
   ],
   "source": [
    "# Plot the ROC curve\n",
    "plt.figure(figsize = (10, 7))\n",
    "plt.plot(fpr_lr, tpr_lr, label = \"Logistic Regression (AUC = %0.2f)\" % roc_lr)\n",
    "plt.plot(fpr_rf, tpr_rf, label = \"Random Forest (AUC = %0.2f)\" % roc_rf)\n",
    "#plt.plot(fpr_svm, tpr_svm, label = \"SVM (AUC = %0.2f)\" % roc_svm)\n",
    "#plt.plot(fpr_xgb, tpr_xgb, label = \"XGBoost (AUC = %0.2f)\" % roc_xgb)\n",
    "\n",
    "plt.plot([0, 1], [0, 1], \"r--\")\n",
    "plt.xlim([0.0, 1])\n",
    "plt.ylim([0.0, 1])\n",
    "plt.xlabel(\"False Positive\")\n",
    "plt.ylabel(\"True Positive\")\n",
    "plt.title(\"ROC curve\")\n",
    "plt.legend(loc = \"lower right\")\n"
   ]
  },
  {
   "cell_type": "code",
   "execution_count": null,
   "metadata": {
    "collapsed": true
   },
   "outputs": [],
   "source": []
  },
  {
   "cell_type": "code",
   "execution_count": 31,
   "metadata": {},
   "outputs": [
    {
     "data": {
      "text/html": [
       "<div>\n",
       "<style>\n",
       "    .dataframe thead tr:only-child th {\n",
       "        text-align: right;\n",
       "    }\n",
       "\n",
       "    .dataframe thead th {\n",
       "        text-align: left;\n",
       "    }\n",
       "\n",
       "    .dataframe tbody tr th {\n",
       "        vertical-align: top;\n",
       "    }\n",
       "</style>\n",
       "<table border=\"1\" class=\"dataframe\">\n",
       "  <thead>\n",
       "    <tr style=\"text-align: right;\">\n",
       "      <th></th>\n",
       "      <th>True Negative</th>\n",
       "      <th>False Positive</th>\n",
       "      <th>False Negative</th>\n",
       "      <th>True Positive</th>\n",
       "    </tr>\n",
       "  </thead>\n",
       "  <tbody>\n",
       "    <tr>\n",
       "      <th>Logistic Regression</th>\n",
       "      <td>34924</td>\n",
       "      <td>2392</td>\n",
       "      <td>8</td>\n",
       "      <td>24</td>\n",
       "    </tr>\n",
       "    <tr>\n",
       "      <th>Random Forest</th>\n",
       "      <td>33367</td>\n",
       "      <td>3949</td>\n",
       "      <td>5</td>\n",
       "      <td>27</td>\n",
       "    </tr>\n",
       "  </tbody>\n",
       "</table>\n",
       "</div>"
      ],
      "text/plain": [
       "                     True Negative  False Positive  False Negative  \\\n",
       "Logistic Regression          34924            2392               8   \n",
       "Random Forest                33367            3949               5   \n",
       "\n",
       "                     True Positive  \n",
       "Logistic Regression             24  \n",
       "Random Forest                   27  "
      ]
     },
     "execution_count": 31,
     "metadata": {},
     "output_type": "execute_result"
    }
   ],
   "source": [
    "# 2) Create a table that prints out the confusion matrices for each model\n",
    "from sklearn.metrics import confusion_matrix\n",
    "\n",
    "cm_df = np.stack((confusionMatrix(model_lr, x_validate, y_validate),\n",
    "                  confusionMatrix(model_rf, x_validate, y_validate)))\n",
    "                  #confusionMatrix(model_svm, x_validate_s, y_validate_s)\n",
    "                  #confusionMatrix(model_xgb, x_validate_s, y_validate_s)))\n",
    "\n",
    "cm_df = pd.DataFrame(cm_df,\n",
    "                     index = [\"Logistic Regression\", \"Random Forest\"], #, \"SVM\", \"XGBoost\"],\n",
    "                     columns = [\"True Negative\", \"False Positive\", \"False Negative\", \"True Positive\"])\n",
    "cm_df"
   ]
  },
  {
   "cell_type": "code",
   "execution_count": null,
   "metadata": {
    "collapsed": true
   },
   "outputs": [],
   "source": []
  },
  {
   "cell_type": "code",
   "execution_count": null,
   "metadata": {
    "collapsed": true
   },
   "outputs": [],
   "source": []
  },
  {
   "cell_type": "code",
   "execution_count": null,
   "metadata": {
    "collapsed": true
   },
   "outputs": [],
   "source": []
  },
  {
   "cell_type": "code",
   "execution_count": null,
   "metadata": {
    "collapsed": true
   },
   "outputs": [],
   "source": []
  },
  {
   "cell_type": "code",
   "execution_count": null,
   "metadata": {
    "collapsed": true
   },
   "outputs": [],
   "source": [
    "training_features, test_features, \\\n",
    "training_target, test_target, = train_test_split(loans_relevant_enconded.drop(['bad_loans'], axis=1),\n",
    "                                               loans_relevant_enconded['bad_loans'],\n",
    "                                               test_size = .1,\n",
    "                                               random_state=12)\n",
    "\n",
    "x_train, x_val, y_train, y_val = train_test_split(training_features, training_target,\n",
    "                                                  test_size = .1,\n",
    "                                                  random_state=12)\n",
    "                                                 \n",
    "sm = SMOTE(random_state=12, ratio = 1.0)\n",
    "x_train_res, y_train_res = sm.fit_sample(x_train, y_train)\n",
    "\n",
    "clf_rf = RandomForestClassifier(n_estimators=25, random_state=12)\n",
    "clf_rf.fit(x_train_res, y_train_res)"
   ]
  },
  {
   "cell_type": "code",
   "execution_count": null,
   "metadata": {
    "collapsed": true
   },
   "outputs": [],
   "source": [
    "# Check what values the model predicts\n",
    "pred_train_model_rf = model_rf.predict(x_train)\n",
    "pred_validate_model_rf = model_rf.predict(x_validate)\n",
    "\n",
    "print(np.unique(pred_train_model_rf))\n",
    "print(np.unique(pred_validate_model_rf))\n"
   ]
  },
  {
   "cell_type": "code",
   "execution_count": null,
   "metadata": {
    "collapsed": true
   },
   "outputs": [],
   "source": [
    "# THIS IS NOT A PROPER SAMPLING!!!\n",
    "# IF TIME PERMITS IMPLEMENT THE SAMPLING PROCESS I STARTED BELOW\n",
    "\n",
    "# For now just re-run this sampling until I get training and validation sets with failure rates similar to the original data\n",
    "\n",
    "x_train, x_validate, y_train, y_validate = train_test_split(analysis_set.drop([\"failure\"], axis = 1),\n",
    "                                                            analysis_set[\"failure\"],\n",
    "                                                            train_size = .7)\n",
    "\n",
    "# Test if the % failure and non-failure remains the same in the new datasets as in the original dataset\n",
    "print (\"The rate of failures in the original set is \" + str(Decimal(float(analysis_set[\"failure\"].value_counts()[1])) / sum(analysis_set[\"failure\"].value_counts())))\n",
    "print (\"The rate of failures in the training set is \" + str(Decimal(float(y_train.value_counts()[1])) / sum(y_train.value_counts())))\n",
    "print (\"The rate of failures in the validation set is \" + str(Decimal(float(y_validate.value_counts()[1])) / sum(y_validate.value_counts())))\n",
    "\n",
    "#The rate of failures in the original set is 0.0008514466560637460439860555529\n",
    "#The rate of failures in the training set is 0.001071007818357074006640248474\n",
    "#The rate of failures in the validation set is 0.0007573497349275927753425286301"
   ]
  },
  {
   "cell_type": "code",
   "execution_count": null,
   "metadata": {
    "collapsed": true
   },
   "outputs": [],
   "source": [
    "# Sampling\n",
    "x_train_s, x_validate_s, y_train_s, y_validate_s = train_test_split(analysis_set,\n",
    "                                                                    analysis_set[\"failure\"],\n",
    "                                                                    train_size = .7)\n",
    "\n",
    "# Test if the % failure and non-failure remains the same in the new datasets as in the original dataset\n",
    "print (\"The rate of failures in the original set is \" + str(Decimal(float(analysis_set[\"failure\"].value_counts()[1])) / sum(analysis_set[\"failure\"].value_counts())))\n",
    "print (\"The rate of failures in the training set is \" + str(Decimal(float(y_train_s.value_counts()[1])) / sum(y_train_s.value_counts())))\n",
    "print (\"The rate of failures in the validation set is \" + str(Decimal(float(y_validate_s.value_counts()[1])) / sum(y_validate_s.value_counts())))\n"
   ]
  }
 ],
 "metadata": {
  "kernelspec": {
   "display_name": "Python 2",
   "language": "python",
   "name": "python2"
  },
  "language_info": {
   "codemirror_mode": {
    "name": "ipython",
    "version": 2
   },
   "file_extension": ".py",
   "mimetype": "text/x-python",
   "name": "python",
   "nbconvert_exporter": "python",
   "pygments_lexer": "ipython2",
   "version": "2.7.13"
  }
 },
 "nbformat": 4,
 "nbformat_minor": 2
}
