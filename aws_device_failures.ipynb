{
 "cells": [
  {
   "cell_type": "markdown",
   "metadata": {},
   "source": [
    "### IMPORTANT TO DOs - remove from the submission to AWS\n",
    "\n",
    "<p>\n",
    "__!!!_ADD A SIDEBAR TO THE NOTEBOOK_!!!__\n",
    "<br>\n",
    "https://github.com/ipython-contrib/jupyter_contrib_nbextensions\n",
    "<p>\n",
    "#### Refactor the code. Create functions for plotting, dummy variables creation, crosstabulation, etc.\n",
    "\n"
   ]
  },
  {
   "cell_type": "markdown",
   "metadata": {},
   "source": [
    "### Reduce maintenance cost through predictive techniques\n",
    "___Valentin Todorov (January 2018)___\n",
    "\n",
    "#### Background\n",
    "Company (3D Technologies) has a fleet of devices transmitting daily aggregated telemetry\n",
    "attributes.\n",
    "\n",
    "Predictive maintenance techniques are designed to help determine the condition of in-service\n",
    "equipment in order to predict when maintenance should be performed. This approach\n",
    "promises cost savings over routine or time-based preventive maintenance, because tasks are\n",
    "performed only when warranted.\n",
    "\n",
    "#### Goal:\n",
    "You are tasked with building a predictive model using machine learning to predict the\n",
    "probability of a device failure. When building this model, be sure to minimize false positives and\n",
    "false negatives. The column you are trying to predict is called failure with binary value 0 for\n",
    "non-failure and 1 for failure.\n",
    "\n",
    "#### Data\n",
    "Download link: http://aws-proserve-data-science.s3.amazonaws.com/device_failure.csv"
   ]
  },
  {
   "cell_type": "markdown",
   "metadata": {},
   "source": [
    "#### Plan for development\n",
    "1. Read the data\n",
    "2. Data exploration\n",
    "    * Calculate the distribution of total fail/not fail cases\n",
    "    * Distribution of fail/not-fail cases by year\n",
    "    * Distribution of fail/not-fail cases by month\n",
    "    * Are there any devices that have higher failure rates than others\n",
    "    * When a device fails, does it disappear from the data, or does it show up again\n",
    "    * Are there particular days of the week when a higher percent of devices fail?\n",
    "3. Understand the important variables for splitting the dataset\n",
    "    * Do a pre-modeling analysis using decision trees\n",
    "    * Use decision trees to understand which are the important drivers for the outcome\n",
    "4. Derive new features\n",
    "    * Determine which features are categorical, and if needed create dummies\n",
    "    * Since the data for some of the features is very sparse, create dummies which are 1, if data is available and 0 otherwise\n",
    "    * Use decision trees to decide how to split by categories of attributes\n",
    "    * Should I do PCA? (likely no..)\n",
    "5. Sampling of the data (70/30)\n",
    "    * Create random samples from the data - 70% for training and 30% for validation\n",
    "    * If the failures are too few compared to the non-failures, I will need to oversample the failures (and add a weight), or simply undersample the non-failures\n",
    "    * Dealing with imbalanced datasets (https://datascience.stackexchange.com/questions/9488/xgboost-give-more-importance-to-recent-samples)\n",
    "6. Do we need separate models for different groups of devices?\n",
    "    * Use decision trees to figure this out\n",
    "        * Run decision trees on all devices\n",
    "        * Run decision trees by types of devices, determined by the first letter - S, W, or Z\n",
    "7. Variables reduction\n",
    "    * Use decision trees\n",
    "    * Use p-values\n",
    "    * LASSO\n",
    "    * Random forest's variable importance\n",
    "    * Stepwise logistic regression\n",
    "    * Compare the suggested features from each method\n",
    "8. Decide on a methodology for the model estimation\n",
    "    * Random forest\n",
    "    * Random forest with XG boosting\n",
    "    * Random forest with ADA\n",
    "    * SVM\n",
    "    * Penalized-SVM\n",
    "    * Neural network\n",
    "    * Logistic regression\n",
    "9. Validate the results\n",
    "10. Accuracy measures\n",
    "    * Calculate c-statistic and ROC\n",
    "    * Plot the performance for multiple modles using the area under the curve (AUC) graph\n",
    "    * Create a deciles table with lift, and graph it\n",
    "    * Sensitivity/Recall\n",
    "    * Specificity\n",
    "11. Create a confusion matrix - reduce false positives and false negatives\n",
    "12. Does the methodology we use allow us to understand what drives the outcome? If it doesn't, do we need another methodology that can help with that?\n"
   ]
  },
  {
   "cell_type": "code",
   "execution_count": null,
   "metadata": {
    "collapsed": true
   },
   "outputs": [],
   "source": []
  },
  {
   "cell_type": "markdown",
   "metadata": {},
   "source": [
    "#### Setup\n",
    "Setup the environment and import needed packages"
   ]
  },
  {
   "cell_type": "code",
   "execution_count": 15,
   "metadata": {},
   "outputs": [],
   "source": [
    "import pandas as pd\n",
    "import numpy as np\n",
    "from decimal import *\n",
    "import graphviz                             # This module is needed for the visualization of the decision tree, but I can't import it in Python 3.6\n",
    "import matplotlib.pyplot as plt\n",
    "\n",
    "from xgboost import XGBClassifier            # This module needs to be installed (however, so far I was only able to find it for Py3.6)\n",
    "from sklearn import datasets, svm\n",
    "from sklearn.preprocessing import MinMaxScaler\n",
    "from sklearn.model_selection import GridSearchCV, train_test_split\n",
    "from sklearn.ensemble import RandomForestClassifier\n",
    "from sklearn.feature_selection import RFE\n",
    "from sklearn.linear_model import LogisticRegression\n",
    "from sklearn.tree import DecisionTreeClassifier, export_graphviz\n",
    "from sklearn.metrics import accuracy_score, recall_score, confusion_matrix, roc_curve, roc_auc_score\n",
    "#from imblearn.over_sampling import SMOTE\n",
    "\n",
    "%matplotlib inline\n"
   ]
  },
  {
   "cell_type": "code",
   "execution_count": null,
   "metadata": {
    "collapsed": true
   },
   "outputs": [],
   "source": []
  },
  {
   "cell_type": "markdown",
   "metadata": {},
   "source": [
    "#### Define functions I'll be using throughout the analysis\n",
    "This section defines functions I'll use in the analysis, and the evaluation of results."
   ]
  },
  {
   "cell_type": "code",
   "execution_count": 95,
   "metadata": {},
   "outputs": [],
   "source": [
    "# This defines the path to the data depending on the OS I use - Win or mac OS\n",
    "# I've saved the dataset in my Google Drive, but depending on my location, I use different computers (Mac or Windows) and the paths to the folders are different\n",
    "def selectOS(_os):\n",
    "    if _os == \"win\":\n",
    "        data_location = \"C:/Users/bre49823/GoogleDrive/Data/aws/device_failure.csv\"\n",
    "    elif _os == \"mac\":\n",
    "        data_location = \"/Users/valentin/GoogleDrive/Data/aws/device_failure.csv\"\n",
    "    return data_location\n",
    "\n",
    "# Check for NA values in the data\n",
    "def checkNaValues(df, columns_idx):\n",
    "    features_na = []\n",
    "    for i in range(0, len(columns_idx)):\n",
    "        col = columns_idx[i]\n",
    "        features_na.append(df[col].isnull().sum())\n",
    "    return features_na\n",
    "\n",
    "# Derive dummy features - these features take the value 1 if the value in the original features is larger than 0, otherwise they take the value of 0\n",
    "def createDummy(columns_idx):\n",
    "    column_dummy_idx = []\n",
    "    for col in columns_list:\n",
    "        column_dummy = col + \"_dummy\"\n",
    "        device_data[column_dummy] = [1 if x > 0 else 0 for x in device_data[col]]\n",
    "        column_dummy_idx.append(column_dummy)\n",
    "    return column_dummy_idx\n",
    "\n",
    "# Create a confusion matrix\n",
    "def confusionMatrix(model, _x_validate, _y_validate):\n",
    "    _confusion_matrix = confusion_matrix(_y_validate, model.predict(_x_validate)).ravel()\n",
    "    return _confusion_matrix\n",
    "\n",
    "# Function to print accuracy statistics for each model\n",
    "def modelAccuracyStats(model, modeling_method, _x_train, _y_train, _x_validate, _y_validate):\n",
    "    tn, fp, fn, tp = confusionMatrix(model, _x_validate, _y_validate)\n",
    "    print (\"Print stats for method: %s\" % modeling_method)\n",
    "    print (\"\\nThe number of False Negative in the validation set is %s \" % str(fn))\n",
    "    print (\"The number of False Positive in the validation set is %s \" % str(fp))\n",
    "    print (\"\\nAccuracy on training set is {:.5f}\".format(model.score(_x_train, _y_train)))\n",
    "    print (\"Recall (tp/(tp+fn)) of training set is {:.5f}\".format(recall_score(_y_train, model.predict(_x_train))))\n",
    "    print (\"\\nAccuracy on validation set is {:.5f}\".format(model.score(_x_validate, _y_validate)))\n",
    "    print (\"Recall (tp/(tp+fn)) of validation set is {:.5f}\".format(recall_score(_y_validate, model.predict(_x_validate))))\n",
    " "
   ]
  },
  {
   "cell_type": "code",
   "execution_count": null,
   "metadata": {
    "collapsed": true
   },
   "outputs": [],
   "source": []
  },
  {
   "cell_type": "markdown",
   "metadata": {},
   "source": [
    "#### Read in the data and print out the header"
   ]
  },
  {
   "cell_type": "code",
   "execution_count": 24,
   "metadata": {},
   "outputs": [
    {
     "name": "stdout",
     "output_type": "stream",
     "text": [
      "124494\n"
     ]
    },
    {
     "data": {
      "text/html": [
       "<div>\n",
       "<table border=\"1\" class=\"dataframe\">\n",
       "  <thead>\n",
       "    <tr style=\"text-align: right;\">\n",
       "      <th></th>\n",
       "      <th>date</th>\n",
       "      <th>device</th>\n",
       "      <th>failure</th>\n",
       "      <th>attribute1</th>\n",
       "      <th>attribute2</th>\n",
       "      <th>attribute3</th>\n",
       "      <th>attribute4</th>\n",
       "      <th>attribute5</th>\n",
       "      <th>attribute6</th>\n",
       "      <th>attribute7</th>\n",
       "      <th>attribute8</th>\n",
       "      <th>attribute9</th>\n",
       "    </tr>\n",
       "  </thead>\n",
       "  <tbody>\n",
       "    <tr>\n",
       "      <th>0</th>\n",
       "      <td>2015-01-01</td>\n",
       "      <td>S1F01085</td>\n",
       "      <td>0</td>\n",
       "      <td>215630672</td>\n",
       "      <td>56</td>\n",
       "      <td>0</td>\n",
       "      <td>52</td>\n",
       "      <td>6</td>\n",
       "      <td>407438</td>\n",
       "      <td>0</td>\n",
       "      <td>0</td>\n",
       "      <td>7</td>\n",
       "    </tr>\n",
       "    <tr>\n",
       "      <th>1</th>\n",
       "      <td>2015-01-01</td>\n",
       "      <td>S1F0166B</td>\n",
       "      <td>0</td>\n",
       "      <td>61370680</td>\n",
       "      <td>0</td>\n",
       "      <td>3</td>\n",
       "      <td>0</td>\n",
       "      <td>6</td>\n",
       "      <td>403174</td>\n",
       "      <td>0</td>\n",
       "      <td>0</td>\n",
       "      <td>0</td>\n",
       "    </tr>\n",
       "    <tr>\n",
       "      <th>2</th>\n",
       "      <td>2015-01-01</td>\n",
       "      <td>S1F01E6Y</td>\n",
       "      <td>0</td>\n",
       "      <td>173295968</td>\n",
       "      <td>0</td>\n",
       "      <td>0</td>\n",
       "      <td>0</td>\n",
       "      <td>12</td>\n",
       "      <td>237394</td>\n",
       "      <td>0</td>\n",
       "      <td>0</td>\n",
       "      <td>0</td>\n",
       "    </tr>\n",
       "    <tr>\n",
       "      <th>3</th>\n",
       "      <td>2015-01-01</td>\n",
       "      <td>S1F01JE0</td>\n",
       "      <td>0</td>\n",
       "      <td>79694024</td>\n",
       "      <td>0</td>\n",
       "      <td>0</td>\n",
       "      <td>0</td>\n",
       "      <td>6</td>\n",
       "      <td>410186</td>\n",
       "      <td>0</td>\n",
       "      <td>0</td>\n",
       "      <td>0</td>\n",
       "    </tr>\n",
       "    <tr>\n",
       "      <th>4</th>\n",
       "      <td>2015-01-01</td>\n",
       "      <td>S1F01R2B</td>\n",
       "      <td>0</td>\n",
       "      <td>135970480</td>\n",
       "      <td>0</td>\n",
       "      <td>0</td>\n",
       "      <td>0</td>\n",
       "      <td>15</td>\n",
       "      <td>313173</td>\n",
       "      <td>0</td>\n",
       "      <td>0</td>\n",
       "      <td>3</td>\n",
       "    </tr>\n",
       "    <tr>\n",
       "      <th>5</th>\n",
       "      <td>2015-01-01</td>\n",
       "      <td>S1F01TD5</td>\n",
       "      <td>0</td>\n",
       "      <td>68837488</td>\n",
       "      <td>0</td>\n",
       "      <td>0</td>\n",
       "      <td>41</td>\n",
       "      <td>6</td>\n",
       "      <td>413535</td>\n",
       "      <td>0</td>\n",
       "      <td>0</td>\n",
       "      <td>1</td>\n",
       "    </tr>\n",
       "    <tr>\n",
       "      <th>6</th>\n",
       "      <td>2015-01-01</td>\n",
       "      <td>S1F01XDJ</td>\n",
       "      <td>0</td>\n",
       "      <td>227721632</td>\n",
       "      <td>0</td>\n",
       "      <td>0</td>\n",
       "      <td>0</td>\n",
       "      <td>8</td>\n",
       "      <td>402525</td>\n",
       "      <td>0</td>\n",
       "      <td>0</td>\n",
       "      <td>0</td>\n",
       "    </tr>\n",
       "    <tr>\n",
       "      <th>7</th>\n",
       "      <td>2015-01-01</td>\n",
       "      <td>S1F023H2</td>\n",
       "      <td>0</td>\n",
       "      <td>141503600</td>\n",
       "      <td>0</td>\n",
       "      <td>0</td>\n",
       "      <td>1</td>\n",
       "      <td>19</td>\n",
       "      <td>494462</td>\n",
       "      <td>16</td>\n",
       "      <td>16</td>\n",
       "      <td>3</td>\n",
       "    </tr>\n",
       "    <tr>\n",
       "      <th>8</th>\n",
       "      <td>2015-01-01</td>\n",
       "      <td>S1F02A0J</td>\n",
       "      <td>0</td>\n",
       "      <td>8217840</td>\n",
       "      <td>0</td>\n",
       "      <td>1</td>\n",
       "      <td>0</td>\n",
       "      <td>14</td>\n",
       "      <td>311869</td>\n",
       "      <td>0</td>\n",
       "      <td>0</td>\n",
       "      <td>0</td>\n",
       "    </tr>\n",
       "    <tr>\n",
       "      <th>9</th>\n",
       "      <td>2015-01-01</td>\n",
       "      <td>S1F02DZ2</td>\n",
       "      <td>0</td>\n",
       "      <td>116440096</td>\n",
       "      <td>0</td>\n",
       "      <td>323</td>\n",
       "      <td>9</td>\n",
       "      <td>9</td>\n",
       "      <td>407905</td>\n",
       "      <td>0</td>\n",
       "      <td>0</td>\n",
       "      <td>164</td>\n",
       "    </tr>\n",
       "  </tbody>\n",
       "</table>\n",
       "</div>"
      ],
      "text/plain": [
       "         date    device  failure  attribute1  attribute2  attribute3  \\\n",
       "0  2015-01-01  S1F01085        0   215630672          56           0   \n",
       "1  2015-01-01  S1F0166B        0    61370680           0           3   \n",
       "2  2015-01-01  S1F01E6Y        0   173295968           0           0   \n",
       "3  2015-01-01  S1F01JE0        0    79694024           0           0   \n",
       "4  2015-01-01  S1F01R2B        0   135970480           0           0   \n",
       "5  2015-01-01  S1F01TD5        0    68837488           0           0   \n",
       "6  2015-01-01  S1F01XDJ        0   227721632           0           0   \n",
       "7  2015-01-01  S1F023H2        0   141503600           0           0   \n",
       "8  2015-01-01  S1F02A0J        0     8217840           0           1   \n",
       "9  2015-01-01  S1F02DZ2        0   116440096           0         323   \n",
       "\n",
       "   attribute4  attribute5  attribute6  attribute7  attribute8  attribute9  \n",
       "0          52           6      407438           0           0           7  \n",
       "1           0           6      403174           0           0           0  \n",
       "2           0          12      237394           0           0           0  \n",
       "3           0           6      410186           0           0           0  \n",
       "4           0          15      313173           0           0           3  \n",
       "5          41           6      413535           0           0           1  \n",
       "6           0           8      402525           0           0           0  \n",
       "7           1          19      494462          16          16           3  \n",
       "8           0          14      311869           0           0           0  \n",
       "9           9           9      407905           0           0         164  "
      ]
     },
     "execution_count": 24,
     "metadata": {},
     "output_type": "execute_result"
    }
   ],
   "source": [
    "# Read in the data and print out the header\n",
    "device_data = pd.read_csv(selectOS(\"mac\"))\n",
    "\n",
    "# Check if the number of rows is as expected\n",
    "print (len(device_data))\n",
    "device_data.head(10)"
   ]
  },
  {
   "cell_type": "code",
   "execution_count": null,
   "metadata": {
    "collapsed": true
   },
   "outputs": [],
   "source": []
  },
  {
   "cell_type": "markdown",
   "metadata": {},
   "source": [
    "Whenever I start working with a dataset I've never seen, I like to open it as a SQL table, or import it in Excel, and familiarize myself with it. If the file is small enough, and Excel can handle it, I'll import the whole file, otherwise, I take a random sample from it, small enough that can be easily processed within the available RAM and CPU.\n",
    "\n",
    "Next, I usually create a pivot table in Excel and try to understand what features are available. Are there dates - if there are, what is the time range coverered? When we know the dates from the data, we can relate them to important Macroeconomic environments - major crises, stock market and crude oil price crashes, etc. Most of the real world industry processes are impacted by economic events. For example, if the data in the provided dataset spans back to 2007, it is very likely that we'll see structural shifts in some of the attributes during the period 2008 - 2009."
   ]
  },
  {
   "cell_type": "code",
   "execution_count": 25,
   "metadata": {},
   "outputs": [
    {
     "name": "stdout",
     "output_type": "stream",
     "text": [
      "It appears that the data is very imbalanced. The percent of fail cases is very low compared to the non-fail cases.\n",
      "Only 0.000851446656064 of the cases are device failures\n"
     ]
    }
   ],
   "source": [
    "# Calculate the distribution of total fail/not fail cases\n",
    "pct_fail_cases = sum(device_data[\"failure\"]) / len(device_data[\"failure\"])\n",
    "print(\"It appears that the data is very imbalanced. The percent of fail cases is very low compared to the non-fail cases.\")\n",
    "print(\"Only %s of the cases are device failures\" % pct_fail_cases)"
   ]
  },
  {
   "cell_type": "code",
   "execution_count": null,
   "metadata": {
    "collapsed": true
   },
   "outputs": [],
   "source": []
  },
  {
   "cell_type": "code",
   "execution_count": 27,
   "metadata": {},
   "outputs": [
    {
     "data": {
      "text/plain": [
       "[('date', 0),\n",
       " ('device', 0),\n",
       " ('failure', 0),\n",
       " ('attribute1', 0),\n",
       " ('attribute2', 0),\n",
       " ('attribute3', 0),\n",
       " ('attribute4', 0),\n",
       " ('attribute5', 0),\n",
       " ('attribute6', 0),\n",
       " ('attribute7', 0),\n",
       " ('attribute8', 0),\n",
       " ('attribute9', 0)]"
      ]
     },
     "execution_count": 27,
     "metadata": {},
     "output_type": "execute_result"
    }
   ],
   "source": [
    "# Check if there are NA values in the data\n",
    "# If the list with features is very long I wouldn't print the whole list with the results, but will only print those that with missing values\n",
    "columns_list = list(device_data.columns)\n",
    "features_na = checkNaValues(device_data, columns_list)\n",
    "list(zip(columns_list, features_na))\n"
   ]
  },
  {
   "cell_type": "markdown",
   "metadata": {},
   "source": [
    "There are no features with NULL or NaN values.."
   ]
  },
  {
   "cell_type": "code",
   "execution_count": null,
   "metadata": {},
   "outputs": [],
   "source": []
  },
  {
   "cell_type": "code",
   "execution_count": 28,
   "metadata": {},
   "outputs": [
    {
     "data": {
      "text/plain": [
       "[('attribute1_dummy', 1    124483\n",
       "  0        11\n",
       "  Name: attribute1_dummy, dtype: int64), ('attribute2_dummy', 0    118110\n",
       "  1      6384\n",
       "  Name: attribute2_dummy, dtype: int64), ('attribute3_dummy', 0    115359\n",
       "  1      9135\n",
       "  Name: attribute3_dummy, dtype: int64), ('attribute4_dummy', 0    115156\n",
       "  1      9338\n",
       "  Name: attribute4_dummy, dtype: int64), ('attribute5_dummy', 1    124494\n",
       "  Name: attribute5_dummy, dtype: int64), ('attribute6_dummy', 1    124494\n",
       "  Name: attribute6_dummy, dtype: int64), ('attribute7_dummy', 0    123036\n",
       "  1      1458\n",
       "  Name: attribute7_dummy, dtype: int64), ('attribute8_dummy', 0    123036\n",
       "  1      1458\n",
       "  Name: attribute8_dummy, dtype: int64), ('attribute9_dummy', 0    97358\n",
       "  1    27136\n",
       "  Name: attribute9_dummy, dtype: int64)]"
      ]
     },
     "execution_count": 28,
     "metadata": {},
     "output_type": "execute_result"
    }
   ],
   "source": [
    "# Create dummies from the attributes\n",
    "# If the value of an attribute is larger than 0, encode as 1, otherwise 0\n",
    "columns_list = [\"attribute1\", \"attribute2\", \"attribute3\", \"attribute4\", \"attribute5\", \"attribute6\", \"attribute7\", \"attribute8\", \"attribute9\"]\n",
    "\n",
    "features_dummy = createDummy(columns_list)\n",
    "list(zip(features_dummy, [device_data[s].value_counts() for s in features_dummy]))"
   ]
  },
  {
   "cell_type": "code",
   "execution_count": null,
   "metadata": {
    "collapsed": true
   },
   "outputs": [],
   "source": []
  },
  {
   "cell_type": "markdown",
   "metadata": {},
   "source": [
    "Let's get a feeling of the mean values by category of the variable \"failure\""
   ]
  },
  {
   "cell_type": "code",
   "execution_count": 29,
   "metadata": {},
   "outputs": [
    {
     "data": {
      "text/html": [
       "<div>\n",
       "<table border=\"1\" class=\"dataframe\">\n",
       "  <thead>\n",
       "    <tr style=\"text-align: right;\">\n",
       "      <th></th>\n",
       "      <th>attribute1</th>\n",
       "      <th>attribute2</th>\n",
       "      <th>attribute3</th>\n",
       "      <th>attribute4</th>\n",
       "      <th>attribute5</th>\n",
       "      <th>attribute6</th>\n",
       "      <th>attribute7</th>\n",
       "      <th>attribute8</th>\n",
       "      <th>attribute9</th>\n",
       "      <th>attribute1_dummy</th>\n",
       "      <th>attribute2_dummy</th>\n",
       "      <th>attribute3_dummy</th>\n",
       "      <th>attribute4_dummy</th>\n",
       "      <th>attribute5_dummy</th>\n",
       "      <th>attribute6_dummy</th>\n",
       "      <th>attribute7_dummy</th>\n",
       "      <th>attribute8_dummy</th>\n",
       "      <th>attribute9_dummy</th>\n",
       "    </tr>\n",
       "    <tr>\n",
       "      <th>failure</th>\n",
       "      <th></th>\n",
       "      <th></th>\n",
       "      <th></th>\n",
       "      <th></th>\n",
       "      <th></th>\n",
       "      <th></th>\n",
       "      <th></th>\n",
       "      <th></th>\n",
       "      <th></th>\n",
       "      <th></th>\n",
       "      <th></th>\n",
       "      <th></th>\n",
       "      <th></th>\n",
       "      <th></th>\n",
       "      <th></th>\n",
       "      <th></th>\n",
       "      <th></th>\n",
       "      <th></th>\n",
       "    </tr>\n",
       "  </thead>\n",
       "  <tbody>\n",
       "    <tr>\n",
       "      <th>0</th>\n",
       "      <td>1.223827e+08</td>\n",
       "      <td>156.118725</td>\n",
       "      <td>9.945598</td>\n",
       "      <td>1.696048</td>\n",
       "      <td>14.221637</td>\n",
       "      <td>260174.451056</td>\n",
       "      <td>0.266682</td>\n",
       "      <td>0.266682</td>\n",
       "      <td>12.442462</td>\n",
       "      <td>0.999912</td>\n",
       "      <td>0.050937</td>\n",
       "      <td>0.073351</td>\n",
       "      <td>0.074573</td>\n",
       "      <td>1.0</td>\n",
       "      <td>1.0</td>\n",
       "      <td>0.011408</td>\n",
       "      <td>0.011408</td>\n",
       "      <td>0.217915</td>\n",
       "    </tr>\n",
       "    <tr>\n",
       "      <th>1</th>\n",
       "      <td>1.271755e+08</td>\n",
       "      <td>4109.433962</td>\n",
       "      <td>3.905660</td>\n",
       "      <td>54.632075</td>\n",
       "      <td>15.462264</td>\n",
       "      <td>258303.481132</td>\n",
       "      <td>30.622642</td>\n",
       "      <td>30.622642</td>\n",
       "      <td>23.084906</td>\n",
       "      <td>1.000000</td>\n",
       "      <td>0.452830</td>\n",
       "      <td>0.103774</td>\n",
       "      <td>0.584906</td>\n",
       "      <td>1.0</td>\n",
       "      <td>1.0</td>\n",
       "      <td>0.367925</td>\n",
       "      <td>0.367925</td>\n",
       "      <td>0.283019</td>\n",
       "    </tr>\n",
       "  </tbody>\n",
       "</table>\n",
       "</div>"
      ],
      "text/plain": [
       "           attribute1   attribute2  attribute3  attribute4  attribute5  \\\n",
       "failure                                                                  \n",
       "0        1.223827e+08   156.118725    9.945598    1.696048   14.221637   \n",
       "1        1.271755e+08  4109.433962    3.905660   54.632075   15.462264   \n",
       "\n",
       "            attribute6  attribute7  attribute8  attribute9  attribute1_dummy  \\\n",
       "failure                                                                        \n",
       "0        260174.451056    0.266682    0.266682   12.442462          0.999912   \n",
       "1        258303.481132   30.622642   30.622642   23.084906          1.000000   \n",
       "\n",
       "         attribute2_dummy  attribute3_dummy  attribute4_dummy  \\\n",
       "failure                                                         \n",
       "0                0.050937          0.073351          0.074573   \n",
       "1                0.452830          0.103774          0.584906   \n",
       "\n",
       "         attribute5_dummy  attribute6_dummy  attribute7_dummy  \\\n",
       "failure                                                         \n",
       "0                     1.0               1.0          0.011408   \n",
       "1                     1.0               1.0          0.367925   \n",
       "\n",
       "         attribute8_dummy  attribute9_dummy  \n",
       "failure                                      \n",
       "0                0.011408          0.217915  \n",
       "1                0.367925          0.283019  "
      ]
     },
     "execution_count": 29,
     "metadata": {},
     "output_type": "execute_result"
    }
   ],
   "source": [
    "device_data.groupby(\"failure\").mean()"
   ]
  },
  {
   "cell_type": "markdown",
   "metadata": {},
   "source": [
    "From the analysis of observations when the values of each attribute is larger than 0, it looks like attributes 7 & 8 have the same number of cases when they are larger than 0. This requires a little more investigation. If both attributes have the same values, one of them will be dropped.\n",
    "<p>\n",
    "Next, I'll test if the values for attributes 7 & 8 are the same. I'll simply subtract attribute 7 from 8 and sum up the differences. If the sum is 0, then all the values for 7 & 8 are the same, and I'll drop column 8."
   ]
  },
  {
   "cell_type": "code",
   "execution_count": 30,
   "metadata": {},
   "outputs": [
    {
     "data": {
      "text/plain": [
       "0"
      ]
     },
     "execution_count": 30,
     "metadata": {},
     "output_type": "execute_result"
    }
   ],
   "source": [
    "sum((device_data[\"attribute7\"] - device_data[\"attribute8\"]))"
   ]
  },
  {
   "cell_type": "markdown",
   "metadata": {},
   "source": [
    "Based on the test, columns 7 & 8 are the same. Hence, I'll drop column 8.\n",
    "<br>\n",
    "We'll also drop the dummies for columns 5 & 6 because they are always 1"
   ]
  },
  {
   "cell_type": "code",
   "execution_count": 31,
   "metadata": {
    "collapsed": true
   },
   "outputs": [],
   "source": [
    "drop_vars = [\"attribute5_dummy\", \"attribute6_dummy\", \"attribute8\", \"attribute8_dummy\"]\n",
    "device_data = device_data.drop(drop_vars, axis = 1)"
   ]
  },
  {
   "cell_type": "code",
   "execution_count": null,
   "metadata": {
    "collapsed": true
   },
   "outputs": [],
   "source": []
  },
  {
   "cell_type": "markdown",
   "metadata": {},
   "source": [
    "We need to dig a little deeper into the distributions of failure/non-failure and understand the following:\n",
    "1. Distribution of failure/non-failure by year\n",
    "2. Distribution of failure/non-failure by month\n",
    "3. Distribution of failure/non-failure by device - are there specific devices that tend to fail more than others?"
   ]
  },
  {
   "cell_type": "code",
   "execution_count": 32,
   "metadata": {},
   "outputs": [
    {
     "name": "stdout",
     "output_type": "stream",
     "text": [
      "0    124388\n",
      "1       106\n",
      "Name: failure, dtype: int64\n",
      "col_0   count\n",
      "year         \n",
      "2015   124494\n"
     ]
    },
    {
     "data": {
      "text/html": [
       "<div>\n",
       "<table border=\"1\" class=\"dataframe\">\n",
       "  <thead>\n",
       "    <tr style=\"text-align: right;\">\n",
       "      <th>col_0</th>\n",
       "      <th>count</th>\n",
       "    </tr>\n",
       "    <tr>\n",
       "      <th>month</th>\n",
       "      <th></th>\n",
       "    </tr>\n",
       "  </thead>\n",
       "  <tbody>\n",
       "    <tr>\n",
       "      <th>1</th>\n",
       "      <td>0.201070</td>\n",
       "    </tr>\n",
       "    <tr>\n",
       "      <th>2</th>\n",
       "      <td>0.156634</td>\n",
       "    </tr>\n",
       "    <tr>\n",
       "      <th>3</th>\n",
       "      <td>0.159309</td>\n",
       "    </tr>\n",
       "    <tr>\n",
       "      <th>4</th>\n",
       "      <td>0.096487</td>\n",
       "    </tr>\n",
       "    <tr>\n",
       "      <th>5</th>\n",
       "      <td>0.091008</td>\n",
       "    </tr>\n",
       "    <tr>\n",
       "      <th>6</th>\n",
       "      <td>0.084092</td>\n",
       "    </tr>\n",
       "    <tr>\n",
       "      <th>7</th>\n",
       "      <td>0.084590</td>\n",
       "    </tr>\n",
       "    <tr>\n",
       "      <th>8</th>\n",
       "      <td>0.067039</td>\n",
       "    </tr>\n",
       "    <tr>\n",
       "      <th>9</th>\n",
       "      <td>0.035905</td>\n",
       "    </tr>\n",
       "    <tr>\n",
       "      <th>10</th>\n",
       "      <td>0.023616</td>\n",
       "    </tr>\n",
       "    <tr>\n",
       "      <th>11</th>\n",
       "      <td>0.000249</td>\n",
       "    </tr>\n",
       "  </tbody>\n",
       "</table>\n",
       "</div>"
      ],
      "text/plain": [
       "col_0     count\n",
       "month          \n",
       "1      0.201070\n",
       "2      0.156634\n",
       "3      0.159309\n",
       "4      0.096487\n",
       "5      0.091008\n",
       "6      0.084092\n",
       "7      0.084590\n",
       "8      0.067039\n",
       "9      0.035905\n",
       "10     0.023616\n",
       "11     0.000249"
      ]
     },
     "execution_count": 32,
     "metadata": {},
     "output_type": "execute_result"
    }
   ],
   "source": [
    "# Distribution of failure/non-failure by year\n",
    "device_data[\"year\"] = pd.to_datetime(device_data[\"date\"]).dt.year\n",
    "device_data[\"month\"] = pd.to_datetime(device_data[\"date\"]).dt.month\n",
    "device_data[\"day_of_week\"] = pd.to_datetime(device_data[\"date\"]).dt.dayofweek\n",
    "device_data[\"device_type\"] = device_data.device.str[0]\n",
    "\n",
    "# Create dummies for each of the three different devices in the data. Each starts with a different letter - S, W, or Z\n",
    "device_data = pd.concat([device_data, pd.get_dummies(device_data[\"device_type\"].str.lower(), prefix = \"device_type\")],\n",
    "                        axis = 1, join_axes = [device_data.index])\n",
    "\n",
    "# One-hot encode the failure variable\n",
    "# failure_outcome = pd.get_dummies(device_data.failure)\n",
    "\n",
    "# Print some summary stats\n",
    "print(device_data.failure.value_counts())\n",
    "\n",
    "print(pd.crosstab(device_data[\"year\"],\n",
    "                  columns = \"count\"))\n",
    "pd.crosstab(device_data[\"month\"],\n",
    "            columns = \"count\") / len(device_data.month)"
   ]
  },
  {
   "cell_type": "markdown",
   "metadata": {},
   "source": [
    "It is evident that the data is only for 2015 and we have information for most of the months of 2015, except for December. However, note that 50% of the observations are from the period January - March.\n",
    "<p>\n",
    "Next, we'll look at the distribution of failure/non-failure by month"
   ]
  },
  {
   "cell_type": "code",
   "execution_count": 33,
   "metadata": {},
   "outputs": [
    {
     "data": {
      "text/html": [
       "<div>\n",
       "<table border=\"1\" class=\"dataframe\">\n",
       "  <thead>\n",
       "    <tr style=\"text-align: right;\">\n",
       "      <th>month</th>\n",
       "      <th>1</th>\n",
       "      <th>2</th>\n",
       "      <th>3</th>\n",
       "      <th>4</th>\n",
       "      <th>5</th>\n",
       "      <th>6</th>\n",
       "      <th>7</th>\n",
       "      <th>8</th>\n",
       "      <th>9</th>\n",
       "      <th>10</th>\n",
       "      <th>11</th>\n",
       "      <th>All</th>\n",
       "    </tr>\n",
       "  </thead>\n",
       "  <tbody>\n",
       "    <tr>\n",
       "      <th>non_failure</th>\n",
       "      <td>25008</td>\n",
       "      <td>19486</td>\n",
       "      <td>19824</td>\n",
       "      <td>12003</td>\n",
       "      <td>11309</td>\n",
       "      <td>10463</td>\n",
       "      <td>10515</td>\n",
       "      <td>8342</td>\n",
       "      <td>4470</td>\n",
       "      <td>2937</td>\n",
       "      <td>31</td>\n",
       "      <td>124388</td>\n",
       "    </tr>\n",
       "    <tr>\n",
       "      <th>failure</th>\n",
       "      <td>24</td>\n",
       "      <td>14</td>\n",
       "      <td>9</td>\n",
       "      <td>9</td>\n",
       "      <td>21</td>\n",
       "      <td>6</td>\n",
       "      <td>16</td>\n",
       "      <td>4</td>\n",
       "      <td>0</td>\n",
       "      <td>3</td>\n",
       "      <td>0</td>\n",
       "      <td>106</td>\n",
       "    </tr>\n",
       "    <tr>\n",
       "      <th>month_total</th>\n",
       "      <td>25032</td>\n",
       "      <td>19500</td>\n",
       "      <td>19833</td>\n",
       "      <td>12012</td>\n",
       "      <td>11330</td>\n",
       "      <td>10469</td>\n",
       "      <td>10531</td>\n",
       "      <td>8346</td>\n",
       "      <td>4470</td>\n",
       "      <td>2940</td>\n",
       "      <td>31</td>\n",
       "      <td>124494</td>\n",
       "    </tr>\n",
       "  </tbody>\n",
       "</table>\n",
       "</div>"
      ],
      "text/plain": [
       "month            1      2      3      4      5      6      7     8     9  \\\n",
       "non_failure  25008  19486  19824  12003  11309  10463  10515  8342  4470   \n",
       "failure         24     14      9      9     21      6     16     4     0   \n",
       "month_total  25032  19500  19833  12012  11330  10469  10531  8346  4470   \n",
       "\n",
       "month          10  11     All  \n",
       "non_failure  2937  31  124388  \n",
       "failure         3   0     106  \n",
       "month_total  2940  31  124494  "
      ]
     },
     "execution_count": 33,
     "metadata": {},
     "output_type": "execute_result"
    }
   ],
   "source": [
    "# Distribution of failure/non-failure by month\n",
    "failure_month = pd.crosstab(index = device_data[\"failure\"],\n",
    "                            columns = device_data[\"month\"],\n",
    "                            margins = True)\n",
    "\n",
    "failure_month.index = [\"non_failure\", \"failure\", \"month_total\"]\n",
    "failure_month"
   ]
  },
  {
   "cell_type": "code",
   "execution_count": 34,
   "metadata": {},
   "outputs": [
    {
     "data": {
      "text/html": [
       "<div>\n",
       "<table border=\"1\" class=\"dataframe\">\n",
       "  <thead>\n",
       "    <tr style=\"text-align: right;\">\n",
       "      <th>month</th>\n",
       "      <th>1</th>\n",
       "      <th>2</th>\n",
       "      <th>3</th>\n",
       "      <th>4</th>\n",
       "      <th>5</th>\n",
       "      <th>6</th>\n",
       "      <th>7</th>\n",
       "      <th>8</th>\n",
       "      <th>9</th>\n",
       "      <th>10</th>\n",
       "      <th>11</th>\n",
       "      <th>All</th>\n",
       "    </tr>\n",
       "  </thead>\n",
       "  <tbody>\n",
       "    <tr>\n",
       "      <th>non_failure</th>\n",
       "      <td>0.999041</td>\n",
       "      <td>0.999282</td>\n",
       "      <td>0.999546</td>\n",
       "      <td>0.999251</td>\n",
       "      <td>0.998147</td>\n",
       "      <td>0.999427</td>\n",
       "      <td>0.998481</td>\n",
       "      <td>0.999521</td>\n",
       "      <td>1.0</td>\n",
       "      <td>0.99898</td>\n",
       "      <td>1.0</td>\n",
       "      <td>0.999149</td>\n",
       "    </tr>\n",
       "    <tr>\n",
       "      <th>failure</th>\n",
       "      <td>0.000959</td>\n",
       "      <td>0.000718</td>\n",
       "      <td>0.000454</td>\n",
       "      <td>0.000749</td>\n",
       "      <td>0.001853</td>\n",
       "      <td>0.000573</td>\n",
       "      <td>0.001519</td>\n",
       "      <td>0.000479</td>\n",
       "      <td>0.0</td>\n",
       "      <td>0.00102</td>\n",
       "      <td>0.0</td>\n",
       "      <td>0.000851</td>\n",
       "    </tr>\n",
       "    <tr>\n",
       "      <th>month_total</th>\n",
       "      <td>1.000000</td>\n",
       "      <td>1.000000</td>\n",
       "      <td>1.000000</td>\n",
       "      <td>1.000000</td>\n",
       "      <td>1.000000</td>\n",
       "      <td>1.000000</td>\n",
       "      <td>1.000000</td>\n",
       "      <td>1.000000</td>\n",
       "      <td>1.0</td>\n",
       "      <td>1.00000</td>\n",
       "      <td>1.0</td>\n",
       "      <td>1.000000</td>\n",
       "    </tr>\n",
       "  </tbody>\n",
       "</table>\n",
       "</div>"
      ],
      "text/plain": [
       "month               1         2         3         4         5         6  \\\n",
       "non_failure  0.999041  0.999282  0.999546  0.999251  0.998147  0.999427   \n",
       "failure      0.000959  0.000718  0.000454  0.000749  0.001853  0.000573   \n",
       "month_total  1.000000  1.000000  1.000000  1.000000  1.000000  1.000000   \n",
       "\n",
       "month               7         8    9       10   11       All  \n",
       "non_failure  0.998481  0.999521  1.0  0.99898  1.0  0.999149  \n",
       "failure      0.001519  0.000479  0.0  0.00102  0.0  0.000851  \n",
       "month_total  1.000000  1.000000  1.0  1.00000  1.0  1.000000  "
      ]
     },
     "execution_count": 34,
     "metadata": {},
     "output_type": "execute_result"
    }
   ],
   "source": [
    "failure_month_pct = failure_month / failure_month.loc[\"month_total\"]\n",
    "failure_month_pct"
   ]
  },
  {
   "cell_type": "code",
   "execution_count": 35,
   "metadata": {},
   "outputs": [
    {
     "data": {
      "text/plain": [
       "<matplotlib.text.Text at 0x113a12e48>"
      ]
     },
     "execution_count": 35,
     "metadata": {},
     "output_type": "execute_result"
    },
    {
     "data": {
      "image/png": "[encoded data removed]",
      "text/plain": [
       "<matplotlib.figure.Figure at 0x11a09e358>"
      ]
     },
     "metadata": {},
     "output_type": "display_data"
    }
   ],
   "source": [
    "# Plot the % failures/non-failures by month\n",
    "plt.figure(figsize = (15, 5))\n",
    "plt.plot(list(failure_month_pct.loc[\"failure\"]), linewidth = 0.8, color = \"#ff0000\")\n",
    "plt.xlabel(\"Months\")\n",
    "plt.ylabel(\"Percent device failure\")\n",
    "plt.title(\"Percent Failed Devices by Month\")"
   ]
  },
  {
   "cell_type": "code",
   "execution_count": 36,
   "metadata": {},
   "outputs": [
    {
     "data": {
      "text/html": [
       "<div>\n",
       "<table border=\"1\" class=\"dataframe\">\n",
       "  <thead>\n",
       "    <tr style=\"text-align: right;\">\n",
       "      <th></th>\n",
       "      <th>non_failure</th>\n",
       "      <th>failure</th>\n",
       "      <th>total</th>\n",
       "    </tr>\n",
       "    <tr>\n",
       "      <th>date</th>\n",
       "      <th></th>\n",
       "      <th></th>\n",
       "      <th></th>\n",
       "    </tr>\n",
       "  </thead>\n",
       "  <tbody>\n",
       "    <tr>\n",
       "      <th>2015-01-01</th>\n",
       "      <td>1163</td>\n",
       "      <td>0</td>\n",
       "      <td>1163</td>\n",
       "    </tr>\n",
       "    <tr>\n",
       "      <th>2015-01-02</th>\n",
       "      <td>1163</td>\n",
       "      <td>0</td>\n",
       "      <td>1163</td>\n",
       "    </tr>\n",
       "    <tr>\n",
       "      <th>2015-01-03</th>\n",
       "      <td>1163</td>\n",
       "      <td>0</td>\n",
       "      <td>1163</td>\n",
       "    </tr>\n",
       "    <tr>\n",
       "      <th>2015-01-04</th>\n",
       "      <td>1162</td>\n",
       "      <td>0</td>\n",
       "      <td>1162</td>\n",
       "    </tr>\n",
       "    <tr>\n",
       "      <th>2015-01-05</th>\n",
       "      <td>1160</td>\n",
       "      <td>1</td>\n",
       "      <td>1161</td>\n",
       "    </tr>\n",
       "    <tr>\n",
       "      <th>2015-01-06</th>\n",
       "      <td>1054</td>\n",
       "      <td>0</td>\n",
       "      <td>1054</td>\n",
       "    </tr>\n",
       "    <tr>\n",
       "      <th>2015-01-07</th>\n",
       "      <td>797</td>\n",
       "      <td>1</td>\n",
       "      <td>798</td>\n",
       "    </tr>\n",
       "    <tr>\n",
       "      <th>2015-01-08</th>\n",
       "      <td>756</td>\n",
       "      <td>0</td>\n",
       "      <td>756</td>\n",
       "    </tr>\n",
       "    <tr>\n",
       "      <th>2015-01-09</th>\n",
       "      <td>755</td>\n",
       "      <td>1</td>\n",
       "      <td>756</td>\n",
       "    </tr>\n",
       "    <tr>\n",
       "      <th>2015-01-10</th>\n",
       "      <td>755</td>\n",
       "      <td>0</td>\n",
       "      <td>755</td>\n",
       "    </tr>\n",
       "    <tr>\n",
       "      <th>2015-01-11</th>\n",
       "      <td>755</td>\n",
       "      <td>0</td>\n",
       "      <td>755</td>\n",
       "    </tr>\n",
       "    <tr>\n",
       "      <th>2015-01-12</th>\n",
       "      <td>755</td>\n",
       "      <td>0</td>\n",
       "      <td>755</td>\n",
       "    </tr>\n",
       "    <tr>\n",
       "      <th>2015-01-13</th>\n",
       "      <td>754</td>\n",
       "      <td>1</td>\n",
       "      <td>755</td>\n",
       "    </tr>\n",
       "    <tr>\n",
       "      <th>2015-01-14</th>\n",
       "      <td>715</td>\n",
       "      <td>1</td>\n",
       "      <td>716</td>\n",
       "    </tr>\n",
       "    <tr>\n",
       "      <th>2015-01-15</th>\n",
       "      <td>715</td>\n",
       "      <td>0</td>\n",
       "      <td>715</td>\n",
       "    </tr>\n",
       "    <tr>\n",
       "      <th>2015-01-16</th>\n",
       "      <td>715</td>\n",
       "      <td>0</td>\n",
       "      <td>715</td>\n",
       "    </tr>\n",
       "    <tr>\n",
       "      <th>2015-01-17</th>\n",
       "      <td>714</td>\n",
       "      <td>1</td>\n",
       "      <td>715</td>\n",
       "    </tr>\n",
       "    <tr>\n",
       "      <th>2015-01-18</th>\n",
       "      <td>713</td>\n",
       "      <td>1</td>\n",
       "      <td>714</td>\n",
       "    </tr>\n",
       "    <tr>\n",
       "      <th>2015-01-19</th>\n",
       "      <td>705</td>\n",
       "      <td>8</td>\n",
       "      <td>713</td>\n",
       "    </tr>\n",
       "    <tr>\n",
       "      <th>2015-01-20</th>\n",
       "      <td>712</td>\n",
       "      <td>1</td>\n",
       "      <td>713</td>\n",
       "    </tr>\n",
       "    <tr>\n",
       "      <th>2015-01-21</th>\n",
       "      <td>712</td>\n",
       "      <td>0</td>\n",
       "      <td>712</td>\n",
       "    </tr>\n",
       "    <tr>\n",
       "      <th>2015-01-22</th>\n",
       "      <td>711</td>\n",
       "      <td>1</td>\n",
       "      <td>712</td>\n",
       "    </tr>\n",
       "    <tr>\n",
       "      <th>2015-01-23</th>\n",
       "      <td>710</td>\n",
       "      <td>2</td>\n",
       "      <td>712</td>\n",
       "    </tr>\n",
       "    <tr>\n",
       "      <th>2015-01-24</th>\n",
       "      <td>712</td>\n",
       "      <td>0</td>\n",
       "      <td>712</td>\n",
       "    </tr>\n",
       "    <tr>\n",
       "      <th>2015-01-25</th>\n",
       "      <td>712</td>\n",
       "      <td>0</td>\n",
       "      <td>712</td>\n",
       "    </tr>\n",
       "    <tr>\n",
       "      <th>2015-01-26</th>\n",
       "      <td>711</td>\n",
       "      <td>1</td>\n",
       "      <td>712</td>\n",
       "    </tr>\n",
       "    <tr>\n",
       "      <th>2015-01-27</th>\n",
       "      <td>711</td>\n",
       "      <td>1</td>\n",
       "      <td>712</td>\n",
       "    </tr>\n",
       "    <tr>\n",
       "      <th>2015-01-28</th>\n",
       "      <td>711</td>\n",
       "      <td>1</td>\n",
       "      <td>712</td>\n",
       "    </tr>\n",
       "    <tr>\n",
       "      <th>2015-01-29</th>\n",
       "      <td>713</td>\n",
       "      <td>2</td>\n",
       "      <td>715</td>\n",
       "    </tr>\n",
       "    <tr>\n",
       "      <th>2015-01-30</th>\n",
       "      <td>712</td>\n",
       "      <td>0</td>\n",
       "      <td>712</td>\n",
       "    </tr>\n",
       "    <tr>\n",
       "      <th>...</th>\n",
       "      <td>...</td>\n",
       "      <td>...</td>\n",
       "      <td>...</td>\n",
       "    </tr>\n",
       "    <tr>\n",
       "      <th>2015-10-03</th>\n",
       "      <td>146</td>\n",
       "      <td>0</td>\n",
       "      <td>146</td>\n",
       "    </tr>\n",
       "    <tr>\n",
       "      <th>2015-10-04</th>\n",
       "      <td>146</td>\n",
       "      <td>0</td>\n",
       "      <td>146</td>\n",
       "    </tr>\n",
       "    <tr>\n",
       "      <th>2015-10-05</th>\n",
       "      <td>145</td>\n",
       "      <td>1</td>\n",
       "      <td>146</td>\n",
       "    </tr>\n",
       "    <tr>\n",
       "      <th>2015-10-06</th>\n",
       "      <td>141</td>\n",
       "      <td>0</td>\n",
       "      <td>141</td>\n",
       "    </tr>\n",
       "    <tr>\n",
       "      <th>2015-10-07</th>\n",
       "      <td>141</td>\n",
       "      <td>0</td>\n",
       "      <td>141</td>\n",
       "    </tr>\n",
       "    <tr>\n",
       "      <th>2015-10-08</th>\n",
       "      <td>141</td>\n",
       "      <td>0</td>\n",
       "      <td>141</td>\n",
       "    </tr>\n",
       "    <tr>\n",
       "      <th>2015-10-09</th>\n",
       "      <td>140</td>\n",
       "      <td>1</td>\n",
       "      <td>141</td>\n",
       "    </tr>\n",
       "    <tr>\n",
       "      <th>2015-10-10</th>\n",
       "      <td>140</td>\n",
       "      <td>0</td>\n",
       "      <td>140</td>\n",
       "    </tr>\n",
       "    <tr>\n",
       "      <th>2015-10-11</th>\n",
       "      <td>140</td>\n",
       "      <td>0</td>\n",
       "      <td>140</td>\n",
       "    </tr>\n",
       "    <tr>\n",
       "      <th>2015-10-12</th>\n",
       "      <td>140</td>\n",
       "      <td>0</td>\n",
       "      <td>140</td>\n",
       "    </tr>\n",
       "    <tr>\n",
       "      <th>2015-10-13</th>\n",
       "      <td>111</td>\n",
       "      <td>0</td>\n",
       "      <td>111</td>\n",
       "    </tr>\n",
       "    <tr>\n",
       "      <th>2015-10-14</th>\n",
       "      <td>111</td>\n",
       "      <td>0</td>\n",
       "      <td>111</td>\n",
       "    </tr>\n",
       "    <tr>\n",
       "      <th>2015-10-15</th>\n",
       "      <td>109</td>\n",
       "      <td>0</td>\n",
       "      <td>109</td>\n",
       "    </tr>\n",
       "    <tr>\n",
       "      <th>2015-10-16</th>\n",
       "      <td>109</td>\n",
       "      <td>0</td>\n",
       "      <td>109</td>\n",
       "    </tr>\n",
       "    <tr>\n",
       "      <th>2015-10-17</th>\n",
       "      <td>109</td>\n",
       "      <td>0</td>\n",
       "      <td>109</td>\n",
       "    </tr>\n",
       "    <tr>\n",
       "      <th>2015-10-18</th>\n",
       "      <td>109</td>\n",
       "      <td>0</td>\n",
       "      <td>109</td>\n",
       "    </tr>\n",
       "    <tr>\n",
       "      <th>2015-10-19</th>\n",
       "      <td>109</td>\n",
       "      <td>0</td>\n",
       "      <td>109</td>\n",
       "    </tr>\n",
       "    <tr>\n",
       "      <th>2015-10-20</th>\n",
       "      <td>69</td>\n",
       "      <td>0</td>\n",
       "      <td>69</td>\n",
       "    </tr>\n",
       "    <tr>\n",
       "      <th>2015-10-21</th>\n",
       "      <td>69</td>\n",
       "      <td>0</td>\n",
       "      <td>69</td>\n",
       "    </tr>\n",
       "    <tr>\n",
       "      <th>2015-10-22</th>\n",
       "      <td>69</td>\n",
       "      <td>0</td>\n",
       "      <td>69</td>\n",
       "    </tr>\n",
       "    <tr>\n",
       "      <th>2015-10-23</th>\n",
       "      <td>32</td>\n",
       "      <td>0</td>\n",
       "      <td>32</td>\n",
       "    </tr>\n",
       "    <tr>\n",
       "      <th>2015-10-24</th>\n",
       "      <td>32</td>\n",
       "      <td>0</td>\n",
       "      <td>32</td>\n",
       "    </tr>\n",
       "    <tr>\n",
       "      <th>2015-10-25</th>\n",
       "      <td>32</td>\n",
       "      <td>0</td>\n",
       "      <td>32</td>\n",
       "    </tr>\n",
       "    <tr>\n",
       "      <th>2015-10-26</th>\n",
       "      <td>31</td>\n",
       "      <td>1</td>\n",
       "      <td>32</td>\n",
       "    </tr>\n",
       "    <tr>\n",
       "      <th>2015-10-27</th>\n",
       "      <td>31</td>\n",
       "      <td>0</td>\n",
       "      <td>31</td>\n",
       "    </tr>\n",
       "    <tr>\n",
       "      <th>2015-10-29</th>\n",
       "      <td>31</td>\n",
       "      <td>0</td>\n",
       "      <td>31</td>\n",
       "    </tr>\n",
       "    <tr>\n",
       "      <th>2015-10-30</th>\n",
       "      <td>31</td>\n",
       "      <td>0</td>\n",
       "      <td>31</td>\n",
       "    </tr>\n",
       "    <tr>\n",
       "      <th>2015-10-31</th>\n",
       "      <td>31</td>\n",
       "      <td>0</td>\n",
       "      <td>31</td>\n",
       "    </tr>\n",
       "    <tr>\n",
       "      <th>2015-11-02</th>\n",
       "      <td>31</td>\n",
       "      <td>0</td>\n",
       "      <td>31</td>\n",
       "    </tr>\n",
       "    <tr>\n",
       "      <th>All</th>\n",
       "      <td>124388</td>\n",
       "      <td>106</td>\n",
       "      <td>124494</td>\n",
       "    </tr>\n",
       "  </tbody>\n",
       "</table>\n",
       "<p>305 rows × 3 columns</p>\n",
       "</div>"
      ],
      "text/plain": [
       "            non_failure  failure   total\n",
       "date                                    \n",
       "2015-01-01         1163        0    1163\n",
       "2015-01-02         1163        0    1163\n",
       "2015-01-03         1163        0    1163\n",
       "2015-01-04         1162        0    1162\n",
       "2015-01-05         1160        1    1161\n",
       "2015-01-06         1054        0    1054\n",
       "2015-01-07          797        1     798\n",
       "2015-01-08          756        0     756\n",
       "2015-01-09          755        1     756\n",
       "2015-01-10          755        0     755\n",
       "2015-01-11          755        0     755\n",
       "2015-01-12          755        0     755\n",
       "2015-01-13          754        1     755\n",
       "2015-01-14          715        1     716\n",
       "2015-01-15          715        0     715\n",
       "2015-01-16          715        0     715\n",
       "2015-01-17          714        1     715\n",
       "2015-01-18          713        1     714\n",
       "2015-01-19          705        8     713\n",
       "2015-01-20          712        1     713\n",
       "2015-01-21          712        0     712\n",
       "2015-01-22          711        1     712\n",
       "2015-01-23          710        2     712\n",
       "2015-01-24          712        0     712\n",
       "2015-01-25          712        0     712\n",
       "2015-01-26          711        1     712\n",
       "2015-01-27          711        1     712\n",
       "2015-01-28          711        1     712\n",
       "2015-01-29          713        2     715\n",
       "2015-01-30          712        0     712\n",
       "...                 ...      ...     ...\n",
       "2015-10-03          146        0     146\n",
       "2015-10-04          146        0     146\n",
       "2015-10-05          145        1     146\n",
       "2015-10-06          141        0     141\n",
       "2015-10-07          141        0     141\n",
       "2015-10-08          141        0     141\n",
       "2015-10-09          140        1     141\n",
       "2015-10-10          140        0     140\n",
       "2015-10-11          140        0     140\n",
       "2015-10-12          140        0     140\n",
       "2015-10-13          111        0     111\n",
       "2015-10-14          111        0     111\n",
       "2015-10-15          109        0     109\n",
       "2015-10-16          109        0     109\n",
       "2015-10-17          109        0     109\n",
       "2015-10-18          109        0     109\n",
       "2015-10-19          109        0     109\n",
       "2015-10-20           69        0      69\n",
       "2015-10-21           69        0      69\n",
       "2015-10-22           69        0      69\n",
       "2015-10-23           32        0      32\n",
       "2015-10-24           32        0      32\n",
       "2015-10-25           32        0      32\n",
       "2015-10-26           31        1      32\n",
       "2015-10-27           31        0      31\n",
       "2015-10-29           31        0      31\n",
       "2015-10-30           31        0      31\n",
       "2015-10-31           31        0      31\n",
       "2015-11-02           31        0      31\n",
       "All              124388      106  124494\n",
       "\n",
       "[305 rows x 3 columns]"
      ]
     },
     "execution_count": 36,
     "metadata": {},
     "output_type": "execute_result"
    }
   ],
   "source": [
    "failure_day = pd.crosstab(index = device_data[\"date\"],\n",
    "                          columns = device_data[\"failure\"],\n",
    "                          margins = True)\n",
    "\n",
    "failure_day.columns = [\"non_failure\", \"failure\", \"total\"]\n",
    "failure_day"
   ]
  },
  {
   "cell_type": "code",
   "execution_count": 37,
   "metadata": {},
   "outputs": [
    {
     "data": {
      "text/plain": [
       "<matplotlib.axes._subplots.AxesSubplot at 0x111ce9dd8>"
      ]
     },
     "execution_count": 37,
     "metadata": {},
     "output_type": "execute_result"
    },
    {
     "data": {
      "image/png": "[encoded data removed]",
      "text/plain": [
       "<matplotlib.figure.Figure at 0x111cd2b00>"
      ]
     },
     "metadata": {},
     "output_type": "display_data"
    }
   ],
   "source": [
    "# Plot the % failures/non-failures by day\n",
    "failure_day[:-1].reset_index().plot(x = \"date\", y = \"failure\",\n",
    "                                    figsize = (15, 5),\n",
    "                                    title = \"Number of Failed Devices by Day\")"
   ]
  },
  {
   "cell_type": "code",
   "execution_count": 38,
   "metadata": {},
   "outputs": [
    {
     "name": "stdout",
     "output_type": "stream",
     "text": [
      "device_type\n",
      "S      0.000766\n",
      "W      0.000971\n",
      "Z      0.000834\n",
      "All    0.000851\n",
      "dtype: float64\n"
     ]
    },
    {
     "data": {
      "text/html": [
       "<div>\n",
       "<table border=\"1\" class=\"dataframe\">\n",
       "  <thead>\n",
       "    <tr style=\"text-align: right;\">\n",
       "      <th></th>\n",
       "      <th>non_failure</th>\n",
       "      <th>failure</th>\n",
       "      <th>total</th>\n",
       "    </tr>\n",
       "    <tr>\n",
       "      <th>device_type</th>\n",
       "      <th></th>\n",
       "      <th></th>\n",
       "      <th></th>\n",
       "    </tr>\n",
       "  </thead>\n",
       "  <tbody>\n",
       "    <tr>\n",
       "      <th>S</th>\n",
       "      <td>54816</td>\n",
       "      <td>42</td>\n",
       "      <td>54858</td>\n",
       "    </tr>\n",
       "    <tr>\n",
       "      <th>W</th>\n",
       "      <td>43226</td>\n",
       "      <td>42</td>\n",
       "      <td>43268</td>\n",
       "    </tr>\n",
       "    <tr>\n",
       "      <th>Z</th>\n",
       "      <td>26346</td>\n",
       "      <td>22</td>\n",
       "      <td>26368</td>\n",
       "    </tr>\n",
       "    <tr>\n",
       "      <th>All</th>\n",
       "      <td>124388</td>\n",
       "      <td>106</td>\n",
       "      <td>124494</td>\n",
       "    </tr>\n",
       "  </tbody>\n",
       "</table>\n",
       "</div>"
      ],
      "text/plain": [
       "             non_failure  failure   total\n",
       "device_type                              \n",
       "S                  54816       42   54858\n",
       "W                  43226       42   43268\n",
       "Z                  26346       22   26368\n",
       "All               124388      106  124494"
      ]
     },
     "execution_count": 38,
     "metadata": {},
     "output_type": "execute_result"
    }
   ],
   "source": [
    "# Distribution of failure/non-failure by device type - are there specific devices that tend to fail more than others?\n",
    "failure_device = pd.crosstab(index = device_data[\"device_type\"],\n",
    "                             columns = device_data[\"failure\"],\n",
    "                             margins = True)\n",
    "failure_device.columns = [\"non_failure\", \"failure\", \"total\"]\n",
    "\n",
    "print (failure_device[\"failure\"] / failure_device[\"total\"])\n",
    "failure_device"
   ]
  },
  {
   "cell_type": "code",
   "execution_count": 39,
   "metadata": {},
   "outputs": [
    {
     "data": {
      "text/html": [
       "<div>\n",
       "<table border=\"1\" class=\"dataframe\">\n",
       "  <thead>\n",
       "    <tr style=\"text-align: right;\">\n",
       "      <th>failure</th>\n",
       "      <th>0</th>\n",
       "      <th>1</th>\n",
       "      <th>All</th>\n",
       "    </tr>\n",
       "    <tr>\n",
       "      <th>day_of_week</th>\n",
       "      <th></th>\n",
       "      <th></th>\n",
       "      <th></th>\n",
       "    </tr>\n",
       "  </thead>\n",
       "  <tbody>\n",
       "    <tr>\n",
       "      <th>0</th>\n",
       "      <td>17859</td>\n",
       "      <td>27</td>\n",
       "      <td>17886</td>\n",
       "    </tr>\n",
       "    <tr>\n",
       "      <th>1</th>\n",
       "      <td>17516</td>\n",
       "      <td>18</td>\n",
       "      <td>17534</td>\n",
       "    </tr>\n",
       "    <tr>\n",
       "      <th>2</th>\n",
       "      <td>17121</td>\n",
       "      <td>15</td>\n",
       "      <td>17136</td>\n",
       "    </tr>\n",
       "    <tr>\n",
       "      <th>3</th>\n",
       "      <td>18119</td>\n",
       "      <td>22</td>\n",
       "      <td>18141</td>\n",
       "    </tr>\n",
       "    <tr>\n",
       "      <th>4</th>\n",
       "      <td>18029</td>\n",
       "      <td>12</td>\n",
       "      <td>18041</td>\n",
       "    </tr>\n",
       "    <tr>\n",
       "      <th>5</th>\n",
       "      <td>17889</td>\n",
       "      <td>8</td>\n",
       "      <td>17897</td>\n",
       "    </tr>\n",
       "    <tr>\n",
       "      <th>6</th>\n",
       "      <td>17855</td>\n",
       "      <td>4</td>\n",
       "      <td>17859</td>\n",
       "    </tr>\n",
       "    <tr>\n",
       "      <th>All</th>\n",
       "      <td>124388</td>\n",
       "      <td>106</td>\n",
       "      <td>124494</td>\n",
       "    </tr>\n",
       "  </tbody>\n",
       "</table>\n",
       "</div>"
      ],
      "text/plain": [
       "failure           0    1     All\n",
       "day_of_week                     \n",
       "0             17859   27   17886\n",
       "1             17516   18   17534\n",
       "2             17121   15   17136\n",
       "3             18119   22   18141\n",
       "4             18029   12   18041\n",
       "5             17889    8   17897\n",
       "6             17855    4   17859\n",
       "All          124388  106  124494"
      ]
     },
     "execution_count": 39,
     "metadata": {},
     "output_type": "execute_result"
    }
   ],
   "source": [
    "# Are there particular days of the week when a higher percent of devices fail?\n",
    "failure_day_week = pd.crosstab(index = device_data[\"day_of_week\"],\n",
    "                               columns = device_data[\"failure\"],\n",
    "                               margins = True)\n",
    "failure_day_week"
   ]
  },
  {
   "cell_type": "code",
   "execution_count": 40,
   "metadata": {
    "collapsed": true
   },
   "outputs": [],
   "source": [
    "# Prepare the data for the models\n",
    "# Drop certain variables\n",
    "drop_from_analysis = [\"date\", \"device\", \"year\", \"month\", \"device_type\"]\n",
    "analysis_set = device_data.drop(drop_from_analysis, axis = 1)"
   ]
  },
  {
   "cell_type": "code",
   "execution_count": null,
   "metadata": {
    "collapsed": true
   },
   "outputs": [],
   "source": []
  },
  {
   "cell_type": "markdown",
   "metadata": {},
   "source": [
    "#### Sampling\n",
    "Next, we need to create training and validation datasets to use in modeling. It is very important that when we create training and validation datasets, the rate of failure in those datasets remains the same as in the full set. If it's not the same as in the original dataset, our accuracy stats on the developed model will be wrong and cannot be trusted.\n",
    "<p>\n",
    "My initial plan for creating train and validation datasets was to use train_test_split() from sklearn. However, I was suspicious that with such a low rate of failure in the input dataset (0.000851), the train_test_split() function will not properly sample the data, and the resulting rates will be different.\n",
    "<p>\n",
    "I re-ran the sampling a couple of times, and in one of the draws, the training ended up having a failure rate which was about 1.5 times higher than in the original, or the validation sets.\n",
    "<p>\n",
    "Therefore, I implemented my sampling from the original set."
   ]
  },
  {
   "cell_type": "code",
   "execution_count": 48,
   "metadata": {},
   "outputs": [
    {
     "name": "stdout",
     "output_type": "stream",
     "text": [
      "The rate of failures in the original set is 0.0008514466560637460439860555529\n",
      "The rate of failures in the training set is 0.0008568062546856592053121987791\n",
      "The rate of failures in the validation set is 0.0008491497027976040208385927065\n"
     ]
    }
   ],
   "source": [
    "# THIS IS NOT A PROPER SAMPLING!!!\n",
    "# IF TIME PERMITS IMPLEMENT THE SAMPLING PROCESS I STARTED BELOW\n",
    "\n",
    "# For now just re-run this sampling until I get training and validation sets with failure rates similar to the original data\n",
    "\n",
    "x_train, x_validate, y_train, y_validate = train_test_split(analysis_set.drop([\"failure\"], axis = 1),\n",
    "                                                            analysis_set[\"failure\"],\n",
    "                                                            train_size = .3)\n",
    "\n",
    "# Test if the % failure and non-failure remains the same in the new datasets as in the original dataset\n",
    "print (\"The rate of failures in the original set is \" + str(Decimal(float(analysis_set[\"failure\"].value_counts()[1])) / sum(analysis_set[\"failure\"].value_counts())))\n",
    "print (\"The rate of failures in the training set is \" + str(Decimal(float(y_train.value_counts()[1])) / sum(y_train.value_counts())))\n",
    "print (\"The rate of failures in the validation set is \" + str(Decimal(float(y_validate.value_counts()[1])) / sum(y_validate.value_counts())))\n",
    "\n",
    "#The rate of failures in the original set is 0.0008514466560637460439860555529\n",
    "#The rate of failures in the training set is 0.001071007818357074006640248474\n",
    "#The rate of failures in the validation set is 0.0007573497349275927753425286301"
   ]
  },
  {
   "cell_type": "code",
   "execution_count": null,
   "metadata": {
    "collapsed": true
   },
   "outputs": [],
   "source": []
  },
  {
   "cell_type": "markdown",
   "metadata": {},
   "source": [
    "Split the data into training and validation, and prepare for modeling."
   ]
  },
  {
   "cell_type": "code",
   "execution_count": 49,
   "metadata": {},
   "outputs": [
    {
     "data": {
      "text/plain": [
       "'\\nsample_size = .3\\n_failure = analysis_set[analysis_set[\"failure\"] == 1]\\n_non_failure = analysis_set[analysis_set[\"failure\"] == 0]\\n\\n# Create the training samples\\n_failure_t = _failure.sample(frac = sample_size,\\n                             replace = False,\\n                             weights = None,\\n                             random_state = 7894)\\n\\n_non_failure_t = _non_failure.sample(frac = sample_size,\\n                                     replace = False,\\n                                     weights = None,\\n                                     random_state = 7894)\\n\\ntraining_set = pd.concat([_failure_t, _non_failure_t])\\n\\n\\n# Create the validation samples - drop the rows from the training sets\\n#_failure_v = _failure - _failure_t\\n#_non_failure_v = _non_failure - _non_failure_t\\n'"
      ]
     },
     "execution_count": 49,
     "metadata": {},
     "output_type": "execute_result"
    }
   ],
   "source": [
    "# Split the data into training and validation - there are so few cases that using the train_test_split function to split the dataset creates sets with different cases rates\n",
    "# Need to oversample the cases OR under-sample the non-cases\n",
    "# Create a training set - pull a 30% random sample without replacement from the training set\n",
    "\n",
    "\"\"\"\n",
    "sample_size = .3\n",
    "_failure = analysis_set[analysis_set[\"failure\"] == 1]\n",
    "_non_failure = analysis_set[analysis_set[\"failure\"] == 0]\n",
    "\n",
    "# Create the training samples\n",
    "_failure_t = _failure.sample(frac = sample_size,\n",
    "                             replace = False,\n",
    "                             weights = None,\n",
    "                             random_state = 7894)\n",
    "\n",
    "_non_failure_t = _non_failure.sample(frac = sample_size,\n",
    "                                     replace = False,\n",
    "                                     weights = None,\n",
    "                                     random_state = 7894)\n",
    "\n",
    "training_set = pd.concat([_failure_t, _non_failure_t])\n",
    "\n",
    "\n",
    "# Create the validation samples - drop the rows from the training sets\n",
    "#_failure_v = _failure - _failure_t\n",
    "#_non_failure_v = _non_failure - _non_failure_t\n",
    "\"\"\""
   ]
  },
  {
   "cell_type": "code",
   "execution_count": null,
   "metadata": {
    "collapsed": true
   },
   "outputs": [],
   "source": []
  },
  {
   "cell_type": "markdown",
   "metadata": {},
   "source": [
    "#### Variable selection\n",
    "The next step in the model development process is to find the features that are most predictive for the outcome. I'll use recursive feature elimination and XGboost for finding the features that are important."
   ]
  },
  {
   "cell_type": "code",
   "execution_count": 50,
   "metadata": {},
   "outputs": [
    {
     "data": {
      "text/plain": [
       "[('attribute1', True, 1),\n",
       " ('attribute2', True, 1),\n",
       " ('attribute3', True, 1),\n",
       " ('attribute4', True, 1),\n",
       " ('attribute5', True, 1),\n",
       " ('attribute6', True, 1),\n",
       " ('attribute7', True, 1),\n",
       " ('attribute9', True, 1),\n",
       " ('attribute1_dummy', False, 2),\n",
       " ('attribute2_dummy', False, 8),\n",
       " ('attribute3_dummy', False, 10),\n",
       " ('attribute4_dummy', False, 6),\n",
       " ('attribute7_dummy', False, 7),\n",
       " ('attribute9_dummy', False, 5),\n",
       " ('day_of_week', True, 1),\n",
       " ('device_type_s', False, 9),\n",
       " ('device_type_w', False, 3),\n",
       " ('device_type_z', False, 4)]"
      ]
     },
     "execution_count": 50,
     "metadata": {},
     "output_type": "execute_result"
    }
   ],
   "source": [
    "# 1) Variable selection with Recursive Feature Elimination\n",
    "vs_rfe = RFE(LogisticRegression())\n",
    "vs_rfe.fit(x_train, y_train)\n",
    "list(zip(x_train.columns, vs_rfe.support_, vs_rfe.ranking_))"
   ]
  },
  {
   "cell_type": "markdown",
   "metadata": {},
   "source": [
    "It appears that the recursive feature elimination suggests that we don't use in the model any of the dummies, except for the dummy for attribute1, and we shouldn't use the indicator for the type of device (_s, _w, _z)."
   ]
  },
  {
   "cell_type": "code",
   "execution_count": 51,
   "metadata": {},
   "outputs": [
    {
     "data": {
      "image/png": "[encoded data removed]",
      "text/plain": [
       "<matplotlib.figure.Figure at 0x113a71f60>"
      ]
     },
     "metadata": {},
     "output_type": "display_data"
    }
   ],
   "source": [
    "# 2) Variable selection using the feature importance from Random Forest\n",
    "# At this step Random Forest is used only as a feature selection method. I'll obtain the feature importance from RF\n",
    "# At a later stage, I'll also use Random Forest as a classification model\n",
    "vs_model_rf = RandomForestClassifier(n_estimators = 500,        # From prior experience I've noticed that a few hundred trees are usually enough for small datasets\n",
    "                                     random_state = 0,\n",
    "                                     max_depth = 2,             # We don't have much observations, so that's why I set max tree depth to 2\n",
    "                                     class_weight = \"balanced\") # parameter to adjust for the imbalanced dataset\n",
    "vs_model_rf.fit(x_train, y_train)\n",
    "\n",
    "# Plot the feature importance values\n",
    "def plotFeatureImportance(model):\n",
    "    plt.figure(figsize = (8, 7))\n",
    "    num_features = len(list(x_train.columns))\n",
    "    plt.barh(range(num_features), model.feature_importances_)\n",
    "    plt.yticks(np.arange(num_features), list(x_train.columns))\n",
    "    plt.xlabel(\"Variables importance\")\n",
    "    plt.ylabel(\"Variables names\")\n",
    "    \n",
    "plotFeatureImportance(vs_model_rf)"
   ]
  },
  {
   "cell_type": "code",
   "execution_count": 52,
   "metadata": {},
   "outputs": [
    {
     "data": {
      "image/svg+xml": [
       "<?xml version=\"1.0\" encoding=\"UTF-8\" standalone=\"no\"?>\n",
       "<!DOCTYPE svg PUBLIC \"-//W3C//DTD SVG 1.1//EN\"\n",
       " \"http://www.w3.org/Graphics/SVG/1.1/DTD/svg11.dtd\">\n",
       "<!-- Generated by graphviz version 2.38.0 (20140413.2041)\n",
       " -->\n",
       "<!-- Title: Tree Pages: 1 -->\n",
       "<svg width=\"1079pt\" height=\"358pt\"\n",
       " viewBox=\"0.00 0.00 1079.28 358.00\" xmlns=\"http://www.w3.org/2000/svg\" xmlns:xlink=\"http://www.w3.org/1999/xlink\">\n",
       "<g id=\"graph0\" class=\"graph\" transform=\"scale(1 1) rotate(0) translate(4 354)\">\n",
       "<title>Tree</title>\n",
       "<polygon fill=\"white\" stroke=\"none\" points=\"-4,4 -4,-354 1075.28,-354 1075.28,4 -4,4\"/>\n",
       "<!-- 0 -->\n",
       "<g id=\"node1\" class=\"node\"><title>0</title>\n",
       "<path fill=\"#e58139\" stroke=\"black\" d=\"M608.213,-350C608.213,-350 496.24,-350 496.24,-350 490.24,-350 484.24,-344 484.24,-338 484.24,-338 484.24,-298 484.24,-298 484.24,-292 490.24,-286 496.24,-286 496.24,-286 608.213,-286 608.213,-286 614.213,-286 620.213,-292 620.213,-298 620.213,-298 620.213,-338 620.213,-338 620.213,-344 614.213,-350 608.213,-350\"/>\n",
       "<text text-anchor=\"start\" x=\"505.578\" y=\"-334.8\" font-family=\"Helvetica,sans-Serif\" font-size=\"14.00\">attribute7 ≤ 7.0</text>\n",
       "<text text-anchor=\"start\" x=\"507.277\" y=\"-320.8\" font-family=\"Helvetica,sans-Serif\" font-size=\"14.00\">entropy = 0.01</text>\n",
       "<text text-anchor=\"start\" x=\"498.718\" y=\"-306.8\" font-family=\"Helvetica,sans-Serif\" font-size=\"14.00\">samples = 37348</text>\n",
       "<text text-anchor=\"start\" x=\"492.484\" y=\"-292.8\" font-family=\"Helvetica,sans-Serif\" font-size=\"14.00\">value = [37316, 32]</text>\n",
       "</g>\n",
       "<!-- 1 -->\n",
       "<g id=\"node2\" class=\"node\"><title>1</title>\n",
       "<path fill=\"#e58139\" stroke=\"black\" d=\"M511.669,-250C511.669,-250 394.784,-250 394.784,-250 388.784,-250 382.784,-244 382.784,-238 382.784,-238 382.784,-198 382.784,-198 382.784,-192 388.784,-186 394.784,-186 394.784,-186 511.669,-186 511.669,-186 517.669,-186 523.669,-192 523.669,-198 523.669,-198 523.669,-238 523.669,-238 523.669,-244 517.669,-250 511.669,-250\"/>\n",
       "<text text-anchor=\"start\" x=\"391.006\" y=\"-234.8\" font-family=\"Helvetica,sans-Serif\" font-size=\"14.00\">attribute2 ≤ 10184.0</text>\n",
       "<text text-anchor=\"start\" x=\"400.491\" y=\"-220.8\" font-family=\"Helvetica,sans-Serif\" font-size=\"14.00\">entropy = 0.0064</text>\n",
       "<text text-anchor=\"start\" x=\"399.718\" y=\"-206.8\" font-family=\"Helvetica,sans-Serif\" font-size=\"14.00\">samples = 36910</text>\n",
       "<text text-anchor=\"start\" x=\"393.484\" y=\"-192.8\" font-family=\"Helvetica,sans-Serif\" font-size=\"14.00\">value = [36891, 19]</text>\n",
       "</g>\n",
       "<!-- 0&#45;&gt;1 -->\n",
       "<g id=\"edge1\" class=\"edge\"><title>0&#45;&gt;1</title>\n",
       "<path fill=\"none\" stroke=\"black\" d=\"M520.902,-285.992C511.693,-276.876 501.51,-266.796 491.899,-257.282\"/>\n",
       "<polygon fill=\"black\" stroke=\"black\" points=\"494.256,-254.69 484.687,-250.142 489.331,-259.665 494.256,-254.69\"/>\n",
       "<text text-anchor=\"middle\" x=\"484.814\" y=\"-270.942\" font-family=\"Helvetica,sans-Serif\" font-size=\"14.00\">True</text>\n",
       "</g>\n",
       "<!-- 8 -->\n",
       "<g id=\"node9\" class=\"node\"><title>8</title>\n",
       "<path fill=\"#e58139\" fill-opacity=\"0.968627\" stroke=\"black\" d=\"M707.155,-250C707.155,-250 597.298,-250 597.298,-250 591.298,-250 585.298,-244 585.298,-238 585.298,-238 585.298,-198 585.298,-198 585.298,-192 591.298,-186 597.298,-186 597.298,-186 707.155,-186 707.155,-186 713.155,-186 719.155,-192 719.155,-198 719.155,-198 719.155,-238 719.155,-238 719.155,-244 713.155,-250 707.155,-250\"/>\n",
       "<text text-anchor=\"start\" x=\"593.513\" y=\"-234.8\" font-family=\"Helvetica,sans-Serif\" font-size=\"14.00\">day_of_week ≤ 0.5</text>\n",
       "<text text-anchor=\"start\" x=\"599.491\" y=\"-220.8\" font-family=\"Helvetica,sans-Serif\" font-size=\"14.00\">entropy = 0.1928</text>\n",
       "<text text-anchor=\"start\" x=\"606.504\" y=\"-206.8\" font-family=\"Helvetica,sans-Serif\" font-size=\"14.00\">samples = 438</text>\n",
       "<text text-anchor=\"start\" x=\"600.27\" y=\"-192.8\" font-family=\"Helvetica,sans-Serif\" font-size=\"14.00\">value = [425, 13]</text>\n",
       "</g>\n",
       "<!-- 0&#45;&gt;8 -->\n",
       "<g id=\"edge8\" class=\"edge\"><title>0&#45;&gt;8</title>\n",
       "<path fill=\"none\" stroke=\"black\" d=\"M583.867,-285.992C593.169,-276.876 603.455,-266.796 613.163,-257.282\"/>\n",
       "<polygon fill=\"black\" stroke=\"black\" points=\"615.756,-259.642 620.449,-250.142 610.857,-254.642 615.756,-259.642\"/>\n",
       "<text text-anchor=\"middle\" x=\"620.196\" y=\"-270.941\" font-family=\"Helvetica,sans-Serif\" font-size=\"14.00\">False</text>\n",
       "</g>\n",
       "<!-- 2 -->\n",
       "<g id=\"node3\" class=\"node\"><title>2</title>\n",
       "<path fill=\"#e58139\" stroke=\"black\" d=\"M269.213,-150C269.213,-150 157.24,-150 157.24,-150 151.24,-150 145.24,-144 145.24,-138 145.24,-138 145.24,-98 145.24,-98 145.24,-92 151.24,-86 157.24,-86 157.24,-86 269.213,-86 269.213,-86 275.213,-86 281.213,-92 281.213,-98 281.213,-98 281.213,-138 281.213,-138 281.213,-144 275.213,-150 269.213,-150\"/>\n",
       "<text text-anchor=\"start\" x=\"162.685\" y=\"-134.8\" font-family=\"Helvetica,sans-Serif\" font-size=\"14.00\">attribute4 ≤ 15.5</text>\n",
       "<text text-anchor=\"start\" x=\"160.491\" y=\"-120.8\" font-family=\"Helvetica,sans-Serif\" font-size=\"14.00\">entropy = 0.0049</text>\n",
       "<text text-anchor=\"start\" x=\"159.718\" y=\"-106.8\" font-family=\"Helvetica,sans-Serif\" font-size=\"14.00\">samples = 36837</text>\n",
       "<text text-anchor=\"start\" x=\"153.484\" y=\"-92.8\" font-family=\"Helvetica,sans-Serif\" font-size=\"14.00\">value = [36823, 14]</text>\n",
       "</g>\n",
       "<!-- 1&#45;&gt;2 -->\n",
       "<g id=\"edge2\" class=\"edge\"><title>1&#45;&gt;2</title>\n",
       "<path fill=\"none\" stroke=\"black\" d=\"M382.84,-188.259C353.885,-176.436 320.252,-162.702 290.607,-150.597\"/>\n",
       "<polygon fill=\"black\" stroke=\"black\" points=\"291.715,-147.269 281.134,-146.729 289.068,-153.749 291.715,-147.269\"/>\n",
       "</g>\n",
       "<!-- 5 -->\n",
       "<g id=\"node6\" class=\"node\"><title>5</title>\n",
       "<path fill=\"#e58139\" fill-opacity=\"0.925490\" stroke=\"black\" d=\"M522.706,-150C522.706,-150 383.747,-150 383.747,-150 377.747,-150 371.747,-144 371.747,-138 371.747,-138 371.747,-98 371.747,-98 371.747,-92 377.747,-86 383.747,-86 383.747,-86 522.706,-86 522.706,-86 528.706,-86 534.706,-92 534.706,-98 534.706,-98 534.706,-138 534.706,-138 534.706,-144 528.706,-150 522.706,-150\"/>\n",
       "<text text-anchor=\"start\" x=\"379.737\" y=\"-134.8\" font-family=\"Helvetica,sans-Serif\" font-size=\"14.00\">attribute9_dummy ≤ 0.5</text>\n",
       "<text text-anchor=\"start\" x=\"400.491\" y=\"-120.8\" font-family=\"Helvetica,sans-Serif\" font-size=\"14.00\">entropy = 0.3603</text>\n",
       "<text text-anchor=\"start\" x=\"411.397\" y=\"-106.8\" font-family=\"Helvetica,sans-Serif\" font-size=\"14.00\">samples = 73</text>\n",
       "<text text-anchor=\"start\" x=\"409.056\" y=\"-92.8\" font-family=\"Helvetica,sans-Serif\" font-size=\"14.00\">value = [68, 5]</text>\n",
       "</g>\n",
       "<!-- 1&#45;&gt;5 -->\n",
       "<g id=\"edge5\" class=\"edge\"><title>1&#45;&gt;5</title>\n",
       "<path fill=\"none\" stroke=\"black\" d=\"M453.227,-185.992C453.227,-177.859 453.227,-168.959 453.227,-160.378\"/>\n",
       "<polygon fill=\"black\" stroke=\"black\" points=\"456.727,-160.142 453.227,-150.142 449.727,-160.142 456.727,-160.142\"/>\n",
       "</g>\n",
       "<!-- 3 -->\n",
       "<g id=\"node4\" class=\"node\"><title>3</title>\n",
       "<path fill=\"#e58139\" stroke=\"black\" d=\"M122.68,-50C122.68,-50 11.7727,-50 11.7727,-50 5.77267,-50 -0.227329,-44 -0.227329,-38 -0.227329,-38 -0.227329,-12 -0.227329,-12 -0.227329,-6 5.77267,-0 11.7727,-0 11.7727,-0 122.68,-0 122.68,-0 128.68,-0 134.68,-6 134.68,-12 134.68,-12 134.68,-38 134.68,-38 134.68,-44 128.68,-50 122.68,-50\"/>\n",
       "<text text-anchor=\"start\" x=\"18.3838\" y=\"-34.8\" font-family=\"Helvetica,sans-Serif\" font-size=\"14.00\">entropy = 0.004</text>\n",
       "<text text-anchor=\"start\" x=\"13.7183\" y=\"-20.8\" font-family=\"Helvetica,sans-Serif\" font-size=\"14.00\">samples = 36406</text>\n",
       "<text text-anchor=\"start\" x=\"8\" y=\"-6.8\" font-family=\"Helvetica,sans-Serif\" font-size=\"14.00\">value = [36395, 11]</text>\n",
       "</g>\n",
       "<!-- 2&#45;&gt;3 -->\n",
       "<g id=\"edge3\" class=\"edge\"><title>2&#45;&gt;3</title>\n",
       "<path fill=\"none\" stroke=\"black\" d=\"M163.39,-85.9375C147.498,-76.0324 129.973,-65.109 114.285,-55.3308\"/>\n",
       "<polygon fill=\"black\" stroke=\"black\" points=\"116.118,-52.3494 105.78,-50.0301 112.415,-58.2899 116.118,-52.3494\"/>\n",
       "</g>\n",
       "<!-- 4 -->\n",
       "<g id=\"node5\" class=\"node\"><title>4</title>\n",
       "<path fill=\"#e58139\" fill-opacity=\"0.992157\" stroke=\"black\" d=\"M262.199,-50C262.199,-50 164.254,-50 164.254,-50 158.254,-50 152.254,-44 152.254,-38 152.254,-38 152.254,-12 152.254,-12 152.254,-6 158.254,-0 164.254,-0 164.254,-0 262.199,-0 262.199,-0 268.199,-0 274.199,-6 274.199,-12 274.199,-12 274.199,-38 274.199,-38 274.199,-44 268.199,-50 262.199,-50\"/>\n",
       "<text text-anchor=\"start\" x=\"160.491\" y=\"-34.8\" font-family=\"Helvetica,sans-Serif\" font-size=\"14.00\">entropy = 0.0599</text>\n",
       "<text text-anchor=\"start\" x=\"167.504\" y=\"-20.8\" font-family=\"Helvetica,sans-Serif\" font-size=\"14.00\">samples = 431</text>\n",
       "<text text-anchor=\"start\" x=\"165.163\" y=\"-6.8\" font-family=\"Helvetica,sans-Serif\" font-size=\"14.00\">value = [428, 3]</text>\n",
       "</g>\n",
       "<!-- 2&#45;&gt;4 -->\n",
       "<g id=\"edge4\" class=\"edge\"><title>2&#45;&gt;4</title>\n",
       "<path fill=\"none\" stroke=\"black\" d=\"M213.227,-85.9375C213.227,-77.6833 213.227,-68.7219 213.227,-60.3053\"/>\n",
       "<polygon fill=\"black\" stroke=\"black\" points=\"216.727,-60.03 213.227,-50.0301 209.727,-60.0301 216.727,-60.03\"/>\n",
       "</g>\n",
       "<!-- 6 -->\n",
       "<g id=\"node7\" class=\"node\"><title>6</title>\n",
       "<path fill=\"#e58139\" fill-opacity=\"0.984314\" stroke=\"black\" d=\"M400.667,-50C400.667,-50 303.786,-50 303.786,-50 297.786,-50 291.786,-44 291.786,-38 291.786,-38 291.786,-12 291.786,-12 291.786,-6 297.786,-0 303.786,-0 303.786,-0 400.667,-0 400.667,-0 406.667,-0 412.667,-6 412.667,-12 412.667,-12 412.667,-38 412.667,-38 412.667,-44 406.667,-50 400.667,-50\"/>\n",
       "<text text-anchor=\"start\" x=\"300.007\" y=\"-34.8\" font-family=\"Helvetica,sans-Serif\" font-size=\"14.00\">entropy = 0.1176</text>\n",
       "<text text-anchor=\"start\" x=\"310.397\" y=\"-20.8\" font-family=\"Helvetica,sans-Serif\" font-size=\"14.00\">samples = 63</text>\n",
       "<text text-anchor=\"start\" x=\"308.056\" y=\"-6.8\" font-family=\"Helvetica,sans-Serif\" font-size=\"14.00\">value = [62, 1]</text>\n",
       "</g>\n",
       "<!-- 5&#45;&gt;6 -->\n",
       "<g id=\"edge6\" class=\"edge\"><title>5&#45;&gt;6</title>\n",
       "<path fill=\"none\" stroke=\"black\" d=\"M418.751,-85.9375C408.368,-76.5827 396.977,-66.3196 386.601,-56.9708\"/>\n",
       "<polygon fill=\"black\" stroke=\"black\" points=\"388.669,-54.1236 378.897,-50.0301 383.984,-59.3241 388.669,-54.1236\"/>\n",
       "</g>\n",
       "<!-- 7 -->\n",
       "<g id=\"node8\" class=\"node\"><title>7</title>\n",
       "<path fill=\"#e58139\" fill-opacity=\"0.333333\" stroke=\"black\" d=\"M531.913,-50C531.913,-50 442.541,-50 442.541,-50 436.541,-50 430.541,-44 430.541,-38 430.541,-38 430.541,-12 430.541,-12 430.541,-6 436.541,-0 442.541,-0 442.541,-0 531.913,-0 531.913,-0 537.913,-0 543.913,-6 543.913,-12 543.913,-12 543.913,-38 543.913,-38 543.913,-44 537.913,-50 531.913,-50\"/>\n",
       "<text text-anchor=\"start\" x=\"438.384\" y=\"-34.8\" font-family=\"Helvetica,sans-Serif\" font-size=\"14.00\">entropy = 0.971</text>\n",
       "<text text-anchor=\"start\" x=\"445.397\" y=\"-20.8\" font-family=\"Helvetica,sans-Serif\" font-size=\"14.00\">samples = 10</text>\n",
       "<text text-anchor=\"start\" x=\"446.949\" y=\"-6.8\" font-family=\"Helvetica,sans-Serif\" font-size=\"14.00\">value = [6, 4]</text>\n",
       "</g>\n",
       "<!-- 5&#45;&gt;7 -->\n",
       "<g id=\"edge7\" class=\"edge\"><title>5&#45;&gt;7</title>\n",
       "<path fill=\"none\" stroke=\"black\" d=\"M464.832,-85.9375C468.019,-77.4081 471.488,-68.1236 474.723,-59.4655\"/>\n",
       "<polygon fill=\"black\" stroke=\"black\" points=\"478.027,-60.6226 478.248,-50.0301 471.47,-58.1726 478.027,-60.6226\"/>\n",
       "</g>\n",
       "<!-- 9 -->\n",
       "<g id=\"node10\" class=\"node\"><title>9</title>\n",
       "<path fill=\"#e58139\" fill-opacity=\"0.882353\" stroke=\"black\" d=\"M701.199,-150C701.199,-150 603.254,-150 603.254,-150 597.254,-150 591.254,-144 591.254,-138 591.254,-138 591.254,-98 591.254,-98 591.254,-92 597.254,-86 603.254,-86 603.254,-86 701.199,-86 701.199,-86 707.199,-86 713.199,-92 713.199,-98 713.199,-98 713.199,-138 713.199,-138 713.199,-144 707.199,-150 701.199,-150\"/>\n",
       "<text text-anchor=\"start\" x=\"605.578\" y=\"-134.8\" font-family=\"Helvetica,sans-Serif\" font-size=\"14.00\">attribute4 ≤ 5.5</text>\n",
       "<text text-anchor=\"start\" x=\"599.491\" y=\"-120.8\" font-family=\"Helvetica,sans-Serif\" font-size=\"14.00\">entropy = 0.4898</text>\n",
       "<text text-anchor=\"start\" x=\"610.397\" y=\"-106.8\" font-family=\"Helvetica,sans-Serif\" font-size=\"14.00\">samples = 75</text>\n",
       "<text text-anchor=\"start\" x=\"608.056\" y=\"-92.8\" font-family=\"Helvetica,sans-Serif\" font-size=\"14.00\">value = [67, 8]</text>\n",
       "</g>\n",
       "<!-- 8&#45;&gt;9 -->\n",
       "<g id=\"edge9\" class=\"edge\"><title>8&#45;&gt;9</title>\n",
       "<path fill=\"none\" stroke=\"black\" d=\"M652.227,-185.992C652.227,-177.859 652.227,-168.959 652.227,-160.378\"/>\n",
       "<polygon fill=\"black\" stroke=\"black\" points=\"655.727,-160.142 652.227,-150.142 648.727,-160.142 655.727,-160.142\"/>\n",
       "</g>\n",
       "<!-- 12 -->\n",
       "<g id=\"node13\" class=\"node\"><title>12</title>\n",
       "<path fill=\"#e58139\" fill-opacity=\"0.984314\" stroke=\"black\" d=\"M944.596,-150C944.596,-150 843.857,-150 843.857,-150 837.857,-150 831.857,-144 831.857,-138 831.857,-138 831.857,-98 831.857,-98 831.857,-92 837.857,-86 843.857,-86 843.857,-86 944.596,-86 944.596,-86 950.596,-86 956.596,-92 956.596,-98 956.596,-98 956.596,-138 956.596,-138 956.596,-144 950.596,-150 944.596,-150\"/>\n",
       "<text text-anchor=\"start\" x=\"839.792\" y=\"-134.8\" font-family=\"Helvetica,sans-Serif\" font-size=\"14.00\">attribute7 ≤ 740.0</text>\n",
       "<text text-anchor=\"start\" x=\"841.491\" y=\"-120.8\" font-family=\"Helvetica,sans-Serif\" font-size=\"14.00\">entropy = 0.1049</text>\n",
       "<text text-anchor=\"start\" x=\"848.504\" y=\"-106.8\" font-family=\"Helvetica,sans-Serif\" font-size=\"14.00\">samples = 363</text>\n",
       "<text text-anchor=\"start\" x=\"846.163\" y=\"-92.8\" font-family=\"Helvetica,sans-Serif\" font-size=\"14.00\">value = [358, 5]</text>\n",
       "</g>\n",
       "<!-- 8&#45;&gt;12 -->\n",
       "<g id=\"edge12\" class=\"edge\"><title>8&#45;&gt;12</title>\n",
       "<path fill=\"none\" stroke=\"black\" d=\"M718.995,-189.962C751.083,-176.967 789.587,-161.375 822.319,-148.12\"/>\n",
       "<polygon fill=\"black\" stroke=\"black\" points=\"823.877,-151.265 831.832,-144.267 821.249,-144.777 823.877,-151.265\"/>\n",
       "</g>\n",
       "<!-- 10 -->\n",
       "<g id=\"node11\" class=\"node\"><title>10</title>\n",
       "<path fill=\"#e58139\" fill-opacity=\"0.980392\" stroke=\"black\" d=\"M663.913,-50C663.913,-50 574.541,-50 574.541,-50 568.541,-50 562.541,-44 562.541,-38 562.541,-38 562.541,-12 562.541,-12 562.541,-6 568.541,-0 574.541,-0 574.541,-0 663.913,-0 663.913,-0 669.913,-0 675.913,-6 675.913,-12 675.913,-12 675.913,-38 675.913,-38 675.913,-44 669.913,-50 663.913,-50\"/>\n",
       "<text text-anchor=\"start\" x=\"570.384\" y=\"-34.8\" font-family=\"Helvetica,sans-Serif\" font-size=\"14.00\">entropy = 0.135</text>\n",
       "<text text-anchor=\"start\" x=\"577.397\" y=\"-20.8\" font-family=\"Helvetica,sans-Serif\" font-size=\"14.00\">samples = 53</text>\n",
       "<text text-anchor=\"start\" x=\"575.056\" y=\"-6.8\" font-family=\"Helvetica,sans-Serif\" font-size=\"14.00\">value = [52, 1]</text>\n",
       "</g>\n",
       "<!-- 9&#45;&gt;10 -->\n",
       "<g id=\"edge10\" class=\"edge\"><title>9&#45;&gt;10</title>\n",
       "<path fill=\"none\" stroke=\"black\" d=\"M640.962,-85.9375C637.869,-77.4081 634.502,-68.1236 631.362,-59.4655\"/>\n",
       "<polygon fill=\"black\" stroke=\"black\" points=\"634.64,-58.2378 627.941,-50.0301 628.06,-60.6242 634.64,-58.2378\"/>\n",
       "</g>\n",
       "<!-- 11 -->\n",
       "<g id=\"node12\" class=\"node\"><title>11</title>\n",
       "<path fill=\"#e58139\" fill-opacity=\"0.533333\" stroke=\"black\" d=\"M804.199,-50C804.199,-50 706.254,-50 706.254,-50 700.254,-50 694.254,-44 694.254,-38 694.254,-38 694.254,-12 694.254,-12 694.254,-6 700.254,-0 706.254,-0 706.254,-0 804.199,-0 804.199,-0 810.199,-0 816.199,-6 816.199,-12 816.199,-12 816.199,-38 816.199,-38 816.199,-44 810.199,-50 804.199,-50\"/>\n",
       "<text text-anchor=\"start\" x=\"702.491\" y=\"-34.8\" font-family=\"Helvetica,sans-Serif\" font-size=\"14.00\">entropy = 0.9024</text>\n",
       "<text text-anchor=\"start\" x=\"713.397\" y=\"-20.8\" font-family=\"Helvetica,sans-Serif\" font-size=\"14.00\">samples = 22</text>\n",
       "<text text-anchor=\"start\" x=\"711.056\" y=\"-6.8\" font-family=\"Helvetica,sans-Serif\" font-size=\"14.00\">value = [15, 7]</text>\n",
       "</g>\n",
       "<!-- 9&#45;&gt;11 -->\n",
       "<g id=\"edge11\" class=\"edge\"><title>9&#45;&gt;11</title>\n",
       "<path fill=\"none\" stroke=\"black\" d=\"M687.385,-85.9375C698.077,-76.491 709.818,-66.1182 720.483,-56.6961\"/>\n",
       "<polygon fill=\"black\" stroke=\"black\" points=\"722.851,-59.2741 728.028,-50.0301 718.216,-54.0282 722.851,-59.2741\"/>\n",
       "</g>\n",
       "<!-- 13 -->\n",
       "<g id=\"node14\" class=\"node\"><title>13</title>\n",
       "<path fill=\"#e58139\" fill-opacity=\"0.988235\" stroke=\"black\" d=\"M943.199,-50C943.199,-50 845.254,-50 845.254,-50 839.254,-50 833.254,-44 833.254,-38 833.254,-38 833.254,-12 833.254,-12 833.254,-6 839.254,-0 845.254,-0 845.254,-0 943.199,-0 943.199,-0 949.199,-0 955.199,-6 955.199,-12 955.199,-12 955.199,-38 955.199,-38 955.199,-44 949.199,-50 943.199,-50\"/>\n",
       "<text text-anchor=\"start\" x=\"841.491\" y=\"-34.8\" font-family=\"Helvetica,sans-Serif\" font-size=\"14.00\">entropy = 0.0877</text>\n",
       "<text text-anchor=\"start\" x=\"848.504\" y=\"-20.8\" font-family=\"Helvetica,sans-Serif\" font-size=\"14.00\">samples = 362</text>\n",
       "<text text-anchor=\"start\" x=\"846.163\" y=\"-6.8\" font-family=\"Helvetica,sans-Serif\" font-size=\"14.00\">value = [358, 4]</text>\n",
       "</g>\n",
       "<!-- 12&#45;&gt;13 -->\n",
       "<g id=\"edge13\" class=\"edge\"><title>12&#45;&gt;13</title>\n",
       "<path fill=\"none\" stroke=\"black\" d=\"M894.227,-85.9375C894.227,-77.6833 894.227,-68.7219 894.227,-60.3053\"/>\n",
       "<polygon fill=\"black\" stroke=\"black\" points=\"897.727,-60.03 894.227,-50.0301 890.727,-60.0301 897.727,-60.03\"/>\n",
       "</g>\n",
       "<!-- 14 -->\n",
       "<g id=\"node15\" class=\"node\"><title>14</title>\n",
       "<path fill=\"#399de5\" stroke=\"black\" d=\"M1059.34,-50C1059.34,-50 985.113,-50 985.113,-50 979.113,-50 973.113,-44 973.113,-38 973.113,-38 973.113,-12 973.113,-12 973.113,-6 979.113,-0 985.113,-0 985.113,-0 1059.34,-0 1059.34,-0 1065.34,-0 1071.34,-6 1071.34,-12 1071.34,-12 1071.34,-38 1071.34,-38 1071.34,-44 1065.34,-50 1059.34,-50\"/>\n",
       "<text text-anchor=\"start\" x=\"981.17\" y=\"-34.8\" font-family=\"Helvetica,sans-Serif\" font-size=\"14.00\">entropy = 0.0</text>\n",
       "<text text-anchor=\"start\" x=\"984.291\" y=\"-20.8\" font-family=\"Helvetica,sans-Serif\" font-size=\"14.00\">samples = 1</text>\n",
       "<text text-anchor=\"start\" x=\"981.949\" y=\"-6.8\" font-family=\"Helvetica,sans-Serif\" font-size=\"14.00\">value = [0, 1]</text>\n",
       "</g>\n",
       "<!-- 12&#45;&gt;14 -->\n",
       "<g id=\"edge14\" class=\"edge\"><title>12&#45;&gt;14</title>\n",
       "<path fill=\"none\" stroke=\"black\" d=\"M937.919,-85.9375C951.593,-76.2158 966.648,-65.5132 980.204,-55.8752\"/>\n",
       "<polygon fill=\"black\" stroke=\"black\" points=\"982.304,-58.677 988.426,-50.0301 978.248,-52.9718 982.304,-58.677\"/>\n",
       "</g>\n",
       "</g>\n",
       "</svg>\n"
      ],
      "text/plain": [
       "<graphviz.files.Source at 0x11381a898>"
      ]
     },
     "execution_count": 52,
     "metadata": {},
     "output_type": "execute_result"
    }
   ],
   "source": [
    "# 3) Finally, I'll build a decision tree to understand if there are any features from which we need to create categories\n",
    "# Specify the decision tree model and fit\n",
    "vs_model_dt = DecisionTreeClassifier(criterion = \"entropy\",\n",
    "                                     random_state = 99,\n",
    "                                     max_depth = 3,\n",
    "                                     min_samples_split = 20)\n",
    "vs_model_dt.fit(x_train, y_train)\n",
    "\n",
    "# Visualize the decision tree\n",
    "# Export the data from the decision tree as a DOT object\n",
    "dt_viz = export_graphviz(vs_model_dt,\n",
    "                         out_file = None,\n",
    "                         feature_names = list(x_train),\n",
    "                         filled = True, rounded = True,\n",
    "                         special_characters = True)\n",
    "\n",
    "# Plot the tree and explore which features split the tree\n",
    "graphviz.Source(dt_viz)"
   ]
  },
  {
   "cell_type": "code",
   "execution_count": null,
   "metadata": {
    "collapsed": true
   },
   "outputs": [],
   "source": []
  },
  {
   "cell_type": "markdown",
   "metadata": {},
   "source": [
    "#### Modify the list of variables based on the variable selection analysis\n",
    "\n",
    "## MAKE SURE TO MODIFY THE FINAL LIST after feature selection - based on RFE, RF and DT!!!!\n"
   ]
  },
  {
   "cell_type": "code",
   "execution_count": 53,
   "metadata": {
    "collapsed": true
   },
   "outputs": [],
   "source": [
    "drop_vars = [\"attribute9\",\n",
    "             \"attribute2_dummy\", \"attribute3_dummy\", \"attribute4_dummy\", \"attribute7_dummy\", \"attribute9_dummy\",\n",
    "             \"device_type_s\", \"device_type_w\", \"device_type_z\"]\n",
    "\n",
    "x_train = x_train.drop(drop_vars, axis = 1)\n",
    "x_validate = x_validate.drop(drop_vars, axis = 1)"
   ]
  },
  {
   "cell_type": "code",
   "execution_count": null,
   "metadata": {
    "collapsed": true
   },
   "outputs": [],
   "source": []
  },
  {
   "cell_type": "code",
   "execution_count": 81,
   "metadata": {},
   "outputs": [
    {
     "name": "stdout",
     "output_type": "stream",
     "text": [
      "Print stats for method: Logistic regression\n",
      "\n",
      "The number of False Negative in the validation set is 46 \n",
      "The number of False Positive in the validation set is 2200 \n",
      "\n",
      "Accuracy on training set is 0.97288\n",
      "Recall (tp/(tp+fn)) of training set is 0.50000\n",
      "\n",
      "Accuracy on validation set is 0.97423\n",
      "Recall (tp/(tp+fn)) of validation set is 0.37838\n"
     ]
    }
   ],
   "source": [
    "# 1) Logistic regression\n",
    "# This is the easiest method for developing binary classification models\n",
    "# We'll use the logistic regression as a benchmark for all other methods\n",
    "\n",
    "model_lr = LogisticRegression(C = 1.0,\n",
    "                              penalty = \"l2\",\n",
    "                              class_weight = \"balanced\")   # parameter to adjust for the imbalanced dataset\n",
    "model_lr.fit(x_train, y_train)\n",
    "\n",
    "\"\"\"\n",
    "class_weight : dict or ‘balanced’, default: None\n",
    "\n",
    "Weights associated with classes in the form {class_label: weight}. If not given, all classes are supposed to have\n",
    "weight one. The “balanced” mode uses the values of y to automatically adjust weights inversely proportional to\n",
    "class frequencies in the input data as n_samples / (n_classes * np.bincount(y))\n",
    "\"\"\"\n",
    "\n",
    "# Predict on training set and check the accuracy\n",
    "pred_model_lr = model_lr.predict(x_train)\n",
    "\n",
    "modelAccuracyStats(model_lr, \"Logistic regression\", x_train, y_train, x_validate, y_validate)"
   ]
  },
  {
   "cell_type": "code",
   "execution_count": null,
   "metadata": {
    "collapsed": true
   },
   "outputs": [],
   "source": []
  },
  {
   "cell_type": "code",
   "execution_count": 82,
   "metadata": {},
   "outputs": [
    {
     "name": "stdout",
     "output_type": "stream",
     "text": [
      "Print stats for method: Random Forest\n",
      "\n",
      "The number of False Negative in the validation set is 25 \n",
      "The number of False Positive in the validation set is 3841 \n",
      "\n",
      "Accuracy on training set is 0.95574\n",
      "Recall (tp/(tp+fn)) of training set is 0.75000\n",
      "\n",
      "Accuracy on validation set is 0.95564\n",
      "Recall (tp/(tp+fn)) of validation set is 0.66216\n"
     ]
    }
   ],
   "source": [
    "# 2) Random Forest classifier\n",
    "# Define a random forest model and fit\n",
    "model_rf = RandomForestClassifier(n_estimators = 500,\n",
    "                                  random_state = 0,\n",
    "                                  verbose = 0,\n",
    "                                  max_depth = 2,\n",
    "                                  class_weight = \"balanced\") # parameter to adjust for the imbalanced dataset\n",
    "model_rf.fit(x_train, y_train)\n",
    "\n",
    "modelAccuracyStats(model_rf, \"Random Forest\", x_train, y_train, x_validate, y_validate)"
   ]
  },
  {
   "cell_type": "code",
   "execution_count": null,
   "metadata": {
    "collapsed": true
   },
   "outputs": [],
   "source": []
  },
  {
   "cell_type": "code",
   "execution_count": null,
   "metadata": {
    "collapsed": true
   },
   "outputs": [],
   "source": [
    "# 3) Support vector machine\n",
    "# SVM expects that all features have similar mean and stddev. Rescale the features before feeding the data to the model\n",
    "# IMPORTANT - the rescaling needs to be done with the complete dataset, from which we'll pull training and validation samples"
   ]
  },
  {
   "cell_type": "code",
   "execution_count": 93,
   "metadata": {},
   "outputs": [
    {
     "name": "stdout",
     "output_type": "stream",
     "text": [
      "The rate of failures in the original set is 0.0008514466560637460439860555529\n",
      "The rate of failures in the training set is 0.0008300310592267323551461925672\n",
      "The rate of failures in the validation set is 0.0008606246987813554265256007160\n"
     ]
    }
   ],
   "source": [
    "# For now just re-run this sampling until I get training and validation sets with failure rates similar to the original data\n",
    "scaler = MinMaxScaler()\n",
    "analysis_set_scaled = scaler.fit_transform(analysis_set.drop([\"failure\"], axis = 1))\n",
    "                                          \n",
    "x_train_s, x_validate_s, y_train_s, y_validate_s = train_test_split(analysis_set_scaled,\n",
    "                                                                    analysis_set[\"failure\"],\n",
    "                                                                    train_size = .3)\n",
    "\n",
    "# Test if the % failure and non-failure remains the same in the new datasets as in the original dataset\n",
    "print (\"The rate of failures in the original set is \" + str(Decimal(float(analysis_set[\"failure\"].value_counts()[1])) / sum(analysis_set[\"failure\"].value_counts())))\n",
    "print (\"The rate of failures in the training set is \" + str(Decimal(float(y_train_s.value_counts()[1])) / sum(y_train_s.value_counts())))\n",
    "print (\"The rate of failures in the validation set is \" + str(Decimal(float(y_validate_s.value_counts()[1])) / sum(y_validate_s.value_counts())))\n"
   ]
  },
  {
   "cell_type": "code",
   "execution_count": 96,
   "metadata": {},
   "outputs": [
    {
     "name": "stdout",
     "output_type": "stream",
     "text": [
      "Print stats for method: SVM\n",
      "\n",
      "The number of False Negative in the validation set is 46 \n",
      "The number of False Positive in the validation set is 3310 \n",
      "\n",
      "Accuracy on training set is 0.96201\n",
      "Recall (tp/(tp+fn)) of training set is 0.87097\n",
      "\n",
      "Accuracy on validation set is 0.96149\n",
      "Recall (tp/(tp+fn)) of validation set is 0.38667\n"
     ]
    }
   ],
   "source": [
    "model_svm = svm.SVC(C = 1.0,\n",
    "                    degree = 3,\n",
    "                    class_weight = \"balanced\",\n",
    "                    probability = True)\n",
    "model_svm.fit(x_train_s, y_train_s,\n",
    "              sample_weight = None)\n",
    "\n",
    "modelAccuracyStats(model_svm, \"SVM\", x_train_s, y_train_s, x_validate_s, y_validate_s)"
   ]
  },
  {
   "cell_type": "code",
   "execution_count": null,
   "metadata": {
    "collapsed": true
   },
   "outputs": [],
   "source": []
  },
  {
   "cell_type": "markdown",
   "metadata": {},
   "source": [
    "### Plan for 12/29/2017\n",
    "1. Create a model with XGboost\n",
    "    * Use the XGBoost or the sklearn version of boosting\n",
    "    * How to control for the sample imbalance?\n",
    "2. Create a model with Keras\n",
    "    * Research how to build a classifier with Keras\n",
    "    * Build the classifier\n",
    "    * Add the evaluation to the ROC curve and the confustion matrix\n",
    "3. Edit the SVM model\n",
    "    * Need to rescale the full dataset and draw the training and validation samples from it\n",
    "    * Figure out what all the parameters are\n",
    "4. Research methods for dealing with highly imbalanced data\n",
    "    * Use SMOTE - this will oversample the cases where failure = 1 (from imblearn.over_sampling import SMOTE)\n",
    "    * Use \"class_weight = balanced\" for the models that have that function\n",
    "5. Create evaluation pipeline. For each method\n",
    "    * Plot ROC curve\n",
    "    * Print out a table with the Confusion matrix, KS score and c-statistic"
   ]
  },
  {
   "cell_type": "code",
   "execution_count": 99,
   "metadata": {},
   "outputs": [
    {
     "name": "stdout",
     "output_type": "stream",
     "text": [
      "Print stats for method: XGBoost\n",
      "\n",
      "The number of False Negative in the validation set is 74 \n",
      "The number of False Positive in the validation set is 2 \n",
      "\n",
      "Accuracy on training set is 0.99925\n",
      "Recall (tp/(tp+fn)) of training set is 0.09677\n",
      "\n",
      "Accuracy on validation set is 0.99913\n",
      "Recall (tp/(tp+fn)) of validation set is 0.01333\n"
     ]
    }
   ],
   "source": [
    "# 4) Gradient boosting with XGboost\n",
    "model_xgb = xgb.XGBClassifier()\n",
    "model_xgb.fit(x_train_s, y_train_s,\n",
    "              sample_weight = None) # This option can be used if I implement sampling to control the imbalanced dataset\n",
    "\n",
    "modelAccuracyStats(model_xgb, \"XGBoost\", x_train_s, y_train_s, x_validate_s, y_validate_s)"
   ]
  },
  {
   "cell_type": "code",
   "execution_count": null,
   "metadata": {
    "collapsed": true
   },
   "outputs": [],
   "source": []
  },
  {
   "cell_type": "code",
   "execution_count": null,
   "metadata": {
    "collapsed": true
   },
   "outputs": [],
   "source": [
    "# 5) Neural network\n",
    "model_nn"
   ]
  },
  {
   "cell_type": "code",
   "execution_count": null,
   "metadata": {
    "collapsed": true
   },
   "outputs": [],
   "source": [
    "# 6) Gradient boosting with ADAboost\n",
    "model_rf_adab\n"
   ]
  },
  {
   "cell_type": "code",
   "execution_count": null,
   "metadata": {
    "collapsed": true
   },
   "outputs": [],
   "source": []
  },
  {
   "cell_type": "code",
   "execution_count": null,
   "metadata": {
    "collapsed": true
   },
   "outputs": [],
   "source": []
  },
  {
   "cell_type": "markdown",
   "metadata": {},
   "source": [
    "#### Models evaluation\n",
    "The models evaluation is done using the Receiver Operating Characteristics (ROC) curve"
   ]
  },
  {
   "cell_type": "code",
   "execution_count": 97,
   "metadata": {
    "collapsed": true
   },
   "outputs": [],
   "source": [
    "# 1) Use the ROC curve to evaluate accuracy of each model\n",
    "# Obtain the parameters needed for each ROC curve for each model\n",
    "roc_lr = roc_auc_score(y_validate, model_lr.predict(x_validate))\n",
    "fp_lr, tp_lr, thresholds_lr = roc_curve(y_validate, model_lr.predict_proba(x_validate)[:, 1])\n",
    "\n",
    "roc_rf = roc_auc_score(y_validate, model_rf.predict(x_validate))\n",
    "fp_rf, tp_rf, thresholds_rf = roc_curve(y_validate, model_rf.predict_proba(x_validate)[:, 1])\n",
    "\n",
    "roc_svm = roc_auc_score(y_validate_s, model_svm.predict(x_validate_s))\n",
    "fp_svm, tp_svm, thresholds_svm = roc_curve(y_validate_s, model_svm.predict_proba(x_validate_s)[:, 1])\n",
    "\n",
    "roc_xgb = roc_auc_score(y_validate_s, model_xgb.predict(x_validate_s))\n",
    "fp_xgb, tp_xgb, thresholds_xgb = roc_curve(y_validate_s, model_xgb.predict_proba(x_validate_s)[:, 1])\n",
    "\n",
    "#roc_dnn = roc_auc_score(y_validate, model_dnn.predict(x_validate))\n",
    "#fp_dnn, tp_dnn, thresholds_dnn = roc_curve(y_validate, model_dnn.predict_proba(x_validate)[:, 1])\n"
   ]
  },
  {
   "cell_type": "code",
   "execution_count": 98,
   "metadata": {},
   "outputs": [
    {
     "data": {
      "text/plain": [
       "<matplotlib.legend.Legend at 0x1127b5550>"
      ]
     },
     "execution_count": 98,
     "metadata": {},
     "output_type": "execute_result"
    },
    {
     "data": {
      "image/png": "[encoded data removed]",
      "text/plain": [
       "<matplotlib.figure.Figure at 0x112117a58>"
      ]
     },
     "metadata": {},
     "output_type": "display_data"
    }
   ],
   "source": [
    "# Plot the ROC curve\n",
    "plt.figure(figsize = (10, 7))\n",
    "plt.plot(fp_lr, tp_lr, label = \"Logistic Regression (AUC = %0.2f)\" % roc_lr)\n",
    "plt.plot(fp_rf, tp_rf, label = \"Random Forest (AUC = %0.2f)\" % roc_rf)\n",
    "plt.plot(fp_svm, tp_svm, label = \"SVM (AUC = %0.2f)\" % roc_svm)\n",
    "plt.plot(fp_xgb, tp_xgb, label = \"XGBoost (AUC = %0.2f)\" % roc_xgb)\n",
    "#plt.plot(fp_dnn, tp_dnn, label = \"Deep NN (AUC = %0.2f)\" % roc_dnn)\n",
    "\n",
    "plt.plot([0, 1], [0, 1], \"r--\")\n",
    "plt.xlim([0.0, 1])\n",
    "plt.ylim([0.0, 1])\n",
    "plt.xlabel(\"False Positive\")\n",
    "plt.ylabel(\"True Positive\")\n",
    "plt.title(\"ROC curve\")\n",
    "plt.legend(loc = \"lower right\")\n"
   ]
  },
  {
   "cell_type": "code",
   "execution_count": null,
   "metadata": {
    "collapsed": true
   },
   "outputs": [],
   "source": [
    "# 2) Create a table that prints out the confusion matrices, KS scores and C-stat for each model\n",
    "MODEL | TN | FP | FN | TP | KS | C-statistics\n",
    "\n"
   ]
  },
  {
   "cell_type": "code",
   "execution_count": null,
   "metadata": {
    "collapsed": true
   },
   "outputs": [],
   "source": []
  },
  {
   "cell_type": "code",
   "execution_count": 114,
   "metadata": {},
   "outputs": [
    {
     "ename": "NameError",
     "evalue": "name 'loans_relevant_enconded' is not defined",
     "output_type": "error",
     "traceback": [
      "\u001b[1;31m---------------------------------------------------------------------------\u001b[0m",
      "\u001b[1;31mNameError\u001b[0m                                 Traceback (most recent call last)",
      "\u001b[1;32m<ipython-input-114-c9672aaf8ebd>\u001b[0m in \u001b[0;36m<module>\u001b[1;34m()\u001b[0m\n\u001b[1;32m----> 1\u001b[1;33m training_features, test_features, training_target, test_target, = train_test_split(loans_relevant_enconded.drop(['bad_loans'], axis=1),\n\u001b[0m\u001b[0;32m      2\u001b[0m                                                \u001b[0mloans_relevant_enconded\u001b[0m\u001b[1;33m[\u001b[0m\u001b[1;34m'bad_loans'\u001b[0m\u001b[1;33m]\u001b[0m\u001b[1;33m,\u001b[0m\u001b[1;33m\u001b[0m\u001b[0m\n\u001b[0;32m      3\u001b[0m                                                \u001b[0mtest_size\u001b[0m \u001b[1;33m=\u001b[0m \u001b[1;36m.1\u001b[0m\u001b[1;33m,\u001b[0m\u001b[1;33m\u001b[0m\u001b[0m\n\u001b[0;32m      4\u001b[0m                                                random_state=12)\n\u001b[0;32m      5\u001b[0m \u001b[1;33m\u001b[0m\u001b[0m\n",
      "\u001b[1;31mNameError\u001b[0m: name 'loans_relevant_enconded' is not defined"
     ]
    }
   ],
   "source": [
    "training_features, test_features, \\\n",
    "training_target, test_target, = train_test_split(loans_relevant_enconded.drop(['bad_loans'], axis=1),\n",
    "                                               loans_relevant_enconded['bad_loans'],\n",
    "                                               test_size = .1,\n",
    "                                               random_state=12)\n",
    "\n",
    "x_train, x_val, y_train, y_val = train_test_split(training_features, training_target,\n",
    "                                                  test_size = .1,\n",
    "                                                  random_state=12)\n",
    "                                                 \n",
    "sm = SMOTE(random_state=12, ratio = 1.0)\n",
    "x_train_res, y_train_res = sm.fit_sample(x_train, y_train)\n",
    "\n",
    "clf_rf = RandomForestClassifier(n_estimators=25, random_state=12)\n",
    "clf_rf.fit(x_train_res, y_train_res)\n",
    "\n",
    "print 'Validation Results'\n",
    "print clf_rf.score(x_val, y_val)\n",
    "print recall_score(y_val, clf_rf.predict(x_val))\n",
    "print '\\nTest Results'\n",
    "print clf_rf.score(test_features, test_target)\n",
    "print recall_score(test_target, clf_rf.predict(test_features))"
   ]
  },
  {
   "cell_type": "code",
   "execution_count": null,
   "metadata": {
    "collapsed": true
   },
   "outputs": [],
   "source": [
    "# Check what values the model predicts\n",
    "pred_train_model_rf = model_rf.predict(x_train)\n",
    "pred_validate_model_rf = model_rf.predict(x_validate)\n",
    "\n",
    "print(np.unique(pred_train_model_rf))\n",
    "print(np.unique(pred_validate_model_rf))\n"
   ]
  },
  {
   "cell_type": "code",
   "execution_count": null,
   "metadata": {
    "collapsed": true
   },
   "outputs": [],
   "source": []
  }
 ],
 "metadata": {
  "kernelspec": {
   "display_name": "Python [conda root]",
   "language": "python",
   "name": "conda-root-py"
  },
  "language_info": {
   "codemirror_mode": {
    "name": "ipython",
    "version": 3
   },
   "file_extension": ".py",
   "mimetype": "text/x-python",
   "name": "python",
   "nbconvert_exporter": "python",
   "pygments_lexer": "ipython3",
   "version": "3.5.2"
  }
 },
 "nbformat": 4,
 "nbformat_minor": 2
}
