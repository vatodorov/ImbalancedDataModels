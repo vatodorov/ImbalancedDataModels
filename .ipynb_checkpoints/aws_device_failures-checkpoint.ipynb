{
 "cells": [
  {
   "cell_type": "markdown",
   "metadata": {},
   "source": [
    "### Predict device failures\n",
    "This is a program to predict failure of devices used in telemetry. The data was downloaded from here: http://aws-proserve-data-science.s3.amazonaws.com/device_failure.csv\n",
    "<br>\n",
    "I downloaded the data and saved in: /Users/valentin/GoogleDrive/Data/aws/device_failure.csv\n",
    "\n",
    "##### Goal:\n",
    "You are tasked with building a predictive model using machine learning to predict the\n",
    "probability of a device failure. When building this model, be sure to minimize false positives and\n",
    "false negatives. The column you are trying to predict is called failure with binary value 0 for\n",
    "non-failure and 1 for failure.\n"
   ]
  },
  {
   "cell_type": "markdown",
   "metadata": {},
   "source": [
    "#### Plan for development\n",
    "1. Read the data\n",
    "2. EDA of the data\n",
    "    * Calculate the distribution of total fail/not fail cases\n",
    "    * Distribution of fail/not-fail cases by year\n",
    "    * Distribution of fail/not-fail cases by month\n",
    "    * Are there any devices that have higher failure rates than others\n",
    "    * When a device fails, does it disappear from the data, or \n",
    "3. Determine which features are categorical, and if needed create dummies\n",
    "4. Derive new features\n",
    "    * Use decision trees to decide how to split by categories of attributes\n",
    "    * Should I do PCA? (likely no..)\n",
    "4. Sampling of the data (70/30)\n",
    "    * Create random samples from the data - 70% for training and 30% for validation\n",
    "    * If the cases are too few compared to the non-cases, I may need to oversample the cases, or simply undersample the non-cases\n",
    "7. Variables reduction\n",
    "    * Use p-values\n",
    "    * LASSO\n",
    "    * Random forest's variable importance\n",
    "    * Stepwise logistic regression\n",
    "    * Compare the suggested features from each method\n",
    "8. Decide on a methodology for the model estimation\n",
    "    * Random forest\n",
    "    * SVM\n",
    "    * Survival analysis\n",
    "9. Validate the results\n",
    "10. Calculate c-statistic and ROC\n",
    "11. Create a confusion matrix - reduce false positives and false negatives\n",
    "12. Does the methodology we use allow us to understand what drives the outcome? If it doesn't, do we need another methodology that can help with that?\n"
   ]
  },
  {
   "cell_type": "code",
   "execution_count": 130,
   "metadata": {},
   "outputs": [
    {
     "data": {
      "text/plain": [
       "124494"
      ]
     },
     "execution_count": 130,
     "metadata": {},
     "output_type": "execute_result"
    }
   ],
   "source": [
    "import pandas as pd\n",
    "import matplotlib.pyplot as plt\n",
    "\n",
    "%matplotlib inline\n",
    "\n",
    "# Read in the data and print out the header\n",
    "device_data = pd.read_csv(\"/Users/valentin/GoogleDrive/Data/aws/device_failure.csv\")\n",
    "device_data.head(10)\n",
    "\n",
    "device_data.attribute8\n",
    "\n",
    "# Check if the number of rows is as expected\n",
    "len(device_data)"
   ]
  },
  {
   "cell_type": "code",
   "execution_count": 131,
   "metadata": {},
   "outputs": [
    {
     "name": "stdout",
     "output_type": "stream",
     "text": [
      "It appears that the data is very imbalanced. The percent of fail cases is very low compared to the non-fail cases.\n",
      "Only 0.0851446656064 of the cases are device failures\n"
     ]
    }
   ],
   "source": [
    "# Calculate the distribution of total fail/not fail cases\n",
    "pct_fail_cases = sum(device_data[\"failure\"]) / len(device_data[\"failure\"]) * 100\n",
    "print(\"It appears that the data is very imbalanced. The percent of fail cases is very low compared to the non-fail cases.\")\n",
    "print(\"Only %s of the cases are device failures\" % pct_fail_cases)"
   ]
  },
  {
   "cell_type": "markdown",
   "metadata": {},
   "source": [
    "We need to dig a little deeper into the distributions of failure/non-failure and understand the following:\n",
    "1. Distribution of failure/non-failure by year\n",
    "2. Distribution of failure/non-failure by month\n",
    "3. Distribution of failure/non-failure by device - are there specific devices that tend to fail more than others?"
   ]
  },
  {
   "cell_type": "code",
   "execution_count": 132,
   "metadata": {},
   "outputs": [
    {
     "name": "stdout",
     "output_type": "stream",
     "text": [
      "col_0   count\n",
      "year         \n",
      "2015   124494\n"
     ]
    },
    {
     "data": {
      "text/html": [
       "<div>\n",
       "<table border=\"1\" class=\"dataframe\">\n",
       "  <thead>\n",
       "    <tr style=\"text-align: right;\">\n",
       "      <th>col_0</th>\n",
       "      <th>count</th>\n",
       "    </tr>\n",
       "    <tr>\n",
       "      <th>month</th>\n",
       "      <th></th>\n",
       "    </tr>\n",
       "  </thead>\n",
       "  <tbody>\n",
       "    <tr>\n",
       "      <th>1</th>\n",
       "      <td>0.201070</td>\n",
       "    </tr>\n",
       "    <tr>\n",
       "      <th>2</th>\n",
       "      <td>0.156634</td>\n",
       "    </tr>\n",
       "    <tr>\n",
       "      <th>3</th>\n",
       "      <td>0.159309</td>\n",
       "    </tr>\n",
       "    <tr>\n",
       "      <th>4</th>\n",
       "      <td>0.096487</td>\n",
       "    </tr>\n",
       "    <tr>\n",
       "      <th>5</th>\n",
       "      <td>0.091008</td>\n",
       "    </tr>\n",
       "    <tr>\n",
       "      <th>6</th>\n",
       "      <td>0.084092</td>\n",
       "    </tr>\n",
       "    <tr>\n",
       "      <th>7</th>\n",
       "      <td>0.084590</td>\n",
       "    </tr>\n",
       "    <tr>\n",
       "      <th>8</th>\n",
       "      <td>0.067039</td>\n",
       "    </tr>\n",
       "    <tr>\n",
       "      <th>9</th>\n",
       "      <td>0.035905</td>\n",
       "    </tr>\n",
       "    <tr>\n",
       "      <th>10</th>\n",
       "      <td>0.023616</td>\n",
       "    </tr>\n",
       "    <tr>\n",
       "      <th>11</th>\n",
       "      <td>0.000249</td>\n",
       "    </tr>\n",
       "  </tbody>\n",
       "</table>\n",
       "</div>"
      ],
      "text/plain": [
       "col_0     count\n",
       "month          \n",
       "1      0.201070\n",
       "2      0.156634\n",
       "3      0.159309\n",
       "4      0.096487\n",
       "5      0.091008\n",
       "6      0.084092\n",
       "7      0.084590\n",
       "8      0.067039\n",
       "9      0.035905\n",
       "10     0.023616\n",
       "11     0.000249"
      ]
     },
     "execution_count": 132,
     "metadata": {},
     "output_type": "execute_result"
    }
   ],
   "source": [
    "# Distribution of failure/non-failure by year\n",
    "device_data[\"year\"] = pd.to_datetime(device_data[\"date\"]).dt.year\n",
    "device_data[\"month\"] = pd.to_datetime(device_data[\"date\"]).dt.month\n",
    "\n",
    "print(pd.crosstab(device_data[\"year\"],\n",
    "                  columns = \"count\"))\n",
    "pd.crosstab(device_data[\"month\"],\n",
    "            columns = \"count\") / len(device_data.month)"
   ]
  },
  {
   "cell_type": "markdown",
   "metadata": {},
   "source": [
    "It is evident that the data is only for 2015 and we have information for most of the months of 2015, except for December. However, note that 50% of the observations are from the period January - March.\n",
    "<p>\n",
    "Next, we'll look at the distribution of failure/non-failure by month"
   ]
  },
  {
   "cell_type": "code",
   "execution_count": 133,
   "metadata": {},
   "outputs": [
    {
     "data": {
      "text/html": [
       "<div>\n",
       "<table border=\"1\" class=\"dataframe\">\n",
       "  <thead>\n",
       "    <tr style=\"text-align: right;\">\n",
       "      <th>month</th>\n",
       "      <th>1</th>\n",
       "      <th>2</th>\n",
       "      <th>3</th>\n",
       "      <th>4</th>\n",
       "      <th>5</th>\n",
       "      <th>6</th>\n",
       "      <th>7</th>\n",
       "      <th>8</th>\n",
       "      <th>9</th>\n",
       "      <th>10</th>\n",
       "      <th>11</th>\n",
       "      <th>All</th>\n",
       "    </tr>\n",
       "  </thead>\n",
       "  <tbody>\n",
       "    <tr>\n",
       "      <th>non_failures</th>\n",
       "      <td>25008</td>\n",
       "      <td>19486</td>\n",
       "      <td>19824</td>\n",
       "      <td>12003</td>\n",
       "      <td>11309</td>\n",
       "      <td>10463</td>\n",
       "      <td>10515</td>\n",
       "      <td>8342</td>\n",
       "      <td>4470</td>\n",
       "      <td>2937</td>\n",
       "      <td>31</td>\n",
       "      <td>124388</td>\n",
       "    </tr>\n",
       "    <tr>\n",
       "      <th>failures</th>\n",
       "      <td>24</td>\n",
       "      <td>14</td>\n",
       "      <td>9</td>\n",
       "      <td>9</td>\n",
       "      <td>21</td>\n",
       "      <td>6</td>\n",
       "      <td>16</td>\n",
       "      <td>4</td>\n",
       "      <td>0</td>\n",
       "      <td>3</td>\n",
       "      <td>0</td>\n",
       "      <td>106</td>\n",
       "    </tr>\n",
       "    <tr>\n",
       "      <th>month_total</th>\n",
       "      <td>25032</td>\n",
       "      <td>19500</td>\n",
       "      <td>19833</td>\n",
       "      <td>12012</td>\n",
       "      <td>11330</td>\n",
       "      <td>10469</td>\n",
       "      <td>10531</td>\n",
       "      <td>8346</td>\n",
       "      <td>4470</td>\n",
       "      <td>2940</td>\n",
       "      <td>31</td>\n",
       "      <td>124494</td>\n",
       "    </tr>\n",
       "  </tbody>\n",
       "</table>\n",
       "</div>"
      ],
      "text/plain": [
       "month             1      2      3      4      5      6      7     8     9  \\\n",
       "non_failures  25008  19486  19824  12003  11309  10463  10515  8342  4470   \n",
       "failures         24     14      9      9     21      6     16     4     0   \n",
       "month_total   25032  19500  19833  12012  11330  10469  10531  8346  4470   \n",
       "\n",
       "month           10  11     All  \n",
       "non_failures  2937  31  124388  \n",
       "failures         3   0     106  \n",
       "month_total   2940  31  124494  "
      ]
     },
     "execution_count": 133,
     "metadata": {},
     "output_type": "execute_result"
    }
   ],
   "source": [
    "# Distribution of failure/non-failure by month\n",
    "failure_month = pd.crosstab(index = device_data[\"failure\"],\n",
    "                            columns = device_data[\"month\"],\n",
    "                            margins = True)\n",
    "\n",
    "failure_month.index = [\"non_failures\", \"failures\", \"month_total\"]\n",
    "failure_month"
   ]
  },
  {
   "cell_type": "code",
   "execution_count": 134,
   "metadata": {},
   "outputs": [
    {
     "data": {
      "text/html": [
       "<div>\n",
       "<table border=\"1\" class=\"dataframe\">\n",
       "  <thead>\n",
       "    <tr style=\"text-align: right;\">\n",
       "      <th>month</th>\n",
       "      <th>1</th>\n",
       "      <th>2</th>\n",
       "      <th>3</th>\n",
       "      <th>4</th>\n",
       "      <th>5</th>\n",
       "      <th>6</th>\n",
       "      <th>7</th>\n",
       "      <th>8</th>\n",
       "      <th>9</th>\n",
       "      <th>10</th>\n",
       "      <th>11</th>\n",
       "      <th>All</th>\n",
       "    </tr>\n",
       "  </thead>\n",
       "  <tbody>\n",
       "    <tr>\n",
       "      <th>non_failures</th>\n",
       "      <td>0.999041</td>\n",
       "      <td>0.999282</td>\n",
       "      <td>0.999546</td>\n",
       "      <td>0.999251</td>\n",
       "      <td>0.998147</td>\n",
       "      <td>0.999427</td>\n",
       "      <td>0.998481</td>\n",
       "      <td>0.999521</td>\n",
       "      <td>1.0</td>\n",
       "      <td>0.99898</td>\n",
       "      <td>1.0</td>\n",
       "      <td>0.999149</td>\n",
       "    </tr>\n",
       "    <tr>\n",
       "      <th>failures</th>\n",
       "      <td>0.000959</td>\n",
       "      <td>0.000718</td>\n",
       "      <td>0.000454</td>\n",
       "      <td>0.000749</td>\n",
       "      <td>0.001853</td>\n",
       "      <td>0.000573</td>\n",
       "      <td>0.001519</td>\n",
       "      <td>0.000479</td>\n",
       "      <td>0.0</td>\n",
       "      <td>0.00102</td>\n",
       "      <td>0.0</td>\n",
       "      <td>0.000851</td>\n",
       "    </tr>\n",
       "    <tr>\n",
       "      <th>month_total</th>\n",
       "      <td>1.000000</td>\n",
       "      <td>1.000000</td>\n",
       "      <td>1.000000</td>\n",
       "      <td>1.000000</td>\n",
       "      <td>1.000000</td>\n",
       "      <td>1.000000</td>\n",
       "      <td>1.000000</td>\n",
       "      <td>1.000000</td>\n",
       "      <td>1.0</td>\n",
       "      <td>1.00000</td>\n",
       "      <td>1.0</td>\n",
       "      <td>1.000000</td>\n",
       "    </tr>\n",
       "  </tbody>\n",
       "</table>\n",
       "</div>"
      ],
      "text/plain": [
       "month                1         2         3         4         5         6  \\\n",
       "non_failures  0.999041  0.999282  0.999546  0.999251  0.998147  0.999427   \n",
       "failures      0.000959  0.000718  0.000454  0.000749  0.001853  0.000573   \n",
       "month_total   1.000000  1.000000  1.000000  1.000000  1.000000  1.000000   \n",
       "\n",
       "month                7         8    9       10   11       All  \n",
       "non_failures  0.998481  0.999521  1.0  0.99898  1.0  0.999149  \n",
       "failures      0.001519  0.000479  0.0  0.00102  0.0  0.000851  \n",
       "month_total   1.000000  1.000000  1.0  1.00000  1.0  1.000000  "
      ]
     },
     "execution_count": 134,
     "metadata": {},
     "output_type": "execute_result"
    }
   ],
   "source": [
    "failure_month_pct = failure_month / failure_month.ix[\"month_total\"]\n",
    "failure_month_pct"
   ]
  },
  {
   "cell_type": "code",
   "execution_count": 135,
   "metadata": {},
   "outputs": [
    {
     "data": {
      "text/plain": [
       "<matplotlib.text.Text at 0x112ab83c8>"
      ]
     },
     "execution_count": 135,
     "metadata": {},
     "output_type": "execute_result"
    },
    {
     "data": {
      "image/png": "[encoded data removed]",
      "text/plain": [
       "<matplotlib.figure.Figure at 0x112a32ac8>"
      ]
     },
     "metadata": {},
     "output_type": "display_data"
    }
   ],
   "source": [
    "# Plot the % failures/non-failures by month\n",
    "plt.figure(figsize = (15, 5))\n",
    "plt.plot(list(failure_month_pct.ix[\"failures\"]), linewidth = 0.8, color = \"#ff0000\")\n",
    "plt.xlabel(\"Months\")\n",
    "plt.ylabel(\"Percent device failure\")\n",
    "plt.title(\"Percent Failed Devices by Month\")"
   ]
  },
  {
   "cell_type": "code",
   "execution_count": 137,
   "metadata": {},
   "outputs": [
    {
     "ename": "SyntaxError",
     "evalue": "invalid syntax (<ipython-input-137-7ef16af0fdd2>, line 3)",
     "output_type": "error",
     "traceback": [
      "\u001b[0;36m  File \u001b[0;32m\"<ipython-input-137-7ef16af0fdd2>\"\u001b[0;36m, line \u001b[0;32m3\u001b[0m\n\u001b[0;31m    plt.plot(list(failure_day.pct.ix[]), linewidth = 0.8, color = \"#ff0000\")\u001b[0m\n\u001b[0m                                     ^\u001b[0m\n\u001b[0;31mSyntaxError\u001b[0m\u001b[0;31m:\u001b[0m invalid syntax\n"
     ]
    }
   ],
   "source": [
    "# Plot the % failures/non-failures by day\n",
    "\n",
    "\n",
    "plt.figure(figsize = (15, 5))\n",
    "plt.plot(list(failure_day_pct.ix[\"failures\"]), linewidth = 0.8, color = \"#ff0000\")\n",
    "plt.xlabel(\"Months\")\n",
    "plt.ylabel(\"Percent device failure\")\n",
    "plt.title(\"Percent Failed Devices by Month\")"
   ]
  },
  {
   "cell_type": "code",
   "execution_count": null,
   "metadata": {
    "collapsed": true
   },
   "outputs": [],
   "source": []
  },
  {
   "cell_type": "code",
   "execution_count": null,
   "metadata": {
    "collapsed": true
   },
   "outputs": [],
   "source": [
    "list(device_data.columns.values)"
   ]
  }
 ],
 "metadata": {
  "kernelspec": {
   "display_name": "Python [conda root]",
   "language": "python",
   "name": "conda-root-py"
  },
  "language_info": {
   "codemirror_mode": {
    "name": "ipython",
    "version": 3
   },
   "file_extension": ".py",
   "mimetype": "text/x-python",
   "name": "python",
   "nbconvert_exporter": "python",
   "pygments_lexer": "ipython3",
   "version": "3.5.2"
  }
 },
 "nbformat": 4,
 "nbformat_minor": 2
}
