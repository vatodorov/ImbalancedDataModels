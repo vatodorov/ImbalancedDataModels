{
 "cells": [
  {
   "cell_type": "code",
   "execution_count": 1,
   "metadata": {},
   "outputs": [
    {
     "name": "stdout",
     "output_type": "stream",
     "text": [
      "2\n",
      "3\n",
      "4\n",
      "5\n"
     ]
    }
   ],
   "source": [
    "#!/bin/python\n",
    "#Given an unsorted array of n elements, find if the element k is present in the array, or not\n",
    "\n",
    "import sys\n",
    "import os\n",
    "\n",
    "\n",
    "# Complete the function below.\n",
    "\n",
    "def findNumber(arr, k):\n",
    "    if k in arr:\n",
    "        return \"YES\"\n",
    "    else:\n",
    "        return \"NO\"\n",
    "\n",
    "f = open('findNumber_output.txt', 'w')\n",
    "\n",
    "_arr_cnt = 0\n",
    "_arr_cnt = int(raw_input())\n",
    "_arr_i = 0\n",
    "_arr = []\n",
    "while _arr_i < _arr_cnt:\n",
    "    _arr_item = int(raw_input());\n",
    "    _arr.append(_arr_item)\n",
    "    _arr_i += 1\n",
    "\n",
    "_k = int(raw_input());\n",
    "\n",
    "res = findNumber(_arr, _k)\n",
    "f.write(res + \"\\n\")\n",
    "\n",
    "f.close()"
   ]
  },
  {
   "cell_type": "markdown",
   "metadata": {},
   "source": [
    "### Find all the odd numbers between l and r, inclusive of l and r.\n",
    "Return all the odd numbers in an array\n",
    "\n",
    "CONSTRAINTS:\n",
    "1 <= l <= r <= 10 ** 5"
   ]
  },
  {
   "cell_type": "code",
   "execution_count": 3,
   "metadata": {},
   "outputs": [
    {
     "name": "stdout",
     "output_type": "stream",
     "text": [
      "2\n",
      "6\n"
     ]
    }
   ],
   "source": [
    "import sys\n",
    "import os\n",
    "\n",
    "def oddNumbers(l, r):\n",
    "    odd_numbers = []\n",
    "\n",
    "    for i in range(l, r + 1):\n",
    "        test_i = i % 2\n",
    "        if test_i > 0:\n",
    "            odd_numbers.append(i)\n",
    "    return(odd_numbers)\n",
    "\n",
    "#f = open(os.environ['OUTPUT_PATH'], 'w')\n",
    "f = open(\"test.txt\", \"w\")\n",
    "\n",
    "_l = int(raw_input());\n",
    "_r = int(raw_input());\n",
    "\n",
    "res = oddNumbers(_l, _r)\n",
    "for res_cur in res:\n",
    "    f.write( str(res_cur) + \"\\n\" )\n",
    "\n",
    "f.close()"
   ]
  },
  {
   "cell_type": "code",
   "execution_count": 4,
   "metadata": {},
   "outputs": [
    {
     "name": "stdout",
     "output_type": "stream",
     "text": [
      "3\n",
      "5\n"
     ]
    }
   ],
   "source": [
    "f = open('test.txt', 'r')\n",
    "for line in f:\n",
    "    print line[0]\n",
    "f.close()\n"
   ]
  },
  {
   "cell_type": "code",
   "execution_count": 39,
   "metadata": {},
   "outputs": [
    {
     "name": "stdout",
     "output_type": "stream",
     "text": [
      "I AM VAlenting\n"
     ]
    }
   ],
   "source": [
    "#!/bin/python\n",
    "\n",
    "import sys\n",
    "import os\n",
    "\n",
    "\n",
    "# Define a function to transform an input sentence\n",
    "def stringParse(string):\n",
    "    \n",
    "    # Make lowercase, strip spaces and split into letters\n",
    "    parsed_string = list(_sentence.lower().replace(\" \", \"\"))\n",
    "    \n",
    "    # Create a dictionary by counting the occurences of each element in the parsed string\n",
    "    # The keys are the elements, and the values are the occurences\n",
    "    count_dict = {i:parsed_string.count(i) for i in parsed_string}\n",
    "    \n",
    "    # Convert the dictionary to a list with sublists and split it into a string\n",
    "    summary_count_list = [(keys, values) for keys, values in count_dict.items()]\n",
    "    string_of_element_counts = \" \".join(str(r) for v in summary_count_list for r in v)\n",
    "    \n",
    "    return(string_of_element_counts)\n",
    "\n",
    "# Open a file for writing\n",
    "f = open(\"capitalone_solution_1.txt\", \"w\")\n",
    "\n",
    "# Call the function\n",
    "_sentence = raw_input();\n",
    "_result = stringParse(_sentence)\n",
    "\n",
    "# Write to STDOUT and close\n",
    "f.write(_result + \"\\n\")\n",
    "f.close()"
   ]
  },
  {
   "cell_type": "code",
   "execution_count": 174,
   "metadata": {},
   "outputs": [
    {
     "name": "stdout",
     "output_type": "stream",
     "text": [
      "5\n",
      "1,0\n",
      "1,1\n",
      "1,0\n",
      "0,0\n",
      "0,1\n"
     ]
    }
   ],
   "source": [
    "#!/bin/python\n",
    "\n",
    "import sys\n",
    "import os\n",
    "\n",
    "def accuracyScore(obs_list):\n",
    "    pred_score = []\n",
    "\n",
    "    for i in range(0, len(obs_list)):\n",
    "        if obs_list[i][0] == 0:\n",
    "            if obs_list[i][1] == 0:\n",
    "                pred_score.append(0)\n",
    "            elif obs_list[i][1] == 1:\n",
    "                pred_score.append(-25.1)\n",
    "        elif obs_list[i][0] == 1:\n",
    "            if obs_list[i][1] == 0:\n",
    "                pred_score.append(-50)\n",
    "            elif obs_list[i][1] == 1:\n",
    "                pred_score.append(50)\n",
    "    score = round(sum(pred_score), 2)\n",
    "    return(score)\n",
    "    \n",
    "# Open a file for writing\n",
    "f = open(\"capitalone_solution_2.txt\", \"w\")\n",
    "\n",
    "counter = 0\n",
    "_obs_cnt = 0\n",
    "_obs_cnt = int(raw_input())\n",
    "_obs_list = []\n",
    "\n",
    "while counter < _obs_cnt:\n",
    "    _actual_predicted = map(float, raw_input().split(\",\"))\n",
    "    _obs_list.append(_actual_predicted)\n",
    "    counter += 1\n",
    "\n",
    "_score = accuracyScore(_obs_list)\n",
    "\n",
    "# Write to STDOUT and close\n",
    "f.write(str(_score) + \"\\n\")\n",
    "f.close()"
   ]
  },
  {
   "cell_type": "code",
   "execution_count": 242,
   "metadata": {},
   "outputs": [
    {
     "name": "stdout",
     "output_type": "stream",
     "text": [
      "-1 1\n"
     ]
    }
   ],
   "source": [
    "#!/bin/python\n",
    "\n",
    "import sys\n",
    "import os\n",
    "\n",
    "# Calculate mean\n",
    "def mean(list_of_items):\n",
    "    _mean = sum(list_of_items) / len(list_of_items)\n",
    "    return(_mean)\n",
    "    \n",
    "# Calculate sum of squares\n",
    "def sumSquares(list_of_items):\n",
    "    mean_items = mean(list_of_items)\n",
    "    _sumSquares = sum([(x - mean_items) ** 2 for x in list_of_items])\n",
    "    return(_sumSquares)\n",
    "\n",
    "# Calculate standard deviation\n",
    "def stdDev(list_of_items):\n",
    "    _sumSquares = sumSquares(list_of_items)\n",
    "    _variance = (_sumSquares / (len(list_of_items) - 1)) ** 1/2\n",
    "    return (_variance)    \n",
    "\n",
    "# Calculate L1 norm\n",
    "def calculateL1norm(vector):\n",
    "    _l1Norm = sum([abs(x) for x in vector])\n",
    "    return(_l1Norm)\n",
    "\n",
    "    \n",
    "# Open a file for writing\n",
    "f = open(\"capitalone_solution_3.txt\", \"w\")\n",
    "\n",
    "_num_items = map(float, raw_input().split())\n",
    "normalized_vector = [(x - mean(_num_items)) / stdDev(_num_items) for x in _num_items]\n",
    "\n",
    "_l1_norm = round(calculateL1norm(normalized_vector), 3)\n",
    "\n",
    "# Write to STDOUT and close\n",
    "f.write(str(_l1_norm) + \"\\n\")\n",
    "f.close()"
   ]
  },
  {
   "cell_type": "code",
   "execution_count": 238,
   "metadata": {},
   "outputs": [
    {
     "data": {
      "text/plain": [
       "0.9302325581395348"
      ]
     },
     "execution_count": 238,
     "metadata": {},
     "output_type": "execute_result"
    }
   ],
   "source": [
    "t = [(x - mean(_num_items)) / stdDev(_num_items) for x in _num_items]\n",
    "sum([abs(x) for x in t])"
   ]
  },
  {
   "cell_type": "code",
   "execution_count": 205,
   "metadata": {},
   "outputs": [],
   "source": [
    "a = np.asarray([1, 2, 3, 1, 1])\n",
    "b = np.asarray([3, 0, 1, 2, 1])"
   ]
  },
  {
   "cell_type": "code",
   "execution_count": 227,
   "metadata": {},
   "outputs": [],
   "source": [
    "for i in range(0, len(a)):\n",
    "    _list_a = a[i]\n",
    "    \n",
    "    _list_a_loc = [i for i, x in enumerate(a) if x == 1]\n",
    "    _list_b_loc = [i for i, x in enumerate(b) if x == 1]\n",
    "\n",
    "    set(_list_a_loc) & set(_list_b_loc)"
   ]
  },
  {
   "cell_type": "code",
   "execution_count": 234,
   "metadata": {},
   "outputs": [
    {
     "name": "stdout",
     "output_type": "stream",
     "text": [
      "[0, 3, 4]\n",
      "[2, 4]\n"
     ]
    },
    {
     "data": {
      "text/plain": [
       "[4]"
      ]
     },
     "execution_count": 234,
     "metadata": {},
     "output_type": "execute_result"
    }
   ],
   "source": [
    "print _list_a_loc\n",
    "print _list_b_loc\n",
    "list(set(_list_a_loc) & set(_list_b_loc))"
   ]
  },
  {
   "cell_type": "code",
   "execution_count": 231,
   "metadata": {},
   "outputs": [
    {
     "data": {
      "text/plain": [
       "[1]"
      ]
     },
     "execution_count": 231,
     "metadata": {},
     "output_type": "execute_result"
    }
   ],
   "source": [
    "[i for i, j in zip(a, b) if i == j]"
   ]
  },
  {
   "cell_type": "code",
   "execution_count": null,
   "metadata": {
    "collapsed": true
   },
   "outputs": [],
   "source": []
  },
  {
   "cell_type": "code",
   "execution_count": null,
   "metadata": {
    "collapsed": true
   },
   "outputs": [],
   "source": [
    "#!/bin/python\n",
    "\n",
    "import sys\n",
    "import os\n",
    "import numpy as np\n",
    "\n",
    "\n",
    "\n",
    "\n",
    "\n",
    "# Open a file for writing\n",
    "f = open(\"capitalone_solution_4.txt\", \"w\")\n",
    "\n",
    "_num_items = map(int, raw_input().split())\n",
    "\n",
    "_l1_norm = round(calculateL1norm(normalized_vector), 3)\n",
    "\n",
    "# Write to STDOUT and close\n",
    "f.write(str(_l1_norm) + \"\\n\")\n",
    "f.close()"
   ]
  }
 ],
 "metadata": {
  "kernelspec": {
   "display_name": "Python [conda env:py27]",
   "language": "python",
   "name": "conda-env-py27-py"
  },
  "language_info": {
   "codemirror_mode": {
    "name": "ipython",
    "version": 2
   },
   "file_extension": ".py",
   "mimetype": "text/x-python",
   "name": "python",
   "nbconvert_exporter": "python",
   "pygments_lexer": "ipython2",
   "version": "2.7.13"
  }
 },
 "nbformat": 4,
 "nbformat_minor": 2
}
