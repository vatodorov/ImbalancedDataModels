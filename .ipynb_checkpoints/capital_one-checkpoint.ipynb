{
 "cells": [
  {
   "cell_type": "code",
   "execution_count": 5,
   "metadata": {},
   "outputs": [
    {
     "name": "stdout",
     "output_type": "stream",
     "text": [
      "2\n",
      "1\n",
      "2\n",
      "2\n"
     ]
    }
   ],
   "source": [
    "#!/bin/python\n",
    "#Given an unsorted array of n elements, find if the element k is present in the array, or not\n",
    "\n",
    "import sys\n",
    "import os\n",
    "\n",
    "\n",
    "# Complete the function below.\n",
    "\n",
    "def findNumber(arr, k):\n",
    "    if k in arr:\n",
    "        return \"YES\"\n",
    "    else:\n",
    "        return \"NO\"\n",
    "\n",
    "f = open('findNumber_output.txt', 'w')\n",
    "\n",
    "_arr_cnt = 0\n",
    "_arr_cnt = int(raw_input())\n",
    "_arr_i = 0\n",
    "_arr = []\n",
    "while _arr_i < _arr_cnt:\n",
    "    _arr_item = int(raw_input());\n",
    "    _arr.append(_arr_item)\n",
    "    _arr_i += 1\n",
    "\n",
    "_k = int(raw_input());\n",
    "\n",
    "res = findNumber(_arr, _k)\n",
    "f.write(res + \"\\n\")\n",
    "\n",
    "f.close()"
   ]
  },
  {
   "cell_type": "markdown",
   "metadata": {},
   "source": [
    "### Find all the odd numbers between l and r, inclusive of l and r.\n",
    "Return all the odd numbers in an array\n",
    "\n",
    "CONSTRAINTS:\n",
    "1 <= l <= r <= 10 ** 5"
   ]
  },
  {
   "cell_type": "code",
   "execution_count": 66,
   "metadata": {},
   "outputs": [
    {
     "name": "stdout",
     "output_type": "stream",
     "text": [
      "1\n",
      "100000000\n"
     ]
    }
   ],
   "source": [
    "import sys\n",
    "import os\n",
    "\n",
    "def oddNumbers(l, r):\n",
    "    odd_numbers = []\n",
    "\n",
    "    for i in range(l, r + 1):\n",
    "        test_i = i % 2\n",
    "        if test_i > 0:\n",
    "            odd_numbers.append(i)\n",
    "    return(odd_numbers)\n",
    "\n",
    "f = open(os.environ['OUTPUT_PATH'], 'w')\n",
    "\n",
    "_l = int(raw_input());\n",
    "_r = int(raw_input());\n",
    "\n",
    "res = oddNumbers(_l, _r)\n",
    "for res_cur in res:\n",
    "    f.write( str(res_cur) + \"\\n\" )\n",
    "\n",
    "f.close()"
   ]
  },
  {
   "cell_type": "code",
   "execution_count": null,
   "metadata": {
    "collapsed": true
   },
   "outputs": [],
   "source": [
    "f = open('test.txt', 'r')\n",
    "for line in f:\n",
    "    print line[0]\n",
    "f.close()\n"
   ]
  },
  {
   "cell_type": "code",
   "execution_count": 49,
   "metadata": {},
   "outputs": [
    {
     "name": "stdout",
     "output_type": "stream",
     "text": [
      "what is your nameasdf\n",
      "asdf\n"
     ]
    }
   ],
   "source": [
    "print raw_input(\"what is your name\")"
   ]
  }
 ],
 "metadata": {
  "kernelspec": {
   "display_name": "Python 2",
   "language": "python",
   "name": "python2"
  },
  "language_info": {
   "codemirror_mode": {
    "name": "ipython",
    "version": 2
   },
   "file_extension": ".py",
   "mimetype": "text/x-python",
   "name": "python",
   "nbconvert_exporter": "python",
   "pygments_lexer": "ipython2",
   "version": "2.7.13"
  }
 },
 "nbformat": 4,
 "nbformat_minor": 2
}
